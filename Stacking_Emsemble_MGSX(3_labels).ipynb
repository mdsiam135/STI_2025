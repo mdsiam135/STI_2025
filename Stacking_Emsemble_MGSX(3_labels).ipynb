{
  "nbformat": 4,
  "nbformat_minor": 0,
  "metadata": {
    "colab": {
      "provenance": [],
      "mount_file_id": "1A47OTzdxD9fNtFhtVvPjRxRDPLaJqtB5",
      "authorship_tag": "ABX9TyNez33yDn0pzzV7WDgY7Wkn",
      "include_colab_link": true
    },
    "kernelspec": {
      "name": "python3",
      "display_name": "Python 3"
    },
    "language_info": {
      "name": "python"
    }
  },
  "cells": [
    {
      "cell_type": "markdown",
      "metadata": {
        "id": "view-in-github",
        "colab_type": "text"
      },
      "source": [
        "<a href=\"https://colab.research.google.com/github/mdsiam135/thesis_2025/blob/main/Stacking_Emsemble_MGSX(3_labels).ipynb\" target=\"_parent\"><img src=\"https://colab.research.google.com/assets/colab-badge.svg\" alt=\"Open In Colab\"/></a>"
      ]
    },
    {
      "cell_type": "code",
      "source": [
        "# Stacking Ensemble, base Learner: MLP + GBM + SVM + XGBOOST, meta learner: LightGBM only\n",
        "# Modified for 3 labels: Low, Medium, High with step-wise execution output\n",
        "# Added confusion matrix and training vs validation accuracy/loss plots\n",
        "# SVM kernel changed from linear to RBF\n",
        "\n",
        "# Import necessary libraries\n",
        "import pandas as pd\n",
        "import numpy as np\n",
        "from sklearn.model_selection import train_test_split\n",
        "from sklearn.preprocessing import StandardScaler, QuantileTransformer\n",
        "from sklearn.neural_network import MLPClassifier\n",
        "from sklearn.ensemble import GradientBoostingClassifier\n",
        "from sklearn.svm import SVC\n",
        "from xgboost import XGBClassifier\n",
        "from sklearn.linear_model import LogisticRegression\n",
        "from sklearn.metrics import accuracy_score, precision_score, recall_score, f1_score, confusion_matrix, classification_report\n",
        "import matplotlib.pyplot as plt\n",
        "import seaborn as sns\n",
        "from sklearn.ensemble import StackingClassifier\n",
        "from lightgbm import LGBMClassifier\n",
        "from sklearn.model_selection import cross_val_score\n",
        "import warnings\n",
        "warnings.filterwarnings('ignore')\n",
        "\n",
        "print(\"=\"*70)\n",
        "print(\"🚀 STACKING ENSEMBLE CLASSIFIER - STEP-WISE EXECUTION\")\n",
        "print(\"=\"*70)\n",
        "\n"
      ],
      "metadata": {
        "colab": {
          "base_uri": "https://localhost:8080/"
        },
        "id": "Ni4lsd-x6j-V",
        "outputId": "a858d4a7-e439-45a7-a029-f797fec6e406"
      },
      "execution_count": 25,
      "outputs": [
        {
          "output_type": "stream",
          "name": "stdout",
          "text": [
            "======================================================================\n",
            "🚀 STACKING ENSEMBLE CLASSIFIER - STEP-WISE EXECUTION\n",
            "======================================================================\n"
          ]
        }
      ]
    },
    {
      "cell_type": "code",
      "source": [
        "# Step-1: Load the datasets\n",
        "print(\"\\n📁 Step-1: Loading datasets...\")\n",
        "print(\"-\" * 50)\n",
        "\n",
        "# Note: Replace these paths with your actual file paths\n",
        "try:\n",
        "    train_df = pd.read_csv(\"/content/drive/MyDrive/UpdatedDataset/train.csv\")\n",
        "    validation_df = pd.read_csv(\"/content/drive/MyDrive/UpdatedDataset/validation.csv\")\n",
        "    test_df = pd.read_csv(\"/content/drive/MyDrive/UpdatedDataset/test.csv\")\n",
        "\n",
        "    print(f\"✅ Training data shape: {train_df.shape}\")\n",
        "    print(f\"✅ Validation data shape: {validation_df.shape}\")\n",
        "    print(f\"✅ Test data shape: {test_df.shape}\")\n",
        "    print(\"✅ Datasets loaded successfully!\")\n",
        "\n",
        "    # Display basic info about the datasets\n",
        "    print(f\"\\n📊 Training data info:\")\n",
        "    print(f\"   - Columns: {len(train_df.columns)}\")\n",
        "    print(f\"   - Memory usage: {train_df.memory_usage().sum() / 1024**2:.2f} MB\")\n",
        "\n",
        "except FileNotFoundError:\n",
        "    print(\"❌ Dataset files not found. Please update the file paths.\")\n",
        "    print(\"🔄 Creating sample datasets for demonstration...\")\n",
        "\n",
        "    # Create sample datasets for demonstration\n",
        "    np.random.seed(42)\n",
        "    n_samples = 1000\n",
        "    n_features = 10\n",
        "\n",
        "    # Generate sample data\n",
        "    X_sample = np.random.randn(n_samples, n_features)\n",
        "    y_sample = np.random.exponential(scale=50, size=n_samples)  # Production values\n",
        "\n",
        "    # Create feature names\n",
        "    feature_names = [f'Feature_{i+1}' for i in range(n_features)]\n",
        "\n",
        "    # Create DataFrames\n",
        "    train_df = pd.DataFrame(X_sample[:600], columns=feature_names)\n",
        "    train_df['Production (M.Ton)'] = y_sample[:600]\n",
        "\n",
        "    validation_df = pd.DataFrame(X_sample[600:800], columns=feature_names)\n",
        "    validation_df['Production (M.Ton)'] = y_sample[600:800]\n",
        "\n",
        "    test_df = pd.DataFrame(X_sample[800:], columns=feature_names)\n",
        "    test_df['Production (M.Ton)'] = y_sample[800:]\n",
        "\n",
        "    print(f\"✅ Sample training data shape: {train_df.shape}\")\n",
        "    print(f\"✅ Sample validation data shape: {validation_df.shape}\")\n",
        "    print(f\"✅ Sample test data shape: {test_df.shape}\")\n",
        "\n"
      ],
      "metadata": {
        "colab": {
          "base_uri": "https://localhost:8080/"
        },
        "id": "rcD15nyi6owe",
        "outputId": "9b052f82-279e-4232-9ea4-b140d318e5b4"
      },
      "execution_count": 26,
      "outputs": [
        {
          "output_type": "stream",
          "name": "stdout",
          "text": [
            "\n",
            "📁 Step-1: Loading datasets...\n",
            "--------------------------------------------------\n",
            "✅ Training data shape: (3942, 84)\n",
            "✅ Validation data shape: (845, 84)\n",
            "✅ Test data shape: (845, 84)\n",
            "✅ Datasets loaded successfully!\n",
            "\n",
            "📊 Training data info:\n",
            "   - Columns: 84\n",
            "   - Memory usage: 2.53 MB\n"
          ]
        }
      ]
    },
    {
      "cell_type": "code",
      "source": [
        "\n",
        "# Step-2: Create production labels using your preferred method\n",
        "print(\"\\n🏷️ Step-2: Creating production labels...\")\n",
        "print(\"-\" * 50)\n",
        "\n",
        "TARGET = 'Production (M.Ton)'\n",
        "\n",
        "def create_production_labels(df_list):\n",
        "    \"\"\"Create categorical labels (low, medium, high) based on production values\"\"\"\n",
        "    # Combine all production values to determine thresholds\n",
        "    all_production = pd.concat([df[TARGET] for df in df_list])\n",
        "\n",
        "    # Define thresholds using quantiles\n",
        "    low_threshold = np.percentile(all_production, 33.33)\n",
        "    high_threshold = np.percentile(all_production, 66.67)\n",
        "\n",
        "    print(f\"📊 Production thresholds:\")\n",
        "    print(f\"   Low: 0 - {low_threshold:.2f}\")\n",
        "    print(f\"   Medium: {low_threshold:.2f} - {high_threshold:.2f}\")\n",
        "    print(f\"   High: > {high_threshold:.2f}\")\n",
        "\n",
        "    return low_threshold, high_threshold\n",
        "\n",
        "def apply_labels(df, low_threshold, high_threshold):\n",
        "    \"\"\"Apply labels to a dataframe based on thresholds\"\"\"\n",
        "    labels = []\n",
        "    for value in df[TARGET]:\n",
        "        if value <= low_threshold:\n",
        "            labels.append('low')\n",
        "        elif value <= high_threshold:\n",
        "            labels.append('medium')\n",
        "        else:\n",
        "            labels.append('high')\n",
        "    return labels\n",
        "\n",
        "# Create thresholds\n",
        "low_threshold, high_threshold = create_production_labels([train_df, validation_df, test_df])\n",
        "\n",
        "# Apply labels to all datasets\n",
        "train_df['production_label'] = apply_labels(train_df, low_threshold, high_threshold)\n",
        "validation_df['production_label'] = apply_labels(validation_df, low_threshold, high_threshold)\n",
        "test_df['production_label'] = apply_labels(test_df, low_threshold, high_threshold)\n",
        "\n",
        "# Display label distribution\n",
        "print(f\"\\n📈 Label Distribution:\")\n",
        "print(\"Training Set:\")\n",
        "train_label_counts = train_df['production_label'].value_counts()\n",
        "for label in ['low', 'medium', 'high']:\n",
        "    count = train_label_counts.get(label, 0)\n",
        "    percentage = (count / len(train_df)) * 100\n",
        "    print(f\"   {label.capitalize()}: {count} ({percentage:.1f}%)\")\n",
        "\n",
        "print(\"Validation Set:\")\n",
        "val_label_counts = validation_df['production_label'].value_counts()\n",
        "for label in ['low', 'medium', 'high']:\n",
        "    count = val_label_counts.get(label, 0)\n",
        "    percentage = (count / len(validation_df)) * 100\n",
        "    print(f\"   {label.capitalize()}: {count} ({percentage:.1f}%)\")\n",
        "\n",
        "print(\"Test Set:\")\n",
        "test_label_counts = test_df['production_label'].value_counts()\n",
        "for label in ['low', 'medium', 'high']:\n",
        "    count = test_label_counts.get(label, 0)\n",
        "    percentage = (count / len(test_df)) * 100\n",
        "    print(f\"   {label.capitalize()}: {count} ({percentage:.1f}%)\")\n",
        "\n",
        "# Drop the original continuous target column\n",
        "train_df = train_df.drop(columns=[TARGET])\n",
        "validation_df = validation_df.drop(columns=[TARGET])\n",
        "test_df = test_df.drop(columns=[TARGET])\n",
        "\n",
        "print(\"✅ Labels created and original target column dropped.\")\n"
      ],
      "metadata": {
        "colab": {
          "base_uri": "https://localhost:8080/"
        },
        "id": "jeaBeT296q2w",
        "outputId": "c067b677-cf91-43a4-9d1a-ddfecaa7c559"
      },
      "execution_count": 27,
      "outputs": [
        {
          "output_type": "stream",
          "name": "stdout",
          "text": [
            "\n",
            "🏷️ Step-2: Creating production labels...\n",
            "--------------------------------------------------\n",
            "📊 Production thresholds:\n",
            "   Low: 0 - 1095.00\n",
            "   Medium: 1095.00 - 4019.00\n",
            "   High: > 4019.00\n",
            "\n",
            "📈 Label Distribution:\n",
            "Training Set:\n",
            "   Low: 1317 (33.4%)\n",
            "   Medium: 1315 (33.4%)\n",
            "   High: 1310 (33.2%)\n",
            "Validation Set:\n",
            "   Low: 281 (33.3%)\n",
            "   Medium: 291 (34.4%)\n",
            "   High: 273 (32.3%)\n",
            "Test Set:\n",
            "   Low: 280 (33.1%)\n",
            "   Medium: 272 (32.2%)\n",
            "   High: 293 (34.7%)\n",
            "✅ Labels created and original target column dropped.\n"
          ]
        }
      ]
    },
    {
      "cell_type": "code",
      "source": [
        "\n",
        "\n",
        "\n",
        "# Step-3: Separate features and target labels\n",
        "print(\"\\n🔍 Step-3: Separating features and target labels...\")\n",
        "print(\"-\" * 50)\n",
        "\n",
        "X_train = train_df.drop('production_label', axis=1)\n",
        "y_train = train_df['production_label']\n",
        "\n",
        "X_val = validation_df.drop('production_label', axis=1)\n",
        "y_val = validation_df['production_label']\n",
        "\n",
        "X_test = test_df.drop('production_label', axis=1)\n",
        "y_test = test_df['production_label']\n",
        "\n",
        "print(f\"✅ Training features shape: {X_train.shape}\")\n",
        "print(f\"✅ Training labels shape: {y_train.shape}\")\n",
        "print(f\"✅ Validation features shape: {X_val.shape}\")\n",
        "print(f\"✅ Test features shape: {X_test.shape}\")\n",
        "\n",
        "\n"
      ],
      "metadata": {
        "colab": {
          "base_uri": "https://localhost:8080/"
        },
        "id": "eqfJoKZR6sTt",
        "outputId": "75801ecb-8e97-490a-f49e-8baafa41fe5b"
      },
      "execution_count": 28,
      "outputs": [
        {
          "output_type": "stream",
          "name": "stdout",
          "text": [
            "\n",
            "🔍 Step-3: Separating features and target labels...\n",
            "--------------------------------------------------\n",
            "✅ Training features shape: (3942, 83)\n",
            "✅ Training labels shape: (3942,)\n",
            "✅ Validation features shape: (845, 83)\n",
            "✅ Test features shape: (845, 83)\n"
          ]
        }
      ]
    },
    {
      "cell_type": "code",
      "source": [
        "\n",
        "# Step-4: Align columns across datasets\n",
        "print(\"\\n🔧 Step-4: Aligning columns across datasets...\")\n",
        "print(\"-\" * 50)\n",
        "\n",
        "common_cols = list(set(X_train.columns) & set(X_val.columns) & set(X_test.columns))\n",
        "common_cols.sort()\n",
        "\n",
        "X_train = X_train[common_cols]\n",
        "X_val = X_val[common_cols]\n",
        "X_test = X_test[common_cols]\n",
        "\n",
        "print(f\"✅ Common columns found: {len(common_cols)}\")\n",
        "print(f\"✅ Final feature set shape: {X_train.shape[1]} features\")\n",
        "\n"
      ],
      "metadata": {
        "colab": {
          "base_uri": "https://localhost:8080/"
        },
        "id": "Q8-1hWTx6ttu",
        "outputId": "cd744abb-3f03-4388-c189-d95a8e67f1af"
      },
      "execution_count": 29,
      "outputs": [
        {
          "output_type": "stream",
          "name": "stdout",
          "text": [
            "\n",
            "🔧 Step-4: Aligning columns across datasets...\n",
            "--------------------------------------------------\n",
            "✅ Common columns found: 83\n",
            "✅ Final feature set shape: 83 features\n"
          ]
        }
      ]
    },
    {
      "cell_type": "code",
      "source": [
        "\n",
        "\n",
        "# Step-5: Scale numerical features\n",
        "print(\"\\n⚖️ Step-5: Scaling numerical features...\")\n",
        "print(\"-\" * 50)\n",
        "\n",
        "scaler = StandardScaler()\n",
        "\n",
        "# Fit the scaler only on the training data and transform all datasets\n",
        "X_train_scaled = scaler.fit_transform(X_train)\n",
        "X_val_scaled = scaler.transform(X_val)\n",
        "X_test_scaled = scaler.transform(X_test)\n",
        "\n",
        "# Convert back to DataFrames\n",
        "X_train_scaled = pd.DataFrame(X_train_scaled, columns=X_train.columns)\n",
        "X_val_scaled = pd.DataFrame(X_val_scaled, columns=X_val.columns)\n",
        "X_test_scaled = pd.DataFrame(X_test_scaled, columns=X_test.columns)\n",
        "\n",
        "print(f\"✅ Features scaled using StandardScaler\")\n",
        "print(f\"✅ Training set mean: {X_train_scaled.mean().mean():.6f}\")\n",
        "print(f\"✅ Training set std: {X_train_scaled.std().mean():.6f}\")\n",
        "print(\"✅ Data preprocessing complete!\")\n",
        "\n"
      ],
      "metadata": {
        "colab": {
          "base_uri": "https://localhost:8080/"
        },
        "id": "Asz72Q_w6vbL",
        "outputId": "d90c27b2-2758-4bb2-c4b1-e5b8e2e6551b"
      },
      "execution_count": 30,
      "outputs": [
        {
          "output_type": "stream",
          "name": "stdout",
          "text": [
            "\n",
            "⚖️ Step-5: Scaling numerical features...\n",
            "--------------------------------------------------\n",
            "✅ Features scaled using StandardScaler\n",
            "✅ Training set mean: 0.000000\n",
            "✅ Training set std: 1.000127\n",
            "✅ Data preprocessing complete!\n"
          ]
        }
      ]
    },
    {
      "cell_type": "code",
      "source": [
        "\n",
        "\n",
        "# Step-6: Define Base Learners and Meta-Learner\n",
        "print(\"\\n🤖 Step-6: Defining Base Learners and Meta-Learner...\")\n",
        "print(\"-\" * 50)\n",
        "\n",
        "# Base Learners\n",
        "print(\"🔧 Initializing Base Learners:\")\n",
        "\n",
        "# Multi-layer Perceptron (MLP)\n",
        "mlp = MLPClassifier(\n",
        "    hidden_layer_sizes=(100, 50),\n",
        "    max_iter=1000,\n",
        "    early_stopping=True,\n",
        "    learning_rate= 'constant',\n",
        "    validation_fraction=0.1,\n",
        "    n_iter_no_change=10,\n",
        "    random_state=42\n",
        ")\n",
        "print(\"   ✅ MLP Classifier configured\")\n",
        "\n",
        "# Gradient Boosting Machine (GBM)\n",
        "gbm = GradientBoostingClassifier(\n",
        "    n_estimators=100,\n",
        "    learning_rate=0.1,\n",
        "    max_depth=5,\n",
        "    random_state=42\n",
        ")\n",
        "print(\"   ✅ Gradient Boosting Classifier configured\")\n",
        "\n",
        "# Support Vector Machine (SVM) - Changed from linear to RBF kernel\n",
        "svm_rbf = SVC(kernel='rbf', probability=True, random_state=42)\n",
        "print(\"   ✅ SVM with RBF Kernel configured\")\n",
        "\n",
        "# XGBoost\n",
        "xgboost = XGBClassifier(\n",
        "    objective='multi:softprob',\n",
        "    num_class=3,\n",
        "    eval_metric='mlogloss',\n",
        "    use_label_encoder=False,\n",
        "    random_state=42\n",
        ")\n",
        "print(\"   ✅ XGBoost Classifier configured\")\n",
        "\n",
        "# Meta-learner (LightGBM only)\n",
        "print(\"\\n🔧 Initializing Meta-Learner:\")\n",
        "\n",
        "# LightGBM\n",
        "meta_learner_lgbm = LGBMClassifier(\n",
        "    objective='multiclass',\n",
        "    num_class=3,\n",
        "    random_state=42,\n",
        "    verbosity=-1\n",
        ")\n",
        "print(\"   ✅ LightGBM meta-learner configured\")\n",
        "\n"
      ],
      "metadata": {
        "colab": {
          "base_uri": "https://localhost:8080/"
        },
        "id": "7WifDVRV6x0c",
        "outputId": "f82b2a7e-edee-415b-d773-715e74b15e7f"
      },
      "execution_count": 31,
      "outputs": [
        {
          "output_type": "stream",
          "name": "stdout",
          "text": [
            "\n",
            "🤖 Step-6: Defining Base Learners and Meta-Learner...\n",
            "--------------------------------------------------\n",
            "🔧 Initializing Base Learners:\n",
            "   ✅ MLP Classifier configured\n",
            "   ✅ Gradient Boosting Classifier configured\n",
            "   ✅ SVM with RBF Kernel configured\n",
            "   ✅ XGBoost Classifier configured\n",
            "\n",
            "🔧 Initializing Meta-Learner:\n",
            "   ✅ LightGBM meta-learner configured\n"
          ]
        }
      ]
    },
    {
      "cell_type": "code",
      "source": [
        "\n",
        "\n",
        "# Step-7: Create Stacking Ensemble Model\n",
        "print(\"\\n🏗️ Step-7: Creating Stacking Ensemble Model...\")\n",
        "print(\"-\" * 50)\n",
        "\n",
        "# Stacking with LightGBM as final estimator\n",
        "estimators_lgbm = [\n",
        "    ('mlp', mlp),\n",
        "    ('gbm', gbm),\n",
        "    ('svm_rbf', svm_rbf),\n",
        "    ('xgboost', xgboost)\n",
        "]\n",
        "\n",
        "stacking_model_lgbm = StackingClassifier(\n",
        "    estimators=estimators_lgbm,\n",
        "    final_estimator=meta_learner_lgbm,\n",
        "    cv=5,\n",
        "    passthrough=True,\n",
        "    n_jobs=-1\n",
        ")\n",
        "print(\"✅ Stacking Classifier with LightGBM meta-learner created\")\n"
      ],
      "metadata": {
        "colab": {
          "base_uri": "https://localhost:8080/"
        },
        "id": "HQTBJKKA6zlf",
        "outputId": "ba781705-71c4-4325-a597-4e4024b0114b"
      },
      "execution_count": 32,
      "outputs": [
        {
          "output_type": "stream",
          "name": "stdout",
          "text": [
            "\n",
            "🏗️ Step-7: Creating Stacking Ensemble Model...\n",
            "--------------------------------------------------\n",
            "✅ Stacking Classifier with LightGBM meta-learner created\n"
          ]
        }
      ]
    },
    {
      "cell_type": "code",
      "source": [
        "\n",
        "\n",
        "# Step-8: Training Model\n",
        "print(\"\\n🎯 Step-8: Training Model...\")\n",
        "print(\"-\" * 50)\n",
        "\n",
        "import time\n",
        "\n",
        "def train_model_with_progress(model, X_train, y_train, model_name):\n",
        "    \"\"\"Train model with progress tracking\"\"\"\n",
        "    print(f\"🔄 Training {model_name}...\")\n",
        "    start_time = time.time()\n",
        "\n",
        "    model.fit(X_train, y_train)\n",
        "\n",
        "    end_time = time.time()\n",
        "    training_time = end_time - start_time\n",
        "\n",
        "    print(f\"✅ {model_name} training completed in {training_time:.2f} seconds\")\n",
        "    return model\n",
        "\n",
        "# Train the model\n",
        "print(\"🚀 Starting model training...\")\n",
        "stacking_model_lgbm = train_model_with_progress(stacking_model_lgbm, X_train_scaled, y_train,\n",
        "                                               \"Stacking Classifier (LGBM Meta-learner)\")\n",
        "\n",
        "print(\"✅ Model trained successfully!\")\n",
        "\n",
        "\n"
      ],
      "metadata": {
        "colab": {
          "base_uri": "https://localhost:8080/"
        },
        "id": "jbwVVYj261IH",
        "outputId": "aaec29c6-1836-4d39-a260-41044b06a08d"
      },
      "execution_count": 33,
      "outputs": [
        {
          "output_type": "stream",
          "name": "stdout",
          "text": [
            "\n",
            "🎯 Step-8: Training Model...\n",
            "--------------------------------------------------\n",
            "🚀 Starting model training...\n",
            "🔄 Training Stacking Classifier (LGBM Meta-learner)...\n",
            "✅ Stacking Classifier (LGBM Meta-learner) training completed in 66.57 seconds\n",
            "✅ Model trained successfully!\n"
          ]
        }
      ]
    },
    {
      "cell_type": "code",
      "source": [
        "\n",
        "# Step-9: Model Evaluation\n",
        "print(\"\\n📊 Step-9: Model Evaluation...\")\n",
        "print(\"-\" * 50)\n",
        "\n",
        "def evaluate_model_detailed(model, X, y_true, dataset_name, model_name):\n",
        "    \"\"\"Detailed model evaluation with metrics\"\"\"\n",
        "    print(f\"\\n🔍 Evaluating {model_name} on {dataset_name}...\")\n",
        "\n",
        "    # Make predictions\n",
        "    y_pred = model.predict(X)\n",
        "\n",
        "    # Calculate metrics\n",
        "    accuracy = accuracy_score(y_true, y_pred)\n",
        "    precision_macro = precision_score(y_true, y_pred, average='macro', zero_division=0)\n",
        "    recall_macro = recall_score(y_true, y_pred, average='macro', zero_division=0)\n",
        "    f1_macro = f1_score(y_true, y_pred, average='macro', zero_division=0)\n",
        "    f1_weighted = f1_score(y_true, y_pred, average='weighted', zero_division=0)\n",
        "\n",
        "    # Display metrics\n",
        "    print(f\"   📈 Accuracy: {accuracy:.4f}\")\n",
        "    print(f\"   📈 Macro Precision: {precision_macro:.4f}\")\n",
        "    print(f\"   📈 Macro Recall: {recall_macro:.4f}\")\n",
        "    print(f\"   📈 Macro F1-Score: {f1_macro:.4f}\")\n",
        "    print(f\"   📈 Weighted F1-Score: {f1_weighted:.4f}\")\n",
        "\n",
        "    # Classification report\n",
        "    print(f\"\\n📋 Classification Report:\")\n",
        "    print(classification_report(y_true, y_pred, target_names=['low', 'medium', 'high'], zero_division=0))\n",
        "\n",
        "    return {\n",
        "        'accuracy': accuracy,\n",
        "        'precision_macro': precision_macro,\n",
        "        'recall_macro': recall_macro,\n",
        "        'f1_macro': f1_macro,\n",
        "        'f1_weighted': f1_weighted,\n",
        "        'y_pred': y_pred\n",
        "    }\n",
        "\n",
        "# Evaluate model on all datasets\n",
        "print(\"🔬 Starting comprehensive evaluation...\")\n",
        "\n",
        "print(\"=\"*60)\n",
        "print(\"🟢 STACKING MODEL WITH LIGHTGBM META-LEARNER\")\n",
        "print(\"=\"*60)\n",
        "\n",
        "# Training set evaluation\n",
        "lgbm_train_metrics = evaluate_model_detailed(stacking_model_lgbm, X_train_scaled, y_train,\n",
        "                                            \"Training Set\", \"Stacking LGBM\")\n",
        "\n",
        "# Validation set evaluation\n",
        "lgbm_val_metrics = evaluate_model_detailed(stacking_model_lgbm, X_val_scaled, y_val,\n",
        "                                          \"Validation Set\", \"Stacking LGBM\")\n",
        "\n",
        "# Test set evaluation\n",
        "lgbm_test_metrics = evaluate_model_detailed(stacking_model_lgbm, X_test_scaled, y_test,\n",
        "                                           \"Test Set\", \"Stacking LGBM\")\n",
        "\n"
      ],
      "metadata": {
        "colab": {
          "base_uri": "https://localhost:8080/"
        },
        "id": "L7C0DiQ463A1",
        "outputId": "8aaee9e7-4b22-4f9c-a430-99be2f47573e"
      },
      "execution_count": 34,
      "outputs": [
        {
          "output_type": "stream",
          "name": "stdout",
          "text": [
            "\n",
            "📊 Step-9: Model Evaluation...\n",
            "--------------------------------------------------\n",
            "🔬 Starting comprehensive evaluation...\n",
            "============================================================\n",
            "🟢 STACKING MODEL WITH LIGHTGBM META-LEARNER\n",
            "============================================================\n",
            "\n",
            "🔍 Evaluating Stacking LGBM on Training Set...\n",
            "   📈 Accuracy: 0.9901\n",
            "   📈 Macro Precision: 0.9901\n",
            "   📈 Macro Recall: 0.9901\n",
            "   📈 Macro F1-Score: 0.9901\n",
            "   📈 Weighted F1-Score: 0.9901\n",
            "\n",
            "📋 Classification Report:\n",
            "              precision    recall  f1-score   support\n",
            "\n",
            "         low       0.99      0.99      0.99      1310\n",
            "      medium       0.99      0.99      0.99      1317\n",
            "        high       0.98      0.99      0.99      1315\n",
            "\n",
            "    accuracy                           0.99      3942\n",
            "   macro avg       0.99      0.99      0.99      3942\n",
            "weighted avg       0.99      0.99      0.99      3942\n",
            "\n",
            "\n",
            "🔍 Evaluating Stacking LGBM on Validation Set...\n",
            "   📈 Accuracy: 0.9349\n",
            "   📈 Macro Precision: 0.9358\n",
            "   📈 Macro Recall: 0.9349\n",
            "   📈 Macro F1-Score: 0.9353\n",
            "   📈 Weighted F1-Score: 0.9350\n",
            "\n",
            "📋 Classification Report:\n",
            "              precision    recall  f1-score   support\n",
            "\n",
            "         low       0.94      0.92      0.93       273\n",
            "      medium       0.97      0.97      0.97       281\n",
            "        high       0.90      0.92      0.91       291\n",
            "\n",
            "    accuracy                           0.93       845\n",
            "   macro avg       0.94      0.93      0.94       845\n",
            "weighted avg       0.94      0.93      0.93       845\n",
            "\n",
            "\n",
            "🔍 Evaluating Stacking LGBM on Test Set...\n",
            "   📈 Accuracy: 0.9361\n",
            "   📈 Macro Precision: 0.9363\n",
            "   📈 Macro Recall: 0.9360\n",
            "   📈 Macro F1-Score: 0.9359\n",
            "   📈 Weighted F1-Score: 0.9364\n",
            "\n",
            "📋 Classification Report:\n",
            "              precision    recall  f1-score   support\n",
            "\n",
            "         low       0.97      0.93      0.95       293\n",
            "      medium       0.96      0.95      0.96       280\n",
            "        high       0.88      0.92      0.90       272\n",
            "\n",
            "    accuracy                           0.94       845\n",
            "   macro avg       0.94      0.94      0.94       845\n",
            "weighted avg       0.94      0.94      0.94       845\n",
            "\n"
          ]
        }
      ]
    },
    {
      "cell_type": "code",
      "source": [
        "\n",
        "\n",
        "# Step-10: Create Confusion Matrices\n",
        "print(\"\\n📊 Step-10: Creating Confusion Matrices...\")\n",
        "print(\"-\" * 50)\n",
        "\n",
        "# Create confusion matrices for all datasets\n",
        "fig, axes = plt.subplots(1, 3, figsize=(18, 5))\n",
        "\n",
        "datasets = [\n",
        "    ('Training Set', y_train, lgbm_train_metrics['y_pred']),\n",
        "    ('Validation Set', y_val, lgbm_val_metrics['y_pred']),\n",
        "    ('Test Set', y_test, lgbm_test_metrics['y_pred'])\n",
        "]\n",
        "\n",
        "for i, (dataset_name, y_true, y_pred) in enumerate(datasets):\n",
        "    cm = confusion_matrix(y_true, y_pred, labels=['low', 'medium', 'high'])\n",
        "\n",
        "    sns.heatmap(cm, annot=True, fmt='d', cmap='Blues',\n",
        "                xticklabels=['Low', 'Medium', 'High'],\n",
        "                yticklabels=['Low', 'Medium', 'High'],\n",
        "                ax=axes[i])\n",
        "\n",
        "    axes[i].set_title(f'Confusion Matrix - {dataset_name}', fontsize=14, fontweight='bold')\n",
        "    axes[i].set_xlabel('Predicted Label', fontsize=12)\n",
        "    axes[i].set_ylabel('True Label', fontsize=12)\n",
        "\n",
        "plt.tight_layout()\n",
        "plt.show()\n",
        "\n",
        "print(\"✅ Confusion matrices created!\")\n",
        "\n"
      ],
      "metadata": {
        "colab": {
          "base_uri": "https://localhost:8080/",
          "height": 324
        },
        "id": "E3CTf6KK64yz",
        "outputId": "29240ee0-3506-4a7e-ea80-c0e34b55cadc"
      },
      "execution_count": 35,
      "outputs": [
        {
          "output_type": "stream",
          "name": "stdout",
          "text": [
            "\n",
            "📊 Step-10: Creating Confusion Matrices...\n",
            "--------------------------------------------------\n"
          ]
        },
        {
          "output_type": "display_data",
          "data": {
            "text/plain": [
              "<Figure size 1800x500 with 6 Axes>"
            ],
            "image/png": "[encoded data removed]"
          },
          "metadata": {}
        },
        {
          "output_type": "stream",
          "name": "stdout",
          "text": [
            "✅ Confusion matrices created!\n"
          ]
        }
      ]
    },
    {
      "cell_type": "code",
      "source": [
        "\n",
        "\n",
        "# Step-11: Results Summary\n",
        "print(\"\\n📊 Step-11: Results Summary...\")\n",
        "print(\"-\" * 50)\n",
        "\n",
        "print(\"\\n🏆 FINAL RESULTS SUMMARY\")\n",
        "print(\"=\"*60)\n",
        "\n",
        "# Create summary table\n",
        "print(f\"{'Dataset':<15} {'Accuracy':<10} {'F1-Macro':<10} {'F1-Weighted':<12} {'Precision':<10} {'Recall':<10}\")\n",
        "print(\"-\" * 67)\n",
        "\n",
        "# Results\n",
        "print(f\"{'Training':<15} {lgbm_train_metrics['accuracy']:<10.4f} {lgbm_train_metrics['f1_macro']:<10.4f} {lgbm_train_metrics['f1_weighted']:<12.4f} {lgbm_train_metrics['precision_macro']:<10.4f} {lgbm_train_metrics['recall_macro']:<10.4f}\")\n",
        "print(f\"{'Validation':<15} {lgbm_val_metrics['accuracy']:<10.4f} {lgbm_val_metrics['f1_macro']:<10.4f} {lgbm_val_metrics['f1_weighted']:<12.4f} {lgbm_val_metrics['precision_macro']:<10.4f} {lgbm_val_metrics['recall_macro']:<10.4f}\")\n",
        "print(f\"{'Test':<15} {lgbm_test_metrics['accuracy']:<10.4f} {lgbm_test_metrics['f1_macro']:<10.4f} {lgbm_test_metrics['f1_weighted']:<12.4f} {lgbm_test_metrics['precision_macro']:<10.4f} {lgbm_test_metrics['recall_macro']:<10.4f}\")\n",
        "\n",
        "# Feature importance analysis\n",
        "print(\"\\n🔍 FEATURE IMPORTANCE ANALYSIS\")\n",
        "print(\"-\" * 35)\n",
        "\n",
        "try:\n",
        "    # Get feature importance from LightGBM meta-learner\n",
        "    if hasattr(stacking_model_lgbm.final_estimator_, 'feature_importances_'):\n",
        "        importances = stacking_model_lgbm.final_estimator_.feature_importances_\n",
        "\n",
        "        # Create feature names for meta-features\n",
        "        n_base_features = len(estimators_lgbm)\n",
        "        n_original_features = X_train.shape[1]\n",
        "\n",
        "        feature_names = []\n",
        "        # Base learner predictions\n",
        "        for name, _ in estimators_lgbm:\n",
        "            feature_names.extend([f'{name}_class_{i}' for i in range(3)])  # 3 classes\n",
        "\n",
        "        # Original features (if passthrough=True)\n",
        "        if len(importances) > n_base_features * 3:\n",
        "            feature_names.extend([f'original_{col}' for col in X_train.columns])\n",
        "\n",
        "        # Ensure we have the right number of feature names\n",
        "        feature_names = feature_names[:len(importances)]\n",
        "\n",
        "        # Sort by importance\n",
        "        indices = np.argsort(importances)[::-1]\n",
        "\n",
        "        print(\"Top 10 most important meta-features:\")\n",
        "        for i in range(min(10, len(indices))):\n",
        "            print(f\"   {i+1}. {feature_names[indices[i]]}: {importances[indices[i]]:.4f}\")\n",
        "\n",
        "        # Create feature importance plot\n",
        "        plt.figure(figsize=(12, 8))\n",
        "        top_n = min(15, len(indices))\n",
        "        top_indices = indices[:top_n]\n",
        "\n",
        "        plt.barh(range(top_n), importances[top_indices])\n",
        "        plt.yticks(range(top_n), [feature_names[i] for i in top_indices])\n",
        "        plt.xlabel('Feature Importance')\n",
        "        plt.title('Top Feature Importances - LightGBM Meta-Learner')\n",
        "        plt.gca().invert_yaxis()\n",
        "        plt.tight_layout()\n",
        "        plt.show()\n",
        "\n",
        "    else:\n",
        "        print(\"Feature importance not available for this model configuration.\")\n",
        "\n",
        "except Exception as e:\n",
        "    print(f\"Could not extract feature importance: {e}\")\n",
        "\n",
        "print(\"\\n\" + \"=\"*70)\n",
        "print(\"✅ ALL STEPS COMPLETED SUCCESSFULLY!\")\n",
        "print(\"=\"*70)"
      ],
      "metadata": {
        "colab": {
          "base_uri": "https://localhost:8080/",
          "height": 1000
        },
        "id": "IsD88Qww03wj",
        "outputId": "5375814b-ea86-4f2c-fa75-29a8339076a1"
      },
      "execution_count": 36,
      "outputs": [
        {
          "output_type": "stream",
          "name": "stdout",
          "text": [
            "\n",
            "📊 Step-11: Results Summary...\n",
            "--------------------------------------------------\n",
            "\n",
            "🏆 FINAL RESULTS SUMMARY\n",
            "============================================================\n",
            "Dataset         Accuracy   F1-Macro   F1-Weighted  Precision  Recall    \n",
            "-------------------------------------------------------------------\n",
            "Training        0.9901     0.9901     0.9901       0.9901     0.9901    \n",
            "Validation      0.9349     0.9353     0.9350       0.9358     0.9349    \n",
            "Test            0.9361     0.9359     0.9364       0.9363     0.9360    \n",
            "\n",
            "🔍 FEATURE IMPORTANCE ANALYSIS\n",
            "-----------------------------------\n",
            "Top 10 most important meta-features:\n",
            "   1. mlp_class_1: 621.0000\n",
            "   2. mlp_class_0: 505.0000\n",
            "   3. mlp_class_2: 486.0000\n",
            "   4. svm_rbf_class_0: 486.0000\n",
            "   5. gbm_class_1: 474.0000\n",
            "   6. gbm_class_2: 474.0000\n",
            "   7. original_Area (Acres): 441.0000\n",
            "   8. xgboost_class_1: 433.0000\n",
            "   9. svm_rbf_class_2: 414.0000\n",
            "   10. svm_rbf_class_1: 413.0000\n"
          ]
        },
        {
          "output_type": "display_data",
          "data": {
            "text/plain": [
              "<Figure size 1200x800 with 1 Axes>"
            ],
            "image/png": "[encoded data removed]"
          },
          "metadata": {}
        },
        {
          "output_type": "stream",
          "name": "stdout",
          "text": [
            "\n",
            "======================================================================\n",
            "✅ ALL STEPS COMPLETED SUCCESSFULLY!\n",
            "======================================================================\n"
          ]
        }
      ]
    }
  ]
}