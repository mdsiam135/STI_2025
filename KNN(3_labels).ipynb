{
  "nbformat": 4,
  "nbformat_minor": 0,
  "metadata": {
    "colab": {
      "provenance": [],
      "mount_file_id": "1dMFxjqdewZnhR5x0ARs-TS2azg96cq9Q",
      "authorship_tag": "ABX9TyPogyJJ1j1xF+NhoJk4ANkH",
      "include_colab_link": true
    },
    "kernelspec": {
      "name": "python3",
      "display_name": "Python 3"
    },
    "language_info": {
      "name": "python"
    }
  },
  "cells": [
    {
      "cell_type": "markdown",
      "metadata": {
        "id": "view-in-github",
        "colab_type": "text"
      },
      "source": [
        "<a href=\"https://colab.research.google.com/github/mdsiam135/thesis_2025/blob/main/KNN(3_labels).ipynb\" target=\"_parent\"><img src=\"https://colab.research.google.com/assets/colab-badge.svg\" alt=\"Open In Colab\"/></a>"
      ]
    },
    {
      "cell_type": "code",
      "source": [
        "# =============================================================================\n",
        "# STEP-BY-STEP KNN AGRICULTURAL PRODUCTION CLASSIFICATION MODEL - FIXED\n",
        "# =============================================================================\n",
        "\n",
        "# =============================================================================\n",
        "# STEP 1: IMPORT REQUIRED LIBRARIES\n",
        "# =============================================================================\n",
        "print(\"🔧 STEP 1: Importing Required Libraries...\")\n",
        "\n",
        "import pandas as pd\n",
        "import numpy as np\n",
        "import matplotlib.pyplot as plt\n",
        "import seaborn as sns\n",
        "from sklearn.neighbors import KNeighborsClassifier\n",
        "from sklearn.preprocessing import StandardScaler, LabelEncoder\n",
        "from sklearn.metrics import (\n",
        "    classification_report, confusion_matrix, accuracy_score,\n",
        "    precision_score, recall_score, f1_score, log_loss\n",
        ")\n",
        "from sklearn.model_selection import cross_val_score, GridSearchCV\n",
        "import warnings\n",
        "warnings.filterwarnings('ignore')\n",
        "\n",
        "# Set matplotlib style for better plots\n",
        "plt.style.use('default')\n",
        "plt.rcParams['figure.figsize'] = (12, 5)\n",
        "plt.rcParams['font.size'] = 10\n",
        "\n",
        "print(\"✅ Libraries imported successfully!\")\n",
        "\n"
      ],
      "metadata": {
        "colab": {
          "base_uri": "https://localhost:8080/"
        },
        "id": "YswyTynpnOCi",
        "outputId": "e15bba66-6957-4b43-e325-6c8816f41e72"
      },
      "execution_count": 21,
      "outputs": [
        {
          "output_type": "stream",
          "name": "stdout",
          "text": [
            "🔧 STEP 1: Importing Required Libraries...\n",
            "✅ Libraries imported successfully!\n"
          ]
        }
      ]
    },
    {
      "cell_type": "code",
      "source": [
        "\n",
        "# =============================================================================\n",
        "# STEP 2: DEFINE CONFIGURATION PARAMETERS\n",
        "# =============================================================================\n",
        "print(\"\\n⚙️ STEP 2: Setting Configuration Parameters...\")\n",
        "\n",
        "# Model parameters - we'll find the best k through grid search\n",
        "K_RANGE = range(3, 21, 2)  # Test k values from 3 to 19 (odd numbers work better)\n",
        "RANDOM_SEED = 42           # For reproducibility\n",
        "\n",
        "# File paths (modify these according to your file locations)\n",
        "TRAIN_PATH = '/content/drive/MyDrive/UpdatedDataset/train.csv'\n",
        "VALIDATION_PATH = '/content/drive/MyDrive/UpdatedDataset/validation.csv'\n",
        "TEST_PATH = '/content/drive/MyDrive/UpdatedDataset/test.csv'\n",
        "\n",
        "# Alternative paths (update according to your actual file location)\n",
        "ALT_TRAIN_PATH = '/content/drive/MyDrive/Yearbook of Agricultural Statistics/train.csv'\n",
        "ALT_VALIDATION_PATH = '/content/drive/MyDrive/Yearbook of Agricultural Statistics/validation.csv'\n",
        "ALT_TEST_PATH = '/content/drive/MyDrive/Yearbook of Agricultural Statistics/test.csv'\n",
        "\n",
        "# Set random seed for reproducibility\n",
        "np.random.seed(RANDOM_SEED)\n",
        "\n",
        "print(f\"✅ Configuration set - K range: {list(K_RANGE)}\")\n"
      ],
      "metadata": {
        "colab": {
          "base_uri": "https://localhost:8080/"
        },
        "id": "AHUOoxYanQE4",
        "outputId": "a3bbe47a-2f3b-47c5-9ab4-1e6809e02756"
      },
      "execution_count": 22,
      "outputs": [
        {
          "output_type": "stream",
          "name": "stdout",
          "text": [
            "\n",
            "⚙️ STEP 2: Setting Configuration Parameters...\n",
            "✅ Configuration set - K range: [3, 5, 7, 9, 11, 13, 15, 17, 19]\n"
          ]
        }
      ]
    },
    {
      "cell_type": "code",
      "source": [
        "\n",
        "# =============================================================================\n",
        "# STEP 3: DEFINE HELPER FUNCTIONS\n",
        "# =============================================================================\n",
        "print(\"\\n🛠️ STEP 3: Defining Helper Functions...\")\n",
        "\n",
        "def calculate_loss(y_true, y_pred_proba):\n",
        "    \"\"\"Calculate cross-entropy loss for KNN model\"\"\"\n",
        "    epsilon = 1e-15\n",
        "    y_pred_proba = np.clip(y_pred_proba, epsilon, 1 - epsilon)\n",
        "    loss = log_loss(y_true, y_pred_proba)\n",
        "    return loss\n",
        "\n",
        "def create_production_labels(df_list):\n",
        "    \"\"\"Create categorical labels (low, medium, high) based on production values\"\"\"\n",
        "    # Combine all production values to determine thresholds\n",
        "    all_production = pd.concat([df['Production (M.Ton)'] for df in df_list])\n",
        "\n",
        "    # Define thresholds using quantiles\n",
        "    low_threshold = np.percentile(all_production, 33.33)\n",
        "    high_threshold = np.percentile(all_production, 66.67)\n",
        "\n",
        "    print(f\"📊 Production thresholds:\")\n",
        "    print(f\"   Low: < {low_threshold:.2f}\")\n",
        "    print(f\"   Medium: {low_threshold:.2f} - {high_threshold:.2f}\")\n",
        "    print(f\"   High: > {high_threshold:.2f}\")\n",
        "\n",
        "    # Create labels for each dataset\n",
        "    for df in df_list:\n",
        "        df['Production_Label'] = pd.cut(\n",
        "            df['Production (M.Ton)'],\n",
        "            bins=[-np.inf, low_threshold, high_threshold, np.inf],\n",
        "            labels=['low', 'medium', 'high']\n",
        "        )\n",
        "\n",
        "    return df_list\n",
        "\n",
        "print(\"✅ Helper functions defined!\")\n",
        "\n"
      ],
      "metadata": {
        "colab": {
          "base_uri": "https://localhost:8080/"
        },
        "id": "WMCtxhF6nSjl",
        "outputId": "9fa83e8a-1167-45f0-c0cd-08cae04e0c9e"
      },
      "execution_count": 23,
      "outputs": [
        {
          "output_type": "stream",
          "name": "stdout",
          "text": [
            "\n",
            "🛠️ STEP 3: Defining Helper Functions...\n",
            "✅ Helper functions defined!\n"
          ]
        }
      ]
    },
    {
      "cell_type": "code",
      "source": [
        "\n",
        "# =============================================================================\n",
        "# STEP 4: LOAD AND EXPLORE DATA\n",
        "# =============================================================================\n",
        "print(\"\\n📂 STEP 4: Loading and Exploring Data...\")\n",
        "\n",
        "# Try loading from primary path first, then alternative\n",
        "try:\n",
        "    print(\"Trying primary file paths...\")\n",
        "    train_df = pd.read_csv(TRAIN_PATH)\n",
        "    val_df = pd.read_csv(VALIDATION_PATH)\n",
        "    test_df = pd.read_csv(TEST_PATH)\n",
        "    print(\"✅ Data loaded from primary paths!\")\n",
        "except FileNotFoundError:\n",
        "    try:\n",
        "        print(\"Primary paths not found, trying alternative paths...\")\n",
        "        train_df = pd.read_csv(ALT_TRAIN_PATH)\n",
        "        val_df = pd.read_csv(ALT_VALIDATION_PATH)\n",
        "        test_df = pd.read_csv(ALT_TEST_PATH)\n",
        "        print(\"✅ Data loaded from alternative paths!\")\n",
        "    except FileNotFoundError as e:\n",
        "        print(f\"❌ Error loading files: {e}\")\n",
        "        print(\"Please ensure CSV files are in one of these locations:\")\n",
        "        print(f\"   Primary: {TRAIN_PATH}\")\n",
        "        print(f\"   Alternative: {ALT_TRAIN_PATH}\")\n",
        "        exit()\n",
        "\n",
        "print(f\"   Training set shape: {train_df.shape}\")\n",
        "print(f\"   Validation set shape: {val_df.shape}\")\n",
        "print(f\"   Test set shape: {test_df.shape}\")\n",
        "\n",
        "# Display basic info about the dataset\n",
        "print(f\"\\n📈 Dataset Information:\")\n",
        "print(f\"   Total features: {len(train_df.columns) - 1}\")  # -1 for target column\n",
        "print(f\"   Production range: {train_df['Production (M.Ton)'].min():.2f} - {train_df['Production (M.Ton)'].max():.2f}\")\n",
        "\n"
      ],
      "metadata": {
        "colab": {
          "base_uri": "https://localhost:8080/"
        },
        "id": "LRkhMblanUZN",
        "outputId": "9a5d4acb-7e36-4820-a853-46715a7e1449"
      },
      "execution_count": 24,
      "outputs": [
        {
          "output_type": "stream",
          "name": "stdout",
          "text": [
            "\n",
            "📂 STEP 4: Loading and Exploring Data...\n",
            "Trying primary file paths...\n",
            "✅ Data loaded from primary paths!\n",
            "   Training set shape: (3942, 84)\n",
            "   Validation set shape: (845, 84)\n",
            "   Test set shape: (845, 84)\n",
            "\n",
            "📈 Dataset Information:\n",
            "   Total features: 83\n",
            "   Production range: 0.00 - 544979.50\n"
          ]
        }
      ]
    },
    {
      "cell_type": "code",
      "source": [
        "\n",
        "# =============================================================================\n",
        "# STEP 5: DATA PREPROCESSING\n",
        "# =============================================================================\n",
        "print(\"\\n🔄 STEP 5: Data Preprocessing...\")\n",
        "\n",
        "# Create production labels\n",
        "print(\"Creating production labels...\")\n",
        "train_df, val_df, test_df = create_production_labels([train_df, val_df, test_df])\n",
        "\n",
        "# Prepare features (exclude target columns)\n",
        "feature_columns = [col for col in train_df.columns\n",
        "                  if col not in ['Production (M.Ton)', 'Production_Label']]\n",
        "\n",
        "print(f\"📊 Feature columns: {len(feature_columns)}\")\n",
        "\n",
        "# Extract features and labels\n",
        "X_train = train_df[feature_columns]\n",
        "X_val = val_df[feature_columns]\n",
        "X_test = test_df[feature_columns]\n",
        "\n",
        "y_train = train_df['Production_Label']\n",
        "y_val = val_df['Production_Label']\n",
        "y_test = test_df['Production_Label']\n",
        "\n",
        "# Initialize encoders and scalers\n",
        "label_encoder = LabelEncoder()\n",
        "scaler = StandardScaler()\n",
        "\n",
        "# Encode labels\n",
        "y_train_encoded = label_encoder.fit_transform(y_train)\n",
        "y_val_encoded = label_encoder.transform(y_val)\n",
        "y_test_encoded = label_encoder.transform(y_test)\n",
        "\n",
        "# Scale features\n",
        "X_train_scaled = scaler.fit_transform(X_train)\n",
        "X_val_scaled = scaler.transform(X_val)\n",
        "X_test_scaled = scaler.transform(X_test)\n",
        "\n",
        "# Display label distribution\n",
        "print(f\"\\n📊 Label Distribution:\")\n",
        "label_counts = pd.Series(y_train).value_counts()\n",
        "for label, count in label_counts.items():\n",
        "    print(f\"   {label}: {count} samples ({count/len(y_train)*100:.1f}%)\")\n",
        "\n",
        "print(\"✅ Data preprocessing completed!\")\n"
      ],
      "metadata": {
        "colab": {
          "base_uri": "https://localhost:8080/"
        },
        "id": "ig5r-KfKnWr9",
        "outputId": "a5187aaf-fd2b-4db3-f00d-75c20dcdf4a8"
      },
      "execution_count": 25,
      "outputs": [
        {
          "output_type": "stream",
          "name": "stdout",
          "text": [
            "\n",
            "🔄 STEP 5: Data Preprocessing...\n",
            "Creating production labels...\n",
            "📊 Production thresholds:\n",
            "   Low: < 1095.00\n",
            "   Medium: 1095.00 - 4019.00\n",
            "   High: > 4019.00\n",
            "📊 Feature columns: 83\n",
            "\n",
            "📊 Label Distribution:\n",
            "   low: 1317 samples (33.4%)\n",
            "   medium: 1315 samples (33.4%)\n",
            "   high: 1310 samples (33.2%)\n",
            "✅ Data preprocessing completed!\n"
          ]
        }
      ]
    },
    {
      "cell_type": "code",
      "source": [
        "\n",
        "# =============================================================================\n",
        "# STEP 6: HYPERPARAMETER TUNING (FINDING OPTIMAL K)\n",
        "# =============================================================================\n",
        "print(\"\\n🔍 STEP 6: Finding Optimal K Value...\")\n",
        "\n",
        "# Test different k values\n",
        "k_scores = []\n",
        "k_val_scores = []\n",
        "\n",
        "print(\"Testing different k values...\")\n",
        "print(\"-\" * 50)\n",
        "\n",
        "for k in K_RANGE:\n",
        "    # Create and train KNN model\n",
        "    knn = KNeighborsClassifier(n_neighbors=k)\n",
        "    knn.fit(X_train_scaled, y_train_encoded)\n",
        "\n",
        "    # Calculate training accuracy\n",
        "    train_pred = knn.predict(X_train_scaled)\n",
        "    train_accuracy = accuracy_score(y_train_encoded, train_pred)\n",
        "\n",
        "    # Calculate validation accuracy\n",
        "    val_pred = knn.predict(X_val_scaled)\n",
        "    val_accuracy = accuracy_score(y_val_encoded, val_pred)\n",
        "\n",
        "    k_scores.append(train_accuracy)\n",
        "    k_val_scores.append(val_accuracy)\n",
        "\n",
        "    print(f\"k={k:2d}: Train Accuracy = {train_accuracy:.4f}, Val Accuracy = {val_accuracy:.4f}\")\n",
        "\n",
        "# Find optimal k\n",
        "best_k_idx = np.argmax(k_val_scores)\n",
        "best_k = list(K_RANGE)[best_k_idx]\n",
        "best_val_accuracy = k_val_scores[best_k_idx]\n",
        "\n",
        "print(\"-\" * 50)\n",
        "print(f\"✅ Optimal k value: {best_k} (Validation Accuracy: {best_val_accuracy:.4f})\")\n"
      ],
      "metadata": {
        "colab": {
          "base_uri": "https://localhost:8080/"
        },
        "id": "DQbanN4onZhV",
        "outputId": "4390036b-c178-44c9-d99f-eb3edaf8672b"
      },
      "execution_count": 12,
      "outputs": [
        {
          "output_type": "stream",
          "name": "stdout",
          "text": [
            "\n",
            "🔍 STEP 6: Finding Optimal K Value...\n",
            "Testing different k values...\n",
            "--------------------------------------------------\n",
            "k= 3: Train Accuracy = 0.9472, Val Accuracy = 0.8852\n",
            "k= 5: Train Accuracy = 0.9267, Val Accuracy = 0.8663\n",
            "k= 7: Train Accuracy = 0.9087, Val Accuracy = 0.8604\n",
            "k= 9: Train Accuracy = 0.9008, Val Accuracy = 0.8473\n",
            "k=11: Train Accuracy = 0.8962, Val Accuracy = 0.8473\n",
            "k=13: Train Accuracy = 0.8838, Val Accuracy = 0.8296\n",
            "k=15: Train Accuracy = 0.8656, Val Accuracy = 0.8083\n",
            "k=17: Train Accuracy = 0.8349, Val Accuracy = 0.7645\n",
            "k=19: Train Accuracy = 0.8123, Val Accuracy = 0.7349\n",
            "--------------------------------------------------\n",
            "✅ Optimal k value: 3 (Validation Accuracy: 0.8852)\n"
          ]
        }
      ]
    },
    {
      "cell_type": "code",
      "source": [
        "\n",
        "# =============================================================================\n",
        "# STEP 7: PLOT K-VALUE ANALYSIS\n",
        "# =============================================================================\n",
        "print(\"\\n📊 STEP 7: Plotting K-Value Analysis...\")\n",
        "\n",
        "def plot_k_analysis(k_range, train_scores, val_scores, best_k):\n",
        "    \"\"\"Plot the effect of different k values on model performance\"\"\"\n",
        "    plt.figure(figsize=(12, 6))\n",
        "\n",
        "    plt.plot(k_range, train_scores, 'b-o', linewidth=2, markersize=6, label='Training Accuracy')\n",
        "    plt.plot(k_range, val_scores, 'r-o', linewidth=2, markersize=6, label='Validation Accuracy')\n",
        "\n",
        "    # Highlight best k\n",
        "    plt.axvline(x=best_k, color='green', linestyle='--', alpha=0.7,\n",
        "                label=f'Best k = {best_k}')\n",
        "    plt.scatter([best_k], [val_scores[list(k_range).index(best_k)]],\n",
        "                color='green', s=100, zorder=5)\n",
        "\n",
        "    plt.title('KNN Performance vs K Value', fontsize=16, fontweight='bold')\n",
        "    plt.xlabel('Number of Neighbors (k)', fontsize=12)\n",
        "    plt.ylabel('Accuracy', fontsize=12)\n",
        "    plt.legend(fontsize=12)\n",
        "    plt.grid(True, alpha=0.3)\n",
        "    plt.xticks(k_range)\n",
        "\n",
        "    # Styling\n",
        "    plt.gca().spines['top'].set_visible(False)\n",
        "    plt.gca().spines['right'].set_visible(False)\n",
        "\n",
        "    plt.tight_layout()\n",
        "    plt.show()\n",
        "\n",
        "# Generate k-value analysis plot\n",
        "plot_k_analysis(K_RANGE, k_scores, k_val_scores, best_k)\n"
      ],
      "metadata": {
        "colab": {
          "base_uri": "https://localhost:8080/",
          "height": 419
        },
        "id": "XObL4nZanb9M",
        "outputId": "e9042107-4dda-40da-f3a6-6bd641add13a"
      },
      "execution_count": 13,
      "outputs": [
        {
          "output_type": "stream",
          "name": "stdout",
          "text": [
            "\n",
            "📊 STEP 7: Plotting K-Value Analysis...\n"
          ]
        },
        {
          "output_type": "display_data",
          "data": {
            "text/plain": [
              "<Figure size 1200x600 with 1 Axes>"
            ],
            "image/png": "[encoded data removed]"
          },
          "metadata": {}
        }
      ]
    },
    {
      "cell_type": "code",
      "source": [
        "\n",
        "# =============================================================================\n",
        "# STEP 8: TRAIN FINAL MODEL WITH OPTIMAL K\n",
        "# =============================================================================\n",
        "print(f\"\\n🤖 STEP 8: Training Final Model with k={best_k}...\")\n",
        "\n",
        "# Initialize and train the final model with optimal k\n",
        "final_knn_model = KNeighborsClassifier(n_neighbors=best_k)\n",
        "final_knn_model.fit(X_train_scaled, y_train_encoded)\n",
        "\n",
        "print(f\"✅ Final KNN model trained with k={best_k}\")\n"
      ],
      "metadata": {
        "colab": {
          "base_uri": "https://localhost:8080/"
        },
        "id": "cM0tEeeCnd8K",
        "outputId": "d9fe652a-4f24-44c9-ea0a-cf4143cc8475"
      },
      "execution_count": 14,
      "outputs": [
        {
          "output_type": "stream",
          "name": "stdout",
          "text": [
            "\n",
            "🤖 STEP 8: Training Final Model with k=3...\n",
            "✅ Final KNN model trained with k=3\n"
          ]
        }
      ]
    },
    {
      "cell_type": "code",
      "source": [
        "\n",
        "# =============================================================================\n",
        "# STEP 9: CROSS-VALIDATION ANALYSIS\n",
        "# =============================================================================\n",
        "print(\"\\n🔄 STEP 9: Performing Cross-Validation Analysis...\")\n",
        "\n",
        "# Perform 5-fold cross-validation\n",
        "cv_scores = cross_val_score(final_knn_model, X_train_scaled, y_train_encoded,\n",
        "                           cv=5, scoring='accuracy')\n",
        "\n",
        "print(f\"📊 5-Fold Cross-Validation Results:\")\n",
        "print(f\"   CV Scores: {[f'{score:.4f}' for score in cv_scores]}\")\n",
        "print(f\"   Mean CV Score: {cv_scores.mean():.4f} (+/- {cv_scores.std() * 2:.4f})\")\n"
      ],
      "metadata": {
        "colab": {
          "base_uri": "https://localhost:8080/"
        },
        "id": "y7LtI6BMne0H",
        "outputId": "223cccc0-c95e-451e-cc98-0fad7585f5c9"
      },
      "execution_count": 15,
      "outputs": [
        {
          "output_type": "stream",
          "name": "stdout",
          "text": [
            "\n",
            "🔄 STEP 9: Performing Cross-Validation Analysis...\n",
            "📊 5-Fold Cross-Validation Results:\n",
            "   CV Scores: ['0.8771', '0.8859', '0.8947', '0.8756', '0.9036']\n",
            "   Mean CV Score: 0.8874 (+/- 0.0212)\n"
          ]
        }
      ]
    },
    {
      "cell_type": "code",
      "source": [
        "\n",
        "# =============================================================================\n",
        "# STEP 10: DEFINE EVALUATION FUNCTIONS\n",
        "# =============================================================================\n",
        "print(\"\\n📏 STEP 10: Defining Evaluation Functions...\")\n",
        "\n",
        "def evaluate_model(model, X, y, dataset_name):\n",
        "    \"\"\"Comprehensive model evaluation\"\"\"\n",
        "    predictions = model.predict(X)\n",
        "    pred_proba = model.predict_proba(X)\n",
        "\n",
        "    # Calculate all metrics\n",
        "    accuracy = accuracy_score(y, predictions)\n",
        "    precision_macro = precision_score(y, predictions, average='macro', zero_division=0)\n",
        "    recall_macro = recall_score(y, predictions, average='macro', zero_division=0)\n",
        "    f1_macro = f1_score(y, predictions, average='macro', zero_division=0)\n",
        "\n",
        "    precision_weighted = precision_score(y, predictions, average='weighted', zero_division=0)\n",
        "    recall_weighted = recall_score(y, predictions, average='weighted', zero_division=0)\n",
        "    f1_weighted = f1_score(y, predictions, average='weighted', zero_division=0)\n",
        "\n",
        "    # Calculate loss\n",
        "    loss = calculate_loss(y, pred_proba)\n",
        "\n",
        "    results = {\n",
        "        'Dataset': dataset_name,\n",
        "        'Accuracy': accuracy,\n",
        "        'Precision (Macro)': precision_macro,\n",
        "        'Recall (Macro)': recall_macro,\n",
        "        'F1 Score (Macro)': f1_macro,\n",
        "        'Precision (Weighted)': precision_weighted,\n",
        "        'Recall (Weighted)': recall_weighted,\n",
        "        'F1 Score (Weighted)': f1_weighted,\n",
        "        'Loss': loss\n",
        "    }\n",
        "\n",
        "    return results, predictions\n",
        "\n",
        "def plot_confusion_matrix(y_true, y_pred, dataset_name, label_encoder):\n",
        "    \"\"\"Plot enhanced confusion matrix\"\"\"\n",
        "    plt.figure(figsize=(6, 4))\n",
        "    cm = confusion_matrix(y_true, y_pred)\n",
        "    labels = label_encoder.classes_\n",
        "\n",
        "    sns.heatmap(cm, annot=True, fmt='d', cmap='Blues', cbar_kws={'shrink': 0.8},\n",
        "               xticklabels=labels, yticklabels=labels, square=True,\n",
        "               linewidths=0.5, annot_kws={'size': 12})\n",
        "\n",
        "    plt.title(f'Confusion Matrix - {dataset_name}', fontsize=16, fontweight='bold', pad=20)\n",
        "    plt.xlabel('Predicted', fontsize=14)\n",
        "    plt.ylabel('Actual', fontsize=14)\n",
        "    plt.xticks(fontsize=12)\n",
        "    plt.yticks(fontsize=12, rotation=0)\n",
        "    plt.tight_layout()\n",
        "    plt.show()\n",
        "\n",
        "    # Print statistics\n",
        "    total_samples = np.sum(cm)\n",
        "    correct_predictions = np.trace(cm)\n",
        "    print(f\"\\n📊 Confusion Matrix Statistics - {dataset_name}:\")\n",
        "    print(f\"   Total Samples: {total_samples}\")\n",
        "    print(f\"   Correct Predictions: {correct_predictions}\")\n",
        "    print(f\"   Accuracy: {correct_predictions/total_samples:.4f}\")\n",
        "\n",
        "print(\"✅ Evaluation functions defined!\")\n"
      ],
      "metadata": {
        "colab": {
          "base_uri": "https://localhost:8080/"
        },
        "id": "GOnAMtGinkRC",
        "outputId": "fde7473a-38aa-4909-e880-c8391e87a530"
      },
      "execution_count": 16,
      "outputs": [
        {
          "output_type": "stream",
          "name": "stdout",
          "text": [
            "\n",
            "📏 STEP 10: Defining Evaluation Functions...\n",
            "✅ Evaluation functions defined!\n"
          ]
        }
      ]
    },
    {
      "cell_type": "code",
      "source": [
        "\n",
        "# =============================================================================\n",
        "# STEP 11: VALIDATION SET EVALUATION\n",
        "# =============================================================================\n",
        "print(\"\\n🔍 STEP 11: Evaluating on Validation Set...\")\n",
        "print(\"=\" * 60)\n",
        "\n",
        "val_results, val_predictions = evaluate_model(final_knn_model, X_val_scaled, y_val_encoded, \"Validation\")\n",
        "\n",
        "print(\"VALIDATION SET METRICS:\")\n",
        "for metric, value in val_results.items():\n",
        "    if metric != 'Dataset':\n",
        "        print(f\"   {metric}: {value:.4f}\")\n",
        "\n",
        "# Classification report\n",
        "labels = label_encoder.classes_\n",
        "val_report = classification_report(y_val_encoded, val_predictions, target_names=labels)\n",
        "print(f\"\\n📋 Detailed Classification Report - Validation:\")\n",
        "print(val_report)\n",
        "\n",
        "# Confusion matrix\n",
        "plot_confusion_matrix(y_val_encoded, val_predictions, \"Validation Set\", label_encoder)\n"
      ],
      "metadata": {
        "colab": {
          "base_uri": "https://localhost:8080/",
          "height": 910
        },
        "id": "N9oazVwsnmgJ",
        "outputId": "6fb457b9-2ed4-494a-e144-70ede4e97bcf"
      },
      "execution_count": 17,
      "outputs": [
        {
          "output_type": "stream",
          "name": "stdout",
          "text": [
            "\n",
            "🔍 STEP 11: Evaluating on Validation Set...\n",
            "============================================================\n",
            "VALIDATION SET METRICS:\n",
            "   Accuracy: 0.8852\n",
            "   Precision (Macro): 0.8855\n",
            "   Recall (Macro): 0.8860\n",
            "   F1 Score (Macro): 0.8856\n",
            "   Precision (Weighted): 0.8852\n",
            "   Recall (Weighted): 0.8852\n",
            "   F1 Score (Weighted): 0.8851\n",
            "   Loss: 1.2918\n",
            "\n",
            "📋 Detailed Classification Report - Validation:\n",
            "              precision    recall  f1-score   support\n",
            "\n",
            "        high       0.87      0.90      0.88       273\n",
            "         low       0.94      0.93      0.94       281\n",
            "      medium       0.85      0.83      0.84       291\n",
            "\n",
            "    accuracy                           0.89       845\n",
            "   macro avg       0.89      0.89      0.89       845\n",
            "weighted avg       0.89      0.89      0.89       845\n",
            "\n"
          ]
        },
        {
          "output_type": "display_data",
          "data": {
            "text/plain": [
              "<Figure size 600x400 with 2 Axes>"
            ],
            "image/png": "[encoded data removed]"
          },
          "metadata": {}
        },
        {
          "output_type": "stream",
          "name": "stdout",
          "text": [
            "\n",
            "📊 Confusion Matrix Statistics - Validation Set:\n",
            "   Total Samples: 845\n",
            "   Correct Predictions: 748\n",
            "   Accuracy: 0.8852\n"
          ]
        }
      ]
    },
    {
      "cell_type": "code",
      "source": [
        "\n",
        "# =============================================================================\n",
        "# STEP 12: TEST SET EVALUATION\n",
        "# =============================================================================\n",
        "print(\"\\n🎯 STEP 12: Evaluating on Test Set...\")\n",
        "print(\"=\" * 60)\n",
        "\n",
        "test_results, test_predictions = evaluate_model(final_knn_model, X_test_scaled, y_test_encoded, \"Test\")\n",
        "\n",
        "print(\"TEST SET METRICS:\")\n",
        "for metric, value in test_results.items():\n",
        "    if metric != 'Dataset':\n",
        "        print(f\"   {metric}: {value:.4f}\")\n",
        "\n",
        "# Classification report\n",
        "test_report = classification_report(y_test_encoded, test_predictions, target_names=labels)\n",
        "print(f\"\\n📋 Detailed Classification Report - Test:\")\n",
        "print(test_report)\n",
        "\n",
        "# Confusion matrix\n",
        "plot_confusion_matrix(y_test_encoded, test_predictions, \"Test Set\", label_encoder)\n"
      ],
      "metadata": {
        "colab": {
          "base_uri": "https://localhost:8080/",
          "height": 910
        },
        "id": "DRDCNdPLnoVM",
        "outputId": "68d6fcdf-e249-4931-ee37-3776a88d54c3"
      },
      "execution_count": 18,
      "outputs": [
        {
          "output_type": "stream",
          "name": "stdout",
          "text": [
            "\n",
            "🎯 STEP 12: Evaluating on Test Set...\n",
            "============================================================\n",
            "TEST SET METRICS:\n",
            "   Accuracy: 0.8970\n",
            "   Precision (Macro): 0.8973\n",
            "   Recall (Macro): 0.8960\n",
            "   F1 Score (Macro): 0.8964\n",
            "   Precision (Weighted): 0.8977\n",
            "   Recall (Weighted): 0.8970\n",
            "   F1 Score (Weighted): 0.8971\n",
            "   Loss: 0.8800\n",
            "\n",
            "📋 Detailed Classification Report - Test:\n",
            "              precision    recall  f1-score   support\n",
            "\n",
            "        high       0.89      0.93      0.91       293\n",
            "         low       0.95      0.92      0.93       280\n",
            "      medium       0.85      0.84      0.85       272\n",
            "\n",
            "    accuracy                           0.90       845\n",
            "   macro avg       0.90      0.90      0.90       845\n",
            "weighted avg       0.90      0.90      0.90       845\n",
            "\n"
          ]
        },
        {
          "output_type": "display_data",
          "data": {
            "text/plain": [
              "<Figure size 600x400 with 2 Axes>"
            ],
            "image/png": "[encoded data removed]"
          },
          "metadata": {}
        },
        {
          "output_type": "stream",
          "name": "stdout",
          "text": [
            "\n",
            "📊 Confusion Matrix Statistics - Test Set:\n",
            "   Total Samples: 845\n",
            "   Correct Predictions: 758\n",
            "   Accuracy: 0.8970\n"
          ]
        }
      ]
    },
    {
      "cell_type": "code",
      "source": [
        "\n",
        "# =============================================================================\n",
        "# STEP 13: FINAL RESULTS SUMMARY\n",
        "# =============================================================================\n",
        "print(\"\\n📊 STEP 13: Final Results Summary...\")\n",
        "print(\"=\" * 80)\n",
        "\n",
        "# Create summary table\n",
        "results_df = pd.DataFrame([val_results, test_results])\n",
        "print(\"COMPREHENSIVE RESULTS COMPARISON:\")\n",
        "print(results_df.round(4).to_string(index=False))\n",
        "\n",
        "# Key metrics highlight\n",
        "print(f\"\\n🎯 KEY PERFORMANCE INDICATORS:\")\n",
        "print(f\"   Optimal k value: {best_k}\")\n",
        "print(f\"   Cross-validation score: {cv_scores.mean():.4f} (+/- {cv_scores.std() * 2:.4f})\")\n",
        "print(f\"   Validation Accuracy: {val_results['Accuracy']:.4f}\")\n",
        "print(f\"   Test Accuracy: {test_results['Accuracy']:.4f}\")\n",
        "print(f\"   Validation Macro F1 Score: {val_results['F1 Score (Macro)']:.4f}\")\n",
        "print(f\"   Test Macro F1 Score: {test_results['F1 Score (Macro)']:.4f}\")\n",
        "\n",
        "# Model performance analysis\n",
        "print(f\"\\n📈 PERFORMANCE ANALYSIS:\")\n",
        "accuracy_drop = val_results['Accuracy'] - test_results['Accuracy']\n",
        "f1_drop = val_results['F1 Score (Macro)'] - test_results['F1 Score (Macro)']\n",
        "\n",
        "print(f\"   Accuracy drop from validation to test: {accuracy_drop:.4f}\")\n",
        "print(f\"   F1 score drop from validation to test: {f1_drop:.4f}\")\n",
        "\n",
        "if accuracy_drop > 0.05:\n",
        "    print(\"   ⚠️  Possible overfitting detected (accuracy drop > 5%)\")\n",
        "else:\n",
        "    print(\"   ✅ Good generalization (accuracy drop < 5%)\")\n"
      ],
      "metadata": {
        "colab": {
          "base_uri": "https://localhost:8080/"
        },
        "id": "RAK5IUv1nqVR",
        "outputId": "9fd44d24-ccc4-4b86-acc7-9a2dceed528d"
      },
      "execution_count": 19,
      "outputs": [
        {
          "output_type": "stream",
          "name": "stdout",
          "text": [
            "\n",
            "📊 STEP 13: Final Results Summary...\n",
            "================================================================================\n",
            "COMPREHENSIVE RESULTS COMPARISON:\n",
            "   Dataset  Accuracy  Precision (Macro)  Recall (Macro)  F1 Score (Macro)  Precision (Weighted)  Recall (Weighted)  F1 Score (Weighted)   Loss\n",
            "Validation    0.8852             0.8855           0.886            0.8856                0.8852             0.8852               0.8851 1.2918\n",
            "      Test    0.8970             0.8973           0.896            0.8964                0.8977             0.8970               0.8971 0.8800\n",
            "\n",
            "🎯 KEY PERFORMANCE INDICATORS:\n",
            "   Optimal k value: 3\n",
            "   Cross-validation score: 0.8874 (+/- 0.0212)\n",
            "   Validation Accuracy: 0.8852\n",
            "   Test Accuracy: 0.8970\n",
            "   Validation Macro F1 Score: 0.8856\n",
            "   Test Macro F1 Score: 0.8964\n",
            "\n",
            "📈 PERFORMANCE ANALYSIS:\n",
            "   Accuracy drop from validation to test: -0.0118\n",
            "   F1 score drop from validation to test: -0.0108\n",
            "   ✅ Good generalization (accuracy drop < 5%)\n"
          ]
        }
      ]
    },
    {
      "cell_type": "code",
      "execution_count": 20,
      "metadata": {
        "colab": {
          "base_uri": "https://localhost:8080/"
        },
        "id": "dqViQBZDelcW",
        "outputId": "4653d882-8540-451b-c0e2-a2435b32e009"
      },
      "outputs": [
        {
          "output_type": "stream",
          "name": "stdout",
          "text": [
            "\n",
            "💾 STEP 14: Model Information Summary...\n",
            "📋 MODEL SUMMARY:\n",
            "   Model Type: K-Nearest Neighbors (KNN)\n",
            "   Optimal Number of Neighbors: 3\n",
            "   Number of Features: 83\n",
            "   Number of Classes: 3\n",
            "   Classes: ['high', 'low', 'medium']\n",
            "   Cross-Validation Score: 0.8874 (+/- 0.0212)\n",
            "   Best Validation Accuracy: 0.8852071005917159\n",
            "   Final Test Accuracy: 0.8970414201183432\n",
            "   Final Test Macro F1: 0.8964353872335443\n",
            "\n",
            "✨ All steps completed successfully! ✨\n",
            "📊 Check the generated plots above for visual analysis.\n",
            "🎯 Your model achieved 89.7% accuracy on the test set!\n",
            "🔍 The optimal k value found through validation is: 3\n",
            "\n",
            "🔬 BONUS: Feature Analysis...\n",
            "Note: KNN doesn't provide feature importance directly, but we can analyze feature correlations.\n",
            "📊 Top 10 Features by Correlation with Production:\n",
            "    1. Area (Acres): 0.9681\n",
            "    2. Crop_Onion: 0.2830\n",
            "    3. District_Pabna: 0.2397\n",
            "    4. District_Faridpur: 0.1481\n",
            "    5. District_Rajshahi: 0.1470\n",
            "    6. District_Rajbari: 0.1265\n",
            "    7. Temperature at 2 Meters Range (C): 0.1069\n",
            "    8. Precipitation Corrected (mm): 0.0980\n",
            "    9. relative_humidity_2m(%): 0.0909\n",
            "   10. Crop_Laushak: 0.0868\n",
            "\n",
            "🎉 KNN AGRICULTURAL PRODUCTION CLASSIFIER ANALYSIS COMPLETED! 🎉\n"
          ]
        }
      ],
      "source": [
        "\n",
        "# =============================================================================\n",
        "# STEP 14: MODEL INFORMATION SUMMARY\n",
        "# =============================================================================\n",
        "print(f\"\\n💾 STEP 14: Model Information Summary...\")\n",
        "\n",
        "model_info = {\n",
        "    'Model Type': 'K-Nearest Neighbors (KNN)',\n",
        "    'Optimal Number of Neighbors': best_k,\n",
        "    'Number of Features': len(feature_columns),\n",
        "    'Number of Classes': len(label_encoder.classes_),\n",
        "    'Classes': list(label_encoder.classes_),\n",
        "    'Cross-Validation Score': f\"{cv_scores.mean():.4f} (+/- {cv_scores.std() * 2:.4f})\",\n",
        "    'Best Validation Accuracy': val_results['Accuracy'],\n",
        "    'Final Test Accuracy': test_results['Accuracy'],\n",
        "    'Final Test Macro F1': test_results['F1 Score (Macro)']\n",
        "}\n",
        "\n",
        "print(\"📋 MODEL SUMMARY:\")\n",
        "for key, value in model_info.items():\n",
        "    print(f\"   {key}: {value}\")\n",
        "\n",
        "print(f\"\\n✨ All steps completed successfully! ✨\")\n",
        "print(f\"📊 Check the generated plots above for visual analysis.\")\n",
        "print(f\"🎯 Your model achieved {test_results['Accuracy']:.1%} accuracy on the test set!\")\n",
        "print(f\"🔍 The optimal k value found through validation is: {best_k}\")\n",
        "\n",
        "# =============================================================================\n",
        "# ADDITIONAL: FEATURE IMPORTANCE ANALYSIS (Optional)\n",
        "# =============================================================================\n",
        "print(f\"\\n🔬 BONUS: Feature Analysis...\")\n",
        "print(\"Note: KNN doesn't provide feature importance directly, but we can analyze feature correlations.\")\n",
        "\n",
        "# Calculate correlation with target (using original production values)\n",
        "feature_importance = []\n",
        "for feature in feature_columns:\n",
        "    correlation = abs(train_df[feature].corr(train_df['Production (M.Ton)']))\n",
        "    feature_importance.append((feature, correlation))\n",
        "\n",
        "# Sort by correlation\n",
        "feature_importance.sort(key=lambda x: x[1], reverse=True)\n",
        "\n",
        "print(\"📊 Top 10 Features by Correlation with Production:\")\n",
        "for i, (feature, corr) in enumerate(feature_importance[:10], 1):\n",
        "    print(f\"   {i:2d}. {feature}: {corr:.4f}\")\n",
        "\n",
        "print(f\"\\n🎉 KNN AGRICULTURAL PRODUCTION CLASSIFIER ANALYSIS COMPLETED! 🎉\")"
      ]
    }
  ]
}