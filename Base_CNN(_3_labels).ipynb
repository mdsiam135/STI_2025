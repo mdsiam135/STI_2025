{
  "nbformat": 4,
  "nbformat_minor": 0,
  "metadata": {
    "colab": {
      "provenance": [],
      "mount_file_id": "1hrXCzQlQkdTSovD1PnlOYuZ41e3jFH-N",
      "authorship_tag": "ABX9TyMdf028EL6EGnZIDqAKh5Fo",
      "include_colab_link": true
    },
    "kernelspec": {
      "name": "python3",
      "display_name": "Python 3"
    },
    "language_info": {
      "name": "python"
    }
  },
  "cells": [
    {
      "cell_type": "markdown",
      "metadata": {
        "id": "view-in-github",
        "colab_type": "text"
      },
      "source": [
        "<a href=\"https://colab.research.google.com/github/mdsiam135/STI_2025/blob/main/Base_CNN(_3_labels).ipynb\" target=\"_parent\"><img src=\"https://colab.research.google.com/assets/colab-badge.svg\" alt=\"Open In Colab\"/></a>"
      ]
    },
    {
      "cell_type": "code",
      "source": [
        "# =====================================================================\n",
        "# STEP 1: IMPORT LIBRARIES AND SETUP\n",
        "# =====================================================================\n",
        "\n",
        "import pandas as pd\n",
        "import numpy as np\n",
        "import matplotlib.pyplot as plt\n",
        "import seaborn as sns\n",
        "from sklearn.preprocessing import StandardScaler, LabelEncoder\n",
        "from sklearn.metrics import (classification_report, confusion_matrix,\n",
        "                           accuracy_score, precision_score, recall_score, f1_score)\n",
        "import tensorflow as tf\n",
        "from tensorflow.keras.models import Sequential\n",
        "from tensorflow.keras.layers import Dense, Conv1D, MaxPooling1D, Flatten, Dropout, BatchNormalization\n",
        "from tensorflow.keras.optimizers import Adam\n",
        "from tensorflow.keras.callbacks import EarlyStopping, ReduceLROnPlateau\n",
        "import warnings\n",
        "warnings.filterwarnings('ignore')\n",
        "\n",
        "# Set random seeds for reproducibility\n",
        "np.random.seed(42)\n",
        "tf.random.set_seed(42)\n",
        "\n",
        "print(\"✅ Step 1: Libraries imported successfully!\")\n",
        "print(\"TensorFlow version:\", tf.__version__)\n"
      ],
      "metadata": {
        "colab": {
          "base_uri": "https://localhost:8080/"
        },
        "id": "c0GuA0zMc7xj",
        "outputId": "82fa3b7b-6a9b-4d37-e8c4-05f85850b468"
      },
      "execution_count": 49,
      "outputs": [
        {
          "output_type": "stream",
          "name": "stdout",
          "text": [
            "✅ Step 1: Libraries imported successfully!\n",
            "TensorFlow version: 2.18.0\n"
          ]
        }
      ]
    },
    {
      "cell_type": "code",
      "source": [
        "# =====================================================================\n",
        "# STEP 2: LOAD DATASETS\n",
        "# =====================================================================\n",
        "\n",
        "# Load the three CSV files\n",
        "print(\"\\n📂 Step 2: Loading datasets...\")\n",
        "\n",
        "# Update these paths to your actual file locations\n",
        "train_df = pd.read_csv(\"/content/drive/MyDrive/UpdatedDataset/train.csv\")\n",
        "val_df = pd.read_csv(\"/content/drive/MyDrive/UpdatedDataset/validation.csv\")\n",
        "test_df = pd.read_csv(\"/content/drive/MyDrive/UpdatedDataset/test.csv\")\n",
        "\n",
        "print(f\"✅ Train dataset shape: {train_df.shape}\")\n",
        "print(f\"✅ Validation dataset shape: {val_df.shape}\")\n",
        "print(f\"✅ Test dataset shape: {test_df.shape}\")\n",
        "\n",
        "# Display first few rows and basic info\n",
        "print(\"\\n📊 Dataset Info:\")\n",
        "print(\"Training data columns:\")\n",
        "print(train_df.columns.tolist())\n",
        "print(f\"\\nTarget variable stats:\")\n",
        "print(train_df['Production (M.Ton)'].describe())\n"
      ],
      "metadata": {
        "colab": {
          "base_uri": "https://localhost:8080/"
        },
        "id": "Xd-lfxrVc9Ph",
        "outputId": "34e2e43c-519f-4fe4-b692-267b83ba54f7"
      },
      "execution_count": 50,
      "outputs": [
        {
          "output_type": "stream",
          "name": "stdout",
          "text": [
            "\n",
            "📂 Step 2: Loading datasets...\n",
            "✅ Train dataset shape: (3942, 84)\n",
            "✅ Validation dataset shape: (845, 84)\n",
            "✅ Test dataset shape: (845, 84)\n",
            "\n",
            "📊 Dataset Info:\n",
            "Training data columns:\n",
            "['Production (M.Ton)', 'Area (Acres)', 'Temperature at 2 Meters Range (C)', 'Year', 'soil_temperature_0_to_7cm(C)', 'Root Zone Soil Wetness (surface to 100 cm below)', 'Surface Soil Wetness (surface to 5 cm below)', 'soil_moisture_0_to_7cm(mÂ³/mÂ³)', 'soil_moiture_7_to_28cm(mÂ³/mÂ³)', 'total_rain_mm', 'relative_humidity_2m(%)', 'Precipitation Corrected (mm)', 'Crop_Beans', 'Crop_Cabbage', 'Crop_Cauliflower', 'Crop_Garlic', 'Crop_Laushak', 'Crop_Onion', 'Crop_Radish', 'Crop_Tomato', 'District_Bagerhat', 'District_Bandarban', 'District_Barguna', 'District_Barishal', 'District_Bhola', 'District_Bogura', 'District_Brahmanbaria', 'District_Chandpur', 'District_Chapai Nawabganj', 'District_Chattogram', 'District_Chuadanga', 'District_Comilla', \"District_Cox's Bazar\", 'District_Dhaka', 'District_Dinajpur', 'District_Faridpur', 'District_Feni', 'District_Gaibandha', 'District_Gazipur', 'District_Gopalganj', 'District_Habiganj', 'District_Jamalpur', 'District_Jashore', 'District_Jhallokati', 'District_Jhenaidah', 'District_Joypurhat', 'District_Khagrachari', 'District_Khulna', 'District_Kishoreganj', 'District_Kurigram', 'District_Kushtia', 'District_Lakshmipur', 'District_Lalmonirhat', 'District_Madaripur', 'District_Magura', 'District_Manikganj', 'District_Maulvibazar', 'District_Meherpur', 'District_Munshiganj', 'District_Mymensingh', 'District_Naogaon', 'District_Narail', 'District_Narayanganj', 'District_Narsingdi', 'District_Natore', 'District_Netrakona', 'District_Nilphamari', 'District_Noakhali', 'District_Pabna', 'District_Panchagarh', 'District_Patuakhali', 'District_Pirojpur', 'District_Rajbari', 'District_Rajshahi', 'District_Rangamati', 'District_Rangpur', 'District_Satkhira', 'District_Shariatpur', 'District_Sherpur', 'District_Sirajganj', 'District_Sunamganj', 'District_Sylhet', 'District_Tangail', 'District_Thakurgaon']\n",
            "\n",
            "Target variable stats:\n",
            "count      3942.000000\n",
            "mean       7860.822712\n",
            "std       32823.837934\n",
            "min           0.000000\n",
            "25%         756.360000\n",
            "50%        2105.005000\n",
            "75%        5399.000000\n",
            "max      544979.500000\n",
            "Name: Production (M.Ton), dtype: float64\n"
          ]
        }
      ]
    },
    {
      "cell_type": "code",
      "source": [
        "# =====================================================================\n",
        "# STEP 3: CREATE PRODUCTION LABELS BASED ON QUANTILES\n",
        "# =====================================================================\n",
        "\n",
        "print(\"\\n🏷️ Step 3: Creating production labels...\")\n",
        "\n",
        "# Combine all production values to calculate consistent quantiles\n",
        "all_production = pd.concat([\n",
        "    train_df['Production (M.Ton)'],\n",
        "    val_df['Production (M.Ton)'],\n",
        "    test_df['Production (M.Ton)']\n",
        "])\n",
        "\n",
        "# Calculate quantiles (33rd and 66th percentiles)\n",
        "q33 = all_production.quantile(0.33)\n",
        "q66 = all_production.quantile(0.66)\n",
        "\n",
        "print(f\"📊 Low threshold (33rd percentile): {q33:.4f}\")\n",
        "print(f\"📊 High threshold (66th percentile): {q66:.4f}\")\n",
        "\n",
        "# Function to create labels\n",
        "def create_labels(production_series):\n",
        "    labels = []\n",
        "    for prod in production_series:\n",
        "        if prod <= q33:\n",
        "            labels.append('low')\n",
        "        elif prod <= q66:\n",
        "            labels.append('medium')\n",
        "        else:\n",
        "            labels.append('high')\n",
        "    return labels\n",
        "\n",
        "# Create labels for each dataset\n",
        "train_df['production_label'] = create_labels(train_df['Production (M.Ton)'])\n",
        "val_df['production_label'] = create_labels(val_df['Production (M.Ton)'])\n",
        "test_df['production_label'] = create_labels(test_df['Production (M.Ton)'])\n",
        "\n",
        "# Display label distribution\n",
        "print(\"\\n📈 Label distribution:\")\n",
        "print(\"Training set:\")\n",
        "print(train_df['production_label'].value_counts())\n",
        "print(\"\\nValidation set:\")\n",
        "print(val_df['production_label'].value_counts())\n",
        "print(\"\\nTest set:\")\n",
        "print(test_df['production_label'].value_counts())\n"
      ],
      "metadata": {
        "colab": {
          "base_uri": "https://localhost:8080/"
        },
        "id": "uLEUM5RmdKwK",
        "outputId": "8d86ee1d-9d4d-4c1a-c0bc-addd4f922f0a"
      },
      "execution_count": 51,
      "outputs": [
        {
          "output_type": "stream",
          "name": "stdout",
          "text": [
            "\n",
            "🏷️ Step 3: Creating production labels...\n",
            "📊 Low threshold (33rd percentile): 1075.0000\n",
            "📊 High threshold (66th percentile): 3907.3258\n",
            "\n",
            "📈 Label distribution:\n",
            "Training set:\n",
            "production_label\n",
            "high      1339\n",
            "low       1306\n",
            "medium    1297\n",
            "Name: count, dtype: int64\n",
            "\n",
            "Validation set:\n",
            "production_label\n",
            "medium    290\n",
            "low       279\n",
            "high      276\n",
            "Name: count, dtype: int64\n",
            "\n",
            "Test set:\n",
            "production_label\n",
            "high      300\n",
            "low       275\n",
            "medium    270\n",
            "Name: count, dtype: int64\n"
          ]
        }
      ]
    },
    {
      "cell_type": "code",
      "source": [
        "# =====================================================================\n",
        "# STEP 4: PREPARE FEATURES AND TARGETS\n",
        "# =====================================================================\n",
        "\n",
        "print(\"\\n🔧 Step 4: Preparing features and targets...\")\n",
        "\n",
        "# Define feature columns (excluding target and label columns)\n",
        "feature_columns = [col for col in train_df.columns\n",
        "                  if col not in ['Production (M.Ton)', 'production_label']]\n",
        "\n",
        "print(f\"✅ Number of features: {len(feature_columns)}\")\n",
        "print(\"Feature sample:\", feature_columns[:10])\n",
        "\n",
        "# Extract features\n",
        "X_train = train_df[feature_columns].values\n",
        "X_val = val_df[feature_columns].values\n",
        "X_test = test_df[feature_columns].values\n",
        "\n",
        "# Handle missing values (replace NaN with 0)\n",
        "X_train = np.nan_to_num(X_train)\n",
        "X_val = np.nan_to_num(X_val)\n",
        "X_test = np.nan_to_num(X_test)\n",
        "\n",
        "print(f\"✅ Features extracted - Train: {X_train.shape}, Val: {X_val.shape}, Test: {X_test.shape}\")\n"
      ],
      "metadata": {
        "colab": {
          "base_uri": "https://localhost:8080/"
        },
        "id": "x_R5G9crdLh8",
        "outputId": "c58a6827-a062-49fb-9930-a8fb58f2d108"
      },
      "execution_count": 52,
      "outputs": [
        {
          "output_type": "stream",
          "name": "stdout",
          "text": [
            "\n",
            "🔧 Step 4: Preparing features and targets...\n",
            "✅ Number of features: 83\n",
            "Feature sample: ['Area (Acres)', 'Temperature at 2 Meters Range (C)', 'Year', 'soil_temperature_0_to_7cm(C)', 'Root Zone Soil Wetness (surface to 100 cm below)', 'Surface Soil Wetness (surface to 5 cm below)', 'soil_moisture_0_to_7cm(mÂ³/mÂ³)', 'soil_moiture_7_to_28cm(mÂ³/mÂ³)', 'total_rain_mm', 'relative_humidity_2m(%)']\n",
            "✅ Features extracted - Train: (3942, 83), Val: (845, 83), Test: (845, 83)\n"
          ]
        }
      ]
    },
    {
      "cell_type": "code",
      "source": [
        "# =====================================================================\n",
        "# STEP 5: SCALE FEATURES\n",
        "# =====================================================================\n",
        "\n",
        "print(\"\\n⚖️ Step 5: Scaling features...\")\n",
        "\n",
        "# Initialize and fit scaler on training data\n",
        "scaler = StandardScaler()\n",
        "X_train_scaled = scaler.fit_transform(X_train)\n",
        "X_val_scaled = scaler.transform(X_val)\n",
        "X_test_scaled = scaler.transform(X_test)\n",
        "\n",
        "print(\"✅ Features scaled successfully!\")\n",
        "print(f\"Scaled train shape: {X_train_scaled.shape}\")"
      ],
      "metadata": {
        "colab": {
          "base_uri": "https://localhost:8080/"
        },
        "id": "OmjWBw_VdRTi",
        "outputId": "d101fb2a-08ec-46d5-8729-eb0915f35a76"
      },
      "execution_count": 53,
      "outputs": [
        {
          "output_type": "stream",
          "name": "stdout",
          "text": [
            "\n",
            "⚖️ Step 5: Scaling features...\n",
            "✅ Features scaled successfully!\n",
            "Scaled train shape: (3942, 83)\n"
          ]
        }
      ]
    },
    {
      "cell_type": "code",
      "source": [
        "# =====================================================================\n",
        "# STEP 6: RESHAPE DATA FOR CNN AND ENCODE LABELS\n",
        "# =====================================================================\n",
        "\n",
        "print(\"\\n🔄 Step 6: Reshaping data for CNN...\")\n",
        "\n",
        "# Reshape for CNN (add channel dimension)\n",
        "X_train_cnn = X_train_scaled.reshape(X_train_scaled.shape[0], X_train_scaled.shape[1], 1)\n",
        "X_val_cnn = X_val_scaled.reshape(X_val_scaled.shape[0], X_val_scaled.shape[1], 1)\n",
        "X_test_cnn = X_test_scaled.reshape(X_test_scaled.shape[0], X_test_scaled.shape[1], 1)\n",
        "\n",
        "# Encode labels\n",
        "label_encoder = LabelEncoder()\n",
        "all_labels = np.concatenate([\n",
        "    train_df['production_label'].values,\n",
        "    val_df['production_label'].values,\n",
        "    test_df['production_label'].values\n",
        "])\n",
        "label_encoder.fit(all_labels)\n",
        "\n",
        "y_train = label_encoder.transform(train_df['production_label'].values)\n",
        "y_val = label_encoder.transform(val_df['production_label'].values)\n",
        "y_test = label_encoder.transform(test_df['production_label'].values)\n",
        "\n",
        "# Convert to categorical (one-hot encoding)\n",
        "y_train_cat = tf.keras.utils.to_categorical(y_train, num_classes=3)\n",
        "y_val_cat = tf.keras.utils.to_categorical(y_val, num_classes=3)\n",
        "y_test_cat = tf.keras.utils.to_categorical(y_test, num_classes=3)\n",
        "\n",
        "print(f\"✅ Data reshaped - CNN input shape: {X_train_cnn.shape}\")\n",
        "print(f\"✅ Labels encoded - shape: {y_train_cat.shape}\")\n",
        "print(f\"Label classes: {label_encoder.classes_}\")\n"
      ],
      "metadata": {
        "colab": {
          "base_uri": "https://localhost:8080/"
        },
        "id": "UjlLeJl_dR-p",
        "outputId": "2a9c8d51-8818-4fa0-b94b-4ad5e2fa02ef"
      },
      "execution_count": 54,
      "outputs": [
        {
          "output_type": "stream",
          "name": "stdout",
          "text": [
            "\n",
            "🔄 Step 6: Reshaping data for CNN...\n",
            "✅ Data reshaped - CNN input shape: (3942, 83, 1)\n",
            "✅ Labels encoded - shape: (3942, 3)\n",
            "Label classes: ['high' 'low' 'medium']\n"
          ]
        }
      ]
    },
    {
      "cell_type": "code",
      "source": [
        "# =====================================================================\n",
        "# STEP 7: BUILD CNN MODEL\n",
        "# =====================================================================\n",
        "\n",
        "print(\"\\n🏗️ Step 7: Building CNN model...\")\n",
        "\n",
        "# Define input shape\n",
        "input_shape = (X_train_cnn.shape[1], 1)  # (features, channels)\n",
        "\n",
        "# Build CNN model\n",
        "model = Sequential([\n",
        "    # First Conv1D block\n",
        "    Conv1D(filters=64, kernel_size=3, activation='relu', input_shape=input_shape),\n",
        "    BatchNormalization(),\n",
        "    MaxPooling1D(pool_size=2),\n",
        "    Dropout(0.3),\n",
        "\n",
        "    # Second Conv1D block\n",
        "    Conv1D(filters=128, kernel_size=3, activation='relu'),\n",
        "    BatchNormalization(),\n",
        "    MaxPooling1D(pool_size=2),\n",
        "    Dropout(0.3),\n",
        "\n",
        "    # Third Conv1D block\n",
        "    Conv1D(filters=256, kernel_size=3, activation='relu'),\n",
        "    BatchNormalization(),\n",
        "    MaxPooling1D(pool_size=2),\n",
        "    Dropout(0.4),\n",
        "\n",
        "    # Flatten and Dense layers\n",
        "    Flatten(),\n",
        "    Dense(512, activation='relu'),\n",
        "    BatchNormalization(),\n",
        "    Dropout(0.5),\n",
        "\n",
        "    Dense(256, activation='relu'),\n",
        "    BatchNormalization(),\n",
        "    Dropout(0.5),\n",
        "\n",
        "    Dense(128, activation='relu'),\n",
        "    Dropout(0.3),\n",
        "\n",
        "    # Output layer (3 classes: low, medium, high)\n",
        "    Dense(3, activation='softmax')\n",
        "])\n",
        "\n",
        "# Compile model\n",
        "model.compile(\n",
        "    optimizer=Adam(learning_rate=0.001),\n",
        "    loss='categorical_crossentropy',\n",
        "    metrics=['accuracy']\n",
        ")\n",
        "\n",
        "print(\"✅ CNN model built successfully!\")\n",
        "print(\"\\n📋 Model Architecture:\")\n",
        "model.summary()"
      ],
      "metadata": {
        "colab": {
          "base_uri": "https://localhost:8080/",
          "height": 1000
        },
        "id": "ac-VTDQidZl6",
        "outputId": "d7c22031-f7b8-4d74-c27b-2d141c49ebec"
      },
      "execution_count": 55,
      "outputs": [
        {
          "output_type": "stream",
          "name": "stdout",
          "text": [
            "\n",
            "🏗️ Step 7: Building CNN model...\n",
            "✅ CNN model built successfully!\n",
            "\n",
            "📋 Model Architecture:\n"
          ]
        },
        {
          "output_type": "display_data",
          "data": {
            "text/plain": [
              "\u001b[1mModel: \"sequential_3\"\u001b[0m\n"
            ],
            "text/html": [
              "<pre style=\"white-space:pre;overflow-x:auto;line-height:normal;font-family:Menlo,'DejaVu Sans Mono',consolas,'Courier New',monospace\"><span style=\"font-weight: bold\">Model: \"sequential_3\"</span>\n",
              "</pre>\n"
            ]
          },
          "metadata": {}
        },
        {
          "output_type": "display_data",
          "data": {
            "text/plain": [
              "┏━━━━━━━━━━━━━━━━━━━━━━━━━━━━━━━━━┳━━━━━━━━━━━━━━━━━━━━━━━━┳━━━━━━━━━━━━━━━┓\n",
              "┃\u001b[1m \u001b[0m\u001b[1mLayer (type)                   \u001b[0m\u001b[1m \u001b[0m┃\u001b[1m \u001b[0m\u001b[1mOutput Shape          \u001b[0m\u001b[1m \u001b[0m┃\u001b[1m \u001b[0m\u001b[1m      Param #\u001b[0m\u001b[1m \u001b[0m┃\n",
              "┡━━━━━━━━━━━━━━━━━━━━━━━━━━━━━━━━━╇━━━━━━━━━━━━━━━━━━━━━━━━╇━━━━━━━━━━━━━━━┩\n",
              "│ conv1d_9 (\u001b[38;5;33mConv1D\u001b[0m)               │ (\u001b[38;5;45mNone\u001b[0m, \u001b[38;5;34m81\u001b[0m, \u001b[38;5;34m64\u001b[0m)         │           \u001b[38;5;34m256\u001b[0m │\n",
              "├─────────────────────────────────┼────────────────────────┼───────────────┤\n",
              "│ batch_normalization_15          │ (\u001b[38;5;45mNone\u001b[0m, \u001b[38;5;34m81\u001b[0m, \u001b[38;5;34m64\u001b[0m)         │           \u001b[38;5;34m256\u001b[0m │\n",
              "│ (\u001b[38;5;33mBatchNormalization\u001b[0m)            │                        │               │\n",
              "├─────────────────────────────────┼────────────────────────┼───────────────┤\n",
              "│ max_pooling1d_9 (\u001b[38;5;33mMaxPooling1D\u001b[0m)  │ (\u001b[38;5;45mNone\u001b[0m, \u001b[38;5;34m40\u001b[0m, \u001b[38;5;34m64\u001b[0m)         │             \u001b[38;5;34m0\u001b[0m │\n",
              "├─────────────────────────────────┼────────────────────────┼───────────────┤\n",
              "│ dropout_18 (\u001b[38;5;33mDropout\u001b[0m)            │ (\u001b[38;5;45mNone\u001b[0m, \u001b[38;5;34m40\u001b[0m, \u001b[38;5;34m64\u001b[0m)         │             \u001b[38;5;34m0\u001b[0m │\n",
              "├─────────────────────────────────┼────────────────────────┼───────────────┤\n",
              "│ conv1d_10 (\u001b[38;5;33mConv1D\u001b[0m)              │ (\u001b[38;5;45mNone\u001b[0m, \u001b[38;5;34m38\u001b[0m, \u001b[38;5;34m128\u001b[0m)        │        \u001b[38;5;34m24,704\u001b[0m │\n",
              "├─────────────────────────────────┼────────────────────────┼───────────────┤\n",
              "│ batch_normalization_16          │ (\u001b[38;5;45mNone\u001b[0m, \u001b[38;5;34m38\u001b[0m, \u001b[38;5;34m128\u001b[0m)        │           \u001b[38;5;34m512\u001b[0m │\n",
              "│ (\u001b[38;5;33mBatchNormalization\u001b[0m)            │                        │               │\n",
              "├─────────────────────────────────┼────────────────────────┼───────────────┤\n",
              "│ max_pooling1d_10 (\u001b[38;5;33mMaxPooling1D\u001b[0m) │ (\u001b[38;5;45mNone\u001b[0m, \u001b[38;5;34m19\u001b[0m, \u001b[38;5;34m128\u001b[0m)        │             \u001b[38;5;34m0\u001b[0m │\n",
              "├─────────────────────────────────┼────────────────────────┼───────────────┤\n",
              "│ dropout_19 (\u001b[38;5;33mDropout\u001b[0m)            │ (\u001b[38;5;45mNone\u001b[0m, \u001b[38;5;34m19\u001b[0m, \u001b[38;5;34m128\u001b[0m)        │             \u001b[38;5;34m0\u001b[0m │\n",
              "├─────────────────────────────────┼────────────────────────┼───────────────┤\n",
              "│ conv1d_11 (\u001b[38;5;33mConv1D\u001b[0m)              │ (\u001b[38;5;45mNone\u001b[0m, \u001b[38;5;34m17\u001b[0m, \u001b[38;5;34m256\u001b[0m)        │        \u001b[38;5;34m98,560\u001b[0m │\n",
              "├─────────────────────────────────┼────────────────────────┼───────────────┤\n",
              "│ batch_normalization_17          │ (\u001b[38;5;45mNone\u001b[0m, \u001b[38;5;34m17\u001b[0m, \u001b[38;5;34m256\u001b[0m)        │         \u001b[38;5;34m1,024\u001b[0m │\n",
              "│ (\u001b[38;5;33mBatchNormalization\u001b[0m)            │                        │               │\n",
              "├─────────────────────────────────┼────────────────────────┼───────────────┤\n",
              "│ max_pooling1d_11 (\u001b[38;5;33mMaxPooling1D\u001b[0m) │ (\u001b[38;5;45mNone\u001b[0m, \u001b[38;5;34m8\u001b[0m, \u001b[38;5;34m256\u001b[0m)         │             \u001b[38;5;34m0\u001b[0m │\n",
              "├─────────────────────────────────┼────────────────────────┼───────────────┤\n",
              "│ dropout_20 (\u001b[38;5;33mDropout\u001b[0m)            │ (\u001b[38;5;45mNone\u001b[0m, \u001b[38;5;34m8\u001b[0m, \u001b[38;5;34m256\u001b[0m)         │             \u001b[38;5;34m0\u001b[0m │\n",
              "├─────────────────────────────────┼────────────────────────┼───────────────┤\n",
              "│ flatten_3 (\u001b[38;5;33mFlatten\u001b[0m)             │ (\u001b[38;5;45mNone\u001b[0m, \u001b[38;5;34m2048\u001b[0m)           │             \u001b[38;5;34m0\u001b[0m │\n",
              "├─────────────────────────────────┼────────────────────────┼───────────────┤\n",
              "│ dense_12 (\u001b[38;5;33mDense\u001b[0m)                │ (\u001b[38;5;45mNone\u001b[0m, \u001b[38;5;34m512\u001b[0m)            │     \u001b[38;5;34m1,049,088\u001b[0m │\n",
              "├─────────────────────────────────┼────────────────────────┼───────────────┤\n",
              "│ batch_normalization_18          │ (\u001b[38;5;45mNone\u001b[0m, \u001b[38;5;34m512\u001b[0m)            │         \u001b[38;5;34m2,048\u001b[0m │\n",
              "│ (\u001b[38;5;33mBatchNormalization\u001b[0m)            │                        │               │\n",
              "├─────────────────────────────────┼────────────────────────┼───────────────┤\n",
              "│ dropout_21 (\u001b[38;5;33mDropout\u001b[0m)            │ (\u001b[38;5;45mNone\u001b[0m, \u001b[38;5;34m512\u001b[0m)            │             \u001b[38;5;34m0\u001b[0m │\n",
              "├─────────────────────────────────┼────────────────────────┼───────────────┤\n",
              "│ dense_13 (\u001b[38;5;33mDense\u001b[0m)                │ (\u001b[38;5;45mNone\u001b[0m, \u001b[38;5;34m256\u001b[0m)            │       \u001b[38;5;34m131,328\u001b[0m │\n",
              "├─────────────────────────────────┼────────────────────────┼───────────────┤\n",
              "│ batch_normalization_19          │ (\u001b[38;5;45mNone\u001b[0m, \u001b[38;5;34m256\u001b[0m)            │         \u001b[38;5;34m1,024\u001b[0m │\n",
              "│ (\u001b[38;5;33mBatchNormalization\u001b[0m)            │                        │               │\n",
              "├─────────────────────────────────┼────────────────────────┼───────────────┤\n",
              "│ dropout_22 (\u001b[38;5;33mDropout\u001b[0m)            │ (\u001b[38;5;45mNone\u001b[0m, \u001b[38;5;34m256\u001b[0m)            │             \u001b[38;5;34m0\u001b[0m │\n",
              "├─────────────────────────────────┼────────────────────────┼───────────────┤\n",
              "│ dense_14 (\u001b[38;5;33mDense\u001b[0m)                │ (\u001b[38;5;45mNone\u001b[0m, \u001b[38;5;34m128\u001b[0m)            │        \u001b[38;5;34m32,896\u001b[0m │\n",
              "├─────────────────────────────────┼────────────────────────┼───────────────┤\n",
              "│ dropout_23 (\u001b[38;5;33mDropout\u001b[0m)            │ (\u001b[38;5;45mNone\u001b[0m, \u001b[38;5;34m128\u001b[0m)            │             \u001b[38;5;34m0\u001b[0m │\n",
              "├─────────────────────────────────┼────────────────────────┼───────────────┤\n",
              "│ dense_15 (\u001b[38;5;33mDense\u001b[0m)                │ (\u001b[38;5;45mNone\u001b[0m, \u001b[38;5;34m3\u001b[0m)              │           \u001b[38;5;34m387\u001b[0m │\n",
              "└─────────────────────────────────┴────────────────────────┴───────────────┘\n"
            ],
            "text/html": [
              "<pre style=\"white-space:pre;overflow-x:auto;line-height:normal;font-family:Menlo,'DejaVu Sans Mono',consolas,'Courier New',monospace\">┏━━━━━━━━━━━━━━━━━━━━━━━━━━━━━━━━━┳━━━━━━━━━━━━━━━━━━━━━━━━┳━━━━━━━━━━━━━━━┓\n",
              "┃<span style=\"font-weight: bold\"> Layer (type)                    </span>┃<span style=\"font-weight: bold\"> Output Shape           </span>┃<span style=\"font-weight: bold\">       Param # </span>┃\n",
              "┡━━━━━━━━━━━━━━━━━━━━━━━━━━━━━━━━━╇━━━━━━━━━━━━━━━━━━━━━━━━╇━━━━━━━━━━━━━━━┩\n",
              "│ conv1d_9 (<span style=\"color: #0087ff; text-decoration-color: #0087ff\">Conv1D</span>)               │ (<span style=\"color: #00d7ff; text-decoration-color: #00d7ff\">None</span>, <span style=\"color: #00af00; text-decoration-color: #00af00\">81</span>, <span style=\"color: #00af00; text-decoration-color: #00af00\">64</span>)         │           <span style=\"color: #00af00; text-decoration-color: #00af00\">256</span> │\n",
              "├─────────────────────────────────┼────────────────────────┼───────────────┤\n",
              "│ batch_normalization_15          │ (<span style=\"color: #00d7ff; text-decoration-color: #00d7ff\">None</span>, <span style=\"color: #00af00; text-decoration-color: #00af00\">81</span>, <span style=\"color: #00af00; text-decoration-color: #00af00\">64</span>)         │           <span style=\"color: #00af00; text-decoration-color: #00af00\">256</span> │\n",
              "│ (<span style=\"color: #0087ff; text-decoration-color: #0087ff\">BatchNormalization</span>)            │                        │               │\n",
              "├─────────────────────────────────┼────────────────────────┼───────────────┤\n",
              "│ max_pooling1d_9 (<span style=\"color: #0087ff; text-decoration-color: #0087ff\">MaxPooling1D</span>)  │ (<span style=\"color: #00d7ff; text-decoration-color: #00d7ff\">None</span>, <span style=\"color: #00af00; text-decoration-color: #00af00\">40</span>, <span style=\"color: #00af00; text-decoration-color: #00af00\">64</span>)         │             <span style=\"color: #00af00; text-decoration-color: #00af00\">0</span> │\n",
              "├─────────────────────────────────┼────────────────────────┼───────────────┤\n",
              "│ dropout_18 (<span style=\"color: #0087ff; text-decoration-color: #0087ff\">Dropout</span>)            │ (<span style=\"color: #00d7ff; text-decoration-color: #00d7ff\">None</span>, <span style=\"color: #00af00; text-decoration-color: #00af00\">40</span>, <span style=\"color: #00af00; text-decoration-color: #00af00\">64</span>)         │             <span style=\"color: #00af00; text-decoration-color: #00af00\">0</span> │\n",
              "├─────────────────────────────────┼────────────────────────┼───────────────┤\n",
              "│ conv1d_10 (<span style=\"color: #0087ff; text-decoration-color: #0087ff\">Conv1D</span>)              │ (<span style=\"color: #00d7ff; text-decoration-color: #00d7ff\">None</span>, <span style=\"color: #00af00; text-decoration-color: #00af00\">38</span>, <span style=\"color: #00af00; text-decoration-color: #00af00\">128</span>)        │        <span style=\"color: #00af00; text-decoration-color: #00af00\">24,704</span> │\n",
              "├─────────────────────────────────┼────────────────────────┼───────────────┤\n",
              "│ batch_normalization_16          │ (<span style=\"color: #00d7ff; text-decoration-color: #00d7ff\">None</span>, <span style=\"color: #00af00; text-decoration-color: #00af00\">38</span>, <span style=\"color: #00af00; text-decoration-color: #00af00\">128</span>)        │           <span style=\"color: #00af00; text-decoration-color: #00af00\">512</span> │\n",
              "│ (<span style=\"color: #0087ff; text-decoration-color: #0087ff\">BatchNormalization</span>)            │                        │               │\n",
              "├─────────────────────────────────┼────────────────────────┼───────────────┤\n",
              "│ max_pooling1d_10 (<span style=\"color: #0087ff; text-decoration-color: #0087ff\">MaxPooling1D</span>) │ (<span style=\"color: #00d7ff; text-decoration-color: #00d7ff\">None</span>, <span style=\"color: #00af00; text-decoration-color: #00af00\">19</span>, <span style=\"color: #00af00; text-decoration-color: #00af00\">128</span>)        │             <span style=\"color: #00af00; text-decoration-color: #00af00\">0</span> │\n",
              "├─────────────────────────────────┼────────────────────────┼───────────────┤\n",
              "│ dropout_19 (<span style=\"color: #0087ff; text-decoration-color: #0087ff\">Dropout</span>)            │ (<span style=\"color: #00d7ff; text-decoration-color: #00d7ff\">None</span>, <span style=\"color: #00af00; text-decoration-color: #00af00\">19</span>, <span style=\"color: #00af00; text-decoration-color: #00af00\">128</span>)        │             <span style=\"color: #00af00; text-decoration-color: #00af00\">0</span> │\n",
              "├─────────────────────────────────┼────────────────────────┼───────────────┤\n",
              "│ conv1d_11 (<span style=\"color: #0087ff; text-decoration-color: #0087ff\">Conv1D</span>)              │ (<span style=\"color: #00d7ff; text-decoration-color: #00d7ff\">None</span>, <span style=\"color: #00af00; text-decoration-color: #00af00\">17</span>, <span style=\"color: #00af00; text-decoration-color: #00af00\">256</span>)        │        <span style=\"color: #00af00; text-decoration-color: #00af00\">98,560</span> │\n",
              "├─────────────────────────────────┼────────────────────────┼───────────────┤\n",
              "│ batch_normalization_17          │ (<span style=\"color: #00d7ff; text-decoration-color: #00d7ff\">None</span>, <span style=\"color: #00af00; text-decoration-color: #00af00\">17</span>, <span style=\"color: #00af00; text-decoration-color: #00af00\">256</span>)        │         <span style=\"color: #00af00; text-decoration-color: #00af00\">1,024</span> │\n",
              "│ (<span style=\"color: #0087ff; text-decoration-color: #0087ff\">BatchNormalization</span>)            │                        │               │\n",
              "├─────────────────────────────────┼────────────────────────┼───────────────┤\n",
              "│ max_pooling1d_11 (<span style=\"color: #0087ff; text-decoration-color: #0087ff\">MaxPooling1D</span>) │ (<span style=\"color: #00d7ff; text-decoration-color: #00d7ff\">None</span>, <span style=\"color: #00af00; text-decoration-color: #00af00\">8</span>, <span style=\"color: #00af00; text-decoration-color: #00af00\">256</span>)         │             <span style=\"color: #00af00; text-decoration-color: #00af00\">0</span> │\n",
              "├─────────────────────────────────┼────────────────────────┼───────────────┤\n",
              "│ dropout_20 (<span style=\"color: #0087ff; text-decoration-color: #0087ff\">Dropout</span>)            │ (<span style=\"color: #00d7ff; text-decoration-color: #00d7ff\">None</span>, <span style=\"color: #00af00; text-decoration-color: #00af00\">8</span>, <span style=\"color: #00af00; text-decoration-color: #00af00\">256</span>)         │             <span style=\"color: #00af00; text-decoration-color: #00af00\">0</span> │\n",
              "├─────────────────────────────────┼────────────────────────┼───────────────┤\n",
              "│ flatten_3 (<span style=\"color: #0087ff; text-decoration-color: #0087ff\">Flatten</span>)             │ (<span style=\"color: #00d7ff; text-decoration-color: #00d7ff\">None</span>, <span style=\"color: #00af00; text-decoration-color: #00af00\">2048</span>)           │             <span style=\"color: #00af00; text-decoration-color: #00af00\">0</span> │\n",
              "├─────────────────────────────────┼────────────────────────┼───────────────┤\n",
              "│ dense_12 (<span style=\"color: #0087ff; text-decoration-color: #0087ff\">Dense</span>)                │ (<span style=\"color: #00d7ff; text-decoration-color: #00d7ff\">None</span>, <span style=\"color: #00af00; text-decoration-color: #00af00\">512</span>)            │     <span style=\"color: #00af00; text-decoration-color: #00af00\">1,049,088</span> │\n",
              "├─────────────────────────────────┼────────────────────────┼───────────────┤\n",
              "│ batch_normalization_18          │ (<span style=\"color: #00d7ff; text-decoration-color: #00d7ff\">None</span>, <span style=\"color: #00af00; text-decoration-color: #00af00\">512</span>)            │         <span style=\"color: #00af00; text-decoration-color: #00af00\">2,048</span> │\n",
              "│ (<span style=\"color: #0087ff; text-decoration-color: #0087ff\">BatchNormalization</span>)            │                        │               │\n",
              "├─────────────────────────────────┼────────────────────────┼───────────────┤\n",
              "│ dropout_21 (<span style=\"color: #0087ff; text-decoration-color: #0087ff\">Dropout</span>)            │ (<span style=\"color: #00d7ff; text-decoration-color: #00d7ff\">None</span>, <span style=\"color: #00af00; text-decoration-color: #00af00\">512</span>)            │             <span style=\"color: #00af00; text-decoration-color: #00af00\">0</span> │\n",
              "├─────────────────────────────────┼────────────────────────┼───────────────┤\n",
              "│ dense_13 (<span style=\"color: #0087ff; text-decoration-color: #0087ff\">Dense</span>)                │ (<span style=\"color: #00d7ff; text-decoration-color: #00d7ff\">None</span>, <span style=\"color: #00af00; text-decoration-color: #00af00\">256</span>)            │       <span style=\"color: #00af00; text-decoration-color: #00af00\">131,328</span> │\n",
              "├─────────────────────────────────┼────────────────────────┼───────────────┤\n",
              "│ batch_normalization_19          │ (<span style=\"color: #00d7ff; text-decoration-color: #00d7ff\">None</span>, <span style=\"color: #00af00; text-decoration-color: #00af00\">256</span>)            │         <span style=\"color: #00af00; text-decoration-color: #00af00\">1,024</span> │\n",
              "│ (<span style=\"color: #0087ff; text-decoration-color: #0087ff\">BatchNormalization</span>)            │                        │               │\n",
              "├─────────────────────────────────┼────────────────────────┼───────────────┤\n",
              "│ dropout_22 (<span style=\"color: #0087ff; text-decoration-color: #0087ff\">Dropout</span>)            │ (<span style=\"color: #00d7ff; text-decoration-color: #00d7ff\">None</span>, <span style=\"color: #00af00; text-decoration-color: #00af00\">256</span>)            │             <span style=\"color: #00af00; text-decoration-color: #00af00\">0</span> │\n",
              "├─────────────────────────────────┼────────────────────────┼───────────────┤\n",
              "│ dense_14 (<span style=\"color: #0087ff; text-decoration-color: #0087ff\">Dense</span>)                │ (<span style=\"color: #00d7ff; text-decoration-color: #00d7ff\">None</span>, <span style=\"color: #00af00; text-decoration-color: #00af00\">128</span>)            │        <span style=\"color: #00af00; text-decoration-color: #00af00\">32,896</span> │\n",
              "├─────────────────────────────────┼────────────────────────┼───────────────┤\n",
              "│ dropout_23 (<span style=\"color: #0087ff; text-decoration-color: #0087ff\">Dropout</span>)            │ (<span style=\"color: #00d7ff; text-decoration-color: #00d7ff\">None</span>, <span style=\"color: #00af00; text-decoration-color: #00af00\">128</span>)            │             <span style=\"color: #00af00; text-decoration-color: #00af00\">0</span> │\n",
              "├─────────────────────────────────┼────────────────────────┼───────────────┤\n",
              "│ dense_15 (<span style=\"color: #0087ff; text-decoration-color: #0087ff\">Dense</span>)                │ (<span style=\"color: #00d7ff; text-decoration-color: #00d7ff\">None</span>, <span style=\"color: #00af00; text-decoration-color: #00af00\">3</span>)              │           <span style=\"color: #00af00; text-decoration-color: #00af00\">387</span> │\n",
              "└─────────────────────────────────┴────────────────────────┴───────────────┘\n",
              "</pre>\n"
            ]
          },
          "metadata": {}
        },
        {
          "output_type": "display_data",
          "data": {
            "text/plain": [
              "\u001b[1m Total params: \u001b[0m\u001b[38;5;34m1,342,083\u001b[0m (5.12 MB)\n"
            ],
            "text/html": [
              "<pre style=\"white-space:pre;overflow-x:auto;line-height:normal;font-family:Menlo,'DejaVu Sans Mono',consolas,'Courier New',monospace\"><span style=\"font-weight: bold\"> Total params: </span><span style=\"color: #00af00; text-decoration-color: #00af00\">1,342,083</span> (5.12 MB)\n",
              "</pre>\n"
            ]
          },
          "metadata": {}
        },
        {
          "output_type": "display_data",
          "data": {
            "text/plain": [
              "\u001b[1m Trainable params: \u001b[0m\u001b[38;5;34m1,339,651\u001b[0m (5.11 MB)\n"
            ],
            "text/html": [
              "<pre style=\"white-space:pre;overflow-x:auto;line-height:normal;font-family:Menlo,'DejaVu Sans Mono',consolas,'Courier New',monospace\"><span style=\"font-weight: bold\"> Trainable params: </span><span style=\"color: #00af00; text-decoration-color: #00af00\">1,339,651</span> (5.11 MB)\n",
              "</pre>\n"
            ]
          },
          "metadata": {}
        },
        {
          "output_type": "display_data",
          "data": {
            "text/plain": [
              "\u001b[1m Non-trainable params: \u001b[0m\u001b[38;5;34m2,432\u001b[0m (9.50 KB)\n"
            ],
            "text/html": [
              "<pre style=\"white-space:pre;overflow-x:auto;line-height:normal;font-family:Menlo,'DejaVu Sans Mono',consolas,'Courier New',monospace\"><span style=\"font-weight: bold\"> Non-trainable params: </span><span style=\"color: #00af00; text-decoration-color: #00af00\">2,432</span> (9.50 KB)\n",
              "</pre>\n"
            ]
          },
          "metadata": {}
        }
      ]
    },
    {
      "cell_type": "code",
      "source": [
        "\n",
        "# =====================================================================\n",
        "# STEP 8: SETUP TRAINING CALLBACKS\n",
        "# =====================================================================\n",
        "\n",
        "print(\"\\n⚙️ Step 8: Setting up training callbacks...\")\n",
        "\n",
        "# Early stopping to prevent overfitting\n",
        "early_stopping = EarlyStopping(\n",
        "    monitor='val_loss',\n",
        "    patience=15,\n",
        "    restore_best_weights=True,\n",
        "    verbose=1\n",
        ")\n",
        "\n",
        "# Reduce learning rate when stuck\n",
        "reduce_lr = ReduceLROnPlateau(\n",
        "    monitor='val_loss',\n",
        "    factor=0.5,\n",
        "    patience=8,\n",
        "    min_lr=0.00001,\n",
        "    verbose=1\n",
        ")\n",
        "\n",
        "print(\"✅ Callbacks configured:\")\n",
        "print(\"- Early stopping with patience=15\")\n",
        "print(\"- Learning rate reduction with patience=8\")"
      ],
      "metadata": {
        "colab": {
          "base_uri": "https://localhost:8080/"
        },
        "id": "oG6yeA2SdaMZ",
        "outputId": "44167296-c6c8-44a8-a9df-a6b321507469"
      },
      "execution_count": 56,
      "outputs": [
        {
          "output_type": "stream",
          "name": "stdout",
          "text": [
            "\n",
            "⚙️ Step 8: Setting up training callbacks...\n",
            "✅ Callbacks configured:\n",
            "- Early stopping with patience=15\n",
            "- Learning rate reduction with patience=8\n"
          ]
        }
      ]
    },
    {
      "cell_type": "code",
      "source": [
        "\n",
        "\n",
        "# =====================================================================\n",
        "# STEP 9: TRAIN THE MODEL\n",
        "# =====================================================================\n",
        "\n",
        "print(\"\\n🚀 Step 9: Training the model...\")\n",
        "\n",
        "# Set training parameters\n",
        "EPOCHS = 50\n",
        "BATCH_SIZE = 32\n",
        "\n",
        "print(f\"Training parameters:\")\n",
        "print(f\"- Epochs: {EPOCHS}\")\n",
        "print(f\"- Batch size: {BATCH_SIZE}\")\n",
        "print(f\"- Training samples: {len(X_train_cnn)}\")\n",
        "print(f\"- Validation samples: {len(X_val_cnn)}\")\n",
        "\n",
        "# Train the model\n",
        "history = model.fit(\n",
        "    X_train_cnn, y_train_cat,\n",
        "    validation_data=(X_val_cnn, y_val_cat),\n",
        "    epochs=EPOCHS,\n",
        "    batch_size=BATCH_SIZE,\n",
        "    callbacks=[early_stopping, reduce_lr],\n",
        "    verbose=1\n",
        ")\n",
        "\n",
        "print(\"✅ Model training completed!\")"
      ],
      "metadata": {
        "colab": {
          "base_uri": "https://localhost:8080/"
        },
        "id": "AXM56VLJdlWC",
        "outputId": "b2ba5dc0-5e48-496c-bf9a-94d9a089d2f0"
      },
      "execution_count": 57,
      "outputs": [
        {
          "output_type": "stream",
          "name": "stdout",
          "text": [
            "\n",
            "🚀 Step 9: Training the model...\n",
            "Training parameters:\n",
            "- Epochs: 50\n",
            "- Batch size: 32\n",
            "- Training samples: 3942\n",
            "- Validation samples: 845\n",
            "Epoch 1/50\n",
            "\u001b[1m124/124\u001b[0m \u001b[32m━━━━━━━━━━━━━━━━━━━━\u001b[0m\u001b[37m\u001b[0m \u001b[1m13s\u001b[0m 47ms/step - accuracy: 0.3759 - loss: 1.5882 - val_accuracy: 0.3680 - val_loss: 1.0904 - learning_rate: 0.0010\n",
            "Epoch 2/50\n",
            "\u001b[1m124/124\u001b[0m \u001b[32m━━━━━━━━━━━━━━━━━━━━\u001b[0m\u001b[37m\u001b[0m \u001b[1m7s\u001b[0m 57ms/step - accuracy: 0.4341 - loss: 1.2623 - val_accuracy: 0.4426 - val_loss: 1.0442 - learning_rate: 0.0010\n",
            "Epoch 3/50\n",
            "\u001b[1m124/124\u001b[0m \u001b[32m━━━━━━━━━━━━━━━━━━━━\u001b[0m\u001b[37m\u001b[0m \u001b[1m8s\u001b[0m 43ms/step - accuracy: 0.5122 - loss: 1.0627 - val_accuracy: 0.5858 - val_loss: 0.8692 - learning_rate: 0.0010\n",
            "Epoch 4/50\n",
            "\u001b[1m124/124\u001b[0m \u001b[32m━━━━━━━━━━━━━━━━━━━━\u001b[0m\u001b[37m\u001b[0m \u001b[1m7s\u001b[0m 55ms/step - accuracy: 0.5818 - loss: 0.9181 - val_accuracy: 0.6284 - val_loss: 0.7817 - learning_rate: 0.0010\n",
            "Epoch 5/50\n",
            "\u001b[1m124/124\u001b[0m \u001b[32m━━━━━━━━━━━━━━━━━━━━\u001b[0m\u001b[37m\u001b[0m \u001b[1m10s\u001b[0m 51ms/step - accuracy: 0.6187 - loss: 0.8451 - val_accuracy: 0.6710 - val_loss: 0.7207 - learning_rate: 0.0010\n",
            "Epoch 6/50\n",
            "\u001b[1m124/124\u001b[0m \u001b[32m━━━━━━━━━━━━━━━━━━━━\u001b[0m\u001b[37m\u001b[0m \u001b[1m9s\u001b[0m 43ms/step - accuracy: 0.6404 - loss: 0.8152 - val_accuracy: 0.6817 - val_loss: 0.6920 - learning_rate: 0.0010\n",
            "Epoch 7/50\n",
            "\u001b[1m124/124\u001b[0m \u001b[32m━━━━━━━━━━━━━━━━━━━━\u001b[0m\u001b[37m\u001b[0m \u001b[1m7s\u001b[0m 56ms/step - accuracy: 0.6535 - loss: 0.7659 - val_accuracy: 0.6994 - val_loss: 0.6471 - learning_rate: 0.0010\n",
            "Epoch 8/50\n",
            "\u001b[1m124/124\u001b[0m \u001b[32m━━━━━━━━━━━━━━━━━━━━\u001b[0m\u001b[37m\u001b[0m \u001b[1m9s\u001b[0m 43ms/step - accuracy: 0.6758 - loss: 0.6996 - val_accuracy: 0.7101 - val_loss: 0.6327 - learning_rate: 0.0010\n",
            "Epoch 9/50\n",
            "\u001b[1m124/124\u001b[0m \u001b[32m━━━━━━━━━━━━━━━━━━━━\u001b[0m\u001b[37m\u001b[0m \u001b[1m10s\u001b[0m 43ms/step - accuracy: 0.6853 - loss: 0.7104 - val_accuracy: 0.7231 - val_loss: 0.6104 - learning_rate: 0.0010\n",
            "Epoch 10/50\n",
            "\u001b[1m124/124\u001b[0m \u001b[32m━━━━━━━━━━━━━━━━━━━━\u001b[0m\u001b[37m\u001b[0m \u001b[1m7s\u001b[0m 58ms/step - accuracy: 0.6970 - loss: 0.6680 - val_accuracy: 0.7290 - val_loss: 0.5796 - learning_rate: 0.0010\n",
            "Epoch 11/50\n",
            "\u001b[1m124/124\u001b[0m \u001b[32m━━━━━━━━━━━━━━━━━━━━\u001b[0m\u001b[37m\u001b[0m \u001b[1m8s\u001b[0m 43ms/step - accuracy: 0.7286 - loss: 0.6313 - val_accuracy: 0.7467 - val_loss: 0.5637 - learning_rate: 0.0010\n",
            "Epoch 12/50\n",
            "\u001b[1m124/124\u001b[0m \u001b[32m━━━━━━━━━━━━━━━━━━━━\u001b[0m\u001b[37m\u001b[0m \u001b[1m7s\u001b[0m 57ms/step - accuracy: 0.7295 - loss: 0.6235 - val_accuracy: 0.7586 - val_loss: 0.5335 - learning_rate: 0.0010\n",
            "Epoch 13/50\n",
            "\u001b[1m124/124\u001b[0m \u001b[32m━━━━━━━━━━━━━━━━━━━━\u001b[0m\u001b[37m\u001b[0m \u001b[1m8s\u001b[0m 42ms/step - accuracy: 0.7539 - loss: 0.5786 - val_accuracy: 0.7751 - val_loss: 0.5154 - learning_rate: 0.0010\n",
            "Epoch 14/50\n",
            "\u001b[1m124/124\u001b[0m \u001b[32m━━━━━━━━━━━━━━━━━━━━\u001b[0m\u001b[37m\u001b[0m \u001b[1m10s\u001b[0m 42ms/step - accuracy: 0.7560 - loss: 0.5825 - val_accuracy: 0.7811 - val_loss: 0.5042 - learning_rate: 0.0010\n",
            "Epoch 15/50\n",
            "\u001b[1m124/124\u001b[0m \u001b[32m━━━━━━━━━━━━━━━━━━━━\u001b[0m\u001b[37m\u001b[0m \u001b[1m7s\u001b[0m 57ms/step - accuracy: 0.7472 - loss: 0.5606 - val_accuracy: 0.7929 - val_loss: 0.4849 - learning_rate: 0.0010\n",
            "Epoch 16/50\n",
            "\u001b[1m124/124\u001b[0m \u001b[32m━━━━━━━━━━━━━━━━━━━━\u001b[0m\u001b[37m\u001b[0m \u001b[1m9s\u001b[0m 43ms/step - accuracy: 0.7720 - loss: 0.5371 - val_accuracy: 0.8000 - val_loss: 0.4688 - learning_rate: 0.0010\n",
            "Epoch 17/50\n",
            "\u001b[1m124/124\u001b[0m \u001b[32m━━━━━━━━━━━━━━━━━━━━\u001b[0m\u001b[37m\u001b[0m \u001b[1m7s\u001b[0m 57ms/step - accuracy: 0.7780 - loss: 0.5384 - val_accuracy: 0.8107 - val_loss: 0.4564 - learning_rate: 0.0010\n",
            "Epoch 18/50\n",
            "\u001b[1m124/124\u001b[0m \u001b[32m━━━━━━━━━━━━━━━━━━━━\u001b[0m\u001b[37m\u001b[0m \u001b[1m9s\u001b[0m 45ms/step - accuracy: 0.7656 - loss: 0.5435 - val_accuracy: 0.8130 - val_loss: 0.4392 - learning_rate: 0.0010\n",
            "Epoch 19/50\n",
            "\u001b[1m124/124\u001b[0m \u001b[32m━━━━━━━━━━━━━━━━━━━━\u001b[0m\u001b[37m\u001b[0m \u001b[1m7s\u001b[0m 53ms/step - accuracy: 0.7813 - loss: 0.5136 - val_accuracy: 0.8178 - val_loss: 0.4295 - learning_rate: 0.0010\n",
            "Epoch 20/50\n",
            "\u001b[1m124/124\u001b[0m \u001b[32m━━━━━━━━━━━━━━━━━━━━\u001b[0m\u001b[37m\u001b[0m \u001b[1m5s\u001b[0m 42ms/step - accuracy: 0.8126 - loss: 0.4534 - val_accuracy: 0.8331 - val_loss: 0.4220 - learning_rate: 0.0010\n",
            "Epoch 21/50\n",
            "\u001b[1m124/124\u001b[0m \u001b[32m━━━━━━━━━━━━━━━━━━━━\u001b[0m\u001b[37m\u001b[0m \u001b[1m10s\u001b[0m 43ms/step - accuracy: 0.8120 - loss: 0.4588 - val_accuracy: 0.8225 - val_loss: 0.4165 - learning_rate: 0.0010\n",
            "Epoch 22/50\n",
            "\u001b[1m124/124\u001b[0m \u001b[32m━━━━━━━━━━━━━━━━━━━━\u001b[0m\u001b[37m\u001b[0m \u001b[1m11s\u001b[0m 51ms/step - accuracy: 0.8085 - loss: 0.4739 - val_accuracy: 0.8320 - val_loss: 0.4040 - learning_rate: 0.0010\n",
            "Epoch 23/50\n",
            "\u001b[1m124/124\u001b[0m \u001b[32m━━━━━━━━━━━━━━━━━━━━\u001b[0m\u001b[37m\u001b[0m \u001b[1m11s\u001b[0m 57ms/step - accuracy: 0.8115 - loss: 0.4451 - val_accuracy: 0.8402 - val_loss: 0.3969 - learning_rate: 0.0010\n",
            "Epoch 24/50\n",
            "\u001b[1m124/124\u001b[0m \u001b[32m━━━━━━━━━━━━━━━━━━━━\u001b[0m\u001b[37m\u001b[0m \u001b[1m5s\u001b[0m 43ms/step - accuracy: 0.8279 - loss: 0.4282 - val_accuracy: 0.8473 - val_loss: 0.3980 - learning_rate: 0.0010\n",
            "Epoch 25/50\n",
            "\u001b[1m124/124\u001b[0m \u001b[32m━━━━━━━━━━━━━━━━━━━━\u001b[0m\u001b[37m\u001b[0m \u001b[1m6s\u001b[0m 50ms/step - accuracy: 0.8312 - loss: 0.4165 - val_accuracy: 0.8580 - val_loss: 0.4163 - learning_rate: 0.0010\n",
            "Epoch 26/50\n",
            "\u001b[1m124/124\u001b[0m \u001b[32m━━━━━━━━━━━━━━━━━━━━\u001b[0m\u001b[37m\u001b[0m \u001b[1m9s\u001b[0m 43ms/step - accuracy: 0.8327 - loss: 0.4148 - val_accuracy: 0.8450 - val_loss: 0.4046 - learning_rate: 0.0010\n",
            "Epoch 27/50\n",
            "\u001b[1m124/124\u001b[0m \u001b[32m━━━━━━━━━━━━━━━━━━━━\u001b[0m\u001b[37m\u001b[0m \u001b[1m7s\u001b[0m 56ms/step - accuracy: 0.8437 - loss: 0.3891 - val_accuracy: 0.8462 - val_loss: 0.3955 - learning_rate: 0.0010\n",
            "Epoch 28/50\n",
            "\u001b[1m124/124\u001b[0m \u001b[32m━━━━━━━━━━━━━━━━━━━━\u001b[0m\u001b[37m\u001b[0m \u001b[1m9s\u001b[0m 43ms/step - accuracy: 0.8420 - loss: 0.3924 - val_accuracy: 0.8497 - val_loss: 0.3905 - learning_rate: 0.0010\n",
            "Epoch 29/50\n",
            "\u001b[1m124/124\u001b[0m \u001b[32m━━━━━━━━━━━━━━━━━━━━\u001b[0m\u001b[37m\u001b[0m \u001b[1m10s\u001b[0m 43ms/step - accuracy: 0.8578 - loss: 0.3631 - val_accuracy: 0.8450 - val_loss: 0.3794 - learning_rate: 0.0010\n",
            "Epoch 30/50\n",
            "\u001b[1m124/124\u001b[0m \u001b[32m━━━━━━━━━━━━━━━━━━━━\u001b[0m\u001b[37m\u001b[0m \u001b[1m7s\u001b[0m 56ms/step - accuracy: 0.8466 - loss: 0.3732 - val_accuracy: 0.8497 - val_loss: 0.3971 - learning_rate: 0.0010\n",
            "Epoch 31/50\n",
            "\u001b[1m124/124\u001b[0m \u001b[32m━━━━━━━━━━━━━━━━━━━━\u001b[0m\u001b[37m\u001b[0m \u001b[1m5s\u001b[0m 43ms/step - accuracy: 0.8491 - loss: 0.3747 - val_accuracy: 0.8497 - val_loss: 0.3754 - learning_rate: 0.0010\n",
            "Epoch 32/50\n",
            "\u001b[1m124/124\u001b[0m \u001b[32m━━━━━━━━━━━━━━━━━━━━\u001b[0m\u001b[37m\u001b[0m \u001b[1m12s\u001b[0m 54ms/step - accuracy: 0.8514 - loss: 0.3692 - val_accuracy: 0.8521 - val_loss: 0.3647 - learning_rate: 0.0010\n",
            "Epoch 33/50\n",
            "\u001b[1m124/124\u001b[0m \u001b[32m━━━━━━━━━━━━━━━━━━━━\u001b[0m\u001b[37m\u001b[0m \u001b[1m5s\u001b[0m 43ms/step - accuracy: 0.8599 - loss: 0.3367 - val_accuracy: 0.8627 - val_loss: 0.3737 - learning_rate: 0.0010\n",
            "Epoch 34/50\n",
            "\u001b[1m124/124\u001b[0m \u001b[32m━━━━━━━━━━━━━━━━━━━━\u001b[0m\u001b[37m\u001b[0m \u001b[1m10s\u001b[0m 43ms/step - accuracy: 0.8569 - loss: 0.3397 - val_accuracy: 0.8627 - val_loss: 0.3680 - learning_rate: 0.0010\n",
            "Epoch 35/50\n",
            "\u001b[1m124/124\u001b[0m \u001b[32m━━━━━━━━━━━━━━━━━━━━\u001b[0m\u001b[37m\u001b[0m \u001b[1m6s\u001b[0m 52ms/step - accuracy: 0.8644 - loss: 0.3388 - val_accuracy: 0.8592 - val_loss: 0.3735 - learning_rate: 0.0010\n",
            "Epoch 36/50\n",
            "\u001b[1m124/124\u001b[0m \u001b[32m━━━━━━━━━━━━━━━━━━━━\u001b[0m\u001b[37m\u001b[0m \u001b[1m6s\u001b[0m 47ms/step - accuracy: 0.8641 - loss: 0.3247 - val_accuracy: 0.8698 - val_loss: 0.3930 - learning_rate: 0.0010\n",
            "Epoch 37/50\n",
            "\u001b[1m124/124\u001b[0m \u001b[32m━━━━━━━━━━━━━━━━━━━━\u001b[0m\u001b[37m\u001b[0m \u001b[1m12s\u001b[0m 59ms/step - accuracy: 0.8684 - loss: 0.3295 - val_accuracy: 0.8639 - val_loss: 0.3679 - learning_rate: 0.0010\n",
            "Epoch 38/50\n",
            "\u001b[1m124/124\u001b[0m \u001b[32m━━━━━━━━━━━━━━━━━━━━\u001b[0m\u001b[37m\u001b[0m \u001b[1m5s\u001b[0m 43ms/step - accuracy: 0.8606 - loss: 0.3341 - val_accuracy: 0.8615 - val_loss: 0.3669 - learning_rate: 0.0010\n",
            "Epoch 39/50\n",
            "\u001b[1m124/124\u001b[0m \u001b[32m━━━━━━━━━━━━━━━━━━━━\u001b[0m\u001b[37m\u001b[0m \u001b[1m10s\u001b[0m 45ms/step - accuracy: 0.8733 - loss: 0.3064 - val_accuracy: 0.8604 - val_loss: 0.3702 - learning_rate: 0.0010\n",
            "Epoch 40/50\n",
            "\u001b[1m124/124\u001b[0m \u001b[32m━━━━━━━━━━━━━━━━━━━━\u001b[0m\u001b[37m\u001b[0m \u001b[1m6s\u001b[0m 48ms/step - accuracy: 0.8700 - loss: 0.3142 - val_accuracy: 0.8663 - val_loss: 0.3497 - learning_rate: 0.0010\n",
            "Epoch 41/50\n",
            "\u001b[1m124/124\u001b[0m \u001b[32m━━━━━━━━━━━━━━━━━━━━\u001b[0m\u001b[37m\u001b[0m \u001b[1m7s\u001b[0m 54ms/step - accuracy: 0.8664 - loss: 0.3084 - val_accuracy: 0.8698 - val_loss: 0.3674 - learning_rate: 0.0010\n",
            "Epoch 42/50\n",
            "\u001b[1m124/124\u001b[0m \u001b[32m━━━━━━━━━━━━━━━━━━━━\u001b[0m\u001b[37m\u001b[0m \u001b[1m11s\u001b[0m 59ms/step - accuracy: 0.8733 - loss: 0.3132 - val_accuracy: 0.8663 - val_loss: 0.3738 - learning_rate: 0.0010\n",
            "Epoch 43/50\n",
            "\u001b[1m124/124\u001b[0m \u001b[32m━━━━━━━━━━━━━━━━━━━━\u001b[0m\u001b[37m\u001b[0m \u001b[1m9s\u001b[0m 45ms/step - accuracy: 0.8736 - loss: 0.3029 - val_accuracy: 0.8651 - val_loss: 0.3605 - learning_rate: 0.0010\n",
            "Epoch 44/50\n",
            "\u001b[1m124/124\u001b[0m \u001b[32m━━━━━━━━━━━━━━━━━━━━\u001b[0m\u001b[37m\u001b[0m \u001b[1m10s\u001b[0m 45ms/step - accuracy: 0.8687 - loss: 0.3136 - val_accuracy: 0.8698 - val_loss: 0.3929 - learning_rate: 0.0010\n",
            "Epoch 45/50\n",
            "\u001b[1m124/124\u001b[0m \u001b[32m━━━━━━━━━━━━━━━━━━━━\u001b[0m\u001b[37m\u001b[0m \u001b[1m11s\u001b[0m 52ms/step - accuracy: 0.8794 - loss: 0.2933 - val_accuracy: 0.8686 - val_loss: 0.3749 - learning_rate: 0.0010\n",
            "Epoch 46/50\n",
            "\u001b[1m124/124\u001b[0m \u001b[32m━━━━━━━━━━━━━━━━━━━━\u001b[0m\u001b[37m\u001b[0m \u001b[1m11s\u001b[0m 59ms/step - accuracy: 0.8749 - loss: 0.2979 - val_accuracy: 0.8639 - val_loss: 0.3666 - learning_rate: 0.0010\n",
            "Epoch 47/50\n",
            "\u001b[1m124/124\u001b[0m \u001b[32m━━━━━━━━━━━━━━━━━━━━\u001b[0m\u001b[37m\u001b[0m \u001b[1m9s\u001b[0m 45ms/step - accuracy: 0.8901 - loss: 0.2835 - val_accuracy: 0.8710 - val_loss: 0.3941 - learning_rate: 0.0010\n",
            "Epoch 48/50\n",
            "\u001b[1m123/124\u001b[0m \u001b[32m━━━━━━━━━━━━━━━━━━━\u001b[0m\u001b[37m━\u001b[0m \u001b[1m0s\u001b[0m 56ms/step - accuracy: 0.8853 - loss: 0.2793\n",
            "Epoch 48: ReduceLROnPlateau reducing learning rate to 0.0005000000237487257.\n",
            "\u001b[1m124/124\u001b[0m \u001b[32m━━━━━━━━━━━━━━━━━━━━\u001b[0m\u001b[37m\u001b[0m \u001b[1m7s\u001b[0m 58ms/step - accuracy: 0.8853 - loss: 0.2792 - val_accuracy: 0.8544 - val_loss: 0.4051 - learning_rate: 0.0010\n",
            "Epoch 49/50\n",
            "\u001b[1m124/124\u001b[0m \u001b[32m━━━━━━━━━━━━━━━━━━━━\u001b[0m\u001b[37m\u001b[0m \u001b[1m6s\u001b[0m 45ms/step - accuracy: 0.8902 - loss: 0.2740 - val_accuracy: 0.8675 - val_loss: 0.3641 - learning_rate: 5.0000e-04\n",
            "Epoch 50/50\n",
            "\u001b[1m124/124\u001b[0m \u001b[32m━━━━━━━━━━━━━━━━━━━━\u001b[0m\u001b[37m\u001b[0m \u001b[1m7s\u001b[0m 59ms/step - accuracy: 0.9016 - loss: 0.2419 - val_accuracy: 0.8675 - val_loss: 0.3628 - learning_rate: 5.0000e-04\n",
            "Restoring model weights from the end of the best epoch: 40.\n",
            "✅ Model training completed!\n"
          ]
        }
      ]
    },
    {
      "cell_type": "code",
      "source": [
        "# =====================================================================\n",
        "# STEP 10: PLOT TRAINING HISTORY\n",
        "# =====================================================================\n",
        "\n",
        "print(\"\\n📊 Step 10: Plotting training history...\")\n",
        "\n",
        "# Create training history plots\n",
        "fig, (ax1, ax2) = plt.subplots(1, 2, figsize=(15, 5))\n",
        "\n",
        "# Plot accuracy\n",
        "ax1.plot(history.history['accuracy'], label='Training Accuracy', linewidth=2)\n",
        "ax1.plot(history.history['val_accuracy'], label='Validation Accuracy', linewidth=2)\n",
        "ax1.set_title('Model Accuracy Over Epochs', fontsize=14, fontweight='bold')\n",
        "ax1.set_xlabel('Epoch')\n",
        "ax1.set_ylabel('Accuracy')\n",
        "ax1.legend()\n",
        "ax1.grid(True, alpha=0.3)\n",
        "\n",
        "# Plot loss\n",
        "ax2.plot(history.history['loss'], label='Training Loss', linewidth=2)\n",
        "ax2.plot(history.history['val_loss'], label='Validation Loss', linewidth=2)\n",
        "ax2.set_title('Model Loss Over Epochs', fontsize=14, fontweight='bold')\n",
        "ax2.set_xlabel('Epoch')\n",
        "ax2.set_ylabel('Loss')\n",
        "ax2.legend()\n",
        "ax2.grid(True, alpha=0.3)\n",
        "\n",
        "plt.tight_layout()\n",
        "plt.show()\n",
        "\n",
        "print(\"✅ Training history plotted!\")"
      ],
      "metadata": {
        "colab": {
          "base_uri": "https://localhost:8080/",
          "height": 351
        },
        "id": "s_A9RFDNdl-p",
        "outputId": "d64b0f4b-ce75-4a6b-8515-2b60abd41127"
      },
      "execution_count": 58,
      "outputs": [
        {
          "output_type": "stream",
          "name": "stdout",
          "text": [
            "\n",
            "📊 Step 10: Plotting training history...\n"
          ]
        },
        {
          "output_type": "display_data",
          "data": {
            "text/plain": [
              "<Figure size 1500x500 with 2 Axes>"
            ],
            "image/png": "[encoded data removed]"
          },
          "metadata": {}
        },
        {
          "output_type": "stream",
          "name": "stdout",
          "text": [
            "✅ Training history plotted!\n"
          ]
        }
      ]
    },
    {
      "cell_type": "code",
      "source": [
        "# =====================================================================\n",
        "# STEP 11: EVALUATE ON VALIDATION SET\n",
        "# =====================================================================\n",
        "\n",
        "print(\"\\n🎯 Step 11: Evaluating on validation set...\")\n",
        "\n",
        "# Make predictions on validation set\n",
        "y_val_pred_proba = model.predict(X_val_cnn)\n",
        "y_val_pred = np.argmax(y_val_pred_proba, axis=1)\n",
        "\n",
        "# Calculate metrics\n",
        "val_accuracy = accuracy_score(y_val, y_val_pred)\n",
        "val_precision = precision_score(y_val, y_val_pred, average='macro')\n",
        "val_recall = recall_score(y_val, y_val_pred, average='macro')\n",
        "val_f1_macro = f1_score(y_val, y_val_pred, average='macro')\n",
        "val_f1_weighted = f1_score(y_val, y_val_pred, average='weighted')\n",
        "\n",
        "print(\"📊 VALIDATION SET RESULTS:\")\n",
        "print(\"=\" * 50)\n",
        "print(f\"Accuracy: {val_accuracy:.4f}\")\n",
        "print(f\"Precision (Macro): {val_precision:.4f}\")\n",
        "print(f\"Recall (Macro): {val_recall:.4f}\")\n",
        "print(f\"F1 Score (Macro): {val_f1_macro:.4f}\")\n",
        "print(f\"F1 Score (Weighted): {val_f1_weighted:.4f}\")\n",
        "\n",
        "# Classification report\n",
        "print(f\"\\n📋 Validation Classification Report:\")\n",
        "class_names = label_encoder.classes_\n",
        "print(classification_report(y_val, y_val_pred, target_names=class_names))\n"
      ],
      "metadata": {
        "colab": {
          "base_uri": "https://localhost:8080/"
        },
        "id": "fY_d7RL7dt9E",
        "outputId": "5647d534-2e74-4157-ae97-8c90b7a45987"
      },
      "execution_count": 59,
      "outputs": [
        {
          "output_type": "stream",
          "name": "stdout",
          "text": [
            "\n",
            "🎯 Step 11: Evaluating on validation set...\n",
            "\u001b[1m27/27\u001b[0m \u001b[32m━━━━━━━━━━━━━━━━━━━━\u001b[0m\u001b[37m\u001b[0m \u001b[1m1s\u001b[0m 17ms/step\n",
            "📊 VALIDATION SET RESULTS:\n",
            "==================================================\n",
            "Accuracy: 0.8663\n",
            "Precision (Macro): 0.8699\n",
            "Recall (Macro): 0.8667\n",
            "F1 Score (Macro): 0.8679\n",
            "F1 Score (Weighted): 0.8672\n",
            "\n",
            "📋 Validation Classification Report:\n",
            "              precision    recall  f1-score   support\n",
            "\n",
            "        high       0.87      0.87      0.87       276\n",
            "         low       0.94      0.89      0.92       279\n",
            "      medium       0.79      0.83      0.81       290\n",
            "\n",
            "    accuracy                           0.87       845\n",
            "   macro avg       0.87      0.87      0.87       845\n",
            "weighted avg       0.87      0.87      0.87       845\n",
            "\n"
          ]
        }
      ]
    },
    {
      "cell_type": "code",
      "source": [
        "\n",
        "\n",
        "# =====================================================================\n",
        "# STEP 12: PLOT VALIDATION CONFUSION MATRIX\n",
        "# =====================================================================\n",
        "\n",
        "print(\"\\n🔍 Step 12: Plotting validation confusion matrix...\")\n",
        "\n",
        "# Create confusion matrix\n",
        "val_cm = confusion_matrix(y_val, y_val_pred)\n",
        "\n",
        "plt.figure(figsize=(5, 3))\n",
        "sns.heatmap(val_cm, annot=True, fmt='d', cmap='Blues',\n",
        "           xticklabels=class_names, yticklabels=class_names)\n",
        "plt.title('Validation Set - Confusion Matrix', fontsize=14, fontweight='bold')\n",
        "plt.xlabel('Predicted')\n",
        "plt.ylabel('Actual')\n",
        "plt.tight_layout()\n",
        "plt.show()\n",
        "\n",
        "print(\"✅ Validation confusion matrix plotted!\")"
      ],
      "metadata": {
        "colab": {
          "base_uri": "https://localhost:8080/",
          "height": 359
        },
        "id": "-rkoBZ78dwZS",
        "outputId": "e8d0bdc3-ec16-4222-afc8-c00f2db884c0"
      },
      "execution_count": 60,
      "outputs": [
        {
          "output_type": "stream",
          "name": "stdout",
          "text": [
            "\n",
            "🔍 Step 12: Plotting validation confusion matrix...\n"
          ]
        },
        {
          "output_type": "display_data",
          "data": {
            "text/plain": [
              "<Figure size 500x300 with 2 Axes>"
            ],
            "image/png": "[encoded data removed]"
          },
          "metadata": {}
        },
        {
          "output_type": "stream",
          "name": "stdout",
          "text": [
            "✅ Validation confusion matrix plotted!\n"
          ]
        }
      ]
    },
    {
      "cell_type": "code",
      "source": [
        "\n",
        "\n",
        "# =====================================================================\n",
        "# STEP 13: EVALUATE ON TEST SET\n",
        "# =====================================================================\n",
        "\n",
        "print(\"\\n🏁 Step 13: Evaluating on test set...\")\n",
        "\n",
        "# Make predictions on test set\n",
        "y_test_pred_proba = model.predict(X_test_cnn)\n",
        "y_test_pred = np.argmax(y_test_pred_proba, axis=1)\n",
        "\n",
        "# Calculate metrics\n",
        "test_accuracy = accuracy_score(y_test, y_test_pred)\n",
        "test_precision = precision_score(y_test, y_test_pred, average='macro')\n",
        "test_recall = recall_score(y_test, y_test_pred, average='macro')\n",
        "test_f1_macro = f1_score(y_test, y_test_pred, average='macro')\n",
        "test_f1_weighted = f1_score(y_test, y_test_pred, average='weighted')\n",
        "\n",
        "print(\"📊 TEST SET RESULTS:\")\n",
        "print(\"=\" * 50)\n",
        "print(f\"Accuracy: {test_accuracy:.4f}\")\n",
        "print(f\"Precision (Macro): {test_precision:.4f}\")\n",
        "print(f\"Recall (Macro): {test_recall:.4f}\")\n",
        "print(f\"F1 Score (Macro): {test_f1_macro:.4f}\")\n",
        "print(f\"F1 Score (Weighted): {test_f1_weighted:.4f}\")\n",
        "\n",
        "# Classification report\n",
        "print(f\"\\n📋 Test Classification Report:\")\n",
        "print(classification_report(y_test, y_test_pred, target_names=class_names))\n"
      ],
      "metadata": {
        "colab": {
          "base_uri": "https://localhost:8080/"
        },
        "id": "W44zVm81dzJ5",
        "outputId": "a9ae64f5-f19b-4c4a-9da5-b658b988c082"
      },
      "execution_count": 61,
      "outputs": [
        {
          "output_type": "stream",
          "name": "stdout",
          "text": [
            "\n",
            "🏁 Step 13: Evaluating on test set...\n",
            "\u001b[1m27/27\u001b[0m \u001b[32m━━━━━━━━━━━━━━━━━━━━\u001b[0m\u001b[37m\u001b[0m \u001b[1m0s\u001b[0m 9ms/step\n",
            "📊 TEST SET RESULTS:\n",
            "==================================================\n",
            "Accuracy: 0.9053\n",
            "Precision (Macro): 0.9062\n",
            "Recall (Macro): 0.9045\n",
            "F1 Score (Macro): 0.9051\n",
            "F1 Score (Weighted): 0.9057\n",
            "\n",
            "📋 Test Classification Report:\n",
            "              precision    recall  f1-score   support\n",
            "\n",
            "        high       0.91      0.93      0.92       300\n",
            "         low       0.96      0.92      0.94       275\n",
            "      medium       0.85      0.87      0.86       270\n",
            "\n",
            "    accuracy                           0.91       845\n",
            "   macro avg       0.91      0.90      0.91       845\n",
            "weighted avg       0.91      0.91      0.91       845\n",
            "\n"
          ]
        }
      ]
    },
    {
      "cell_type": "code",
      "source": [
        "\n",
        "# =====================================================================\n",
        "# STEP 14: PLOT TEST CONFUSION MATRIX\n",
        "# =====================================================================\n",
        "\n",
        "print(\"\\n🔍 Step 14: Plotting test confusion matrix...\")\n",
        "\n",
        "# Create confusion matrix\n",
        "test_cm = confusion_matrix(y_test, y_test_pred)\n",
        "\n",
        "plt.figure(figsize=(5, 3))\n",
        "sns.heatmap(test_cm, annot=True, fmt='d', cmap='Blues',\n",
        "           xticklabels=class_names, yticklabels=class_names)\n",
        "plt.title('Test Set - Confusion Matrix', fontsize=14, fontweight='bold')\n",
        "plt.xlabel('Predicted')\n",
        "plt.ylabel('Actual')\n",
        "plt.tight_layout()\n",
        "plt.show()\n",
        "\n",
        "print(\"✅ Test confusion matrix plotted!\")"
      ],
      "metadata": {
        "colab": {
          "base_uri": "https://localhost:8080/",
          "height": 359
        },
        "id": "JqJR2-cMd2OT",
        "outputId": "52f01928-88c7-4561-9fa8-0b4d6f2b6f88"
      },
      "execution_count": 62,
      "outputs": [
        {
          "output_type": "stream",
          "name": "stdout",
          "text": [
            "\n",
            "🔍 Step 14: Plotting test confusion matrix...\n"
          ]
        },
        {
          "output_type": "display_data",
          "data": {
            "text/plain": [
              "<Figure size 500x300 with 2 Axes>"
            ],
            "image/png": "[encoded data removed]"
          },
          "metadata": {}
        },
        {
          "output_type": "stream",
          "name": "stdout",
          "text": [
            "✅ Test confusion matrix plotted!\n"
          ]
        }
      ]
    },
    {
      "cell_type": "code",
      "source": [
        "\n",
        "\n",
        "# =====================================================================\n",
        "# STEP 15: FINAL SUMMARY\n",
        "# =====================================================================\n",
        "\n",
        "print(\"\\n🎉 Step 15: Final Summary\")\n",
        "print(\"=\" * 60)\n",
        "\n",
        "# Create summary table\n",
        "summary_data = {\n",
        "    'Dataset': ['Validation', 'Test'],\n",
        "    'Accuracy': [val_accuracy, test_accuracy],\n",
        "    'Precision (Macro)': [val_precision, test_precision],\n",
        "    'Recall (Macro)': [val_recall, test_recall],\n",
        "    'F1 Score (Macro)': [val_f1_macro, test_f1_macro],\n",
        "    'F1 Score (Weighted)': [val_f1_weighted, test_f1_weighted]\n",
        "}\n",
        "\n",
        "summary_df = pd.DataFrame(summary_data)\n",
        "print(\"📊 FINAL PERFORMANCE SUMMARY:\")\n",
        "print(summary_df.round(4))\n",
        "\n",
        "# Best performing metrics\n",
        "print(f\"\\n🏆 BEST RESULTS:\")\n",
        "print(f\"Highest Accuracy: {max(val_accuracy, test_accuracy):.4f}\")\n",
        "print(f\"Highest Macro F1: {max(val_f1_macro, test_f1_macro):.4f}\")\n",
        "\n",
        "# Model info\n",
        "total_params = model.count_params()\n",
        "print(f\"\\n🔧 MODEL INFO:\")\n",
        "print(f\"Total Parameters: {total_params:,}\")\n",
        "print(f\"Training Epochs: {len(history.history['accuracy'])}\")\n",
        "print(f\"Final Training Accuracy: {history.history['accuracy'][-1]:.4f}\")\n",
        "print(f\"Final Validation Accuracy: {history.history['val_accuracy'][-1]:.4f}\")\n",
        "\n",
        "print(\"\\n✅ PIPELINE COMPLETED SUCCESSFULLY! 🎉\")\n"
      ],
      "metadata": {
        "colab": {
          "base_uri": "https://localhost:8080/"
        },
        "id": "kWcvZkU8d26J",
        "outputId": "6298e6d9-8fae-403e-e333-aeefdb1b9db3"
      },
      "execution_count": 63,
      "outputs": [
        {
          "output_type": "stream",
          "name": "stdout",
          "text": [
            "\n",
            "🎉 Step 15: Final Summary\n",
            "============================================================\n",
            "📊 FINAL PERFORMANCE SUMMARY:\n",
            "      Dataset  Accuracy  Precision (Macro)  Recall (Macro)  F1 Score (Macro)  \\\n",
            "0  Validation    0.8663             0.8699          0.8667            0.8679   \n",
            "1        Test    0.9053             0.9062          0.9045            0.9051   \n",
            "\n",
            "   F1 Score (Weighted)  \n",
            "0               0.8672  \n",
            "1               0.9057  \n",
            "\n",
            "🏆 BEST RESULTS:\n",
            "Highest Accuracy: 0.9053\n",
            "Highest Macro F1: 0.9051\n",
            "\n",
            "🔧 MODEL INFO:\n",
            "Total Parameters: 1,342,083\n",
            "Training Epochs: 50\n",
            "Final Training Accuracy: 0.8985\n",
            "Final Validation Accuracy: 0.8675\n",
            "\n",
            "✅ PIPELINE COMPLETED SUCCESSFULLY! 🎉\n"
          ]
        }
      ]
    },
    {
      "cell_type": "code",
      "execution_count": 64,
      "metadata": {
        "colab": {
          "base_uri": "https://localhost:8080/"
        },
        "id": "_LA2aWZ6WAqS",
        "outputId": "4d941d6f-3c1c-4409-83ba-cd70e361151b"
      },
      "outputs": [
        {
          "output_type": "stream",
          "name": "stdout",
          "text": [
            "\n",
            "💾 Step 16: Model saving option...\n",
            "\n",
            "🔚 All steps completed successfully!\n",
            "You can now use this trained model for agricultural production classification!\n"
          ]
        }
      ],
      "source": [
        "\n",
        "# =====================================================================\n",
        "# STEP 16: SAVE MODEL (OPTIONAL)\n",
        "# =====================================================================\n",
        "\n",
        "print(\"\\n💾 Step 16: Model saving option...\")\n",
        "\n",
        "# Uncomment the line below to save the model\n",
        "# model.save('agricultural_production_cnn_model.h5')\n",
        "# print(\"✅ Model saved as 'agricultural_production_cnn_model.h5'\")\n",
        "\n",
        "print(\"\\n🔚 All steps completed successfully!\")\n",
        "print(\"You can now use this trained model for agricultural production classification!\")"
      ]
    }
  ]
}