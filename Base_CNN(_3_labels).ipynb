{
  "nbformat": 4,
  "nbformat_minor": 0,
  "metadata": {
    "colab": {
      "provenance": [],
      "mount_file_id": "1hrXCzQlQkdTSovD1PnlOYuZ41e3jFH-N",
      "authorship_tag": "ABX9TyNK3myV2Jce0fYirhHZTDBa",
      "include_colab_link": true
    },
    "kernelspec": {
      "name": "python3",
      "display_name": "Python 3"
    },
    "language_info": {
      "name": "python"
    }
  },
  "cells": [
    {
      "cell_type": "markdown",
      "metadata": {
        "id": "view-in-github",
        "colab_type": "text"
      },
      "source": [
        "<a href=\"https://colab.research.google.com/github/mdsiam135/thesis_2025/blob/main/Base_CNN(_3_labels).ipynb\" target=\"_parent\"><img src=\"https://colab.research.google.com/assets/colab-badge.svg\" alt=\"Open In Colab\"/></a>"
      ]
    },
    {
      "cell_type": "code",
      "source": [
        "# =====================================================================\n",
        "# STEP 1: IMPORT LIBRARIES AND SETUP\n",
        "# =====================================================================\n",
        "\n",
        "import pandas as pd\n",
        "import numpy as np\n",
        "import matplotlib.pyplot as plt\n",
        "import seaborn as sns\n",
        "from sklearn.preprocessing import StandardScaler, LabelEncoder\n",
        "from sklearn.metrics import (classification_report, confusion_matrix,\n",
        "                           accuracy_score, precision_score, recall_score, f1_score)\n",
        "import tensorflow as tf\n",
        "from tensorflow.keras.models import Sequential\n",
        "from tensorflow.keras.layers import Dense, Conv1D, MaxPooling1D, Flatten, Dropout, BatchNormalization\n",
        "from tensorflow.keras.optimizers import Adam\n",
        "from tensorflow.keras.callbacks import EarlyStopping, ReduceLROnPlateau\n",
        "import warnings\n",
        "warnings.filterwarnings('ignore')\n",
        "\n",
        "# Set random seeds for reproducibility\n",
        "np.random.seed(42)\n",
        "tf.random.set_seed(42)\n",
        "\n",
        "print(\"✅ Step 1: Libraries imported successfully!\")\n",
        "print(\"TensorFlow version:\", tf.__version__)\n"
      ],
      "metadata": {
        "colab": {
          "base_uri": "https://localhost:8080/"
        },
        "id": "c0GuA0zMc7xj",
        "outputId": "7d47ff21-afca-458b-a619-ac54f7d9dfe6"
      },
      "execution_count": 115,
      "outputs": [
        {
          "output_type": "stream",
          "name": "stdout",
          "text": [
            "✅ Step 1: Libraries imported successfully!\n",
            "TensorFlow version: 2.18.0\n"
          ]
        }
      ]
    },
    {
      "cell_type": "code",
      "source": [
        "# =====================================================================\n",
        "# STEP 2: LOAD DATASETS\n",
        "# =====================================================================\n",
        "\n",
        "# Load the three CSV files\n",
        "print(\"\\n📂 Step 2: Loading datasets...\")\n",
        "\n",
        "# Update these paths to your actual file locations\n",
        "train_df = pd.read_csv(\"/content/drive/MyDrive/UpdatedDataset/train.csv\")\n",
        "val_df = pd.read_csv(\"/content/drive/MyDrive/UpdatedDataset/validation.csv\")\n",
        "test_df = pd.read_csv(\"/content/drive/MyDrive/UpdatedDataset/test.csv\")\n",
        "\n",
        "print(f\"✅ Train dataset shape: {train_df.shape}\")\n",
        "print(f\"✅ Validation dataset shape: {val_df.shape}\")\n",
        "print(f\"✅ Test dataset shape: {test_df.shape}\")\n",
        "\n",
        "# Display first few rows and basic info\n",
        "print(\"\\n📊 Dataset Info:\")\n",
        "print(\"Training data columns:\")\n",
        "print(train_df.columns.tolist())\n",
        "print(f\"\\nTarget variable stats:\")\n",
        "print(train_df['Production (M.Ton)'].describe())\n"
      ],
      "metadata": {
        "colab": {
          "base_uri": "https://localhost:8080/"
        },
        "id": "Xd-lfxrVc9Ph",
        "outputId": "1d0a0fed-45bb-4bbf-ca1b-b99297a04d48"
      },
      "execution_count": 116,
      "outputs": [
        {
          "output_type": "stream",
          "name": "stdout",
          "text": [
            "\n",
            "📂 Step 2: Loading datasets...\n",
            "✅ Train dataset shape: (3942, 84)\n",
            "✅ Validation dataset shape: (845, 84)\n",
            "✅ Test dataset shape: (845, 84)\n",
            "\n",
            "📊 Dataset Info:\n",
            "Training data columns:\n",
            "['Production (M.Ton)', 'Area (Acres)', 'Temperature at 2 Meters Range (C)', 'Year', 'soil_temperature_0_to_7cm(C)', 'Root Zone Soil Wetness (surface to 100 cm below)', 'Surface Soil Wetness (surface to 5 cm below)', 'soil_moisture_0_to_7cm(mÂ³/mÂ³)', 'soil_moiture_7_to_28cm(mÂ³/mÂ³)', 'total_rain_mm', 'relative_humidity_2m(%)', 'Precipitation Corrected (mm)', 'Crop_Beans', 'Crop_Cabbage', 'Crop_Cauliflower', 'Crop_Garlic', 'Crop_Laushak', 'Crop_Onion', 'Crop_Radish', 'Crop_Tomato', 'District_Bagerhat', 'District_Bandarban', 'District_Barguna', 'District_Barishal', 'District_Bhola', 'District_Bogura', 'District_Brahmanbaria', 'District_Chandpur', 'District_Chapai Nawabganj', 'District_Chattogram', 'District_Chuadanga', 'District_Comilla', \"District_Cox's Bazar\", 'District_Dhaka', 'District_Dinajpur', 'District_Faridpur', 'District_Feni', 'District_Gaibandha', 'District_Gazipur', 'District_Gopalganj', 'District_Habiganj', 'District_Jamalpur', 'District_Jashore', 'District_Jhallokati', 'District_Jhenaidah', 'District_Joypurhat', 'District_Khagrachari', 'District_Khulna', 'District_Kishoreganj', 'District_Kurigram', 'District_Kushtia', 'District_Lakshmipur', 'District_Lalmonirhat', 'District_Madaripur', 'District_Magura', 'District_Manikganj', 'District_Maulvibazar', 'District_Meherpur', 'District_Munshiganj', 'District_Mymensingh', 'District_Naogaon', 'District_Narail', 'District_Narayanganj', 'District_Narsingdi', 'District_Natore', 'District_Netrakona', 'District_Nilphamari', 'District_Noakhali', 'District_Pabna', 'District_Panchagarh', 'District_Patuakhali', 'District_Pirojpur', 'District_Rajbari', 'District_Rajshahi', 'District_Rangamati', 'District_Rangpur', 'District_Satkhira', 'District_Shariatpur', 'District_Sherpur', 'District_Sirajganj', 'District_Sunamganj', 'District_Sylhet', 'District_Tangail', 'District_Thakurgaon']\n",
            "\n",
            "Target variable stats:\n",
            "count      3942.000000\n",
            "mean       7860.822712\n",
            "std       32823.837934\n",
            "min           0.000000\n",
            "25%         756.360000\n",
            "50%        2105.005000\n",
            "75%        5399.000000\n",
            "max      544979.500000\n",
            "Name: Production (M.Ton), dtype: float64\n"
          ]
        }
      ]
    },
    {
      "cell_type": "code",
      "source": [
        "# =====================================================================\n",
        "# STEP 3: CREATE PRODUCTION LABELS BASED ON QUANTILES\n",
        "# =====================================================================\n",
        "\n",
        "print(\"\\n🏷️ Step 3: Creating production labels...\")\n",
        "\n",
        "# Combine all production values to calculate consistent quantiles\n",
        "all_production = pd.concat([\n",
        "    train_df['Production (M.Ton)'],\n",
        "    val_df['Production (M.Ton)'],\n",
        "    test_df['Production (M.Ton)']\n",
        "])\n",
        "\n",
        "# Calculate quantiles (33rd and 66th percentiles)\n",
        "q33 = all_production.quantile(0.33)\n",
        "q66 = all_production.quantile(0.66)\n",
        "\n",
        "print(f\"📊 Low threshold (33rd percentile): {q33:.4f}\")\n",
        "print(f\"📊 High threshold (66th percentile): {q66:.4f}\")\n",
        "\n",
        "# Function to create labels\n",
        "def create_labels(production_series):\n",
        "    labels = []\n",
        "    for prod in production_series:\n",
        "        if prod <= q33:\n",
        "            labels.append('low')\n",
        "        elif prod <= q66:\n",
        "            labels.append('medium')\n",
        "        else:\n",
        "            labels.append('high')\n",
        "    return labels\n",
        "\n",
        "# Create labels for each dataset\n",
        "train_df['production_label'] = create_labels(train_df['Production (M.Ton)'])\n",
        "val_df['production_label'] = create_labels(val_df['Production (M.Ton)'])\n",
        "test_df['production_label'] = create_labels(test_df['Production (M.Ton)'])\n",
        "\n",
        "# Display label distribution\n",
        "print(\"\\n📈 Label distribution:\")\n",
        "print(\"Training set:\")\n",
        "print(train_df['production_label'].value_counts())\n",
        "print(\"\\nValidation set:\")\n",
        "print(val_df['production_label'].value_counts())\n",
        "print(\"\\nTest set:\")\n",
        "print(test_df['production_label'].value_counts())\n"
      ],
      "metadata": {
        "colab": {
          "base_uri": "https://localhost:8080/"
        },
        "id": "uLEUM5RmdKwK",
        "outputId": "d536b636-2841-4e1e-e666-3c0f87d9e8cd"
      },
      "execution_count": 117,
      "outputs": [
        {
          "output_type": "stream",
          "name": "stdout",
          "text": [
            "\n",
            "🏷️ Step 3: Creating production labels...\n",
            "📊 Low threshold (33rd percentile): 1075.0000\n",
            "📊 High threshold (66th percentile): 3907.3258\n",
            "\n",
            "📈 Label distribution:\n",
            "Training set:\n",
            "production_label\n",
            "high      1339\n",
            "low       1306\n",
            "medium    1297\n",
            "Name: count, dtype: int64\n",
            "\n",
            "Validation set:\n",
            "production_label\n",
            "medium    290\n",
            "low       279\n",
            "high      276\n",
            "Name: count, dtype: int64\n",
            "\n",
            "Test set:\n",
            "production_label\n",
            "high      300\n",
            "low       275\n",
            "medium    270\n",
            "Name: count, dtype: int64\n"
          ]
        }
      ]
    },
    {
      "cell_type": "code",
      "source": [
        "# =====================================================================\n",
        "# STEP 4: PREPARE FEATURES AND TARGETS\n",
        "# =====================================================================\n",
        "\n",
        "print(\"\\n🔧 Step 4: Preparing features and targets...\")\n",
        "\n",
        "# Define feature columns (excluding target and label columns)\n",
        "feature_columns = [col for col in train_df.columns\n",
        "                  if col not in ['Production (M.Ton)', 'production_label']]\n",
        "\n",
        "print(f\"✅ Number of features: {len(feature_columns)}\")\n",
        "print(\"Feature sample:\", feature_columns[:10])\n",
        "\n",
        "# Extract features\n",
        "X_train = train_df[feature_columns].values\n",
        "X_val = val_df[feature_columns].values\n",
        "X_test = test_df[feature_columns].values\n",
        "\n",
        "# Handle missing values (replace NaN with 0)\n",
        "X_train = np.nan_to_num(X_train)\n",
        "X_val = np.nan_to_num(X_val)\n",
        "X_test = np.nan_to_num(X_test)\n",
        "\n",
        "print(f\"✅ Features extracted - Train: {X_train.shape}, Val: {X_val.shape}, Test: {X_test.shape}\")\n"
      ],
      "metadata": {
        "colab": {
          "base_uri": "https://localhost:8080/"
        },
        "id": "x_R5G9crdLh8",
        "outputId": "eb964a6a-fb31-42b6-a9bf-e8b3563d4373"
      },
      "execution_count": 118,
      "outputs": [
        {
          "output_type": "stream",
          "name": "stdout",
          "text": [
            "\n",
            "🔧 Step 4: Preparing features and targets...\n",
            "✅ Number of features: 83\n",
            "Feature sample: ['Area (Acres)', 'Temperature at 2 Meters Range (C)', 'Year', 'soil_temperature_0_to_7cm(C)', 'Root Zone Soil Wetness (surface to 100 cm below)', 'Surface Soil Wetness (surface to 5 cm below)', 'soil_moisture_0_to_7cm(mÂ³/mÂ³)', 'soil_moiture_7_to_28cm(mÂ³/mÂ³)', 'total_rain_mm', 'relative_humidity_2m(%)']\n",
            "✅ Features extracted - Train: (3942, 83), Val: (845, 83), Test: (845, 83)\n"
          ]
        }
      ]
    },
    {
      "cell_type": "code",
      "source": [
        "# =====================================================================\n",
        "# STEP 5: SCALE FEATURES\n",
        "# =====================================================================\n",
        "\n",
        "print(\"\\n⚖️ Step 5: Scaling features...\")\n",
        "\n",
        "# Initialize and fit scaler on training data\n",
        "scaler = StandardScaler()\n",
        "X_train_scaled = scaler.fit_transform(X_train)\n",
        "X_val_scaled = scaler.transform(X_val)\n",
        "X_test_scaled = scaler.transform(X_test)\n",
        "\n",
        "print(\"✅ Features scaled successfully!\")\n",
        "print(f\"Scaled train shape: {X_train_scaled.shape}\")"
      ],
      "metadata": {
        "colab": {
          "base_uri": "https://localhost:8080/"
        },
        "id": "OmjWBw_VdRTi",
        "outputId": "225c10a9-9f6a-4f45-f6c7-8875232cda4e"
      },
      "execution_count": 119,
      "outputs": [
        {
          "output_type": "stream",
          "name": "stdout",
          "text": [
            "\n",
            "⚖️ Step 5: Scaling features...\n",
            "✅ Features scaled successfully!\n",
            "Scaled train shape: (3942, 83)\n"
          ]
        }
      ]
    },
    {
      "cell_type": "code",
      "source": [
        "# =====================================================================\n",
        "# STEP 6: RESHAPE DATA FOR CNN AND ENCODE LABELS\n",
        "# =====================================================================\n",
        "\n",
        "print(\"\\n🔄 Step 6: Reshaping data for CNN...\")\n",
        "\n",
        "# Reshape for CNN (add channel dimension)\n",
        "X_train_cnn = X_train_scaled.reshape(X_train_scaled.shape[0], X_train_scaled.shape[1], 1)\n",
        "X_val_cnn = X_val_scaled.reshape(X_val_scaled.shape[0], X_val_scaled.shape[1], 1)\n",
        "X_test_cnn = X_test_scaled.reshape(X_test_scaled.shape[0], X_test_scaled.shape[1], 1)\n",
        "\n",
        "# Encode labels\n",
        "label_encoder = LabelEncoder()\n",
        "all_labels = np.concatenate([\n",
        "    train_df['production_label'].values,\n",
        "    val_df['production_label'].values,\n",
        "    test_df['production_label'].values\n",
        "])\n",
        "label_encoder.fit(all_labels)\n",
        "\n",
        "y_train = label_encoder.transform(train_df['production_label'].values)\n",
        "y_val = label_encoder.transform(val_df['production_label'].values)\n",
        "y_test = label_encoder.transform(test_df['production_label'].values)\n",
        "\n",
        "# Convert to categorical (one-hot encoding)\n",
        "y_train_cat = tf.keras.utils.to_categorical(y_train, num_classes=3)\n",
        "y_val_cat = tf.keras.utils.to_categorical(y_val, num_classes=3)\n",
        "y_test_cat = tf.keras.utils.to_categorical(y_test, num_classes=3)\n",
        "\n",
        "print(f\"✅ Data reshaped - CNN input shape: {X_train_cnn.shape}\")\n",
        "print(f\"✅ Labels encoded - shape: {y_train_cat.shape}\")\n",
        "print(f\"Label classes: {label_encoder.classes_}\")\n"
      ],
      "metadata": {
        "colab": {
          "base_uri": "https://localhost:8080/"
        },
        "id": "UjlLeJl_dR-p",
        "outputId": "6d15fc0a-89f3-4f86-d0af-a5c8457cc459"
      },
      "execution_count": 120,
      "outputs": [
        {
          "output_type": "stream",
          "name": "stdout",
          "text": [
            "\n",
            "🔄 Step 6: Reshaping data for CNN...\n",
            "✅ Data reshaped - CNN input shape: (3942, 83, 1)\n",
            "✅ Labels encoded - shape: (3942, 3)\n",
            "Label classes: ['high' 'low' 'medium']\n"
          ]
        }
      ]
    },
    {
      "cell_type": "code",
      "source": [
        "# =====================================================================\n",
        "# STEP 7: BUILD CNN MODEL\n",
        "# =====================================================================\n",
        "\n",
        "print(\"\\n🏗️ Step 7: Building CNN model...\")\n",
        "\n",
        "# Define input shape\n",
        "input_shape = (X_train_cnn.shape[1], 1)  # (features, channels)\n",
        "\n",
        "# Build CNN model\n",
        "model = Sequential([\n",
        "    # First Conv1D block\n",
        "    Conv1D(filters=64, kernel_size=3, activation='relu', input_shape=input_shape),\n",
        "    BatchNormalization(),\n",
        "    MaxPooling1D(pool_size=2),\n",
        "    Dropout(0.3),\n",
        "\n",
        "    # Second Conv1D block\n",
        "    Conv1D(filters=128, kernel_size=3, activation='relu'),\n",
        "    BatchNormalization(),\n",
        "    MaxPooling1D(pool_size=2),\n",
        "    Dropout(0.3),\n",
        "\n",
        "    # Third Conv1D block\n",
        "    Conv1D(filters=256, kernel_size=3, activation='relu'),\n",
        "    BatchNormalization(),\n",
        "    MaxPooling1D(pool_size=2),\n",
        "    Dropout(0.4),\n",
        "\n",
        "    # Flatten and Dense layers\n",
        "    Flatten(),\n",
        "    Dense(512, activation='relu'),\n",
        "    BatchNormalization(),\n",
        "    Dropout(0.5),\n",
        "\n",
        "    Dense(256, activation='relu'),\n",
        "    BatchNormalization(),\n",
        "    Dropout(0.5),\n",
        "\n",
        "    Dense(128, activation='relu'),\n",
        "    Dropout(0.3),\n",
        "\n",
        "    # Output layer (3 classes: low, medium, high)\n",
        "    Dense(3, activation='softmax')\n",
        "])\n",
        "\n",
        "# Compile model\n",
        "model.compile(\n",
        "    optimizer=Adam(learning_rate=0.001),\n",
        "    loss='categorical_crossentropy',\n",
        "    metrics=['accuracy']\n",
        ")\n",
        "\n",
        "print(\"✅ CNN model built successfully!\")\n",
        "print(\"\\n📋 Model Architecture:\")\n",
        "model.summary()"
      ],
      "metadata": {
        "colab": {
          "base_uri": "https://localhost:8080/",
          "height": 1000
        },
        "id": "ac-VTDQidZl6",
        "outputId": "9f8afa63-366f-4b97-ea0d-c6cc4577248b"
      },
      "execution_count": 121,
      "outputs": [
        {
          "output_type": "stream",
          "name": "stdout",
          "text": [
            "\n",
            "🏗️ Step 7: Building CNN model...\n",
            "✅ CNN model built successfully!\n",
            "\n",
            "📋 Model Architecture:\n"
          ]
        },
        {
          "output_type": "display_data",
          "data": {
            "text/plain": [
              "\u001b[1mModel: \"sequential_7\"\u001b[0m\n"
            ],
            "text/html": [
              "<pre style=\"white-space:pre;overflow-x:auto;line-height:normal;font-family:Menlo,'DejaVu Sans Mono',consolas,'Courier New',monospace\"><span style=\"font-weight: bold\">Model: \"sequential_7\"</span>\n",
              "</pre>\n"
            ]
          },
          "metadata": {}
        },
        {
          "output_type": "display_data",
          "data": {
            "text/plain": [
              "┏━━━━━━━━━━━━━━━━━━━━━━━━━━━━━━━━━┳━━━━━━━━━━━━━━━━━━━━━━━━┳━━━━━━━━━━━━━━━┓\n",
              "┃\u001b[1m \u001b[0m\u001b[1mLayer (type)                   \u001b[0m\u001b[1m \u001b[0m┃\u001b[1m \u001b[0m\u001b[1mOutput Shape          \u001b[0m\u001b[1m \u001b[0m┃\u001b[1m \u001b[0m\u001b[1m      Param #\u001b[0m\u001b[1m \u001b[0m┃\n",
              "┡━━━━━━━━━━━━━━━━━━━━━━━━━━━━━━━━━╇━━━━━━━━━━━━━━━━━━━━━━━━╇━━━━━━━━━━━━━━━┩\n",
              "│ conv1d_21 (\u001b[38;5;33mConv1D\u001b[0m)              │ (\u001b[38;5;45mNone\u001b[0m, \u001b[38;5;34m81\u001b[0m, \u001b[38;5;34m64\u001b[0m)         │           \u001b[38;5;34m256\u001b[0m │\n",
              "├─────────────────────────────────┼────────────────────────┼───────────────┤\n",
              "│ batch_normalization_35          │ (\u001b[38;5;45mNone\u001b[0m, \u001b[38;5;34m81\u001b[0m, \u001b[38;5;34m64\u001b[0m)         │           \u001b[38;5;34m256\u001b[0m │\n",
              "│ (\u001b[38;5;33mBatchNormalization\u001b[0m)            │                        │               │\n",
              "├─────────────────────────────────┼────────────────────────┼───────────────┤\n",
              "│ max_pooling1d_21 (\u001b[38;5;33mMaxPooling1D\u001b[0m) │ (\u001b[38;5;45mNone\u001b[0m, \u001b[38;5;34m40\u001b[0m, \u001b[38;5;34m64\u001b[0m)         │             \u001b[38;5;34m0\u001b[0m │\n",
              "├─────────────────────────────────┼────────────────────────┼───────────────┤\n",
              "│ dropout_42 (\u001b[38;5;33mDropout\u001b[0m)            │ (\u001b[38;5;45mNone\u001b[0m, \u001b[38;5;34m40\u001b[0m, \u001b[38;5;34m64\u001b[0m)         │             \u001b[38;5;34m0\u001b[0m │\n",
              "├─────────────────────────────────┼────────────────────────┼───────────────┤\n",
              "│ conv1d_22 (\u001b[38;5;33mConv1D\u001b[0m)              │ (\u001b[38;5;45mNone\u001b[0m, \u001b[38;5;34m38\u001b[0m, \u001b[38;5;34m128\u001b[0m)        │        \u001b[38;5;34m24,704\u001b[0m │\n",
              "├─────────────────────────────────┼────────────────────────┼───────────────┤\n",
              "│ batch_normalization_36          │ (\u001b[38;5;45mNone\u001b[0m, \u001b[38;5;34m38\u001b[0m, \u001b[38;5;34m128\u001b[0m)        │           \u001b[38;5;34m512\u001b[0m │\n",
              "│ (\u001b[38;5;33mBatchNormalization\u001b[0m)            │                        │               │\n",
              "├─────────────────────────────────┼────────────────────────┼───────────────┤\n",
              "│ max_pooling1d_22 (\u001b[38;5;33mMaxPooling1D\u001b[0m) │ (\u001b[38;5;45mNone\u001b[0m, \u001b[38;5;34m19\u001b[0m, \u001b[38;5;34m128\u001b[0m)        │             \u001b[38;5;34m0\u001b[0m │\n",
              "├─────────────────────────────────┼────────────────────────┼───────────────┤\n",
              "│ dropout_43 (\u001b[38;5;33mDropout\u001b[0m)            │ (\u001b[38;5;45mNone\u001b[0m, \u001b[38;5;34m19\u001b[0m, \u001b[38;5;34m128\u001b[0m)        │             \u001b[38;5;34m0\u001b[0m │\n",
              "├─────────────────────────────────┼────────────────────────┼───────────────┤\n",
              "│ conv1d_23 (\u001b[38;5;33mConv1D\u001b[0m)              │ (\u001b[38;5;45mNone\u001b[0m, \u001b[38;5;34m17\u001b[0m, \u001b[38;5;34m256\u001b[0m)        │        \u001b[38;5;34m98,560\u001b[0m │\n",
              "├─────────────────────────────────┼────────────────────────┼───────────────┤\n",
              "│ batch_normalization_37          │ (\u001b[38;5;45mNone\u001b[0m, \u001b[38;5;34m17\u001b[0m, \u001b[38;5;34m256\u001b[0m)        │         \u001b[38;5;34m1,024\u001b[0m │\n",
              "│ (\u001b[38;5;33mBatchNormalization\u001b[0m)            │                        │               │\n",
              "├─────────────────────────────────┼────────────────────────┼───────────────┤\n",
              "│ max_pooling1d_23 (\u001b[38;5;33mMaxPooling1D\u001b[0m) │ (\u001b[38;5;45mNone\u001b[0m, \u001b[38;5;34m8\u001b[0m, \u001b[38;5;34m256\u001b[0m)         │             \u001b[38;5;34m0\u001b[0m │\n",
              "├─────────────────────────────────┼────────────────────────┼───────────────┤\n",
              "│ dropout_44 (\u001b[38;5;33mDropout\u001b[0m)            │ (\u001b[38;5;45mNone\u001b[0m, \u001b[38;5;34m8\u001b[0m, \u001b[38;5;34m256\u001b[0m)         │             \u001b[38;5;34m0\u001b[0m │\n",
              "├─────────────────────────────────┼────────────────────────┼───────────────┤\n",
              "│ flatten_7 (\u001b[38;5;33mFlatten\u001b[0m)             │ (\u001b[38;5;45mNone\u001b[0m, \u001b[38;5;34m2048\u001b[0m)           │             \u001b[38;5;34m0\u001b[0m │\n",
              "├─────────────────────────────────┼────────────────────────┼───────────────┤\n",
              "│ dense_28 (\u001b[38;5;33mDense\u001b[0m)                │ (\u001b[38;5;45mNone\u001b[0m, \u001b[38;5;34m512\u001b[0m)            │     \u001b[38;5;34m1,049,088\u001b[0m │\n",
              "├─────────────────────────────────┼────────────────────────┼───────────────┤\n",
              "│ batch_normalization_38          │ (\u001b[38;5;45mNone\u001b[0m, \u001b[38;5;34m512\u001b[0m)            │         \u001b[38;5;34m2,048\u001b[0m │\n",
              "│ (\u001b[38;5;33mBatchNormalization\u001b[0m)            │                        │               │\n",
              "├─────────────────────────────────┼────────────────────────┼───────────────┤\n",
              "│ dropout_45 (\u001b[38;5;33mDropout\u001b[0m)            │ (\u001b[38;5;45mNone\u001b[0m, \u001b[38;5;34m512\u001b[0m)            │             \u001b[38;5;34m0\u001b[0m │\n",
              "├─────────────────────────────────┼────────────────────────┼───────────────┤\n",
              "│ dense_29 (\u001b[38;5;33mDense\u001b[0m)                │ (\u001b[38;5;45mNone\u001b[0m, \u001b[38;5;34m256\u001b[0m)            │       \u001b[38;5;34m131,328\u001b[0m │\n",
              "├─────────────────────────────────┼────────────────────────┼───────────────┤\n",
              "│ batch_normalization_39          │ (\u001b[38;5;45mNone\u001b[0m, \u001b[38;5;34m256\u001b[0m)            │         \u001b[38;5;34m1,024\u001b[0m │\n",
              "│ (\u001b[38;5;33mBatchNormalization\u001b[0m)            │                        │               │\n",
              "├─────────────────────────────────┼────────────────────────┼───────────────┤\n",
              "│ dropout_46 (\u001b[38;5;33mDropout\u001b[0m)            │ (\u001b[38;5;45mNone\u001b[0m, \u001b[38;5;34m256\u001b[0m)            │             \u001b[38;5;34m0\u001b[0m │\n",
              "├─────────────────────────────────┼────────────────────────┼───────────────┤\n",
              "│ dense_30 (\u001b[38;5;33mDense\u001b[0m)                │ (\u001b[38;5;45mNone\u001b[0m, \u001b[38;5;34m128\u001b[0m)            │        \u001b[38;5;34m32,896\u001b[0m │\n",
              "├─────────────────────────────────┼────────────────────────┼───────────────┤\n",
              "│ dropout_47 (\u001b[38;5;33mDropout\u001b[0m)            │ (\u001b[38;5;45mNone\u001b[0m, \u001b[38;5;34m128\u001b[0m)            │             \u001b[38;5;34m0\u001b[0m │\n",
              "├─────────────────────────────────┼────────────────────────┼───────────────┤\n",
              "│ dense_31 (\u001b[38;5;33mDense\u001b[0m)                │ (\u001b[38;5;45mNone\u001b[0m, \u001b[38;5;34m3\u001b[0m)              │           \u001b[38;5;34m387\u001b[0m │\n",
              "└─────────────────────────────────┴────────────────────────┴───────────────┘\n"
            ],
            "text/html": [
              "<pre style=\"white-space:pre;overflow-x:auto;line-height:normal;font-family:Menlo,'DejaVu Sans Mono',consolas,'Courier New',monospace\">┏━━━━━━━━━━━━━━━━━━━━━━━━━━━━━━━━━┳━━━━━━━━━━━━━━━━━━━━━━━━┳━━━━━━━━━━━━━━━┓\n",
              "┃<span style=\"font-weight: bold\"> Layer (type)                    </span>┃<span style=\"font-weight: bold\"> Output Shape           </span>┃<span style=\"font-weight: bold\">       Param # </span>┃\n",
              "┡━━━━━━━━━━━━━━━━━━━━━━━━━━━━━━━━━╇━━━━━━━━━━━━━━━━━━━━━━━━╇━━━━━━━━━━━━━━━┩\n",
              "│ conv1d_21 (<span style=\"color: #0087ff; text-decoration-color: #0087ff\">Conv1D</span>)              │ (<span style=\"color: #00d7ff; text-decoration-color: #00d7ff\">None</span>, <span style=\"color: #00af00; text-decoration-color: #00af00\">81</span>, <span style=\"color: #00af00; text-decoration-color: #00af00\">64</span>)         │           <span style=\"color: #00af00; text-decoration-color: #00af00\">256</span> │\n",
              "├─────────────────────────────────┼────────────────────────┼───────────────┤\n",
              "│ batch_normalization_35          │ (<span style=\"color: #00d7ff; text-decoration-color: #00d7ff\">None</span>, <span style=\"color: #00af00; text-decoration-color: #00af00\">81</span>, <span style=\"color: #00af00; text-decoration-color: #00af00\">64</span>)         │           <span style=\"color: #00af00; text-decoration-color: #00af00\">256</span> │\n",
              "│ (<span style=\"color: #0087ff; text-decoration-color: #0087ff\">BatchNormalization</span>)            │                        │               │\n",
              "├─────────────────────────────────┼────────────────────────┼───────────────┤\n",
              "│ max_pooling1d_21 (<span style=\"color: #0087ff; text-decoration-color: #0087ff\">MaxPooling1D</span>) │ (<span style=\"color: #00d7ff; text-decoration-color: #00d7ff\">None</span>, <span style=\"color: #00af00; text-decoration-color: #00af00\">40</span>, <span style=\"color: #00af00; text-decoration-color: #00af00\">64</span>)         │             <span style=\"color: #00af00; text-decoration-color: #00af00\">0</span> │\n",
              "├─────────────────────────────────┼────────────────────────┼───────────────┤\n",
              "│ dropout_42 (<span style=\"color: #0087ff; text-decoration-color: #0087ff\">Dropout</span>)            │ (<span style=\"color: #00d7ff; text-decoration-color: #00d7ff\">None</span>, <span style=\"color: #00af00; text-decoration-color: #00af00\">40</span>, <span style=\"color: #00af00; text-decoration-color: #00af00\">64</span>)         │             <span style=\"color: #00af00; text-decoration-color: #00af00\">0</span> │\n",
              "├─────────────────────────────────┼────────────────────────┼───────────────┤\n",
              "│ conv1d_22 (<span style=\"color: #0087ff; text-decoration-color: #0087ff\">Conv1D</span>)              │ (<span style=\"color: #00d7ff; text-decoration-color: #00d7ff\">None</span>, <span style=\"color: #00af00; text-decoration-color: #00af00\">38</span>, <span style=\"color: #00af00; text-decoration-color: #00af00\">128</span>)        │        <span style=\"color: #00af00; text-decoration-color: #00af00\">24,704</span> │\n",
              "├─────────────────────────────────┼────────────────────────┼───────────────┤\n",
              "│ batch_normalization_36          │ (<span style=\"color: #00d7ff; text-decoration-color: #00d7ff\">None</span>, <span style=\"color: #00af00; text-decoration-color: #00af00\">38</span>, <span style=\"color: #00af00; text-decoration-color: #00af00\">128</span>)        │           <span style=\"color: #00af00; text-decoration-color: #00af00\">512</span> │\n",
              "│ (<span style=\"color: #0087ff; text-decoration-color: #0087ff\">BatchNormalization</span>)            │                        │               │\n",
              "├─────────────────────────────────┼────────────────────────┼───────────────┤\n",
              "│ max_pooling1d_22 (<span style=\"color: #0087ff; text-decoration-color: #0087ff\">MaxPooling1D</span>) │ (<span style=\"color: #00d7ff; text-decoration-color: #00d7ff\">None</span>, <span style=\"color: #00af00; text-decoration-color: #00af00\">19</span>, <span style=\"color: #00af00; text-decoration-color: #00af00\">128</span>)        │             <span style=\"color: #00af00; text-decoration-color: #00af00\">0</span> │\n",
              "├─────────────────────────────────┼────────────────────────┼───────────────┤\n",
              "│ dropout_43 (<span style=\"color: #0087ff; text-decoration-color: #0087ff\">Dropout</span>)            │ (<span style=\"color: #00d7ff; text-decoration-color: #00d7ff\">None</span>, <span style=\"color: #00af00; text-decoration-color: #00af00\">19</span>, <span style=\"color: #00af00; text-decoration-color: #00af00\">128</span>)        │             <span style=\"color: #00af00; text-decoration-color: #00af00\">0</span> │\n",
              "├─────────────────────────────────┼────────────────────────┼───────────────┤\n",
              "│ conv1d_23 (<span style=\"color: #0087ff; text-decoration-color: #0087ff\">Conv1D</span>)              │ (<span style=\"color: #00d7ff; text-decoration-color: #00d7ff\">None</span>, <span style=\"color: #00af00; text-decoration-color: #00af00\">17</span>, <span style=\"color: #00af00; text-decoration-color: #00af00\">256</span>)        │        <span style=\"color: #00af00; text-decoration-color: #00af00\">98,560</span> │\n",
              "├─────────────────────────────────┼────────────────────────┼───────────────┤\n",
              "│ batch_normalization_37          │ (<span style=\"color: #00d7ff; text-decoration-color: #00d7ff\">None</span>, <span style=\"color: #00af00; text-decoration-color: #00af00\">17</span>, <span style=\"color: #00af00; text-decoration-color: #00af00\">256</span>)        │         <span style=\"color: #00af00; text-decoration-color: #00af00\">1,024</span> │\n",
              "│ (<span style=\"color: #0087ff; text-decoration-color: #0087ff\">BatchNormalization</span>)            │                        │               │\n",
              "├─────────────────────────────────┼────────────────────────┼───────────────┤\n",
              "│ max_pooling1d_23 (<span style=\"color: #0087ff; text-decoration-color: #0087ff\">MaxPooling1D</span>) │ (<span style=\"color: #00d7ff; text-decoration-color: #00d7ff\">None</span>, <span style=\"color: #00af00; text-decoration-color: #00af00\">8</span>, <span style=\"color: #00af00; text-decoration-color: #00af00\">256</span>)         │             <span style=\"color: #00af00; text-decoration-color: #00af00\">0</span> │\n",
              "├─────────────────────────────────┼────────────────────────┼───────────────┤\n",
              "│ dropout_44 (<span style=\"color: #0087ff; text-decoration-color: #0087ff\">Dropout</span>)            │ (<span style=\"color: #00d7ff; text-decoration-color: #00d7ff\">None</span>, <span style=\"color: #00af00; text-decoration-color: #00af00\">8</span>, <span style=\"color: #00af00; text-decoration-color: #00af00\">256</span>)         │             <span style=\"color: #00af00; text-decoration-color: #00af00\">0</span> │\n",
              "├─────────────────────────────────┼────────────────────────┼───────────────┤\n",
              "│ flatten_7 (<span style=\"color: #0087ff; text-decoration-color: #0087ff\">Flatten</span>)             │ (<span style=\"color: #00d7ff; text-decoration-color: #00d7ff\">None</span>, <span style=\"color: #00af00; text-decoration-color: #00af00\">2048</span>)           │             <span style=\"color: #00af00; text-decoration-color: #00af00\">0</span> │\n",
              "├─────────────────────────────────┼────────────────────────┼───────────────┤\n",
              "│ dense_28 (<span style=\"color: #0087ff; text-decoration-color: #0087ff\">Dense</span>)                │ (<span style=\"color: #00d7ff; text-decoration-color: #00d7ff\">None</span>, <span style=\"color: #00af00; text-decoration-color: #00af00\">512</span>)            │     <span style=\"color: #00af00; text-decoration-color: #00af00\">1,049,088</span> │\n",
              "├─────────────────────────────────┼────────────────────────┼───────────────┤\n",
              "│ batch_normalization_38          │ (<span style=\"color: #00d7ff; text-decoration-color: #00d7ff\">None</span>, <span style=\"color: #00af00; text-decoration-color: #00af00\">512</span>)            │         <span style=\"color: #00af00; text-decoration-color: #00af00\">2,048</span> │\n",
              "│ (<span style=\"color: #0087ff; text-decoration-color: #0087ff\">BatchNormalization</span>)            │                        │               │\n",
              "├─────────────────────────────────┼────────────────────────┼───────────────┤\n",
              "│ dropout_45 (<span style=\"color: #0087ff; text-decoration-color: #0087ff\">Dropout</span>)            │ (<span style=\"color: #00d7ff; text-decoration-color: #00d7ff\">None</span>, <span style=\"color: #00af00; text-decoration-color: #00af00\">512</span>)            │             <span style=\"color: #00af00; text-decoration-color: #00af00\">0</span> │\n",
              "├─────────────────────────────────┼────────────────────────┼───────────────┤\n",
              "│ dense_29 (<span style=\"color: #0087ff; text-decoration-color: #0087ff\">Dense</span>)                │ (<span style=\"color: #00d7ff; text-decoration-color: #00d7ff\">None</span>, <span style=\"color: #00af00; text-decoration-color: #00af00\">256</span>)            │       <span style=\"color: #00af00; text-decoration-color: #00af00\">131,328</span> │\n",
              "├─────────────────────────────────┼────────────────────────┼───────────────┤\n",
              "│ batch_normalization_39          │ (<span style=\"color: #00d7ff; text-decoration-color: #00d7ff\">None</span>, <span style=\"color: #00af00; text-decoration-color: #00af00\">256</span>)            │         <span style=\"color: #00af00; text-decoration-color: #00af00\">1,024</span> │\n",
              "│ (<span style=\"color: #0087ff; text-decoration-color: #0087ff\">BatchNormalization</span>)            │                        │               │\n",
              "├─────────────────────────────────┼────────────────────────┼───────────────┤\n",
              "│ dropout_46 (<span style=\"color: #0087ff; text-decoration-color: #0087ff\">Dropout</span>)            │ (<span style=\"color: #00d7ff; text-decoration-color: #00d7ff\">None</span>, <span style=\"color: #00af00; text-decoration-color: #00af00\">256</span>)            │             <span style=\"color: #00af00; text-decoration-color: #00af00\">0</span> │\n",
              "├─────────────────────────────────┼────────────────────────┼───────────────┤\n",
              "│ dense_30 (<span style=\"color: #0087ff; text-decoration-color: #0087ff\">Dense</span>)                │ (<span style=\"color: #00d7ff; text-decoration-color: #00d7ff\">None</span>, <span style=\"color: #00af00; text-decoration-color: #00af00\">128</span>)            │        <span style=\"color: #00af00; text-decoration-color: #00af00\">32,896</span> │\n",
              "├─────────────────────────────────┼────────────────────────┼───────────────┤\n",
              "│ dropout_47 (<span style=\"color: #0087ff; text-decoration-color: #0087ff\">Dropout</span>)            │ (<span style=\"color: #00d7ff; text-decoration-color: #00d7ff\">None</span>, <span style=\"color: #00af00; text-decoration-color: #00af00\">128</span>)            │             <span style=\"color: #00af00; text-decoration-color: #00af00\">0</span> │\n",
              "├─────────────────────────────────┼────────────────────────┼───────────────┤\n",
              "│ dense_31 (<span style=\"color: #0087ff; text-decoration-color: #0087ff\">Dense</span>)                │ (<span style=\"color: #00d7ff; text-decoration-color: #00d7ff\">None</span>, <span style=\"color: #00af00; text-decoration-color: #00af00\">3</span>)              │           <span style=\"color: #00af00; text-decoration-color: #00af00\">387</span> │\n",
              "└─────────────────────────────────┴────────────────────────┴───────────────┘\n",
              "</pre>\n"
            ]
          },
          "metadata": {}
        },
        {
          "output_type": "display_data",
          "data": {
            "text/plain": [
              "\u001b[1m Total params: \u001b[0m\u001b[38;5;34m1,342,083\u001b[0m (5.12 MB)\n"
            ],
            "text/html": [
              "<pre style=\"white-space:pre;overflow-x:auto;line-height:normal;font-family:Menlo,'DejaVu Sans Mono',consolas,'Courier New',monospace\"><span style=\"font-weight: bold\"> Total params: </span><span style=\"color: #00af00; text-decoration-color: #00af00\">1,342,083</span> (5.12 MB)\n",
              "</pre>\n"
            ]
          },
          "metadata": {}
        },
        {
          "output_type": "display_data",
          "data": {
            "text/plain": [
              "\u001b[1m Trainable params: \u001b[0m\u001b[38;5;34m1,339,651\u001b[0m (5.11 MB)\n"
            ],
            "text/html": [
              "<pre style=\"white-space:pre;overflow-x:auto;line-height:normal;font-family:Menlo,'DejaVu Sans Mono',consolas,'Courier New',monospace\"><span style=\"font-weight: bold\"> Trainable params: </span><span style=\"color: #00af00; text-decoration-color: #00af00\">1,339,651</span> (5.11 MB)\n",
              "</pre>\n"
            ]
          },
          "metadata": {}
        },
        {
          "output_type": "display_data",
          "data": {
            "text/plain": [
              "\u001b[1m Non-trainable params: \u001b[0m\u001b[38;5;34m2,432\u001b[0m (9.50 KB)\n"
            ],
            "text/html": [
              "<pre style=\"white-space:pre;overflow-x:auto;line-height:normal;font-family:Menlo,'DejaVu Sans Mono',consolas,'Courier New',monospace\"><span style=\"font-weight: bold\"> Non-trainable params: </span><span style=\"color: #00af00; text-decoration-color: #00af00\">2,432</span> (9.50 KB)\n",
              "</pre>\n"
            ]
          },
          "metadata": {}
        }
      ]
    },
    {
      "cell_type": "code",
      "source": [
        "\n",
        "# =====================================================================\n",
        "# STEP 8: SETUP TRAINING CALLBACKS\n",
        "# =====================================================================\n",
        "\n",
        "print(\"\\n⚙️ Step 8: Setting up training callbacks...\")\n",
        "\n",
        "# Early stopping to prevent overfitting\n",
        "early_stopping = EarlyStopping(\n",
        "    monitor='val_loss',\n",
        "    patience=15,\n",
        "    restore_best_weights=True,\n",
        "    verbose=1\n",
        ")\n",
        "\n",
        "# Reduce learning rate when stuck\n",
        "reduce_lr = ReduceLROnPlateau(\n",
        "    monitor='val_loss',\n",
        "    factor=0.5,\n",
        "    patience=8,\n",
        "    min_lr=0.00001,\n",
        "    verbose=1\n",
        ")\n",
        "\n",
        "print(\"✅ Callbacks configured:\")\n",
        "print(\"- Early stopping with patience=15\")\n",
        "print(\"- Learning rate reduction with patience=8\")"
      ],
      "metadata": {
        "colab": {
          "base_uri": "https://localhost:8080/"
        },
        "id": "oG6yeA2SdaMZ",
        "outputId": "f04a761d-682d-4a17-fbd5-03e23e914714"
      },
      "execution_count": 122,
      "outputs": [
        {
          "output_type": "stream",
          "name": "stdout",
          "text": [
            "\n",
            "⚙️ Step 8: Setting up training callbacks...\n",
            "✅ Callbacks configured:\n",
            "- Early stopping with patience=15\n",
            "- Learning rate reduction with patience=8\n"
          ]
        }
      ]
    },
    {
      "cell_type": "code",
      "source": [
        "\n",
        "\n",
        "# =====================================================================\n",
        "# STEP 9: TRAIN THE MODEL\n",
        "# =====================================================================\n",
        "\n",
        "print(\"\\n🚀 Step 9: Training the model...\")\n",
        "\n",
        "# Set training parameters\n",
        "EPOCHS = 50\n",
        "BATCH_SIZE = 32\n",
        "\n",
        "print(f\"Training parameters:\")\n",
        "print(f\"- Epochs: {EPOCHS}\")\n",
        "print(f\"- Batch size: {BATCH_SIZE}\")\n",
        "print(f\"- Training samples: {len(X_train_cnn)}\")\n",
        "print(f\"- Validation samples: {len(X_val_cnn)}\")\n",
        "\n",
        "# Train the model\n",
        "history = model.fit(\n",
        "    X_train_cnn, y_train_cat,\n",
        "    validation_data=(X_val_cnn, y_val_cat),\n",
        "    epochs=EPOCHS,\n",
        "    batch_size=BATCH_SIZE,\n",
        "    callbacks=[early_stopping, reduce_lr],\n",
        "    verbose=1\n",
        ")\n",
        "\n",
        "print(\"✅ Model training completed!\")"
      ],
      "metadata": {
        "colab": {
          "base_uri": "https://localhost:8080/"
        },
        "id": "AXM56VLJdlWC",
        "outputId": "70fb2539-bcea-4947-a471-6330a3285c1e"
      },
      "execution_count": 123,
      "outputs": [
        {
          "output_type": "stream",
          "name": "stdout",
          "text": [
            "\n",
            "🚀 Step 9: Training the model...\n",
            "Training parameters:\n",
            "- Epochs: 50\n",
            "- Batch size: 32\n",
            "- Training samples: 3942\n",
            "- Validation samples: 845\n",
            "Epoch 1/50\n",
            "\u001b[1m124/124\u001b[0m \u001b[32m━━━━━━━━━━━━━━━━━━━━\u001b[0m\u001b[37m\u001b[0m \u001b[1m13s\u001b[0m 53ms/step - accuracy: 0.3534 - loss: 1.8130 - val_accuracy: 0.3562 - val_loss: 1.1085 - learning_rate: 0.0010\n",
            "Epoch 2/50\n",
            "\u001b[1m124/124\u001b[0m \u001b[32m━━━━━━━━━━━━━━━━━━━━\u001b[0m\u001b[37m\u001b[0m \u001b[1m6s\u001b[0m 51ms/step - accuracy: 0.4140 - loss: 1.3244 - val_accuracy: 0.4166 - val_loss: 1.1073 - learning_rate: 0.0010\n",
            "Epoch 3/50\n",
            "\u001b[1m124/124\u001b[0m \u001b[32m━━━━━━━━━━━━━━━━━━━━\u001b[0m\u001b[37m\u001b[0m \u001b[1m7s\u001b[0m 55ms/step - accuracy: 0.4619 - loss: 1.1541 - val_accuracy: 0.5408 - val_loss: 0.9666 - learning_rate: 0.0010\n",
            "Epoch 4/50\n",
            "\u001b[1m124/124\u001b[0m \u001b[32m━━━━━━━━━━━━━━━━━━━━\u001b[0m\u001b[37m\u001b[0m \u001b[1m11s\u001b[0m 61ms/step - accuracy: 0.5440 - loss: 0.9776 - val_accuracy: 0.6249 - val_loss: 0.8099 - learning_rate: 0.0010\n",
            "Epoch 5/50\n",
            "\u001b[1m124/124\u001b[0m \u001b[32m━━━━━━━━━━━━━━━━━━━━\u001b[0m\u001b[37m\u001b[0m \u001b[1m8s\u001b[0m 45ms/step - accuracy: 0.6103 - loss: 0.8800 - val_accuracy: 0.6497 - val_loss: 0.7600 - learning_rate: 0.0010\n",
            "Epoch 6/50\n",
            "\u001b[1m124/124\u001b[0m \u001b[32m━━━━━━━━━━━━━━━━━━━━\u001b[0m\u001b[37m\u001b[0m \u001b[1m11s\u001b[0m 47ms/step - accuracy: 0.6355 - loss: 0.8039 - val_accuracy: 0.6663 - val_loss: 0.7262 - learning_rate: 0.0010\n",
            "Epoch 7/50\n",
            "\u001b[1m124/124\u001b[0m \u001b[32m━━━━━━━━━━━━━━━━━━━━\u001b[0m\u001b[37m\u001b[0m \u001b[1m8s\u001b[0m 64ms/step - accuracy: 0.6394 - loss: 0.7971 - val_accuracy: 0.6734 - val_loss: 0.7032 - learning_rate: 0.0010\n",
            "Epoch 8/50\n",
            "\u001b[1m124/124\u001b[0m \u001b[32m━━━━━━━━━━━━━━━━━━━━\u001b[0m\u001b[37m\u001b[0m \u001b[1m6s\u001b[0m 48ms/step - accuracy: 0.6541 - loss: 0.7594 - val_accuracy: 0.6805 - val_loss: 0.6661 - learning_rate: 0.0010\n",
            "Epoch 9/50\n",
            "\u001b[1m124/124\u001b[0m \u001b[32m━━━━━━━━━━━━━━━━━━━━\u001b[0m\u001b[37m\u001b[0m \u001b[1m7s\u001b[0m 59ms/step - accuracy: 0.6849 - loss: 0.7165 - val_accuracy: 0.7018 - val_loss: 0.6394 - learning_rate: 0.0010\n",
            "Epoch 10/50\n",
            "\u001b[1m124/124\u001b[0m \u001b[32m━━━━━━━━━━━━━━━━━━━━\u001b[0m\u001b[37m\u001b[0m \u001b[1m6s\u001b[0m 51ms/step - accuracy: 0.6946 - loss: 0.6780 - val_accuracy: 0.7136 - val_loss: 0.6276 - learning_rate: 0.0010\n",
            "Epoch 11/50\n",
            "\u001b[1m124/124\u001b[0m \u001b[32m━━━━━━━━━━━━━━━━━━━━\u001b[0m\u001b[37m\u001b[0m \u001b[1m7s\u001b[0m 52ms/step - accuracy: 0.7126 - loss: 0.6594 - val_accuracy: 0.7183 - val_loss: 0.5999 - learning_rate: 0.0010\n",
            "Epoch 12/50\n",
            "\u001b[1m124/124\u001b[0m \u001b[32m━━━━━━━━━━━━━━━━━━━━\u001b[0m\u001b[37m\u001b[0m \u001b[1m7s\u001b[0m 55ms/step - accuracy: 0.7255 - loss: 0.6324 - val_accuracy: 0.7479 - val_loss: 0.5601 - learning_rate: 0.0010\n",
            "Epoch 13/50\n",
            "\u001b[1m124/124\u001b[0m \u001b[32m━━━━━━━━━━━━━━━━━━━━\u001b[0m\u001b[37m\u001b[0m \u001b[1m11s\u001b[0m 62ms/step - accuracy: 0.7340 - loss: 0.6070 - val_accuracy: 0.7456 - val_loss: 0.5561 - learning_rate: 0.0010\n",
            "Epoch 14/50\n",
            "\u001b[1m124/124\u001b[0m \u001b[32m━━━━━━━━━━━━━━━━━━━━\u001b[0m\u001b[37m\u001b[0m \u001b[1m8s\u001b[0m 48ms/step - accuracy: 0.7454 - loss: 0.6030 - val_accuracy: 0.7621 - val_loss: 0.5295 - learning_rate: 0.0010\n",
            "Epoch 15/50\n",
            "\u001b[1m124/124\u001b[0m \u001b[32m━━━━━━━━━━━━━━━━━━━━\u001b[0m\u001b[37m\u001b[0m \u001b[1m10s\u001b[0m 47ms/step - accuracy: 0.7496 - loss: 0.5924 - val_accuracy: 0.7799 - val_loss: 0.5033 - learning_rate: 0.0010\n",
            "Epoch 16/50\n",
            "\u001b[1m124/124\u001b[0m \u001b[32m━━━━━━━━━━━━━━━━━━━━\u001b[0m\u001b[37m\u001b[0m \u001b[1m11s\u001b[0m 52ms/step - accuracy: 0.7473 - loss: 0.5497 - val_accuracy: 0.7988 - val_loss: 0.4896 - learning_rate: 0.0010\n",
            "Epoch 17/50\n",
            "\u001b[1m124/124\u001b[0m \u001b[32m━━━━━━━━━━━━━━━━━━━━\u001b[0m\u001b[37m\u001b[0m \u001b[1m11s\u001b[0m 61ms/step - accuracy: 0.7635 - loss: 0.5563 - val_accuracy: 0.7905 - val_loss: 0.4909 - learning_rate: 0.0010\n",
            "Epoch 18/50\n",
            "\u001b[1m124/124\u001b[0m \u001b[32m━━━━━━━━━━━━━━━━━━━━\u001b[0m\u001b[37m\u001b[0m \u001b[1m8s\u001b[0m 46ms/step - accuracy: 0.7779 - loss: 0.5200 - val_accuracy: 0.8047 - val_loss: 0.4720 - learning_rate: 0.0010\n",
            "Epoch 19/50\n",
            "\u001b[1m124/124\u001b[0m \u001b[32m━━━━━━━━━━━━━━━━━━━━\u001b[0m\u001b[37m\u001b[0m \u001b[1m8s\u001b[0m 61ms/step - accuracy: 0.7905 - loss: 0.5063 - val_accuracy: 0.8012 - val_loss: 0.4474 - learning_rate: 0.0010\n",
            "Epoch 20/50\n",
            "\u001b[1m124/124\u001b[0m \u001b[32m━━━━━━━━━━━━━━━━━━━━\u001b[0m\u001b[37m\u001b[0m \u001b[1m6s\u001b[0m 46ms/step - accuracy: 0.8021 - loss: 0.4800 - val_accuracy: 0.8130 - val_loss: 0.4318 - learning_rate: 0.0010\n",
            "Epoch 21/50\n",
            "\u001b[1m124/124\u001b[0m \u001b[32m━━━━━━━━━━━━━━━━━━━━\u001b[0m\u001b[37m\u001b[0m \u001b[1m8s\u001b[0m 62ms/step - accuracy: 0.8009 - loss: 0.4821 - val_accuracy: 0.8367 - val_loss: 0.4208 - learning_rate: 0.0010\n",
            "Epoch 22/50\n",
            "\u001b[1m124/124\u001b[0m \u001b[32m━━━━━━━━━━━━━━━━━━━━\u001b[0m\u001b[37m\u001b[0m \u001b[1m9s\u001b[0m 50ms/step - accuracy: 0.8170 - loss: 0.4492 - val_accuracy: 0.8343 - val_loss: 0.4048 - learning_rate: 0.0010\n",
            "Epoch 23/50\n",
            "\u001b[1m124/124\u001b[0m \u001b[32m━━━━━━━━━━━━━━━━━━━━\u001b[0m\u001b[37m\u001b[0m \u001b[1m7s\u001b[0m 59ms/step - accuracy: 0.8095 - loss: 0.4542 - val_accuracy: 0.8213 - val_loss: 0.4222 - learning_rate: 0.0010\n",
            "Epoch 24/50\n",
            "\u001b[1m124/124\u001b[0m \u001b[32m━━━━━━━━━━━━━━━━━━━━\u001b[0m\u001b[37m\u001b[0m \u001b[1m6s\u001b[0m 46ms/step - accuracy: 0.8234 - loss: 0.4269 - val_accuracy: 0.8320 - val_loss: 0.4083 - learning_rate: 0.0010\n",
            "Epoch 25/50\n",
            "\u001b[1m124/124\u001b[0m \u001b[32m━━━━━━━━━━━━━━━━━━━━\u001b[0m\u001b[37m\u001b[0m \u001b[1m10s\u001b[0m 46ms/step - accuracy: 0.8286 - loss: 0.4347 - val_accuracy: 0.8331 - val_loss: 0.4023 - learning_rate: 0.0010\n",
            "Epoch 26/50\n",
            "\u001b[1m124/124\u001b[0m \u001b[32m━━━━━━━━━━━━━━━━━━━━\u001b[0m\u001b[37m\u001b[0m \u001b[1m8s\u001b[0m 61ms/step - accuracy: 0.8452 - loss: 0.4029 - val_accuracy: 0.8426 - val_loss: 0.3870 - learning_rate: 0.0010\n",
            "Epoch 27/50\n",
            "\u001b[1m124/124\u001b[0m \u001b[32m━━━━━━━━━━━━━━━━━━━━\u001b[0m\u001b[37m\u001b[0m \u001b[1m6s\u001b[0m 47ms/step - accuracy: 0.8368 - loss: 0.4034 - val_accuracy: 0.8379 - val_loss: 0.3895 - learning_rate: 0.0010\n",
            "Epoch 28/50\n",
            "\u001b[1m124/124\u001b[0m \u001b[32m━━━━━━━━━━━━━━━━━━━━\u001b[0m\u001b[37m\u001b[0m \u001b[1m7s\u001b[0m 57ms/step - accuracy: 0.8463 - loss: 0.3847 - val_accuracy: 0.8462 - val_loss: 0.3935 - learning_rate: 0.0010\n",
            "Epoch 29/50\n",
            "\u001b[1m124/124\u001b[0m \u001b[32m━━━━━━━━━━━━━━━━━━━━\u001b[0m\u001b[37m\u001b[0m \u001b[1m7s\u001b[0m 52ms/step - accuracy: 0.8474 - loss: 0.3712 - val_accuracy: 0.8426 - val_loss: 0.3796 - learning_rate: 0.0010\n",
            "Epoch 30/50\n",
            "\u001b[1m124/124\u001b[0m \u001b[32m━━━━━━━━━━━━━━━━━━━━\u001b[0m\u001b[37m\u001b[0m \u001b[1m7s\u001b[0m 54ms/step - accuracy: 0.8421 - loss: 0.3948 - val_accuracy: 0.8568 - val_loss: 0.3744 - learning_rate: 0.0010\n",
            "Epoch 31/50\n",
            "\u001b[1m124/124\u001b[0m \u001b[32m━━━━━━━━━━━━━━━━━━━━\u001b[0m\u001b[37m\u001b[0m \u001b[1m7s\u001b[0m 59ms/step - accuracy: 0.8468 - loss: 0.3838 - val_accuracy: 0.8509 - val_loss: 0.3665 - learning_rate: 0.0010\n",
            "Epoch 32/50\n",
            "\u001b[1m124/124\u001b[0m \u001b[32m━━━━━━━━━━━━━━━━━━━━\u001b[0m\u001b[37m\u001b[0m \u001b[1m11s\u001b[0m 63ms/step - accuracy: 0.8535 - loss: 0.3623 - val_accuracy: 0.8462 - val_loss: 0.3802 - learning_rate: 0.0010\n",
            "Epoch 33/50\n",
            "\u001b[1m124/124\u001b[0m \u001b[32m━━━━━━━━━━━━━━━━━━━━\u001b[0m\u001b[37m\u001b[0m \u001b[1m8s\u001b[0m 47ms/step - accuracy: 0.8431 - loss: 0.3819 - val_accuracy: 0.8521 - val_loss: 0.3709 - learning_rate: 0.0010\n",
            "Epoch 34/50\n",
            "\u001b[1m124/124\u001b[0m \u001b[32m━━━━━━━━━━━━━━━━━━━━\u001b[0m\u001b[37m\u001b[0m \u001b[1m8s\u001b[0m 62ms/step - accuracy: 0.8546 - loss: 0.3637 - val_accuracy: 0.8485 - val_loss: 0.3932 - learning_rate: 0.0010\n",
            "Epoch 35/50\n",
            "\u001b[1m124/124\u001b[0m \u001b[32m━━━━━━━━━━━━━━━━━━━━\u001b[0m\u001b[37m\u001b[0m \u001b[1m6s\u001b[0m 47ms/step - accuracy: 0.8500 - loss: 0.3651 - val_accuracy: 0.8485 - val_loss: 0.3756 - learning_rate: 0.0010\n",
            "Epoch 36/50\n",
            "\u001b[1m124/124\u001b[0m \u001b[32m━━━━━━━━━━━━━━━━━━━━\u001b[0m\u001b[37m\u001b[0m \u001b[1m10s\u001b[0m 48ms/step - accuracy: 0.8506 - loss: 0.3567 - val_accuracy: 0.8627 - val_loss: 0.3744 - learning_rate: 0.0010\n",
            "Epoch 37/50\n",
            "\u001b[1m124/124\u001b[0m \u001b[32m━━━━━━━━━━━━━━━━━━━━\u001b[0m\u001b[37m\u001b[0m \u001b[1m12s\u001b[0m 60ms/step - accuracy: 0.8592 - loss: 0.3505 - val_accuracy: 0.8627 - val_loss: 0.3612 - learning_rate: 0.0010\n",
            "Epoch 38/50\n",
            "\u001b[1m124/124\u001b[0m \u001b[32m━━━━━━━━━━━━━━━━━━━━\u001b[0m\u001b[37m\u001b[0m \u001b[1m10s\u001b[0m 57ms/step - accuracy: 0.8656 - loss: 0.3415 - val_accuracy: 0.8627 - val_loss: 0.3617 - learning_rate: 0.0010\n",
            "Epoch 39/50\n",
            "\u001b[1m124/124\u001b[0m \u001b[32m━━━━━━━━━━━━━━━━━━━━\u001b[0m\u001b[37m\u001b[0m \u001b[1m9s\u001b[0m 48ms/step - accuracy: 0.8525 - loss: 0.3391 - val_accuracy: 0.8509 - val_loss: 0.3718 - learning_rate: 0.0010\n",
            "Epoch 40/50\n",
            "\u001b[1m124/124\u001b[0m \u001b[32m━━━━━━━━━━━━━━━━━━━━\u001b[0m\u001b[37m\u001b[0m \u001b[1m10s\u001b[0m 47ms/step - accuracy: 0.8642 - loss: 0.3280 - val_accuracy: 0.8580 - val_loss: 0.3657 - learning_rate: 0.0010\n",
            "Epoch 41/50\n",
            "\u001b[1m124/124\u001b[0m \u001b[32m━━━━━━━━━━━━━━━━━━━━\u001b[0m\u001b[37m\u001b[0m \u001b[1m7s\u001b[0m 56ms/step - accuracy: 0.8683 - loss: 0.3219 - val_accuracy: 0.8627 - val_loss: 0.3831 - learning_rate: 0.0010\n",
            "Epoch 42/50\n",
            "\u001b[1m124/124\u001b[0m \u001b[32m━━━━━━━━━━━━━━━━━━━━\u001b[0m\u001b[37m\u001b[0m \u001b[1m7s\u001b[0m 53ms/step - accuracy: 0.8766 - loss: 0.3054 - val_accuracy: 0.8663 - val_loss: 0.3654 - learning_rate: 0.0010\n",
            "Epoch 43/50\n",
            "\u001b[1m124/124\u001b[0m \u001b[32m━━━━━━━━━━━━━━━━━━━━\u001b[0m\u001b[37m\u001b[0m \u001b[1m11s\u001b[0m 62ms/step - accuracy: 0.8729 - loss: 0.3184 - val_accuracy: 0.8639 - val_loss: 0.3694 - learning_rate: 0.0010\n",
            "Epoch 44/50\n",
            "\u001b[1m124/124\u001b[0m \u001b[32m━━━━━━━━━━━━━━━━━━━━\u001b[0m\u001b[37m\u001b[0m \u001b[1m8s\u001b[0m 46ms/step - accuracy: 0.8708 - loss: 0.3067 - val_accuracy: 0.8710 - val_loss: 0.3698 - learning_rate: 0.0010\n",
            "Epoch 45/50\n",
            "\u001b[1m124/124\u001b[0m \u001b[32m━━━━━━━━━━━━━━━━━━━━\u001b[0m\u001b[37m\u001b[0m \u001b[1m0s\u001b[0m 43ms/step - accuracy: 0.8747 - loss: 0.2984\n",
            "Epoch 45: ReduceLROnPlateau reducing learning rate to 0.0005000000237487257.\n",
            "\u001b[1m124/124\u001b[0m \u001b[32m━━━━━━━━━━━━━━━━━━━━\u001b[0m\u001b[37m\u001b[0m \u001b[1m10s\u001b[0m 46ms/step - accuracy: 0.8747 - loss: 0.2984 - val_accuracy: 0.8615 - val_loss: 0.3871 - learning_rate: 0.0010\n",
            "Epoch 46/50\n",
            "\u001b[1m124/124\u001b[0m \u001b[32m━━━━━━━━━━━━━━━━━━━━\u001b[0m\u001b[37m\u001b[0m \u001b[1m10s\u001b[0m 47ms/step - accuracy: 0.8764 - loss: 0.2905 - val_accuracy: 0.8675 - val_loss: 0.3566 - learning_rate: 5.0000e-04\n",
            "Epoch 47/50\n",
            "\u001b[1m124/124\u001b[0m \u001b[32m━━━━━━━━━━━━━━━━━━━━\u001b[0m\u001b[37m\u001b[0m \u001b[1m6s\u001b[0m 50ms/step - accuracy: 0.8916 - loss: 0.2737 - val_accuracy: 0.8675 - val_loss: 0.3574 - learning_rate: 5.0000e-04\n",
            "Epoch 48/50\n",
            "\u001b[1m124/124\u001b[0m \u001b[32m━━━━━━━━━━━━━━━━━━━━\u001b[0m\u001b[37m\u001b[0m \u001b[1m10s\u001b[0m 46ms/step - accuracy: 0.9013 - loss: 0.2450 - val_accuracy: 0.8651 - val_loss: 0.3768 - learning_rate: 5.0000e-04\n",
            "Epoch 49/50\n",
            "\u001b[1m124/124\u001b[0m \u001b[32m━━━━━━━━━━━━━━━━━━━━\u001b[0m\u001b[37m\u001b[0m \u001b[1m10s\u001b[0m 46ms/step - accuracy: 0.8976 - loss: 0.2518 - val_accuracy: 0.8710 - val_loss: 0.3590 - learning_rate: 5.0000e-04\n",
            "Epoch 50/50\n",
            "\u001b[1m124/124\u001b[0m \u001b[32m━━━━━━━━━━━━━━━━━━━━\u001b[0m\u001b[37m\u001b[0m \u001b[1m12s\u001b[0m 60ms/step - accuracy: 0.9011 - loss: 0.2380 - val_accuracy: 0.8793 - val_loss: 0.3483 - learning_rate: 5.0000e-04\n",
            "Restoring model weights from the end of the best epoch: 50.\n",
            "✅ Model training completed!\n"
          ]
        }
      ]
    },
    {
      "cell_type": "code",
      "source": [
        "# =====================================================================\n",
        "# STEP 10: PLOT TRAINING HISTORY\n",
        "# =====================================================================\n",
        "\n",
        "print(\"\\n📊 Step 10: Plotting training history...\")\n",
        "\n",
        "# Create training history plots\n",
        "fig, (ax1, ax2) = plt.subplots(1, 2, figsize=(15, 5))\n",
        "\n",
        "# Plot accuracy\n",
        "ax1.plot(history.history['accuracy'], label='Training Accuracy', linewidth=2)\n",
        "ax1.plot(history.history['val_accuracy'], label='Validation Accuracy', linewidth=2)\n",
        "ax1.set_title('Model Accuracy Over Epochs', fontsize=14, fontweight='bold')\n",
        "ax1.set_xlabel('Epoch')\n",
        "ax1.set_ylabel('Accuracy')\n",
        "ax1.legend()\n",
        "ax1.grid(True, alpha=0.3)\n",
        "\n",
        "# Plot loss\n",
        "ax2.plot(history.history['loss'], label='Training Loss', linewidth=2)\n",
        "ax2.plot(history.history['val_loss'], label='Validation Loss', linewidth=2)\n",
        "ax2.set_title('Model Loss Over Epochs', fontsize=14, fontweight='bold')\n",
        "ax2.set_xlabel('Epoch')\n",
        "ax2.set_ylabel('Loss')\n",
        "ax2.legend()\n",
        "ax2.grid(True, alpha=0.3)\n",
        "\n",
        "plt.tight_layout()\n",
        "plt.show()\n",
        "\n",
        "print(\"✅ Training history plotted!\")"
      ],
      "metadata": {
        "colab": {
          "base_uri": "https://localhost:8080/",
          "height": 313
        },
        "id": "s_A9RFDNdl-p",
        "outputId": "d5cf2996-cd7d-40b0-992b-9d9c6e75123d"
      },
      "execution_count": 124,
      "outputs": [
        {
          "output_type": "stream",
          "name": "stdout",
          "text": [
            "\n",
            "📊 Step 10: Plotting training history...\n"
          ]
        },
        {
          "output_type": "display_data",
          "data": {
            "text/plain": [
              "<Figure size 1500x500 with 2 Axes>"
            ],
            "image/png": "[encoded data removed]"
          },
          "metadata": {}
        },
        {
          "output_type": "stream",
          "name": "stdout",
          "text": [
            "✅ Training history plotted!\n"
          ]
        }
      ]
    },
    {
      "cell_type": "code",
      "source": [
        "# =====================================================================\n",
        "# STEP 11: EVALUATE ON VALIDATION SET\n",
        "# =====================================================================\n",
        "\n",
        "print(\"\\n🎯 Step 11: Evaluating on validation set...\")\n",
        "\n",
        "# Make predictions on validation set\n",
        "y_val_pred_proba = model.predict(X_val_cnn)\n",
        "y_val_pred = np.argmax(y_val_pred_proba, axis=1)\n",
        "\n",
        "# Calculate metrics\n",
        "val_accuracy = accuracy_score(y_val, y_val_pred)\n",
        "val_precision = precision_score(y_val, y_val_pred, average='macro')\n",
        "val_recall = recall_score(y_val, y_val_pred, average='macro')\n",
        "val_f1_macro = f1_score(y_val, y_val_pred, average='macro')\n",
        "val_f1_weighted = f1_score(y_val, y_val_pred, average='weighted')\n",
        "\n",
        "print(\"📊 VALIDATION SET RESULTS:\")\n",
        "print(\"=\" * 50)\n",
        "print(f\"Accuracy: {val_accuracy:.4f}\")\n",
        "print(f\"Precision (Macro): {val_precision:.4f}\")\n",
        "print(f\"Recall (Macro): {val_recall:.4f}\")\n",
        "print(f\"F1 Score (Macro): {val_f1_macro:.4f}\")\n",
        "print(f\"F1 Score (Weighted): {val_f1_weighted:.4f}\")\n",
        "\n",
        "# Classification report\n",
        "print(f\"\\n📋 Validation Classification Report:\")\n",
        "class_names = label_encoder.classes_\n",
        "print(classification_report(y_val, y_val_pred, target_names=class_names))\n"
      ],
      "metadata": {
        "colab": {
          "base_uri": "https://localhost:8080/"
        },
        "id": "fY_d7RL7dt9E",
        "outputId": "d3251e1c-258b-4a95-c6ec-4556dd2bce2f"
      },
      "execution_count": 125,
      "outputs": [
        {
          "output_type": "stream",
          "name": "stdout",
          "text": [
            "\n",
            "🎯 Step 11: Evaluating on validation set...\n",
            "\u001b[1m27/27\u001b[0m \u001b[32m━━━━━━━━━━━━━━━━━━━━\u001b[0m\u001b[37m\u001b[0m \u001b[1m1s\u001b[0m 17ms/step\n",
            "📊 VALIDATION SET RESULTS:\n",
            "==================================================\n",
            "Accuracy: 0.8793\n",
            "Precision (Macro): 0.8797\n",
            "Recall (Macro): 0.8799\n",
            "F1 Score (Macro): 0.8798\n",
            "F1 Score (Weighted): 0.8791\n",
            "\n",
            "📋 Validation Classification Report:\n",
            "              precision    recall  f1-score   support\n",
            "\n",
            "        high       0.89      0.87      0.88       276\n",
            "         low       0.92      0.94      0.93       279\n",
            "      medium       0.83      0.83      0.83       290\n",
            "\n",
            "    accuracy                           0.88       845\n",
            "   macro avg       0.88      0.88      0.88       845\n",
            "weighted avg       0.88      0.88      0.88       845\n",
            "\n"
          ]
        }
      ]
    },
    {
      "cell_type": "code",
      "source": [
        "\n",
        "\n",
        "# =====================================================================\n",
        "# STEP 12: PLOT VALIDATION CONFUSION MATRIX\n",
        "# =====================================================================\n",
        "\n",
        "print(\"\\n🔍 Step 12: Plotting validation confusion matrix...\")\n",
        "\n",
        "# Create confusion matrix\n",
        "val_cm = confusion_matrix(y_val, y_val_pred)\n",
        "\n",
        "plt.figure(figsize=(5, 3))\n",
        "sns.heatmap(val_cm, annot=True, fmt='d', cmap='Blues',\n",
        "           xticklabels=class_names, yticklabels=class_names)\n",
        "plt.title('Validation Set - Confusion Matrix', fontsize=14, fontweight='bold')\n",
        "plt.xlabel('Predicted')\n",
        "plt.ylabel('Actual')\n",
        "plt.tight_layout()\n",
        "plt.show()\n",
        "\n",
        "print(\"✅ Validation confusion matrix plotted!\")"
      ],
      "metadata": {
        "colab": {
          "base_uri": "https://localhost:8080/",
          "height": 359
        },
        "id": "-rkoBZ78dwZS",
        "outputId": "48a100f7-ee3b-433f-c7c1-3cd3e63000c3"
      },
      "execution_count": 126,
      "outputs": [
        {
          "output_type": "stream",
          "name": "stdout",
          "text": [
            "\n",
            "🔍 Step 12: Plotting validation confusion matrix...\n"
          ]
        },
        {
          "output_type": "display_data",
          "data": {
            "text/plain": [
              "<Figure size 500x300 with 2 Axes>"
            ],
            "image/png": "[encoded data removed]"
          },
          "metadata": {}
        },
        {
          "output_type": "stream",
          "name": "stdout",
          "text": [
            "✅ Validation confusion matrix plotted!\n"
          ]
        }
      ]
    },
    {
      "cell_type": "code",
      "source": [
        "\n",
        "\n",
        "# =====================================================================\n",
        "# STEP 13: EVALUATE ON TEST SET\n",
        "# =====================================================================\n",
        "\n",
        "print(\"\\n🏁 Step 13: Evaluating on test set...\")\n",
        "\n",
        "# Make predictions on test set\n",
        "y_test_pred_proba = model.predict(X_test_cnn)\n",
        "y_test_pred = np.argmax(y_test_pred_proba, axis=1)\n",
        "\n",
        "# Calculate metrics\n",
        "test_accuracy = accuracy_score(y_test, y_test_pred)\n",
        "test_precision = precision_score(y_test, y_test_pred, average='macro')\n",
        "test_recall = recall_score(y_test, y_test_pred, average='macro')\n",
        "test_f1_macro = f1_score(y_test, y_test_pred, average='macro')\n",
        "test_f1_weighted = f1_score(y_test, y_test_pred, average='weighted')\n",
        "\n",
        "print(\"📊 TEST SET RESULTS:\")\n",
        "print(\"=\" * 50)\n",
        "print(f\"Accuracy: {test_accuracy:.4f}\")\n",
        "print(f\"Precision (Macro): {test_precision:.4f}\")\n",
        "print(f\"Recall (Macro): {test_recall:.4f}\")\n",
        "print(f\"F1 Score (Macro): {test_f1_macro:.4f}\")\n",
        "print(f\"F1 Score (Weighted): {test_f1_weighted:.4f}\")\n",
        "\n",
        "# Classification report\n",
        "print(f\"\\n📋 Test Classification Report:\")\n",
        "print(classification_report(y_test, y_test_pred, target_names=class_names))\n"
      ],
      "metadata": {
        "colab": {
          "base_uri": "https://localhost:8080/"
        },
        "id": "W44zVm81dzJ5",
        "outputId": "e89137ef-9979-4a88-d543-f20f090a7ef6"
      },
      "execution_count": 127,
      "outputs": [
        {
          "output_type": "stream",
          "name": "stdout",
          "text": [
            "\n",
            "🏁 Step 13: Evaluating on test set...\n",
            "\u001b[1m27/27\u001b[0m \u001b[32m━━━━━━━━━━━━━━━━━━━━\u001b[0m\u001b[37m\u001b[0m \u001b[1m0s\u001b[0m 10ms/step\n",
            "📊 TEST SET RESULTS:\n",
            "==================================================\n",
            "Accuracy: 0.9101\n",
            "Precision (Macro): 0.9100\n",
            "Recall (Macro): 0.9088\n",
            "F1 Score (Macro): 0.9090\n",
            "F1 Score (Weighted): 0.9095\n",
            "\n",
            "📋 Test Classification Report:\n",
            "              precision    recall  f1-score   support\n",
            "\n",
            "        high       0.90      0.94      0.92       300\n",
            "         low       0.94      0.95      0.95       275\n",
            "      medium       0.89      0.84      0.86       270\n",
            "\n",
            "    accuracy                           0.91       845\n",
            "   macro avg       0.91      0.91      0.91       845\n",
            "weighted avg       0.91      0.91      0.91       845\n",
            "\n"
          ]
        }
      ]
    },
    {
      "cell_type": "code",
      "source": [
        "\n",
        "# =====================================================================\n",
        "# STEP 14: PLOT TEST CONFUSION MATRIX\n",
        "# =====================================================================\n",
        "\n",
        "print(\"\\n🔍 Step 14: Plotting test confusion matrix...\")\n",
        "\n",
        "# Create confusion matrix\n",
        "test_cm = confusion_matrix(y_test, y_test_pred)\n",
        "\n",
        "plt.figure(figsize=(5, 3))\n",
        "sns.heatmap(test_cm, annot=True, fmt='d', cmap='Greens',\n",
        "           xticklabels=class_names, yticklabels=class_names)\n",
        "plt.title('Test Set - Confusion Matrix', fontsize=14, fontweight='bold')\n",
        "plt.xlabel('Predicted')\n",
        "plt.ylabel('Actual')\n",
        "plt.tight_layout()\n",
        "plt.show()\n",
        "\n",
        "print(\"✅ Test confusion matrix plotted!\")"
      ],
      "metadata": {
        "colab": {
          "base_uri": "https://localhost:8080/",
          "height": 359
        },
        "id": "JqJR2-cMd2OT",
        "outputId": "ea20f39e-8678-400b-aee0-7bc68a0cd901"
      },
      "execution_count": 128,
      "outputs": [
        {
          "output_type": "stream",
          "name": "stdout",
          "text": [
            "\n",
            "🔍 Step 14: Plotting test confusion matrix...\n"
          ]
        },
        {
          "output_type": "display_data",
          "data": {
            "text/plain": [
              "<Figure size 500x300 with 2 Axes>"
            ],
            "image/png": "[encoded data removed]"
          },
          "metadata": {}
        },
        {
          "output_type": "stream",
          "name": "stdout",
          "text": [
            "✅ Test confusion matrix plotted!\n"
          ]
        }
      ]
    },
    {
      "cell_type": "code",
      "source": [
        "\n",
        "\n",
        "# =====================================================================\n",
        "# STEP 15: FINAL SUMMARY\n",
        "# =====================================================================\n",
        "\n",
        "print(\"\\n🎉 Step 15: Final Summary\")\n",
        "print(\"=\" * 60)\n",
        "\n",
        "# Create summary table\n",
        "summary_data = {\n",
        "    'Dataset': ['Validation', 'Test'],\n",
        "    'Accuracy': [val_accuracy, test_accuracy],\n",
        "    'Precision (Macro)': [val_precision, test_precision],\n",
        "    'Recall (Macro)': [val_recall, test_recall],\n",
        "    'F1 Score (Macro)': [val_f1_macro, test_f1_macro],\n",
        "    'F1 Score (Weighted)': [val_f1_weighted, test_f1_weighted]\n",
        "}\n",
        "\n",
        "summary_df = pd.DataFrame(summary_data)\n",
        "print(\"📊 FINAL PERFORMANCE SUMMARY:\")\n",
        "print(summary_df.round(4))\n",
        "\n",
        "# Best performing metrics\n",
        "print(f\"\\n🏆 BEST RESULTS:\")\n",
        "print(f\"Highest Accuracy: {max(val_accuracy, test_accuracy):.4f}\")\n",
        "print(f\"Highest Macro F1: {max(val_f1_macro, test_f1_macro):.4f}\")\n",
        "\n",
        "# Model info\n",
        "total_params = model.count_params()\n",
        "print(f\"\\n🔧 MODEL INFO:\")\n",
        "print(f\"Total Parameters: {total_params:,}\")\n",
        "print(f\"Training Epochs: {len(history.history['accuracy'])}\")\n",
        "print(f\"Final Training Accuracy: {history.history['accuracy'][-1]:.4f}\")\n",
        "print(f\"Final Validation Accuracy: {history.history['val_accuracy'][-1]:.4f}\")\n",
        "\n",
        "print(\"\\n✅ PIPELINE COMPLETED SUCCESSFULLY! 🎉\")\n"
      ],
      "metadata": {
        "colab": {
          "base_uri": "https://localhost:8080/"
        },
        "id": "kWcvZkU8d26J",
        "outputId": "19e842da-52e2-49f8-8552-0fd016855637"
      },
      "execution_count": 129,
      "outputs": [
        {
          "output_type": "stream",
          "name": "stdout",
          "text": [
            "\n",
            "🎉 Step 15: Final Summary\n",
            "============================================================\n",
            "📊 FINAL PERFORMANCE SUMMARY:\n",
            "      Dataset  Accuracy  Precision (Macro)  Recall (Macro)  F1 Score (Macro)  \\\n",
            "0  Validation    0.8793             0.8797          0.8799            0.8798   \n",
            "1        Test    0.9101             0.9100          0.9088            0.9090   \n",
            "\n",
            "   F1 Score (Weighted)  \n",
            "0               0.8791  \n",
            "1               0.9095  \n",
            "\n",
            "🏆 BEST RESULTS:\n",
            "Highest Accuracy: 0.9101\n",
            "Highest Macro F1: 0.9090\n",
            "\n",
            "🔧 MODEL INFO:\n",
            "Total Parameters: 1,342,083\n",
            "Training Epochs: 50\n",
            "Final Training Accuracy: 0.9036\n",
            "Final Validation Accuracy: 0.8793\n",
            "\n",
            "✅ PIPELINE COMPLETED SUCCESSFULLY! 🎉\n"
          ]
        }
      ]
    },
    {
      "cell_type": "code",
      "execution_count": 130,
      "metadata": {
        "colab": {
          "base_uri": "https://localhost:8080/"
        },
        "id": "_LA2aWZ6WAqS",
        "outputId": "4fd516fd-f21e-42cf-9eca-20bd72d37dce"
      },
      "outputs": [
        {
          "output_type": "stream",
          "name": "stdout",
          "text": [
            "\n",
            "💾 Step 16: Model saving option...\n",
            "\n",
            "🔚 All steps completed successfully!\n",
            "You can now use this trained model for agricultural production classification!\n"
          ]
        }
      ],
      "source": [
        "\n",
        "# =====================================================================\n",
        "# STEP 16: SAVE MODEL (OPTIONAL)\n",
        "# =====================================================================\n",
        "\n",
        "print(\"\\n💾 Step 16: Model saving option...\")\n",
        "\n",
        "# Uncomment the line below to save the model\n",
        "# model.save('agricultural_production_cnn_model.h5')\n",
        "# print(\"✅ Model saved as 'agricultural_production_cnn_model.h5'\")\n",
        "\n",
        "print(\"\\n🔚 All steps completed successfully!\")\n",
        "print(\"You can now use this trained model for agricultural production classification!\")"
      ]
    }
  ]
}