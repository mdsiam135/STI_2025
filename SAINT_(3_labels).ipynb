{
  "nbformat": 4,
  "nbformat_minor": 0,
  "metadata": {
    "colab": {
      "provenance": [],
      "mount_file_id": "102WO3uj6G8zVwdqlr62Yo-L0EkgqpdOC",
      "authorship_tag": "ABX9TyPkeXcLrrEYRHinIDvCs6nX",
      "include_colab_link": true
    },
    "kernelspec": {
      "name": "python3",
      "display_name": "Python 3"
    },
    "language_info": {
      "name": "python"
    }
  },
  "cells": [
    {
      "cell_type": "markdown",
      "metadata": {
        "id": "view-in-github",
        "colab_type": "text"
      },
      "source": [
        "<a href=\"https://colab.research.google.com/github/mdsiam135/thesis_2025/blob/main/SAINT_(3_labels).ipynb\" target=\"_parent\"><img src=\"https://colab.research.google.com/assets/colab-badge.svg\" alt=\"Open In Colab\"/></a>"
      ]
    },
    {
      "cell_type": "code",
      "source": [
        "# SAINT Model for Agricultural Production Classification - 3 Labels (Low, Medium, High)\n",
        "# Step-by-step implementation without main function\n",
        "\n",
        "import pandas as pd\n",
        "import numpy as np\n",
        "import matplotlib.pyplot as plt\n",
        "import seaborn as sns\n",
        "from sklearn.preprocessing import StandardScaler, LabelEncoder\n",
        "from sklearn.metrics import classification_report, confusion_matrix, accuracy_score, precision_score, recall_score, f1_score\n",
        "import torch\n",
        "import torch.nn as nn\n",
        "import torch.optim as optim\n",
        "from torch.utils.data import Dataset, DataLoader\n",
        "import warnings\n",
        "warnings.filterwarnings('ignore')\n",
        "\n",
        "# Set random seeds for reproducibility\n",
        "np.random.seed(42)\n",
        "torch.manual_seed(42)\n",
        "\n",
        "print(\"All libraries imported successfully!\")\n",
        "print(\"Random seeds set for reproducibility\")\n"
      ],
      "metadata": {
        "colab": {
          "base_uri": "https://localhost:8080/"
        },
        "id": "MHJBDLz0L4_3",
        "outputId": "38bf6ed1-aa41-4404-d80a-603b4f725d88"
      },
      "execution_count": 1,
      "outputs": [
        {
          "output_type": "stream",
          "name": "stdout",
          "text": [
            "All libraries imported successfully!\n",
            "Random seeds set for reproducibility\n"
          ]
        }
      ]
    },
    {
      "cell_type": "code",
      "source": [
        "# =============================================================================\n",
        "# STEP 1: Data Loading and Preprocessing Functions\n",
        "# =============================================================================\n",
        "\n",
        "def load_and_preprocess_data():\n",
        "    \"\"\"Load and preprocess the three CSV files\"\"\"\n",
        "\n",
        "    print(\"Step 1: Loading and preprocessing data...\")\n",
        "\n",
        "    # Load datasets\n",
        "    train_df = pd.read_csv('/content/drive/MyDrive/UpdatedDataset/train.csv')\n",
        "    validation_df = pd.read_csv('/content/drive/MyDrive/UpdatedDataset/validation.csv')\n",
        "    test_df = pd.read_csv('/content/drive/MyDrive/UpdatedDataset/test.csv')\n",
        "\n",
        "    print(f\"Train dataset shape: {train_df.shape}\")\n",
        "    print(f\"Validation dataset shape: {validation_df.shape}\")\n",
        "    print(f\"Test dataset shape: {test_df.shape}\")\n",
        "\n",
        "    # Display basic info about datasets\n",
        "    print(\"\\nTrain dataset columns:\")\n",
        "    print(train_df.columns.tolist())\n",
        "    print(f\"\\nProduction column stats (Train):\")\n",
        "    print(train_df['Production (M.Ton)'].describe())\n",
        "\n",
        "    # Combine all datasets to get global quantiles for consistent labeling\n",
        "    all_data = pd.concat([train_df, validation_df, test_df], ignore_index=True)\n",
        "\n",
        "    # Create quantile-based labels for production (3 labels)\n",
        "    production_quantiles = all_data['Production (M.Ton)'].quantile([0.33, 0.67])\n",
        "    print(f\"\\nProduction quantiles for labeling:\")\n",
        "    print(f\"33rd percentile (Low-Medium threshold): {production_quantiles[0.33]:.2f}\")\n",
        "    print(f\"67th percentile (Medium-High threshold): {production_quantiles[0.67]:.2f}\")\n",
        "\n",
        "    def create_production_labels(production_values):\n",
        "        labels = []\n",
        "        for value in production_values:\n",
        "            if value <= production_quantiles[0.33]:\n",
        "                labels.append(0)  # Low\n",
        "            elif value <= production_quantiles[0.67]:\n",
        "                labels.append(1)  # Medium\n",
        "            else:\n",
        "                labels.append(2)  # High\n",
        "        return labels\n",
        "\n",
        "    # Apply labels to all datasets\n",
        "    train_df['Production_Label'] = create_production_labels(train_df['Production (M.Ton)'])\n",
        "    validation_df['Production_Label'] = create_production_labels(validation_df['Production (M.Ton)'])\n",
        "    test_df['Production_Label'] = create_production_labels(test_df['Production (M.Ton)'])\n",
        "\n",
        "    # Remove the original production column from features\n",
        "    feature_columns = [col for col in train_df.columns if col not in ['Production (M.Ton)', 'Production_Label']]\n",
        "\n",
        "    X_train = train_df[feature_columns]\n",
        "    y_train = train_df['Production_Label']\n",
        "\n",
        "    X_val = validation_df[feature_columns]\n",
        "    y_val = validation_df['Production_Label']\n",
        "\n",
        "    X_test = test_df[feature_columns]\n",
        "    y_test = test_df['Production_Label']\n",
        "\n",
        "    # Scale features\n",
        "    scaler = StandardScaler()\n",
        "    X_train_scaled = scaler.fit_transform(X_train)\n",
        "    X_val_scaled = scaler.transform(X_val)\n",
        "    X_test_scaled = scaler.transform(X_test)\n",
        "\n",
        "    print(\"Data preprocessing completed!\")\n",
        "    print(f\"Number of features: {X_train_scaled.shape[1]}\")\n",
        "    print(f\"Label distribution in training set:\")\n",
        "    print(pd.Series(y_train).value_counts().sort_index())\n",
        "    print(f\"Label distribution in validation set:\")\n",
        "    print(pd.Series(y_val).value_counts().sort_index())\n",
        "    print(f\"Label distribution in test set:\")\n",
        "    print(pd.Series(y_test).value_counts().sort_index())\n",
        "\n",
        "    return X_train_scaled, y_train, X_val_scaled, y_val, X_test_scaled, y_test, scaler\n"
      ],
      "metadata": {
        "id": "ONCbw4voL76r"
      },
      "execution_count": 2,
      "outputs": []
    },
    {
      "cell_type": "code",
      "source": [
        "\n",
        "\n",
        "# =============================================================================\n",
        "# STEP 2: Dataset Class Definition\n",
        "# =============================================================================\n",
        "\n",
        "class ProductionDataset(Dataset):\n",
        "    def __init__(self, X, y):\n",
        "        self.X = torch.FloatTensor(X)\n",
        "        self.y = torch.LongTensor(y.values)\n",
        "\n",
        "    def __len__(self):\n",
        "        return len(self.X)\n",
        "\n",
        "    def __getitem__(self, idx):\n",
        "        return self.X[idx], self.y[idx]\n",
        "\n",
        "print(\"ProductionDataset class defined successfully!\")\n"
      ],
      "metadata": {
        "colab": {
          "base_uri": "https://localhost:8080/"
        },
        "id": "POmHa-zML9lm",
        "outputId": "c41b2f58-db96-4222-bdd4-736812a6cf23"
      },
      "execution_count": 3,
      "outputs": [
        {
          "output_type": "stream",
          "name": "stdout",
          "text": [
            "ProductionDataset class defined successfully!\n"
          ]
        }
      ]
    },
    {
      "cell_type": "code",
      "source": [
        "\n",
        "# =============================================================================\n",
        "# STEP 3: SAINT Model Architecture\n",
        "# =============================================================================\n",
        "\n",
        "class SAINT(nn.Module):\n",
        "    def __init__(self, input_dim, num_classes=3, d_model=128, nhead=8, num_layers=4, dropout=0.1):\n",
        "        super(SAINT, self).__init__()\n",
        "\n",
        "        self.input_dim = input_dim\n",
        "        self.d_model = d_model\n",
        "        self.num_classes = num_classes\n",
        "\n",
        "        # Input embedding layer\n",
        "        self.input_embedding = nn.Linear(input_dim, d_model)\n",
        "\n",
        "        # Positional encoding (simplified)\n",
        "        self.pos_encoding = nn.Parameter(torch.randn(1, 1, d_model))\n",
        "\n",
        "        # Self-attention transformer layers\n",
        "        encoder_layer = nn.TransformerEncoderLayer(\n",
        "            d_model=d_model,\n",
        "            nhead=nhead,\n",
        "            dim_feedforward=d_model * 4,\n",
        "            dropout=dropout,\n",
        "            batch_first=True\n",
        "        )\n",
        "        self.transformer = nn.TransformerEncoder(encoder_layer, num_layers=num_layers)\n",
        "\n",
        "        # Inter-sample attention mechanism\n",
        "        self.inter_sample_attention = nn.MultiheadAttention(\n",
        "            embed_dim=d_model,\n",
        "            num_heads=nhead,\n",
        "            dropout=dropout,\n",
        "            batch_first=True\n",
        "        )\n",
        "\n",
        "        # Classification head\n",
        "        self.classifier = nn.Sequential(\n",
        "            nn.LayerNorm(d_model),\n",
        "            nn.Dropout(dropout),\n",
        "            nn.Linear(d_model, d_model // 2),\n",
        "            nn.ReLU(),\n",
        "            nn.Dropout(dropout),\n",
        "            nn.Linear(d_model // 2, num_classes)\n",
        "        )\n",
        "\n",
        "        self.dropout = nn.Dropout(dropout)\n",
        "\n",
        "    def forward(self, x):\n",
        "        batch_size = x.size(0)\n",
        "\n",
        "        # Input embedding\n",
        "        x = self.input_embedding(x)  # (batch_size, d_model)\n",
        "        x = x.unsqueeze(1)  # (batch_size, 1, d_model)\n",
        "\n",
        "        # Add positional encoding\n",
        "        x = x + self.pos_encoding\n",
        "\n",
        "        # Self-attention\n",
        "        x = self.transformer(x)  # (batch_size, 1, d_model)\n",
        "\n",
        "        # Inter-sample attention (simplified version)\n",
        "        attended_x, _ = self.inter_sample_attention(x, x, x)\n",
        "\n",
        "        # Combine original and attended features\n",
        "        x = x + attended_x\n",
        "        x = self.dropout(x)\n",
        "\n",
        "        # Global average pooling\n",
        "        x = x.squeeze(1)  # (batch_size, d_model)\n",
        "\n",
        "        # Classification\n",
        "        output = self.classifier(x)\n",
        "\n",
        "        return output\n",
        "\n",
        "print(\"SAINT model architecture defined successfully!\")\n"
      ],
      "metadata": {
        "colab": {
          "base_uri": "https://localhost:8080/"
        },
        "id": "wLzU1SAqL_7e",
        "outputId": "ec2ac9be-79ef-41d8-98e4-6b20e4636a5d"
      },
      "execution_count": 4,
      "outputs": [
        {
          "output_type": "stream",
          "name": "stdout",
          "text": [
            "SAINT model architecture defined successfully!\n"
          ]
        }
      ]
    },
    {
      "cell_type": "code",
      "source": [
        "\n",
        "# =============================================================================\n",
        "# STEP 4: Training Function\n",
        "# =============================================================================\n",
        "\n",
        "def train_model(model, train_loader, val_loader, num_epochs=50, device='cpu'):\n",
        "    \"\"\"Train the SAINT model\"\"\"\n",
        "\n",
        "    criterion = nn.CrossEntropyLoss()\n",
        "    optimizer = optim.Adam(model.parameters(), lr=0.001, weight_decay=1e-5)\n",
        "    scheduler = optim.lr_scheduler.ReduceLROnPlateau(optimizer, mode='min', patience=5, factor=0.5)\n",
        "\n",
        "    train_losses = []\n",
        "    val_losses = []\n",
        "    train_accuracies = []\n",
        "    val_accuracies = []\n",
        "\n",
        "    best_val_acc = 0.0\n",
        "    best_model_state = None\n",
        "\n",
        "    print(f\"Training SAINT model for {num_epochs} epochs...\")\n",
        "\n",
        "    for epoch in range(num_epochs):\n",
        "        # Training phase\n",
        "        model.train()\n",
        "        train_loss = 0.0\n",
        "        train_correct = 0\n",
        "        train_total = 0\n",
        "\n",
        "        for batch_X, batch_y in train_loader:\n",
        "            batch_X, batch_y = batch_X.to(device), batch_y.to(device)\n",
        "\n",
        "            optimizer.zero_grad()\n",
        "            outputs = model(batch_X)\n",
        "            loss = criterion(outputs, batch_y)\n",
        "            loss.backward()\n",
        "            optimizer.step()\n",
        "\n",
        "            train_loss += loss.item()\n",
        "            _, predicted = torch.max(outputs.data, 1)\n",
        "            train_total += batch_y.size(0)\n",
        "            train_correct += (predicted == batch_y).sum().item()\n",
        "\n",
        "        train_acc = 100 * train_correct / train_total\n",
        "        train_losses.append(train_loss / len(train_loader))\n",
        "        train_accuracies.append(train_acc)\n",
        "\n",
        "        # Validation phase\n",
        "        model.eval()\n",
        "        val_loss = 0.0\n",
        "        val_correct = 0\n",
        "        val_total = 0\n",
        "\n",
        "        with torch.no_grad():\n",
        "            for batch_X, batch_y in val_loader:\n",
        "                batch_X, batch_y = batch_X.to(device), batch_y.to(device)\n",
        "\n",
        "                outputs = model(batch_X)\n",
        "                loss = criterion(outputs, batch_y)\n",
        "\n",
        "                val_loss += loss.item()\n",
        "                _, predicted = torch.max(outputs.data, 1)\n",
        "                val_total += batch_y.size(0)\n",
        "                val_correct += (predicted == batch_y).sum().item()\n",
        "\n",
        "        val_acc = 100 * val_correct / val_total\n",
        "        val_losses.append(val_loss / len(val_loader))\n",
        "        val_accuracies.append(val_acc)\n",
        "\n",
        "        scheduler.step(val_loss / len(val_loader))\n",
        "\n",
        "        # Save best model\n",
        "        if val_acc > best_val_acc:\n",
        "            best_val_acc = val_acc\n",
        "            best_model_state = model.state_dict().copy()\n",
        "\n",
        "        if (epoch + 1) % 10 == 0:\n",
        "            print(f'Epoch [{epoch+1}/{num_epochs}], Train Loss: {train_losses[-1]:.4f}, Train Acc: {train_acc:.2f}%, Val Loss: {val_losses[-1]:.4f}, Val Acc: {val_acc:.2f}%')\n",
        "\n",
        "    # Load best model\n",
        "    model.load_state_dict(best_model_state)\n",
        "\n",
        "    print(f\"Training completed! Best validation accuracy: {best_val_acc:.2f}%\")\n",
        "\n",
        "    return model, train_losses, val_losses, train_accuracies, val_accuracies\n",
        "\n",
        "print(\"Training function defined successfully!\")\n"
      ],
      "metadata": {
        "colab": {
          "base_uri": "https://localhost:8080/"
        },
        "id": "-rHN8m4SMDrq",
        "outputId": "d26c0992-9225-458b-d70f-3e318e6ce766"
      },
      "execution_count": 5,
      "outputs": [
        {
          "output_type": "stream",
          "name": "stdout",
          "text": [
            "Training function defined successfully!\n"
          ]
        }
      ]
    },
    {
      "cell_type": "code",
      "source": [
        "\n",
        "# =============================================================================\n",
        "# STEP 5: Evaluation Functions\n",
        "# =============================================================================\n",
        "\n",
        "def evaluate_model(model, test_loader, device='cpu'):\n",
        "    \"\"\"Evaluate model and return predictions\"\"\"\n",
        "    model.eval()\n",
        "    all_predictions = []\n",
        "    all_labels = []\n",
        "\n",
        "    with torch.no_grad():\n",
        "        for batch_X, batch_y in test_loader:\n",
        "            batch_X, batch_y = batch_X.to(device), batch_y.to(device)\n",
        "            outputs = model(batch_X)\n",
        "            _, predicted = torch.max(outputs, 1)\n",
        "\n",
        "            all_predictions.extend(predicted.cpu().numpy())\n",
        "            all_labels.extend(batch_y.cpu().numpy())\n",
        "\n",
        "    return np.array(all_predictions), np.array(all_labels)\n",
        "\n",
        "def calculate_metrics(y_true, y_pred):\n",
        "    \"\"\"Calculate comprehensive classification metrics\"\"\"\n",
        "\n",
        "    accuracy = accuracy_score(y_true, y_pred)\n",
        "    precision_macro = precision_score(y_true, y_pred, average='macro', zero_division=0)\n",
        "    recall_macro = recall_score(y_true, y_pred, average='macro', zero_division=0)\n",
        "    f1_macro = f1_score(y_true, y_pred, average='macro', zero_division=0)\n",
        "    f1_weighted = f1_score(y_true, y_pred, average='weighted', zero_division=0)\n",
        "\n",
        "    # Individual class metrics\n",
        "    precision_per_class = precision_score(y_true, y_pred, average=None, zero_division=0)\n",
        "    recall_per_class = recall_score(y_true, y_pred, average=None, zero_division=0)\n",
        "    f1_per_class = f1_score(y_true, y_pred, average=None, zero_division=0)\n",
        "\n",
        "    return {\n",
        "        'accuracy': accuracy,\n",
        "        'precision_macro': precision_macro,\n",
        "        'recall_macro': recall_macro,\n",
        "        'f1_macro': f1_macro,\n",
        "        'f1_weighted': f1_weighted,\n",
        "        'precision_per_class': precision_per_class,\n",
        "        'recall_per_class': recall_per_class,\n",
        "        'f1_per_class': f1_per_class\n",
        "    }\n",
        "\n",
        "def plot_confusion_matrix(y_true, y_pred, title=\"Confusion Matrix\", labels=None):\n",
        "    \"\"\"Plot confusion matrix\"\"\"\n",
        "    if labels is None:\n",
        "        labels = ['Low', 'Medium', 'High']\n",
        "\n",
        "    cm = confusion_matrix(y_true, y_pred)\n",
        "\n",
        "    plt.figure(figsize=(6, 4))\n",
        "    sns.heatmap(cm, annot=True, fmt='d', cmap='Blues',\n",
        "                xticklabels=labels, yticklabels=labels)\n",
        "    plt.title(title)\n",
        "    plt.xlabel('Predicted')\n",
        "    plt.ylabel('Actual')\n",
        "    plt.tight_layout()\n",
        "    plt.show()\n",
        "\n",
        "def plot_training_history(train_losses, val_losses, train_accuracies, val_accuracies):\n",
        "    \"\"\"Plot training history\"\"\"\n",
        "    fig, (ax1, ax2) = plt.subplots(1, 2, figsize=(15, 5))\n",
        "\n",
        "    # Plot losses\n",
        "    ax1.plot(train_losses, label='Training Loss', color='blue')\n",
        "    ax1.plot(val_losses, label='Validation Loss', color='red')\n",
        "    ax1.set_title('Model Loss')\n",
        "    ax1.set_xlabel('Epoch')\n",
        "    ax1.set_ylabel('Loss')\n",
        "    ax1.legend()\n",
        "    ax1.grid(True)\n",
        "\n",
        "    # Plot accuracies\n",
        "    ax2.plot(train_accuracies, label='Training Accuracy', color='blue')\n",
        "    ax2.plot(val_accuracies, label='Validation Accuracy', color='red')\n",
        "    ax2.set_title('Model Accuracy')\n",
        "    ax2.set_xlabel('Epoch')\n",
        "    ax2.set_ylabel('Accuracy (%)')\n",
        "    ax2.legend()\n",
        "    ax2.grid(True)\n",
        "\n",
        "    plt.tight_layout()\n",
        "    plt.show()\n",
        "\n",
        "def save_model(model, scaler, filepath_prefix=\"saint_model_3labels\"):\n",
        "    \"\"\"Save the trained model and scaler\"\"\"\n",
        "    torch.save(model.state_dict(), f\"{filepath_prefix}.pth\")\n",
        "    import joblib\n",
        "    joblib.dump(scaler, f\"{filepath_prefix}_scaler.pkl\")\n",
        "    print(f\"Model saved as {filepath_prefix}.pth\")\n",
        "    print(f\"Scaler saved as {filepath_prefix}_scaler.pkl\")\n",
        "\n",
        "print(\"All evaluation functions defined successfully!\")\n"
      ],
      "metadata": {
        "colab": {
          "base_uri": "https://localhost:8080/"
        },
        "id": "Cudd_WbsMGBg",
        "outputId": "f228a7e4-872c-41f7-9920-42945c9d1baf"
      },
      "execution_count": 6,
      "outputs": [
        {
          "output_type": "stream",
          "name": "stdout",
          "text": [
            "All evaluation functions defined successfully!\n"
          ]
        }
      ]
    },
    {
      "cell_type": "code",
      "source": [
        "\n",
        "# =============================================================================\n",
        "# STEP 6: Execute Data Loading and Preprocessing\n",
        "# =============================================================================\n",
        "\n",
        "print(\"\\n\" + \"=\"*70)\n",
        "print(\"EXECUTING STEP 6: DATA LOADING AND PREPROCESSING\")\n",
        "print(\"=\"*70)\n",
        "\n",
        "# Load and preprocess data\n",
        "X_train, y_train, X_val, y_val, X_test, y_test, scaler = load_and_preprocess_data()\n",
        "\n",
        "print(f\"\\nData shapes after preprocessing:\")\n",
        "print(f\"X_train: {X_train.shape}, y_train: {y_train.shape}\")\n",
        "print(f\"X_val: {X_val.shape}, y_val: {y_val.shape}\")\n",
        "print(f\"X_test: {X_test.shape}, y_test: {y_test.shape}\")\n"
      ],
      "metadata": {
        "colab": {
          "base_uri": "https://localhost:8080/"
        },
        "id": "HMIS6ETIMHYs",
        "outputId": "3df10d9e-4e18-4c4d-cfe5-89e727b36954"
      },
      "execution_count": 7,
      "outputs": [
        {
          "output_type": "stream",
          "name": "stdout",
          "text": [
            "\n",
            "======================================================================\n",
            "EXECUTING STEP 6: DATA LOADING AND PREPROCESSING\n",
            "======================================================================\n",
            "Step 1: Loading and preprocessing data...\n",
            "Train dataset shape: (3942, 84)\n",
            "Validation dataset shape: (845, 84)\n",
            "Test dataset shape: (845, 84)\n",
            "\n",
            "Train dataset columns:\n",
            "['Production (M.Ton)', 'Area (Acres)', 'Temperature at 2 Meters Range (C)', 'Year', 'soil_temperature_0_to_7cm(C)', 'Root Zone Soil Wetness (surface to 100 cm below)', 'Surface Soil Wetness (surface to 5 cm below)', 'soil_moisture_0_to_7cm(mÂ³/mÂ³)', 'soil_moiture_7_to_28cm(mÂ³/mÂ³)', 'total_rain_mm', 'relative_humidity_2m(%)', 'Precipitation Corrected (mm)', 'Crop_Beans', 'Crop_Cabbage', 'Crop_Cauliflower', 'Crop_Garlic', 'Crop_Laushak', 'Crop_Onion', 'Crop_Radish', 'Crop_Tomato', 'District_Bagerhat', 'District_Bandarban', 'District_Barguna', 'District_Barishal', 'District_Bhola', 'District_Bogura', 'District_Brahmanbaria', 'District_Chandpur', 'District_Chapai Nawabganj', 'District_Chattogram', 'District_Chuadanga', 'District_Comilla', \"District_Cox's Bazar\", 'District_Dhaka', 'District_Dinajpur', 'District_Faridpur', 'District_Feni', 'District_Gaibandha', 'District_Gazipur', 'District_Gopalganj', 'District_Habiganj', 'District_Jamalpur', 'District_Jashore', 'District_Jhallokati', 'District_Jhenaidah', 'District_Joypurhat', 'District_Khagrachari', 'District_Khulna', 'District_Kishoreganj', 'District_Kurigram', 'District_Kushtia', 'District_Lakshmipur', 'District_Lalmonirhat', 'District_Madaripur', 'District_Magura', 'District_Manikganj', 'District_Maulvibazar', 'District_Meherpur', 'District_Munshiganj', 'District_Mymensingh', 'District_Naogaon', 'District_Narail', 'District_Narayanganj', 'District_Narsingdi', 'District_Natore', 'District_Netrakona', 'District_Nilphamari', 'District_Noakhali', 'District_Pabna', 'District_Panchagarh', 'District_Patuakhali', 'District_Pirojpur', 'District_Rajbari', 'District_Rajshahi', 'District_Rangamati', 'District_Rangpur', 'District_Satkhira', 'District_Shariatpur', 'District_Sherpur', 'District_Sirajganj', 'District_Sunamganj', 'District_Sylhet', 'District_Tangail', 'District_Thakurgaon']\n",
            "\n",
            "Production column stats (Train):\n",
            "count      3942.000000\n",
            "mean       7860.822712\n",
            "std       32823.837934\n",
            "min           0.000000\n",
            "25%         756.360000\n",
            "50%        2105.005000\n",
            "75%        5399.000000\n",
            "max      544979.500000\n",
            "Name: Production (M.Ton), dtype: float64\n",
            "\n",
            "Production quantiles for labeling:\n",
            "33rd percentile (Low-Medium threshold): 1075.00\n",
            "67th percentile (Medium-High threshold): 4043.77\n",
            "Data preprocessing completed!\n",
            "Number of features: 83\n",
            "Label distribution in training set:\n",
            "Production_Label\n",
            "0    1306\n",
            "1    1337\n",
            "2    1299\n",
            "Name: count, dtype: int64\n",
            "Label distribution in validation set:\n",
            "Production_Label\n",
            "0    279\n",
            "1    297\n",
            "2    269\n",
            "Name: count, dtype: int64\n",
            "Label distribution in test set:\n",
            "Production_Label\n",
            "0    275\n",
            "1    279\n",
            "2    291\n",
            "Name: count, dtype: int64\n",
            "\n",
            "Data shapes after preprocessing:\n",
            "X_train: (3942, 83), y_train: (3942,)\n",
            "X_val: (845, 83), y_val: (845,)\n",
            "X_test: (845, 83), y_test: (845,)\n"
          ]
        }
      ]
    },
    {
      "cell_type": "code",
      "source": [
        "\n",
        "# =============================================================================\n",
        "# STEP 7: Create Datasets and DataLoaders\n",
        "# =============================================================================\n",
        "\n",
        "print(\"\\n\" + \"=\"*70)\n",
        "print(\"EXECUTING STEP 7: CREATING DATASETS AND DATALOADERS\")\n",
        "print(\"=\"*70)\n",
        "\n",
        "# Create datasets and dataloaders\n",
        "train_dataset = ProductionDataset(X_train, y_train)\n",
        "val_dataset = ProductionDataset(X_val, y_val)\n",
        "test_dataset = ProductionDataset(X_test, y_test)\n",
        "\n",
        "batch_size = 32\n",
        "train_loader = DataLoader(train_dataset, batch_size=batch_size, shuffle=True)\n",
        "val_loader = DataLoader(val_dataset, batch_size=batch_size, shuffle=False)\n",
        "test_loader = DataLoader(test_dataset, batch_size=batch_size, shuffle=False)\n",
        "\n",
        "print(f\"Datasets created successfully!\")\n",
        "print(f\"Batch size: {batch_size}\")\n",
        "print(f\"Training batches: {len(train_loader)}\")\n",
        "print(f\"Validation batches: {len(val_loader)}\")\n",
        "print(f\"Test batches: {len(test_loader)}\")\n"
      ],
      "metadata": {
        "colab": {
          "base_uri": "https://localhost:8080/"
        },
        "id": "j-ac9DaQMI4-",
        "outputId": "cfb2c244-2747-45fe-ccb3-7e8de16ca0f8"
      },
      "execution_count": 8,
      "outputs": [
        {
          "output_type": "stream",
          "name": "stdout",
          "text": [
            "\n",
            "======================================================================\n",
            "EXECUTING STEP 7: CREATING DATASETS AND DATALOADERS\n",
            "======================================================================\n",
            "Datasets created successfully!\n",
            "Batch size: 32\n",
            "Training batches: 124\n",
            "Validation batches: 27\n",
            "Test batches: 27\n"
          ]
        }
      ]
    },
    {
      "cell_type": "code",
      "source": [
        "\n",
        "# =============================================================================\n",
        "# STEP 8: Initialize Model and Check Device\n",
        "# =============================================================================\n",
        "\n",
        "print(\"\\n\" + \"=\"*70)\n",
        "print(\"EXECUTING STEP 8: MODEL INITIALIZATION\")\n",
        "print(\"=\"*70)\n",
        "\n",
        "# Check if CUDA is available\n",
        "device = torch.device('cuda' if torch.cuda.is_available() else 'cpu')\n",
        "print(f\"Using device: {device}\")\n",
        "\n",
        "# Initialize model\n",
        "input_dim = X_train.shape[1]\n",
        "model = SAINT(input_dim=input_dim, num_classes=3, d_model=128, nhead=8, num_layers=4, dropout=0.1)\n",
        "model.to(device)\n",
        "\n",
        "total_params = sum(p.numel() for p in model.parameters())\n",
        "trainable_params = sum(p.numel() for p in model.parameters() if p.requires_grad)\n",
        "\n",
        "print(f\"Model initialized successfully!\")\n",
        "print(f\"Input dimension: {input_dim}\")\n",
        "print(f\"Total parameters: {total_params:,}\")\n",
        "print(f\"Trainable parameters: {trainable_params:,}\")\n"
      ],
      "metadata": {
        "colab": {
          "base_uri": "https://localhost:8080/"
        },
        "id": "2LaPVWM8MOLf",
        "outputId": "b8748cc4-c42e-48cd-d110-8a749e19521e"
      },
      "execution_count": 9,
      "outputs": [
        {
          "output_type": "stream",
          "name": "stdout",
          "text": [
            "\n",
            "======================================================================\n",
            "EXECUTING STEP 8: MODEL INITIALIZATION\n",
            "======================================================================\n",
            "Using device: cpu\n",
            "Model initialized successfully!\n",
            "Input dimension: 83\n",
            "Total parameters: 878,723\n",
            "Trainable parameters: 878,723\n"
          ]
        }
      ]
    },
    {
      "cell_type": "code",
      "source": [
        "\n",
        "# =============================================================================\n",
        "# STEP 9: Train the Model\n",
        "# =============================================================================\n",
        "\n",
        "print(\"\\n\" + \"=\"*70)\n",
        "print(\"EXECUTING STEP 9: MODEL TRAINING\")\n",
        "print(\"=\"*70)\n",
        "\n",
        "# Train model\n",
        "num_epochs = 100  # You can adjust this\n",
        "model, train_losses, val_losses, train_accuracies, val_accuracies = train_model(\n",
        "    model, train_loader, val_loader, num_epochs=num_epochs, device=device\n",
        ")\n"
      ],
      "metadata": {
        "colab": {
          "base_uri": "https://localhost:8080/"
        },
        "id": "EFqBi80IMQSj",
        "outputId": "a4029cc8-a905-43f1-db3d-5cdbd77d7637"
      },
      "execution_count": 10,
      "outputs": [
        {
          "output_type": "stream",
          "name": "stdout",
          "text": [
            "\n",
            "======================================================================\n",
            "EXECUTING STEP 9: MODEL TRAINING\n",
            "======================================================================\n",
            "Training SAINT model for 100 epochs...\n",
            "Epoch [10/100], Train Loss: 0.3885, Train Acc: 85.59%, Val Loss: 0.4171, Val Acc: 84.02%\n",
            "Epoch [20/100], Train Loss: 0.3290, Train Acc: 87.47%, Val Loss: 0.3650, Val Acc: 83.31%\n",
            "Epoch [30/100], Train Loss: 0.2541, Train Acc: 90.74%, Val Loss: 0.3176, Val Acc: 88.28%\n",
            "Epoch [40/100], Train Loss: 0.2576, Train Acc: 90.28%, Val Loss: 0.3256, Val Acc: 87.81%\n",
            "Epoch [50/100], Train Loss: 0.1463, Train Acc: 94.70%, Val Loss: 0.2933, Val Acc: 91.72%\n",
            "Epoch [60/100], Train Loss: 0.1194, Train Acc: 95.81%, Val Loss: 0.3052, Val Acc: 92.19%\n",
            "Epoch [70/100], Train Loss: 0.1096, Train Acc: 95.94%, Val Loss: 0.3024, Val Acc: 91.95%\n",
            "Epoch [80/100], Train Loss: 0.0991, Train Acc: 96.25%, Val Loss: 0.3116, Val Acc: 92.19%\n",
            "Epoch [90/100], Train Loss: 0.1054, Train Acc: 96.27%, Val Loss: 0.3121, Val Acc: 92.07%\n",
            "Epoch [100/100], Train Loss: 0.0967, Train Acc: 96.65%, Val Loss: 0.3128, Val Acc: 91.95%\n",
            "Training completed! Best validation accuracy: 92.43%\n"
          ]
        }
      ]
    },
    {
      "cell_type": "code",
      "source": [
        "\n",
        "# =============================================================================\n",
        "# STEP 10: Plot Training History\n",
        "# =============================================================================\n",
        "\n",
        "print(\"\\n\" + \"=\"*70)\n",
        "print(\"EXECUTING STEP 10: PLOTTING TRAINING HISTORY\")\n",
        "print(\"=\"*70)\n",
        "\n",
        "plot_training_history(train_losses, val_losses, train_accuracies, val_accuracies)\n"
      ],
      "metadata": {
        "colab": {
          "base_uri": "https://localhost:8080/",
          "height": 368
        },
        "id": "SyCAPZCyMRei",
        "outputId": "40b3ee1f-3047-45a9-c951-ad35115148bf"
      },
      "execution_count": 11,
      "outputs": [
        {
          "output_type": "stream",
          "name": "stdout",
          "text": [
            "\n",
            "======================================================================\n",
            "EXECUTING STEP 10: PLOTTING TRAINING HISTORY\n",
            "======================================================================\n"
          ]
        },
        {
          "output_type": "display_data",
          "data": {
            "text/plain": [
              "<Figure size 1500x500 with 2 Axes>"
            ],
            "image/png": "[encoded data removed]"
          },
          "metadata": {}
        }
      ]
    },
    {
      "cell_type": "code",
      "source": [
        "\n",
        "# =============================================================================\n",
        "# STEP 11: Validation Set Evaluation\n",
        "# =============================================================================\n",
        "\n",
        "print(\"\\n\" + \"=\"*70)\n",
        "print(\"EXECUTING STEP 11: VALIDATION SET EVALUATION\")\n",
        "print(\"=\"*70)\n",
        "\n",
        "val_predictions, val_true = evaluate_model(model, val_loader, device)\n",
        "val_metrics = calculate_metrics(val_true, val_predictions)\n",
        "\n",
        "print(f\"Validation Results:\")\n",
        "print(f\"Accuracy: {val_metrics['accuracy']:.4f}\")\n",
        "print(f\"Precision (Macro): {val_metrics['precision_macro']:.4f}\")\n",
        "print(f\"Recall (Macro): {val_metrics['recall_macro']:.4f}\")\n",
        "print(f\"F1-Score (Macro): {val_metrics['f1_macro']:.4f}\")\n",
        "print(f\"F1-Score (Weighted): {val_metrics['f1_weighted']:.4f}\")\n",
        "\n",
        "# Plot validation confusion matrix\n",
        "plot_confusion_matrix(val_true, val_predictions, \"Validation Set Confusion Matrix\")\n"
      ],
      "metadata": {
        "colab": {
          "base_uri": "https://localhost:8080/",
          "height": 581
        },
        "id": "dcDNKWXrMThZ",
        "outputId": "024ff6e5-7675-448f-c217-ae8a7f5a3bcc"
      },
      "execution_count": 12,
      "outputs": [
        {
          "output_type": "stream",
          "name": "stdout",
          "text": [
            "\n",
            "======================================================================\n",
            "EXECUTING STEP 11: VALIDATION SET EVALUATION\n",
            "======================================================================\n",
            "Validation Results:\n",
            "Accuracy: 0.9195\n",
            "Precision (Macro): 0.9197\n",
            "Recall (Macro): 0.9207\n",
            "F1-Score (Macro): 0.9200\n",
            "F1-Score (Weighted): 0.9193\n"
          ]
        },
        {
          "output_type": "display_data",
          "data": {
            "text/plain": [
              "<Figure size 600x400 with 2 Axes>"
            ],
            "image/png": "[encoded data removed]"
          },
          "metadata": {}
        }
      ]
    },
    {
      "cell_type": "code",
      "source": [
        "\n",
        "# =============================================================================\n",
        "# STEP 12: Test Set Evaluation\n",
        "# =============================================================================\n",
        "\n",
        "print(\"\\n\" + \"=\"*70)\n",
        "print(\"EXECUTING STEP 12: TEST SET EVALUATION\")\n",
        "print(\"=\"*70)\n",
        "\n",
        "test_predictions, test_true = evaluate_model(model, test_loader, device)\n",
        "test_metrics = calculate_metrics(test_true, test_predictions)\n",
        "\n",
        "print(f\"Test Results:\")\n",
        "print(f\"Accuracy: {test_metrics['accuracy']:.4f}\")\n",
        "print(f\"Precision (Macro): {test_metrics['precision_macro']:.4f}\")\n",
        "print(f\"Recall (Macro): {test_metrics['recall_macro']:.4f}\")\n",
        "print(f\"F1-Score (Macro): {test_metrics['f1_macro']:.4f}\")\n",
        "print(f\"F1-Score (Weighted): {test_metrics['f1_weighted']:.4f}\")\n",
        "\n",
        "# Plot test confusion matrix\n",
        "plot_confusion_matrix(test_true, test_predictions, \"Test Set Confusion Matrix\")\n"
      ],
      "metadata": {
        "colab": {
          "base_uri": "https://localhost:8080/",
          "height": 581
        },
        "id": "lWlPcnO2MU6Y",
        "outputId": "4cb24c10-4b4f-49f6-dc41-bcf0d6242fdb"
      },
      "execution_count": 13,
      "outputs": [
        {
          "output_type": "stream",
          "name": "stdout",
          "text": [
            "\n",
            "======================================================================\n",
            "EXECUTING STEP 12: TEST SET EVALUATION\n",
            "======================================================================\n",
            "Test Results:\n",
            "Accuracy: 0.9361\n",
            "Precision (Macro): 0.9362\n",
            "Recall (Macro): 0.9360\n",
            "F1-Score (Macro): 0.9360\n",
            "F1-Score (Weighted): 0.9362\n"
          ]
        },
        {
          "output_type": "display_data",
          "data": {
            "text/plain": [
              "<Figure size 600x400 with 2 Axes>"
            ],
            "image/png": "[encoded data removed]"
          },
          "metadata": {}
        }
      ]
    },
    {
      "cell_type": "code",
      "source": [
        "\n",
        "# =============================================================================\n",
        "# STEP 13: Detailed Results Analysis\n",
        "# =============================================================================\n",
        "\n",
        "print(\"\\n\" + \"=\"*70)\n",
        "print(\"EXECUTING STEP 13: DETAILED RESULTS ANALYSIS\")\n",
        "print(\"=\"*70)\n",
        "\n",
        "# Detailed classification report\n",
        "labels = ['Low', 'Medium', 'High']\n",
        "print(\"Detailed Classification Report (Test Set):\")\n",
        "print(classification_report(test_true, test_predictions, target_names=labels))\n",
        "\n",
        "# Per-class metrics\n",
        "print(\"\\nPer-class Metrics (Test Set):\")\n",
        "for i, label in enumerate(labels):\n",
        "    if i < len(test_metrics['precision_per_class']):\n",
        "        print(f\"{label}: Precision={test_metrics['precision_per_class'][i]:.4f}, \"\n",
        "              f\"Recall={test_metrics['recall_per_class'][i]:.4f}, \"\n",
        "              f\"F1={test_metrics['f1_per_class'][i]:.4f}\")\n"
      ],
      "metadata": {
        "colab": {
          "base_uri": "https://localhost:8080/"
        },
        "id": "zqSmZ4pXMWpw",
        "outputId": "7337f3ab-7c86-4b3b-8d90-a32c92847b4c"
      },
      "execution_count": 14,
      "outputs": [
        {
          "output_type": "stream",
          "name": "stdout",
          "text": [
            "\n",
            "======================================================================\n",
            "EXECUTING STEP 13: DETAILED RESULTS ANALYSIS\n",
            "======================================================================\n",
            "Detailed Classification Report (Test Set):\n",
            "              precision    recall  f1-score   support\n",
            "\n",
            "         Low       0.95      0.95      0.95       275\n",
            "      Medium       0.90      0.91      0.91       279\n",
            "        High       0.96      0.95      0.95       291\n",
            "\n",
            "    accuracy                           0.94       845\n",
            "   macro avg       0.94      0.94      0.94       845\n",
            "weighted avg       0.94      0.94      0.94       845\n",
            "\n",
            "\n",
            "Per-class Metrics (Test Set):\n",
            "Low: Precision=0.9524, Recall=0.9455, F1=0.9489\n",
            "Medium: Precision=0.8979, Recall=0.9140, F1=0.9059\n",
            "High: Precision=0.9583, Recall=0.9485, F1=0.9534\n"
          ]
        }
      ]
    },
    {
      "cell_type": "code",
      "source": [
        "\n",
        "# =============================================================================\n",
        "# STEP 14: Final Summary and Model Saving\n",
        "# =============================================================================\n",
        "\n",
        "print(\"\\n\" + \"=\"*70)\n",
        "print(\"EXECUTING STEP 14: FINAL SUMMARY\")\n",
        "print(\"=\"*70)\n",
        "\n",
        "print(\"SAINT Model Training for Agricultural Production Classification (3 Labels) - COMPLETED!\")\n",
        "print(f\"Final Test Macro F1-Score: {test_metrics['f1_macro']:.4f}\")\n",
        "print(f\"Final Test Accuracy: {test_metrics['accuracy']:.4f}\")\n",
        "\n",
        "\n",
        "\n",
        "print(\"\\n\" + \"=\"*70)\n",
        "print(\"ALL STEPS COMPLETED SUCCESSFULLY!\")\n",
        "print(\"=\"*70)"
      ],
      "metadata": {
        "colab": {
          "base_uri": "https://localhost:8080/"
        },
        "id": "drYRVY_SNr0b",
        "outputId": "fc186f8e-b72e-4308-d09b-a12e4eea8c1b"
      },
      "execution_count": 15,
      "outputs": [
        {
          "output_type": "stream",
          "name": "stdout",
          "text": [
            "\n",
            "======================================================================\n",
            "EXECUTING STEP 14: FINAL SUMMARY\n",
            "======================================================================\n",
            "SAINT Model Training for Agricultural Production Classification (3 Labels) - COMPLETED!\n",
            "Final Test Macro F1-Score: 0.9360\n",
            "Final Test Accuracy: 0.9361\n",
            "\n",
            "======================================================================\n",
            "ALL STEPS COMPLETED SUCCESSFULLY!\n",
            "======================================================================\n"
          ]
        }
      ]
    }
  ]
}