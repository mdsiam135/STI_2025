{
  "nbformat": 4,
  "nbformat_minor": 0,
  "metadata": {
    "colab": {
      "provenance": [],
      "mount_file_id": "1AJQlQLDjNIzeEiyhO8t7pOdiRY1a1yzf",
      "authorship_tag": "ABX9TyNjfazQeCQiMACif/mRWYyG",
      "include_colab_link": true
    },
    "kernelspec": {
      "name": "python3",
      "display_name": "Python 3"
    },
    "language_info": {
      "name": "python"
    }
  },
  "cells": [
    {
      "cell_type": "markdown",
      "metadata": {
        "id": "view-in-github",
        "colab_type": "text"
      },
      "source": [
        "<a href=\"https://colab.research.google.com/github/mdsiam135/thesis_2025/blob/main/NODE_(3_labels).ipynb\" target=\"_parent\"><img src=\"https://colab.research.google.com/assets/colab-badge.svg\" alt=\"Open In Colab\"/></a>"
      ]
    },
    {
      "cell_type": "code",
      "source": [
        "# Step 1: Import Required Libraries\n",
        "import pandas as pd\n",
        "import numpy as np\n",
        "import matplotlib.pyplot as plt\n",
        "import seaborn as sns\n",
        "from sklearn.preprocessing import StandardScaler, LabelEncoder\n",
        "from sklearn.metrics import classification_report, confusion_matrix, accuracy_score, precision_score, recall_score, f1_score\n",
        "from sklearn.model_selection import train_test_split\n",
        "import tensorflow as tf\n",
        "from tensorflow import keras\n",
        "from tensorflow.keras import layers\n",
        "import warnings\n",
        "warnings.filterwarnings('ignore')\n",
        "\n",
        "# Set random seeds for reproducibility\n",
        "np.random.seed(42)\n",
        "tf.random.set_seed(42)\n",
        "\n",
        "print(\"Step 1: Libraries imported and random seeds set\")\n",
        "print(\"=\" * 50)\n"
      ],
      "metadata": {
        "colab": {
          "base_uri": "https://localhost:8080/"
        },
        "id": "M9ezFTSwj4vJ",
        "outputId": "c94c5aa3-c7e0-4568-dd18-144831778824"
      },
      "execution_count": 75,
      "outputs": [
        {
          "output_type": "stream",
          "name": "stdout",
          "text": [
            "Step 1: Libraries imported and random seeds set\n",
            "==================================================\n"
          ]
        }
      ]
    },
    {
      "cell_type": "code",
      "source": [
        "\n",
        "# Step 2: Define NODE Model Class\n",
        "class NODEModel:\n",
        "    \"\"\"\n",
        "    Neural Oblivious Decision Ensembles (NODE) implementation\n",
        "    \"\"\"\n",
        "\n",
        "    def __init__(self, input_dim, num_classes, num_layers=3, tree_depth=6, num_trees=2048,\n",
        "                 learning_rate=0.001, batch_size=512):\n",
        "        self.input_dim = input_dim\n",
        "        self.num_classes = num_classes\n",
        "        self.num_layers = num_layers\n",
        "        self.tree_depth = tree_depth\n",
        "        self.num_trees = num_trees\n",
        "        self.learning_rate = learning_rate\n",
        "        self.batch_size = batch_size\n",
        "        self.model = None\n",
        "        self.history = None\n",
        "\n",
        "    def build_model(self):\n",
        "        \"\"\"Build the NODE model architecture\"\"\"\n",
        "        inputs = layers.Input(shape=(self.input_dim,))\n",
        "\n",
        "        # Feature preprocessing\n",
        "        x = layers.Dense(128, activation='relu')(inputs)\n",
        "        x = layers.BatchNormalization()(x)\n",
        "        x = layers.Dropout(0.2)(x)\n",
        "\n",
        "        # NODE layers (simplified implementation)\n",
        "        for i in range(self.num_layers):\n",
        "            # Oblivious decision tree simulation\n",
        "            choice_function = layers.Dense(2**self.tree_depth, activation='sigmoid')(x)\n",
        "            feature_selection = layers.Dense(self.tree_depth, activation='softmax')(x)\n",
        "\n",
        "            # Tree ensemble\n",
        "            tree_outputs = []\n",
        "            for j in range(min(8, self.num_trees // (2**i + 1))):  # Reduced for computational efficiency\n",
        "                tree_branch = layers.Dense(64, activation='relu')(x)\n",
        "                tree_branch = layers.Dropout(0.2)(tree_branch)\n",
        "                tree_outputs.append(tree_branch)\n",
        "\n",
        "            if tree_outputs:\n",
        "                x = layers.Add()(tree_outputs) if len(tree_outputs) > 1 else tree_outputs[0]\n",
        "\n",
        "            x = layers.Dense(128, activation='relu')(x)\n",
        "            x = layers.BatchNormalization()(x)\n",
        "            x = layers.Dropout(0.2)(x)\n",
        "\n",
        "        # Final classification layer\n",
        "        outputs = layers.Dense(self.num_classes, activation='softmax')(x)\n",
        "\n",
        "        self.model = keras.Model(inputs=inputs, outputs=outputs)\n",
        "\n",
        "        # Compile model\n",
        "        self.model.compile(\n",
        "            optimizer=keras.optimizers.Adam(learning_rate=self.learning_rate),\n",
        "            loss='sparse_categorical_crossentropy',\n",
        "            metrics=['accuracy']\n",
        "        )\n",
        "\n",
        "        return self.model\n",
        "\n",
        "    def train(self, X_train, y_train, X_val, y_val, epochs=100, verbose=1):\n",
        "        \"\"\"Train the NODE model\"\"\"\n",
        "        if self.model is None:\n",
        "            self.build_model()\n",
        "\n",
        "        # Callbacks\n",
        "        early_stopping = keras.callbacks.EarlyStopping(\n",
        "            monitor='val_loss', patience=15, restore_best_weights=True\n",
        "        )\n",
        "\n",
        "        reduce_lr = keras.callbacks.ReduceLROnPlateau(\n",
        "            monitor='val_loss', factor=0.5, patience=10, min_lr=1e-6\n",
        "        )\n",
        "\n",
        "        # Train model\n",
        "        self.history = self.model.fit(\n",
        "            X_train, y_train,\n",
        "            validation_data=(X_val, y_val),\n",
        "            epochs=epochs,\n",
        "            batch_size=self.batch_size,\n",
        "            callbacks=[early_stopping, reduce_lr],\n",
        "            verbose=verbose\n",
        "        )\n",
        "\n",
        "        return self.history\n",
        "\n",
        "    def predict(self, X):\n",
        "        \"\"\"Make predictions\"\"\"\n",
        "        return self.model.predict(X)\n",
        "\n",
        "    def predict_classes(self, X):\n",
        "        \"\"\"Predict class labels\"\"\"\n",
        "        predictions = self.predict(X)\n",
        "        return np.argmax(predictions, axis=1)\n",
        "\n",
        "print(\"Step 2: NODE Model class defined\")\n",
        "print(\"=\" * 50)\n"
      ],
      "metadata": {
        "colab": {
          "base_uri": "https://localhost:8080/"
        },
        "id": "U8O3jJ3pj7U4",
        "outputId": "91736cfe-e0db-4b08-f4d8-a248cac96cd3"
      },
      "execution_count": 76,
      "outputs": [
        {
          "output_type": "stream",
          "name": "stdout",
          "text": [
            "Step 2: NODE Model class defined\n",
            "==================================================\n"
          ]
        }
      ]
    },
    {
      "cell_type": "code",
      "source": [
        "\n",
        "# Step 3: Define Data Loading Function\n",
        "def load_and_preprocess_data():\n",
        "    \"\"\"Load and preprocess the CSV files\"\"\"\n",
        "    print(\"Loading data...\")\n",
        "\n",
        "    # Load datasets\n",
        "    train_df = pd.read_csv('/content/drive/MyDrive/UpdatedDataset/train.csv')\n",
        "    val_df = pd.read_csv('/content/drive/MyDrive/UpdatedDataset/validation.csv')\n",
        "    test_df = pd.read_csv('/content/drive/MyDrive/UpdatedDataset/test.csv')\n",
        "\n",
        "    print(f\"Train shape: {train_df.shape}\")\n",
        "    print(f\"Validation shape: {val_df.shape}\")\n",
        "    print(f\"Test shape: {test_df.shape}\")\n",
        "\n",
        "    return train_df, val_df, test_df\n",
        "\n",
        "print(\"Step 3: Data loading function defined\")\n",
        "print(\"=\" * 50)\n"
      ],
      "metadata": {
        "colab": {
          "base_uri": "https://localhost:8080/"
        },
        "id": "ho_RLf3_j8zl",
        "outputId": "c0108b5e-bc91-435f-c89b-99630110420c"
      },
      "execution_count": 77,
      "outputs": [
        {
          "output_type": "stream",
          "name": "stdout",
          "text": [
            "Step 3: Data loading function defined\n",
            "==================================================\n"
          ]
        }
      ]
    },
    {
      "cell_type": "code",
      "source": [
        "\n",
        "# Step 4: Define Label Creation Function\n",
        "def create_quantile_labels(df, target_col='Production (M.Ton)'):\n",
        "    \"\"\"Create quantile-based labels for production (3 classes)\"\"\"\n",
        "    print(\"Creating quantile-based labels (3 classes)...\")\n",
        "\n",
        "    # Calculate terciles (33rd and 67th percentiles)\n",
        "    quantiles = df[target_col].quantile([0.33, 0.67]).values\n",
        "    print(f\"Tercile thresholds: {quantiles}\")\n",
        "\n",
        "    # Create labels\n",
        "    def get_label(value):\n",
        "        if value <= quantiles[0]:\n",
        "            return 0  # Low\n",
        "        elif value <= quantiles[1]:\n",
        "            return 1  # Medium\n",
        "        else:\n",
        "            return 2  # High\n",
        "\n",
        "    labels = df[target_col].apply(get_label)\n",
        "\n",
        "    # Print label distribution\n",
        "    label_names = ['Low', 'Medium', 'High']\n",
        "    print(\"Label distribution:\")\n",
        "    for i, name in enumerate(label_names):\n",
        "        count = (labels == i).sum()\n",
        "        print(f\"{name}: {count} ({count/len(labels)*100:.1f}%)\")\n",
        "\n",
        "    return labels, quantiles\n",
        "\n",
        "print(\"Step 4: Label creation function defined\")\n",
        "print(\"=\" * 50)\n"
      ],
      "metadata": {
        "colab": {
          "base_uri": "https://localhost:8080/"
        },
        "id": "glPK0S8uj-cc",
        "outputId": "36b7d84e-4315-4bdd-e3a3-9468bac5ad41"
      },
      "execution_count": 78,
      "outputs": [
        {
          "output_type": "stream",
          "name": "stdout",
          "text": [
            "Step 4: Label creation function defined\n",
            "==================================================\n"
          ]
        }
      ]
    },
    {
      "cell_type": "code",
      "source": [
        "\n",
        "# Step 5: Define Feature Preprocessing Function\n",
        "def preprocess_features(train_df, val_df, test_df, target_col='Production (M.Ton)'):\n",
        "    \"\"\"Preprocess features and prepare data for training\"\"\"\n",
        "    print(\"Preprocessing features...\")\n",
        "\n",
        "    # Separate features and target\n",
        "    feature_cols = [col for col in train_df.columns if col != target_col]\n",
        "\n",
        "    X_train = train_df[feature_cols].copy()\n",
        "    X_val = val_df[feature_cols].copy()\n",
        "    X_test = test_df[feature_cols].copy()\n",
        "\n",
        "    # Create labels\n",
        "    y_train, train_quantiles = create_quantile_labels(train_df, target_col)\n",
        "\n",
        "    # Use train quantiles for validation and test sets\n",
        "    def apply_train_quantiles(df, quantiles, target_col):\n",
        "        def get_label(value):\n",
        "            if value <= quantiles[0]:\n",
        "                return 0  # Low\n",
        "            elif value <= quantiles[1]:\n",
        "                return 1  # Medium\n",
        "            else:\n",
        "                return 2  # High\n",
        "        return df[target_col].apply(get_label)\n",
        "\n",
        "    y_val = apply_train_quantiles(val_df, train_quantiles, target_col)\n",
        "    y_test = apply_train_quantiles(test_df, train_quantiles, target_col)\n",
        "\n",
        "    # Handle missing values\n",
        "    X_train = X_train.fillna(X_train.mean())\n",
        "    X_val = X_val.fillna(X_train.mean())  # Use train mean for validation\n",
        "    X_test = X_test.fillna(X_train.mean())  # Use train mean for test\n",
        "\n",
        "    # Scale features\n",
        "    scaler = StandardScaler()\n",
        "    X_train_scaled = scaler.fit_transform(X_train)\n",
        "    X_val_scaled = scaler.transform(X_val)\n",
        "    X_test_scaled = scaler.transform(X_test)\n",
        "\n",
        "    print(f\"Feature dimensions: {X_train_scaled.shape[1]}\")\n",
        "    print(f\"Number of classes: {len(np.unique(y_train))}\")\n",
        "\n",
        "    return (X_train_scaled, y_train, X_val_scaled, y_val,\n",
        "            X_test_scaled, y_test, scaler, train_quantiles)\n",
        "\n",
        "print(\"Step 5: Feature preprocessing function defined\")\n",
        "print(\"=\" * 50)\n"
      ],
      "metadata": {
        "colab": {
          "base_uri": "https://localhost:8080/"
        },
        "id": "qVaiVJpRkAct",
        "outputId": "e86c2aa8-3154-4ddc-c715-dd2e432f51db"
      },
      "execution_count": 79,
      "outputs": [
        {
          "output_type": "stream",
          "name": "stdout",
          "text": [
            "Step 5: Feature preprocessing function defined\n",
            "==================================================\n"
          ]
        }
      ]
    },
    {
      "cell_type": "code",
      "source": [
        "\n",
        "# Step 6: Define Metrics Calculation Function\n",
        "def calculate_metrics(y_true, y_pred, dataset_name=\"\"):\n",
        "    \"\"\"Calculate comprehensive classification metrics\"\"\"\n",
        "    print(f\"\\n{dataset_name} Classification Metrics:\")\n",
        "    print(\"-\" * 50)\n",
        "\n",
        "    # Basic metrics\n",
        "    accuracy = accuracy_score(y_true, y_pred)\n",
        "    precision_macro = precision_score(y_true, y_pred, average='macro')\n",
        "    precision_weighted = precision_score(y_true, y_pred, average='weighted')\n",
        "    recall_macro = recall_score(y_true, y_pred, average='macro')\n",
        "    recall_weighted = recall_score(y_true, y_pred, average='weighted')\n",
        "    f1_macro = f1_score(y_true, y_pred, average='macro')\n",
        "    f1_weighted = f1_score(y_true, y_pred, average='weighted')\n",
        "\n",
        "    print(f\"Accuracy: {accuracy:.4f}\")\n",
        "    print(f\"Precision (Macro): {precision_macro:.4f}\")\n",
        "    print(f\"Precision (Weighted): {precision_weighted:.4f}\")\n",
        "    print(f\"Recall (Macro): {recall_macro:.4f}\")\n",
        "    print(f\"Recall (Weighted): {recall_weighted:.4f}\")\n",
        "    print(f\"F1 Score (Macro): {f1_macro:.4f}\")\n",
        "    print(f\"F1 Score (Weighted): {f1_weighted:.4f}\")\n",
        "\n",
        "    # Detailed classification report\n",
        "    print(f\"\\nDetailed Classification Report ({dataset_name}):\")\n",
        "    class_names = ['Low', 'Medium', 'High']\n",
        "    print(classification_report(y_true, y_pred, target_names=class_names))\n",
        "\n",
        "    return {\n",
        "        'accuracy': accuracy,\n",
        "        'precision_macro': precision_macro,\n",
        "        'precision_weighted': precision_weighted,\n",
        "        'recall_macro': recall_macro,\n",
        "        'recall_weighted': recall_weighted,\n",
        "        'f1_macro': f1_macro,\n",
        "        'f1_weighted': f1_weighted\n",
        "    }\n",
        "\n",
        "print(\"Step 6: Metrics calculation function defined\")\n",
        "print(\"=\" * 50)\n"
      ],
      "metadata": {
        "colab": {
          "base_uri": "https://localhost:8080/"
        },
        "id": "PPYmQ9pykB_4",
        "outputId": "39bfe7f6-18ae-49d3-d57a-9c60ba6de9e1"
      },
      "execution_count": 80,
      "outputs": [
        {
          "output_type": "stream",
          "name": "stdout",
          "text": [
            "Step 6: Metrics calculation function defined\n",
            "==================================================\n"
          ]
        }
      ]
    },
    {
      "cell_type": "code",
      "source": [
        "\n",
        "# Step 7: Define Confusion Matrix Plot Function\n",
        "def plot_confusion_matrix(y_true, y_pred, dataset_name=\"\", figsize=(5, 4)):\n",
        "    \"\"\"Plot confusion matrix\"\"\"\n",
        "    plt.figure(figsize=figsize)\n",
        "\n",
        "    # Create confusion matrix\n",
        "    cm = confusion_matrix(y_true, y_pred)\n",
        "    class_names = ['Low', 'Medium', 'High']\n",
        "\n",
        "    # Plot heatmap\n",
        "    sns.heatmap(cm, annot=True, fmt='d', cmap='Blues',\n",
        "                xticklabels=class_names, yticklabels=class_names)\n",
        "    plt.title(f'Confusion Matrix - {dataset_name}')\n",
        "    plt.ylabel('True Label')\n",
        "    plt.xlabel('Predicted Label')\n",
        "    plt.tight_layout()\n",
        "    plt.show()\n",
        "\n",
        "    return cm\n",
        "\n",
        "print(\"Step 7: Confusion matrix plot function defined\")\n",
        "print(\"=\" * 50)\n"
      ],
      "metadata": {
        "colab": {
          "base_uri": "https://localhost:8080/"
        },
        "id": "MghlHjSVkDTI",
        "outputId": "dfad198c-7c7c-4dd3-8869-9975ca05a92d"
      },
      "execution_count": 81,
      "outputs": [
        {
          "output_type": "stream",
          "name": "stdout",
          "text": [
            "Step 7: Confusion matrix plot function defined\n",
            "==================================================\n"
          ]
        }
      ]
    },
    {
      "cell_type": "code",
      "source": [
        "\n",
        "# Step 8: Define Training History Plot Function\n",
        "def plot_training_history(history, metric='accuracy'):\n",
        "    \"\"\"Plot training and validation metrics\"\"\"\n",
        "    plt.figure(figsize=(12, 4))\n",
        "\n",
        "    # Plot accuracy\n",
        "    plt.subplot(1, 2, 1)\n",
        "    plt.plot(history.history[metric], label=f'Training {metric.title()}')\n",
        "    plt.plot(history.history[f'val_{metric}'], label=f'Validation {metric.title()}')\n",
        "    plt.title(f'Model {metric.title()}')\n",
        "    plt.xlabel('Epoch')\n",
        "    plt.ylabel(metric.title())\n",
        "    plt.legend()\n",
        "    plt.grid(True)\n",
        "\n",
        "    # Plot loss\n",
        "    plt.subplot(1, 2, 2)\n",
        "    plt.plot(history.history['loss'], label='Training Loss')\n",
        "    plt.plot(history.history['val_loss'], label='Validation Loss')\n",
        "    plt.title('Model Loss')\n",
        "    plt.xlabel('Epoch')\n",
        "    plt.ylabel('Loss')\n",
        "    plt.legend()\n",
        "    plt.grid(True)\n",
        "\n",
        "    plt.tight_layout()\n",
        "    plt.show()\n",
        "\n",
        "print(\"Step 8: Training history plot function defined\")\n",
        "print(\"=\" * 50)\n",
        "\n",
        "# EXECUTION STEPS\n",
        "# Now you can run these steps one by one:\n"
      ],
      "metadata": {
        "colab": {
          "base_uri": "https://localhost:8080/"
        },
        "id": "PhF6eTSMkH3m",
        "outputId": "adfd819d-ea4e-4730-c05c-f5d49cb25ce6"
      },
      "execution_count": 82,
      "outputs": [
        {
          "output_type": "stream",
          "name": "stdout",
          "text": [
            "Step 8: Training history plot function defined\n",
            "==================================================\n"
          ]
        }
      ]
    },
    {
      "cell_type": "code",
      "source": [
        "\n",
        "# STEP 9: Load Data\n",
        "print(\"\\nSTEP 9: Loading and preprocessing data...\")\n",
        "print(\"NODE (Neural Oblivious Decision Ensembles) for Agricultural Production Classification - 3 Classes\")\n",
        "print(\"=\" * 90)\n",
        "\n",
        "# Load and preprocess data\n",
        "train_df, val_df, test_df = load_and_preprocess_data()\n"
      ],
      "metadata": {
        "colab": {
          "base_uri": "https://localhost:8080/"
        },
        "id": "NgV_xS2MkKby",
        "outputId": "1ecf436b-a580-4ef7-acba-16d4f5dff613"
      },
      "execution_count": 83,
      "outputs": [
        {
          "output_type": "stream",
          "name": "stdout",
          "text": [
            "\n",
            "STEP 9: Loading and preprocessing data...\n",
            "NODE (Neural Oblivious Decision Ensembles) for Agricultural Production Classification - 3 Classes\n",
            "==========================================================================================\n",
            "Loading data...\n",
            "Train shape: (3942, 84)\n",
            "Validation shape: (845, 84)\n",
            "Test shape: (845, 84)\n"
          ]
        }
      ]
    },
    {
      "cell_type": "code",
      "source": [
        "\n",
        "# STEP 10: Preprocess Features\n",
        "print(\"\\nSTEP 10: Preprocessing features...\")\n",
        "(X_train, y_train, X_val, y_val,\n",
        " X_test, y_test, scaler, quantiles) = preprocess_features(train_df, val_df, test_df)\n"
      ],
      "metadata": {
        "colab": {
          "base_uri": "https://localhost:8080/"
        },
        "id": "InaLo5JHkgyX",
        "outputId": "7801c249-4b31-47df-aa8c-7ff621ccbd06"
      },
      "execution_count": 84,
      "outputs": [
        {
          "output_type": "stream",
          "name": "stdout",
          "text": [
            "\n",
            "STEP 10: Preprocessing features...\n",
            "Preprocessing features...\n",
            "Creating quantile-based labels (3 classes)...\n",
            "Tercile thresholds: [1071.5565 4035.9099]\n",
            "Label distribution:\n",
            "Low: 1301 (33.0%)\n",
            "Medium: 1340 (34.0%)\n",
            "High: 1301 (33.0%)\n",
            "Feature dimensions: 83\n",
            "Number of classes: 3\n"
          ]
        }
      ]
    },
    {
      "cell_type": "code",
      "source": [
        "# STEP 11: Initialize NODE Model\n",
        "print(\"\\nSTEP 11: Initializing NODE model...\")\n",
        "node_model = NODEModel(\n",
        "    input_dim=X_train.shape[1],\n",
        "    num_classes=3,  # Changed to 3 classes\n",
        "    num_layers=3,\n",
        "    tree_depth=6,\n",
        "    num_trees=1024,  # Reduced for computational efficiency\n",
        "    learning_rate=0.001,\n",
        "    batch_size=256\n",
        ")\n"
      ],
      "metadata": {
        "colab": {
          "base_uri": "https://localhost:8080/"
        },
        "id": "xQApuGBWkux_",
        "outputId": "de2f6069-e01c-479b-8b45-5e9de48a32c2"
      },
      "execution_count": 85,
      "outputs": [
        {
          "output_type": "stream",
          "name": "stdout",
          "text": [
            "\n",
            "STEP 11: Initializing NODE model...\n"
          ]
        }
      ]
    },
    {
      "cell_type": "code",
      "source": [
        "\n",
        "# STEP 12: Build Model\n",
        "print(\"\\nSTEP 12: Building model...\")\n",
        "model = node_model.build_model()\n",
        "print(f\"Model built with {model.count_params()} parameters\")\n"
      ],
      "metadata": {
        "colab": {
          "base_uri": "https://localhost:8080/"
        },
        "id": "CNg9GefGkwOo",
        "outputId": "086be817-0be1-406f-a1f5-12dc4b0fc277"
      },
      "execution_count": 86,
      "outputs": [
        {
          "output_type": "stream",
          "name": "stdout",
          "text": [
            "\n",
            "STEP 12: Building model...\n",
            "Model built with 236291 parameters\n"
          ]
        }
      ]
    },
    {
      "cell_type": "code",
      "source": [
        "\n",
        "# STEP 13: Train Model\n",
        "print(\"\\nSTEP 13: Training NODE model...\")\n",
        "history = node_model.train(\n",
        "    X_train, y_train,\n",
        "    X_val, y_val,\n",
        "    epochs=100,\n",
        "    verbose=1\n",
        ")\n"
      ],
      "metadata": {
        "colab": {
          "base_uri": "https://localhost:8080/"
        },
        "id": "3vbCotn5kxYg",
        "outputId": "7a6e0667-8daa-49cb-c589-af075c12684a"
      },
      "execution_count": 87,
      "outputs": [
        {
          "output_type": "stream",
          "name": "stdout",
          "text": [
            "\n",
            "STEP 13: Training NODE model...\n",
            "Epoch 1/100\n",
            "\u001b[1m16/16\u001b[0m \u001b[32m━━━━━━━━━━━━━━━━━━━━\u001b[0m\u001b[37m\u001b[0m \u001b[1m16s\u001b[0m 72ms/step - accuracy: 0.3228 - loss: 1.5251 - val_accuracy: 0.3598 - val_loss: 1.7141 - learning_rate: 0.0010\n",
            "Epoch 2/100\n",
            "\u001b[1m16/16\u001b[0m \u001b[32m━━━━━━━━━━━━━━━━━━━━\u001b[0m\u001b[37m\u001b[0m \u001b[1m0s\u001b[0m 30ms/step - accuracy: 0.3756 - loss: 1.2928 - val_accuracy: 0.3941 - val_loss: 1.2989 - learning_rate: 0.0010\n",
            "Epoch 3/100\n",
            "\u001b[1m16/16\u001b[0m \u001b[32m━━━━━━━━━━━━━━━━━━━━\u001b[0m\u001b[37m\u001b[0m \u001b[1m1s\u001b[0m 31ms/step - accuracy: 0.3799 - loss: 1.2095 - val_accuracy: 0.4686 - val_loss: 1.0404 - learning_rate: 0.0010\n",
            "Epoch 4/100\n",
            "\u001b[1m16/16\u001b[0m \u001b[32m━━━━━━━━━━━━━━━━━━━━\u001b[0m\u001b[37m\u001b[0m \u001b[1m1s\u001b[0m 31ms/step - accuracy: 0.3961 - loss: 1.1555 - val_accuracy: 0.4615 - val_loss: 1.0055 - learning_rate: 0.0010\n",
            "Epoch 5/100\n",
            "\u001b[1m16/16\u001b[0m \u001b[32m━━━━━━━━━━━━━━━━━━━━\u001b[0m\u001b[37m\u001b[0m \u001b[1m1s\u001b[0m 31ms/step - accuracy: 0.4482 - loss: 1.0975 - val_accuracy: 0.5598 - val_loss: 0.9084 - learning_rate: 0.0010\n",
            "Epoch 6/100\n",
            "\u001b[1m16/16\u001b[0m \u001b[32m━━━━━━━━━━━━━━━━━━━━\u001b[0m\u001b[37m\u001b[0m \u001b[1m1s\u001b[0m 32ms/step - accuracy: 0.5154 - loss: 1.0091 - val_accuracy: 0.5905 - val_loss: 0.8491 - learning_rate: 0.0010\n",
            "Epoch 7/100\n",
            "\u001b[1m16/16\u001b[0m \u001b[32m━━━━━━━━━━━━━━━━━━━━\u001b[0m\u001b[37m\u001b[0m \u001b[1m1s\u001b[0m 30ms/step - accuracy: 0.5353 - loss: 0.9444 - val_accuracy: 0.6331 - val_loss: 0.7819 - learning_rate: 0.0010\n",
            "Epoch 8/100\n",
            "\u001b[1m16/16\u001b[0m \u001b[32m━━━━━━━━━━━━━━━━━━━━\u001b[0m\u001b[37m\u001b[0m \u001b[1m1s\u001b[0m 31ms/step - accuracy: 0.5884 - loss: 0.8781 - val_accuracy: 0.6592 - val_loss: 0.7374 - learning_rate: 0.0010\n",
            "Epoch 9/100\n",
            "\u001b[1m16/16\u001b[0m \u001b[32m━━━━━━━━━━━━━━━━━━━━\u001b[0m\u001b[37m\u001b[0m \u001b[1m0s\u001b[0m 30ms/step - accuracy: 0.6102 - loss: 0.8271 - val_accuracy: 0.7041 - val_loss: 0.6799 - learning_rate: 0.0010\n",
            "Epoch 10/100\n",
            "\u001b[1m16/16\u001b[0m \u001b[32m━━━━━━━━━━━━━━━━━━━━\u001b[0m\u001b[37m\u001b[0m \u001b[1m0s\u001b[0m 30ms/step - accuracy: 0.6542 - loss: 0.7784 - val_accuracy: 0.7207 - val_loss: 0.6373 - learning_rate: 0.0010\n",
            "Epoch 11/100\n",
            "\u001b[1m16/16\u001b[0m \u001b[32m━━━━━━━━━━━━━━━━━━━━\u001b[0m\u001b[37m\u001b[0m \u001b[1m0s\u001b[0m 30ms/step - accuracy: 0.6799 - loss: 0.7161 - val_accuracy: 0.7314 - val_loss: 0.6198 - learning_rate: 0.0010\n",
            "Epoch 12/100\n",
            "\u001b[1m16/16\u001b[0m \u001b[32m━━━━━━━━━━━━━━━━━━━━\u001b[0m\u001b[37m\u001b[0m \u001b[1m1s\u001b[0m 30ms/step - accuracy: 0.7033 - loss: 0.6817 - val_accuracy: 0.7467 - val_loss: 0.6047 - learning_rate: 0.0010\n",
            "Epoch 13/100\n",
            "\u001b[1m16/16\u001b[0m \u001b[32m━━━━━━━━━━━━━━━━━━━━\u001b[0m\u001b[37m\u001b[0m \u001b[1m1s\u001b[0m 30ms/step - accuracy: 0.7173 - loss: 0.6405 - val_accuracy: 0.7621 - val_loss: 0.5933 - learning_rate: 0.0010\n",
            "Epoch 14/100\n",
            "\u001b[1m16/16\u001b[0m \u001b[32m━━━━━━━━━━━━━━━━━━━━\u001b[0m\u001b[37m\u001b[0m \u001b[1m1s\u001b[0m 30ms/step - accuracy: 0.7392 - loss: 0.6019 - val_accuracy: 0.7775 - val_loss: 0.5790 - learning_rate: 0.0010\n",
            "Epoch 15/100\n",
            "\u001b[1m16/16\u001b[0m \u001b[32m━━━━━━━━━━━━━━━━━━━━\u001b[0m\u001b[37m\u001b[0m \u001b[1m1s\u001b[0m 30ms/step - accuracy: 0.7399 - loss: 0.5894 - val_accuracy: 0.7834 - val_loss: 0.5480 - learning_rate: 0.0010\n",
            "Epoch 16/100\n",
            "\u001b[1m16/16\u001b[0m \u001b[32m━━━━━━━━━━━━━━━━━━━━\u001b[0m\u001b[37m\u001b[0m \u001b[1m1s\u001b[0m 30ms/step - accuracy: 0.7474 - loss: 0.5730 - val_accuracy: 0.8012 - val_loss: 0.5213 - learning_rate: 0.0010\n",
            "Epoch 17/100\n",
            "\u001b[1m16/16\u001b[0m \u001b[32m━━━━━━━━━━━━━━━━━━━━\u001b[0m\u001b[37m\u001b[0m \u001b[1m1s\u001b[0m 43ms/step - accuracy: 0.7685 - loss: 0.5377 - val_accuracy: 0.8083 - val_loss: 0.5081 - learning_rate: 0.0010\n",
            "Epoch 18/100\n",
            "\u001b[1m16/16\u001b[0m \u001b[32m━━━━━━━━━━━━━━━━━━━━\u001b[0m\u001b[37m\u001b[0m \u001b[1m1s\u001b[0m 48ms/step - accuracy: 0.7755 - loss: 0.5190 - val_accuracy: 0.8083 - val_loss: 0.4951 - learning_rate: 0.0010\n",
            "Epoch 19/100\n",
            "\u001b[1m16/16\u001b[0m \u001b[32m━━━━━━━━━━━━━━━━━━━━\u001b[0m\u001b[37m\u001b[0m \u001b[1m1s\u001b[0m 50ms/step - accuracy: 0.7914 - loss: 0.5152 - val_accuracy: 0.8166 - val_loss: 0.4926 - learning_rate: 0.0010\n",
            "Epoch 20/100\n",
            "\u001b[1m16/16\u001b[0m \u001b[32m━━━━━━━━━━━━━━━━━━━━\u001b[0m\u001b[37m\u001b[0m \u001b[1m1s\u001b[0m 54ms/step - accuracy: 0.8046 - loss: 0.4824 - val_accuracy: 0.8142 - val_loss: 0.4835 - learning_rate: 0.0010\n",
            "Epoch 21/100\n",
            "\u001b[1m16/16\u001b[0m \u001b[32m━━━━━━━━━━━━━━━━━━━━\u001b[0m\u001b[37m\u001b[0m \u001b[1m1s\u001b[0m 29ms/step - accuracy: 0.8149 - loss: 0.4698 - val_accuracy: 0.8189 - val_loss: 0.4661 - learning_rate: 0.0010\n",
            "Epoch 22/100\n",
            "\u001b[1m16/16\u001b[0m \u001b[32m━━━━━━━━━━━━━━━━━━━━\u001b[0m\u001b[37m\u001b[0m \u001b[1m1s\u001b[0m 29ms/step - accuracy: 0.8040 - loss: 0.4586 - val_accuracy: 0.8284 - val_loss: 0.4383 - learning_rate: 0.0010\n",
            "Epoch 23/100\n",
            "\u001b[1m16/16\u001b[0m \u001b[32m━━━━━━━━━━━━━━━━━━━━\u001b[0m\u001b[37m\u001b[0m \u001b[1m0s\u001b[0m 29ms/step - accuracy: 0.8264 - loss: 0.4309 - val_accuracy: 0.8343 - val_loss: 0.4296 - learning_rate: 0.0010\n",
            "Epoch 24/100\n",
            "\u001b[1m16/16\u001b[0m \u001b[32m━━━━━━━━━━━━━━━━━━━━\u001b[0m\u001b[37m\u001b[0m \u001b[1m0s\u001b[0m 30ms/step - accuracy: 0.8274 - loss: 0.4187 - val_accuracy: 0.8355 - val_loss: 0.4302 - learning_rate: 0.0010\n",
            "Epoch 25/100\n",
            "\u001b[1m16/16\u001b[0m \u001b[32m━━━━━━━━━━━━━━━━━━━━\u001b[0m\u001b[37m\u001b[0m \u001b[1m1s\u001b[0m 31ms/step - accuracy: 0.8364 - loss: 0.3914 - val_accuracy: 0.8355 - val_loss: 0.4149 - learning_rate: 0.0010\n",
            "Epoch 26/100\n",
            "\u001b[1m16/16\u001b[0m \u001b[32m━━━━━━━━━━━━━━━━━━━━\u001b[0m\u001b[37m\u001b[0m \u001b[1m1s\u001b[0m 30ms/step - accuracy: 0.8492 - loss: 0.3799 - val_accuracy: 0.8497 - val_loss: 0.4042 - learning_rate: 0.0010\n",
            "Epoch 27/100\n",
            "\u001b[1m16/16\u001b[0m \u001b[32m━━━━━━━━━━━━━━━━━━━━\u001b[0m\u001b[37m\u001b[0m \u001b[1m0s\u001b[0m 29ms/step - accuracy: 0.8437 - loss: 0.3862 - val_accuracy: 0.8544 - val_loss: 0.3942 - learning_rate: 0.0010\n",
            "Epoch 28/100\n",
            "\u001b[1m16/16\u001b[0m \u001b[32m━━━━━━━━━━━━━━━━━━━━\u001b[0m\u001b[37m\u001b[0m \u001b[1m1s\u001b[0m 30ms/step - accuracy: 0.8471 - loss: 0.3725 - val_accuracy: 0.8592 - val_loss: 0.3873 - learning_rate: 0.0010\n",
            "Epoch 29/100\n",
            "\u001b[1m16/16\u001b[0m \u001b[32m━━━━━━━━━━━━━━━━━━━━\u001b[0m\u001b[37m\u001b[0m \u001b[1m0s\u001b[0m 29ms/step - accuracy: 0.8446 - loss: 0.3769 - val_accuracy: 0.8675 - val_loss: 0.3727 - learning_rate: 0.0010\n",
            "Epoch 30/100\n",
            "\u001b[1m16/16\u001b[0m \u001b[32m━━━━━━━━━━━━━━━━━━━━\u001b[0m\u001b[37m\u001b[0m \u001b[1m1s\u001b[0m 31ms/step - accuracy: 0.8591 - loss: 0.3561 - val_accuracy: 0.8663 - val_loss: 0.3691 - learning_rate: 0.0010\n",
            "Epoch 31/100\n",
            "\u001b[1m16/16\u001b[0m \u001b[32m━━━━━━━━━━━━━━━━━━━━\u001b[0m\u001b[37m\u001b[0m \u001b[1m0s\u001b[0m 29ms/step - accuracy: 0.8698 - loss: 0.3353 - val_accuracy: 0.8627 - val_loss: 0.3695 - learning_rate: 0.0010\n",
            "Epoch 32/100\n",
            "\u001b[1m16/16\u001b[0m \u001b[32m━━━━━━━━━━━━━━━━━━━━\u001b[0m\u001b[37m\u001b[0m \u001b[1m1s\u001b[0m 31ms/step - accuracy: 0.8704 - loss: 0.3411 - val_accuracy: 0.8663 - val_loss: 0.3627 - learning_rate: 0.0010\n",
            "Epoch 33/100\n",
            "\u001b[1m16/16\u001b[0m \u001b[32m━━━━━━━━━━━━━━━━━━━━\u001b[0m\u001b[37m\u001b[0m \u001b[1m0s\u001b[0m 29ms/step - accuracy: 0.8711 - loss: 0.3212 - val_accuracy: 0.8639 - val_loss: 0.3611 - learning_rate: 0.0010\n",
            "Epoch 34/100\n",
            "\u001b[1m16/16\u001b[0m \u001b[32m━━━━━━━━━━━━━━━━━━━━\u001b[0m\u001b[37m\u001b[0m \u001b[1m1s\u001b[0m 31ms/step - accuracy: 0.8838 - loss: 0.3123 - val_accuracy: 0.8734 - val_loss: 0.3531 - learning_rate: 0.0010\n",
            "Epoch 35/100\n",
            "\u001b[1m16/16\u001b[0m \u001b[32m━━━━━━━━━━━━━━━━━━━━\u001b[0m\u001b[37m\u001b[0m \u001b[1m1s\u001b[0m 29ms/step - accuracy: 0.8822 - loss: 0.3125 - val_accuracy: 0.8781 - val_loss: 0.3395 - learning_rate: 0.0010\n",
            "Epoch 36/100\n",
            "\u001b[1m16/16\u001b[0m \u001b[32m━━━━━━━━━━━━━━━━━━━━\u001b[0m\u001b[37m\u001b[0m \u001b[1m1s\u001b[0m 31ms/step - accuracy: 0.8876 - loss: 0.3109 - val_accuracy: 0.8817 - val_loss: 0.3363 - learning_rate: 0.0010\n",
            "Epoch 37/100\n",
            "\u001b[1m16/16\u001b[0m \u001b[32m━━━━━━━━━━━━━━━━━━━━\u001b[0m\u001b[37m\u001b[0m \u001b[1m0s\u001b[0m 29ms/step - accuracy: 0.8756 - loss: 0.3120 - val_accuracy: 0.8852 - val_loss: 0.3447 - learning_rate: 0.0010\n",
            "Epoch 38/100\n",
            "\u001b[1m16/16\u001b[0m \u001b[32m━━━━━━━━━━━━━━━━━━━━\u001b[0m\u001b[37m\u001b[0m \u001b[1m0s\u001b[0m 30ms/step - accuracy: 0.8796 - loss: 0.3063 - val_accuracy: 0.8840 - val_loss: 0.3428 - learning_rate: 0.0010\n",
            "Epoch 39/100\n",
            "\u001b[1m16/16\u001b[0m \u001b[32m━━━━━━━━━━━━━━━━━━━━\u001b[0m\u001b[37m\u001b[0m \u001b[1m1s\u001b[0m 43ms/step - accuracy: 0.8853 - loss: 0.2963 - val_accuracy: 0.8769 - val_loss: 0.3481 - learning_rate: 0.0010\n",
            "Epoch 40/100\n",
            "\u001b[1m16/16\u001b[0m \u001b[32m━━━━━━━━━━━━━━━━━━━━\u001b[0m\u001b[37m\u001b[0m \u001b[1m1s\u001b[0m 55ms/step - accuracy: 0.8903 - loss: 0.2842 - val_accuracy: 0.8840 - val_loss: 0.3502 - learning_rate: 0.0010\n",
            "Epoch 41/100\n",
            "\u001b[1m16/16\u001b[0m \u001b[32m━━━━━━━━━━━━━━━━━━━━\u001b[0m\u001b[37m\u001b[0m \u001b[1m1s\u001b[0m 51ms/step - accuracy: 0.8906 - loss: 0.2856 - val_accuracy: 0.8828 - val_loss: 0.3317 - learning_rate: 0.0010\n",
            "Epoch 42/100\n",
            "\u001b[1m16/16\u001b[0m \u001b[32m━━━━━━━━━━━━━━━━━━━━\u001b[0m\u001b[37m\u001b[0m \u001b[1m1s\u001b[0m 52ms/step - accuracy: 0.8944 - loss: 0.2689 - val_accuracy: 0.8923 - val_loss: 0.3143 - learning_rate: 0.0010\n",
            "Epoch 43/100\n",
            "\u001b[1m16/16\u001b[0m \u001b[32m━━━━━━━━━━━━━━━━━━━━\u001b[0m\u001b[37m\u001b[0m \u001b[1m1s\u001b[0m 30ms/step - accuracy: 0.8912 - loss: 0.2629 - val_accuracy: 0.8935 - val_loss: 0.3134 - learning_rate: 0.0010\n",
            "Epoch 44/100\n",
            "\u001b[1m16/16\u001b[0m \u001b[32m━━━━━━━━━━━━━━━━━━━━\u001b[0m\u001b[37m\u001b[0m \u001b[1m1s\u001b[0m 31ms/step - accuracy: 0.9002 - loss: 0.2563 - val_accuracy: 0.8852 - val_loss: 0.3253 - learning_rate: 0.0010\n",
            "Epoch 45/100\n",
            "\u001b[1m16/16\u001b[0m \u001b[32m━━━━━━━━━━━━━━━━━━━━\u001b[0m\u001b[37m\u001b[0m \u001b[1m0s\u001b[0m 29ms/step - accuracy: 0.8978 - loss: 0.2640 - val_accuracy: 0.8864 - val_loss: 0.3277 - learning_rate: 0.0010\n",
            "Epoch 46/100\n",
            "\u001b[1m16/16\u001b[0m \u001b[32m━━━━━━━━━━━━━━━━━━━━\u001b[0m\u001b[37m\u001b[0m \u001b[1m1s\u001b[0m 30ms/step - accuracy: 0.8991 - loss: 0.2476 - val_accuracy: 0.8793 - val_loss: 0.3273 - learning_rate: 0.0010\n",
            "Epoch 47/100\n",
            "\u001b[1m16/16\u001b[0m \u001b[32m━━━━━━━━━━━━━━━━━━━━\u001b[0m\u001b[37m\u001b[0m \u001b[1m0s\u001b[0m 28ms/step - accuracy: 0.9001 - loss: 0.2702 - val_accuracy: 0.8781 - val_loss: 0.3288 - learning_rate: 0.0010\n",
            "Epoch 48/100\n",
            "\u001b[1m16/16\u001b[0m \u001b[32m━━━━━━━━━━━━━━━━━━━━\u001b[0m\u001b[37m\u001b[0m \u001b[1m1s\u001b[0m 32ms/step - accuracy: 0.9031 - loss: 0.2587 - val_accuracy: 0.8840 - val_loss: 0.3285 - learning_rate: 0.0010\n",
            "Epoch 49/100\n",
            "\u001b[1m16/16\u001b[0m \u001b[32m━━━━━━━━━━━━━━━━━━━━\u001b[0m\u001b[37m\u001b[0m \u001b[1m0s\u001b[0m 29ms/step - accuracy: 0.9125 - loss: 0.2417 - val_accuracy: 0.8757 - val_loss: 0.3340 - learning_rate: 0.0010\n",
            "Epoch 50/100\n",
            "\u001b[1m16/16\u001b[0m \u001b[32m━━━━━━━━━━━━━━━━━━━━\u001b[0m\u001b[37m\u001b[0m \u001b[1m1s\u001b[0m 30ms/step - accuracy: 0.9149 - loss: 0.2225 - val_accuracy: 0.8852 - val_loss: 0.3137 - learning_rate: 0.0010\n",
            "Epoch 51/100\n",
            "\u001b[1m16/16\u001b[0m \u001b[32m━━━━━━━━━━━━━━━━━━━━\u001b[0m\u001b[37m\u001b[0m \u001b[1m1s\u001b[0m 31ms/step - accuracy: 0.9146 - loss: 0.2144 - val_accuracy: 0.8840 - val_loss: 0.3103 - learning_rate: 0.0010\n",
            "Epoch 52/100\n",
            "\u001b[1m16/16\u001b[0m \u001b[32m━━━━━━━━━━━━━━━━━━━━\u001b[0m\u001b[37m\u001b[0m \u001b[1m0s\u001b[0m 30ms/step - accuracy: 0.9098 - loss: 0.2443 - val_accuracy: 0.8840 - val_loss: 0.3181 - learning_rate: 0.0010\n",
            "Epoch 53/100\n",
            "\u001b[1m16/16\u001b[0m \u001b[32m━━━━━━━━━━━━━━━━━━━━\u001b[0m\u001b[37m\u001b[0m \u001b[1m0s\u001b[0m 29ms/step - accuracy: 0.9215 - loss: 0.2121 - val_accuracy: 0.8899 - val_loss: 0.3173 - learning_rate: 0.0010\n",
            "Epoch 54/100\n",
            "\u001b[1m16/16\u001b[0m \u001b[32m━━━━━━━━━━━━━━━━━━━━\u001b[0m\u001b[37m\u001b[0m \u001b[1m1s\u001b[0m 30ms/step - accuracy: 0.9150 - loss: 0.2130 - val_accuracy: 0.8888 - val_loss: 0.3179 - learning_rate: 0.0010\n",
            "Epoch 55/100\n",
            "\u001b[1m16/16\u001b[0m \u001b[32m━━━━━━━━━━━━━━━━━━━━\u001b[0m\u001b[37m\u001b[0m \u001b[1m1s\u001b[0m 31ms/step - accuracy: 0.9144 - loss: 0.2235 - val_accuracy: 0.8876 - val_loss: 0.3024 - learning_rate: 0.0010\n",
            "Epoch 56/100\n",
            "\u001b[1m16/16\u001b[0m \u001b[32m━━━━━━━━━━━━━━━━━━━━\u001b[0m\u001b[37m\u001b[0m \u001b[1m1s\u001b[0m 31ms/step - accuracy: 0.9184 - loss: 0.2114 - val_accuracy: 0.8959 - val_loss: 0.2988 - learning_rate: 0.0010\n",
            "Epoch 57/100\n",
            "\u001b[1m16/16\u001b[0m \u001b[32m━━━━━━━━━━━━━━━━━━━━\u001b[0m\u001b[37m\u001b[0m \u001b[1m1s\u001b[0m 29ms/step - accuracy: 0.9221 - loss: 0.2115 - val_accuracy: 0.8876 - val_loss: 0.3026 - learning_rate: 0.0010\n",
            "Epoch 58/100\n",
            "\u001b[1m16/16\u001b[0m \u001b[32m━━━━━━━━━━━━━━━━━━━━\u001b[0m\u001b[37m\u001b[0m \u001b[1m1s\u001b[0m 29ms/step - accuracy: 0.9249 - loss: 0.1955 - val_accuracy: 0.8899 - val_loss: 0.3210 - learning_rate: 0.0010\n",
            "Epoch 59/100\n",
            "\u001b[1m16/16\u001b[0m \u001b[32m━━━━━━━━━━━━━━━━━━━━\u001b[0m\u001b[37m\u001b[0m \u001b[1m1s\u001b[0m 30ms/step - accuracy: 0.9246 - loss: 0.1946 - val_accuracy: 0.8947 - val_loss: 0.3147 - learning_rate: 0.0010\n",
            "Epoch 60/100\n",
            "\u001b[1m16/16\u001b[0m \u001b[32m━━━━━━━━━━━━━━━━━━━━\u001b[0m\u001b[37m\u001b[0m \u001b[1m1s\u001b[0m 30ms/step - accuracy: 0.9219 - loss: 0.1989 - val_accuracy: 0.8935 - val_loss: 0.3245 - learning_rate: 0.0010\n",
            "Epoch 61/100\n",
            "\u001b[1m16/16\u001b[0m \u001b[32m━━━━━━━━━━━━━━━━━━━━\u001b[0m\u001b[37m\u001b[0m \u001b[1m1s\u001b[0m 52ms/step - accuracy: 0.9203 - loss: 0.1988 - val_accuracy: 0.8911 - val_loss: 0.3176 - learning_rate: 0.0010\n",
            "Epoch 62/100\n",
            "\u001b[1m16/16\u001b[0m \u001b[32m━━━━━━━━━━━━━━━━━━━━\u001b[0m\u001b[37m\u001b[0m \u001b[1m1s\u001b[0m 49ms/step - accuracy: 0.9200 - loss: 0.2017 - val_accuracy: 0.8852 - val_loss: 0.3241 - learning_rate: 0.0010\n",
            "Epoch 63/100\n",
            "\u001b[1m16/16\u001b[0m \u001b[32m━━━━━━━━━━━━━━━━━━━━\u001b[0m\u001b[37m\u001b[0m \u001b[1m1s\u001b[0m 54ms/step - accuracy: 0.9200 - loss: 0.2021 - val_accuracy: 0.8947 - val_loss: 0.3096 - learning_rate: 0.0010\n",
            "Epoch 64/100\n",
            "\u001b[1m16/16\u001b[0m \u001b[32m━━━━━━━━━━━━━━━━━━━━\u001b[0m\u001b[37m\u001b[0m \u001b[1m1s\u001b[0m 39ms/step - accuracy: 0.9264 - loss: 0.1809 - val_accuracy: 0.8947 - val_loss: 0.3201 - learning_rate: 0.0010\n",
            "Epoch 65/100\n",
            "\u001b[1m16/16\u001b[0m \u001b[32m━━━━━━━━━━━━━━━━━━━━\u001b[0m\u001b[37m\u001b[0m \u001b[1m1s\u001b[0m 30ms/step - accuracy: 0.9234 - loss: 0.1851 - val_accuracy: 0.8911 - val_loss: 0.3222 - learning_rate: 0.0010\n",
            "Epoch 66/100\n",
            "\u001b[1m16/16\u001b[0m \u001b[32m━━━━━━━━━━━━━━━━━━━━\u001b[0m\u001b[37m\u001b[0m \u001b[1m1s\u001b[0m 29ms/step - accuracy: 0.9341 - loss: 0.1828 - val_accuracy: 0.8923 - val_loss: 0.3271 - learning_rate: 0.0010\n",
            "Epoch 67/100\n",
            "\u001b[1m16/16\u001b[0m \u001b[32m━━━━━━━━━━━━━━━━━━━━\u001b[0m\u001b[37m\u001b[0m \u001b[1m1s\u001b[0m 30ms/step - accuracy: 0.9405 - loss: 0.1649 - val_accuracy: 0.8970 - val_loss: 0.3268 - learning_rate: 5.0000e-04\n",
            "Epoch 68/100\n",
            "\u001b[1m16/16\u001b[0m \u001b[32m━━━━━━━━━━━━━━━━━━━━\u001b[0m\u001b[37m\u001b[0m \u001b[1m1s\u001b[0m 29ms/step - accuracy: 0.9311 - loss: 0.1866 - val_accuracy: 0.8899 - val_loss: 0.3270 - learning_rate: 5.0000e-04\n",
            "Epoch 69/100\n",
            "\u001b[1m16/16\u001b[0m \u001b[32m━━━━━━━━━━━━━━━━━━━━\u001b[0m\u001b[37m\u001b[0m \u001b[1m1s\u001b[0m 32ms/step - accuracy: 0.9345 - loss: 0.1656 - val_accuracy: 0.8899 - val_loss: 0.3230 - learning_rate: 5.0000e-04\n",
            "Epoch 70/100\n",
            "\u001b[1m16/16\u001b[0m \u001b[32m━━━━━━━━━━━━━━━━━━━━\u001b[0m\u001b[37m\u001b[0m \u001b[1m0s\u001b[0m 29ms/step - accuracy: 0.9326 - loss: 0.1717 - val_accuracy: 0.8923 - val_loss: 0.3170 - learning_rate: 5.0000e-04\n",
            "Epoch 71/100\n",
            "\u001b[1m16/16\u001b[0m \u001b[32m━━━━━━━━━━━━━━━━━━━━\u001b[0m\u001b[37m\u001b[0m \u001b[1m1s\u001b[0m 31ms/step - accuracy: 0.9372 - loss: 0.1741 - val_accuracy: 0.8947 - val_loss: 0.3101 - learning_rate: 5.0000e-04\n"
          ]
        }
      ]
    },
    {
      "cell_type": "code",
      "source": [
        "\n",
        "# STEP 14: Plot Training History\n",
        "print(\"\\nSTEP 14: Plotting training history...\")\n",
        "plot_training_history(history)\n"
      ],
      "metadata": {
        "colab": {
          "base_uri": "https://localhost:8080/",
          "height": 333
        },
        "id": "615cHLeIky0G",
        "outputId": "ff6d1791-e718-4739-aaf1-3b7489175591"
      },
      "execution_count": 88,
      "outputs": [
        {
          "output_type": "stream",
          "name": "stdout",
          "text": [
            "\n",
            "STEP 14: Plotting training history...\n"
          ]
        },
        {
          "output_type": "display_data",
          "data": {
            "text/plain": [
              "<Figure size 1200x400 with 2 Axes>"
            ],
            "image/png": "[encoded data removed]"
          },
          "metadata": {}
        }
      ]
    },
    {
      "cell_type": "code",
      "source": [
        "\n",
        "# STEP 15: Make Predictions\n",
        "print(\"\\nSTEP 15: Making predictions...\")\n",
        "\n",
        "# Validation predictions\n",
        "val_pred_proba = node_model.predict(X_val)\n",
        "val_pred = np.argmax(val_pred_proba, axis=1)\n",
        "\n",
        "# Test predictions\n",
        "test_pred_proba = node_model.predict(X_test)\n",
        "test_pred = np.argmax(test_pred_proba, axis=1)\n"
      ],
      "metadata": {
        "colab": {
          "base_uri": "https://localhost:8080/"
        },
        "id": "35vDo27ek0Ey",
        "outputId": "08c52fc6-0d3b-4b70-9289-435933c94550"
      },
      "execution_count": 89,
      "outputs": [
        {
          "output_type": "stream",
          "name": "stdout",
          "text": [
            "\n",
            "STEP 15: Making predictions...\n",
            "\u001b[1m27/27\u001b[0m \u001b[32m━━━━━━━━━━━━━━━━━━━━\u001b[0m\u001b[37m\u001b[0m \u001b[1m1s\u001b[0m 14ms/step\n",
            "\u001b[1m27/27\u001b[0m \u001b[32m━━━━━━━━━━━━━━━━━━━━\u001b[0m\u001b[37m\u001b[0m \u001b[1m0s\u001b[0m 2ms/step \n"
          ]
        }
      ]
    },
    {
      "cell_type": "code",
      "source": [
        "\n",
        "# STEP 16: Calculate Metrics\n",
        "print(\"\\nSTEP 16: Calculating metrics...\")\n",
        "val_metrics = calculate_metrics(y_val, val_pred, \"Validation\")\n",
        "test_metrics = calculate_metrics(y_test, test_pred, \"Test\")\n"
      ],
      "metadata": {
        "colab": {
          "base_uri": "https://localhost:8080/"
        },
        "id": "9iwu5P9lk1UI",
        "outputId": "dd75a227-7ee7-4aa5-d87f-e96aef714982"
      },
      "execution_count": 90,
      "outputs": [
        {
          "output_type": "stream",
          "name": "stdout",
          "text": [
            "\n",
            "STEP 16: Calculating metrics...\n",
            "\n",
            "Validation Classification Metrics:\n",
            "--------------------------------------------------\n",
            "Accuracy: 0.8959\n",
            "Precision (Macro): 0.8964\n",
            "Precision (Weighted): 0.8956\n",
            "Recall (Macro): 0.8969\n",
            "Recall (Weighted): 0.8959\n",
            "F1 Score (Macro): 0.8966\n",
            "F1 Score (Weighted): 0.8957\n",
            "\n",
            "Detailed Classification Report (Validation):\n",
            "              precision    recall  f1-score   support\n",
            "\n",
            "         Low       0.94      0.95      0.95       278\n",
            "      Medium       0.86      0.85      0.85       297\n",
            "        High       0.89      0.89      0.89       270\n",
            "\n",
            "    accuracy                           0.90       845\n",
            "   macro avg       0.90      0.90      0.90       845\n",
            "weighted avg       0.90      0.90      0.90       845\n",
            "\n",
            "\n",
            "Test Classification Metrics:\n",
            "--------------------------------------------------\n",
            "Accuracy: 0.9302\n",
            "Precision (Macro): 0.9299\n",
            "Precision (Weighted): 0.9300\n",
            "Recall (Macro): 0.9302\n",
            "Recall (Weighted): 0.9302\n",
            "F1 Score (Macro): 0.9300\n",
            "F1 Score (Weighted): 0.9300\n",
            "\n",
            "Detailed Classification Report (Test):\n",
            "              precision    recall  f1-score   support\n",
            "\n",
            "         Low       0.94      0.96      0.95       274\n",
            "      Medium       0.91      0.89      0.90       280\n",
            "        High       0.94      0.94      0.94       291\n",
            "\n",
            "    accuracy                           0.93       845\n",
            "   macro avg       0.93      0.93      0.93       845\n",
            "weighted avg       0.93      0.93      0.93       845\n",
            "\n"
          ]
        }
      ]
    },
    {
      "cell_type": "code",
      "source": [
        "\n",
        "# STEP 17: Plot Confusion Matrices\n",
        "print(\"\\nSTEP 17: Generating confusion matrices...\")\n",
        "val_cm = plot_confusion_matrix(y_val, val_pred, \"Validation Set\")\n",
        "test_cm = plot_confusion_matrix(y_test, test_pred, \"Test Set\")\n"
      ],
      "metadata": {
        "colab": {
          "base_uri": "https://localhost:8080/",
          "height": 832
        },
        "id": "W0s41gdzk2fV",
        "outputId": "86571c96-ec13-4f7b-8d50-6b792c3fde0a"
      },
      "execution_count": 91,
      "outputs": [
        {
          "output_type": "stream",
          "name": "stdout",
          "text": [
            "\n",
            "STEP 17: Generating confusion matrices...\n"
          ]
        },
        {
          "output_type": "display_data",
          "data": {
            "text/plain": [
              "<Figure size 500x400 with 2 Axes>"
            ],
            "image/png": "[encoded data removed]"
          },
          "metadata": {}
        },
        {
          "output_type": "display_data",
          "data": {
            "text/plain": [
              "<Figure size 500x400 with 2 Axes>"
            ],
            "image/png": "[encoded data removed]"
          },
          "metadata": {}
        }
      ]
    },
    {
      "cell_type": "code",
      "execution_count": 92,
      "metadata": {
        "colab": {
          "base_uri": "https://localhost:8080/"
        },
        "id": "7vDZE_hFQaXt",
        "outputId": "f2587d7c-5b98-4208-cffe-5cd091d4381d"
      },
      "outputs": [
        {
          "output_type": "stream",
          "name": "stdout",
          "text": [
            "\n",
            "================================================================================\n",
            "STEP 18: FINAL RESULTS SUMMARY\n",
            "================================================================================\n",
            "Validation Accuracy: 0.8959\n",
            "Validation Macro F1: 0.8966\n",
            "Validation Weighted F1: 0.8957\n",
            "\n",
            "Test Accuracy: 0.9302\n",
            "Test Macro F1: 0.9300\n",
            "Test Weighted F1: 0.9300\n",
            "\n",
            "Tercile Thresholds Used:\n",
            "Low: ≤ 1071.556\n",
            "Medium: 1071.556 - 4035.910\n",
            "High: > 4035.910\n",
            "\n",
            "Model training and evaluation completed successfully!\n",
            "================================================================================\n"
          ]
        }
      ],
      "source": [
        "\n",
        "# STEP 18: Display Final Results Summary\n",
        "print(\"\\n\" + \"=\"*80)\n",
        "print(\"STEP 18: FINAL RESULTS SUMMARY\")\n",
        "print(\"=\"*80)\n",
        "print(f\"Validation Accuracy: {val_metrics['accuracy']:.4f}\")\n",
        "print(f\"Validation Macro F1: {val_metrics['f1_macro']:.4f}\")\n",
        "print(f\"Validation Weighted F1: {val_metrics['f1_weighted']:.4f}\")\n",
        "print()\n",
        "print(f\"Test Accuracy: {test_metrics['accuracy']:.4f}\")\n",
        "print(f\"Test Macro F1: {test_metrics['f1_macro']:.4f}\")\n",
        "print(f\"Test Weighted F1: {test_metrics['f1_weighted']:.4f}\")\n",
        "\n",
        "# Quantile information\n",
        "print(f\"\\nTercile Thresholds Used:\")\n",
        "labels = ['Low', 'Medium', 'High']\n",
        "print(f\"Low: ≤ {quantiles[0]:.3f}\")\n",
        "print(f\"Medium: {quantiles[0]:.3f} - {quantiles[1]:.3f}\")\n",
        "print(f\"High: > {quantiles[1]:.3f}\")\n",
        "\n",
        "print(\"\\nModel training and evaluation completed successfully!\")\n",
        "print(\"=\"*80)"
      ]
    }
  ]
}