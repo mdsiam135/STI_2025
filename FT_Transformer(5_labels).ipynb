{
  "nbformat": 4,
  "nbformat_minor": 0,
  "metadata": {
    "colab": {
      "provenance": [],
      "mount_file_id": "1z4mvjofSAfZxx-nbttg0MIG4qcy5h051",
      "authorship_tag": "ABX9TyPzHgoZm89LdtnOb7PDqv88",
      "include_colab_link": true
    },
    "kernelspec": {
      "name": "python3",
      "display_name": "Python 3"
    },
    "language_info": {
      "name": "python"
    }
  },
  "cells": [
    {
      "cell_type": "markdown",
      "metadata": {
        "id": "view-in-github",
        "colab_type": "text"
      },
      "source": [
        "<a href=\"https://colab.research.google.com/github/mdsiam135/thesis_2025/blob/main/FT_Transformer(5_labels).ipynb\" target=\"_parent\"><img src=\"https://colab.research.google.com/assets/colab-badge.svg\" alt=\"Open In Colab\"/></a>"
      ]
    },
    {
      "cell_type": "code",
      "source": [
        "# Step 1: Import Libraries and Set Random Seeds\n",
        "import pandas as pd\n",
        "import numpy as np\n",
        "import matplotlib.pyplot as plt\n",
        "import seaborn as sns\n",
        "from sklearn.preprocessing import StandardScaler, LabelEncoder\n",
        "from sklearn.metrics import (accuracy_score, precision_score, recall_score,\n",
        "                           f1_score, confusion_matrix, classification_report)\n",
        "from sklearn.model_selection import train_test_split\n",
        "import torch\n",
        "import torch.nn as nn\n",
        "import torch.optim as optim\n",
        "from torch.utils.data import Dataset, DataLoader\n",
        "import warnings\n",
        "warnings.filterwarnings('ignore')\n",
        "\n",
        "# Set random seeds for reproducibility\n",
        "np.random.seed(42)\n",
        "torch.manual_seed(42)\n",
        "\n",
        "print(\"Libraries imported and random seeds set!\")\n"
      ],
      "metadata": {
        "colab": {
          "base_uri": "https://localhost:8080/"
        },
        "id": "rL28ISdDXcS8",
        "outputId": "e2da407b-17e7-4f5c-b2de-b68cc1712c64"
      },
      "execution_count": 1,
      "outputs": [
        {
          "output_type": "stream",
          "name": "stdout",
          "text": [
            "Libraries imported and random seeds set!\n"
          ]
        }
      ]
    },
    {
      "cell_type": "code",
      "source": [
        "\n",
        "# Step 2: Define Custom Dataset Class\n",
        "class CropDataset(Dataset):\n",
        "    \"\"\"Custom Dataset for crop production data\"\"\"\n",
        "    def __init__(self, features, labels):\n",
        "        self.features = torch.FloatTensor(features)\n",
        "        self.labels = torch.LongTensor(labels)\n",
        "\n",
        "    def __len__(self):\n",
        "        return len(self.features)\n",
        "\n",
        "    def __getitem__(self, idx):\n",
        "        return self.features[idx], self.labels[idx]\n",
        "\n",
        "print(\"CropDataset class defined!\")\n"
      ],
      "metadata": {
        "colab": {
          "base_uri": "https://localhost:8080/"
        },
        "id": "Qi8ceojLXTmo",
        "outputId": "dddd07d3-0c20-4d12-80d7-e0bd48f9a994"
      },
      "execution_count": 2,
      "outputs": [
        {
          "output_type": "stream",
          "name": "stdout",
          "text": [
            "CropDataset class defined!\n"
          ]
        }
      ]
    },
    {
      "cell_type": "code",
      "source": [
        "\n",
        "# Step 3: Define F1-Transformer Model\n",
        "class F1TransformerModel(nn.Module):\n",
        "    \"\"\"F1-Transformer model for crop production classification\"\"\"\n",
        "    def __init__(self, input_dim, num_classes=5, d_model=128, nhead=8, num_layers=3, dropout=0.1):\n",
        "        super(F1TransformerModel, self).__init__()\n",
        "\n",
        "        # Input projection\n",
        "        self.input_projection = nn.Linear(input_dim, d_model)\n",
        "\n",
        "        # Positional encoding (simple learned embedding)\n",
        "        self.pos_embedding = nn.Parameter(torch.randn(1, 1, d_model))\n",
        "\n",
        "        # Transformer encoder\n",
        "        encoder_layer = nn.TransformerEncoderLayer(\n",
        "            d_model=d_model,\n",
        "            nhead=nhead,\n",
        "            dim_feedforward=d_model*4,\n",
        "            dropout=dropout,\n",
        "            batch_first=True\n",
        "        )\n",
        "        self.transformer_encoder = nn.TransformerEncoder(encoder_layer, num_layers=num_layers)\n",
        "\n",
        "        # Classification head\n",
        "        self.classifier = nn.Sequential(\n",
        "            nn.LayerNorm(d_model),\n",
        "            nn.Dropout(dropout),\n",
        "            nn.Linear(d_model, d_model//2),\n",
        "            nn.ReLU(),\n",
        "            nn.Dropout(dropout),\n",
        "            nn.Linear(d_model//2, num_classes)\n",
        "        )\n",
        "\n",
        "    def forward(self, x):\n",
        "        # Project input to d_model dimensions\n",
        "        x = self.input_projection(x)  # [batch_size, d_model]\n",
        "\n",
        "        # Add batch and sequence dimensions for transformer\n",
        "        x = x.unsqueeze(1)  # [batch_size, 1, d_model]\n",
        "\n",
        "        # Add positional encoding\n",
        "        x = x + self.pos_embedding\n",
        "\n",
        "        # Pass through transformer encoder\n",
        "        x = self.transformer_encoder(x)  # [batch_size, 1, d_model]\n",
        "\n",
        "        # Remove sequence dimension and classify\n",
        "        x = x.squeeze(1)  # [batch_size, d_model]\n",
        "        output = self.classifier(x)\n",
        "\n",
        "        return output\n",
        "\n",
        "print(\"F1TransformerModel class defined!\")\n"
      ],
      "metadata": {
        "colab": {
          "base_uri": "https://localhost:8080/"
        },
        "id": "DtZzHZsnXkSe",
        "outputId": "d84f2804-e888-4d86-c344-efe574d4a2af"
      },
      "execution_count": 3,
      "outputs": [
        {
          "output_type": "stream",
          "name": "stdout",
          "text": [
            "F1TransformerModel class defined!\n"
          ]
        }
      ]
    },
    {
      "cell_type": "code",
      "source": [
        "\n",
        "# Step 4: Define Data Loading and Preprocessing Function\n",
        "def load_and_preprocess_data():\n",
        "    \"\"\"Load and preprocess the CSV files\"\"\"\n",
        "    print(\"Loading datasets...\")\n",
        "\n",
        "    # Load datasets\n",
        "    train_df = pd.read_csv('/content/drive/MyDrive/UpdatedDataset/train.csv')\n",
        "    val_df = pd.read_csv('/content/drive/MyDrive/UpdatedDataset/validation.csv')\n",
        "    test_df = pd.read_csv('/content/drive/MyDrive/UpdatedDataset/test.csv')\n",
        "\n",
        "    print(f\"Train set shape: {train_df.shape}\")\n",
        "    print(f\"Validation set shape: {val_df.shape}\")\n",
        "    print(f\"Test set shape: {test_df.shape}\")\n",
        "\n",
        "    # Handle missing values\n",
        "    for df in [train_df, val_df, test_df]:\n",
        "        df.fillna(df.mean(numeric_only=True), inplace=True)\n",
        "\n",
        "    # Create quantile-based labels for production\n",
        "    production_col = 'Production (M.Ton)'\n",
        "\n",
        "    # Calculate quantiles from training data only\n",
        "    quantiles = train_df[production_col].quantile([0.2, 0.4, 0.6, 0.8]).values\n",
        "\n",
        "    def create_labels(production_values, quantiles):\n",
        "        \"\"\"Create 5-level labels based on quantiles\"\"\"\n",
        "        labels = []\n",
        "        for val in production_values:\n",
        "            if val <= quantiles[0]:\n",
        "                labels.append(0)  # Very Low\n",
        "            elif val <= quantiles[1]:\n",
        "                labels.append(1)  # Low\n",
        "            elif val <= quantiles[2]:\n",
        "                labels.append(2)  # Medium\n",
        "            elif val <= quantiles[3]:\n",
        "                labels.append(3)  # High\n",
        "            else:\n",
        "                labels.append(4)  # Very High\n",
        "        return np.array(labels)\n",
        "\n",
        "    # Create labels\n",
        "    train_labels = create_labels(train_df[production_col].values, quantiles)\n",
        "    val_labels = create_labels(val_df[production_col].values, quantiles)\n",
        "    test_labels = create_labels(test_df[production_col].values, quantiles)\n",
        "\n",
        "    # Remove target column from features\n",
        "    feature_cols = [col for col in train_df.columns if col != production_col]\n",
        "\n",
        "    X_train = train_df[feature_cols].values\n",
        "    X_val = val_df[feature_cols].values\n",
        "    X_test = test_df[feature_cols].values\n",
        "\n",
        "    # Standardize features\n",
        "    scaler = StandardScaler()\n",
        "    X_train_scaled = scaler.fit_transform(X_train)\n",
        "    X_val_scaled = scaler.transform(X_val)\n",
        "    X_test_scaled = scaler.transform(X_test)\n",
        "\n",
        "    print(f\"Feature dimensions: {X_train_scaled.shape[1]}\")\n",
        "    print(f\"Label distribution in training set:\")\n",
        "    unique, counts = np.unique(train_labels, return_counts=True)\n",
        "    label_names = ['Very Low', 'Low', 'Medium', 'High', 'Very High']\n",
        "    for i, (label, count) in enumerate(zip(unique, counts)):\n",
        "        print(f\"  {label_names[label]}: {count} ({count/len(train_labels)*100:.1f}%)\")\n",
        "\n",
        "    return (X_train_scaled, train_labels, X_val_scaled, val_labels,\n",
        "            X_test_scaled, test_labels, scaler, quantiles)\n",
        "\n",
        "print(\"Data loading function defined!\")\n"
      ],
      "metadata": {
        "colab": {
          "base_uri": "https://localhost:8080/"
        },
        "id": "4-MLssjhXnQ7",
        "outputId": "922a8c2f-a1c1-486c-e138-d24f6c1af214"
      },
      "execution_count": 4,
      "outputs": [
        {
          "output_type": "stream",
          "name": "stdout",
          "text": [
            "Data loading function defined!\n"
          ]
        }
      ]
    },
    {
      "cell_type": "code",
      "source": [
        "\n",
        "# Step 5: Define Training Function\n",
        "def train_model(model, train_loader, val_loader, num_epochs=50, device='cpu'):\n",
        "    \"\"\"Train the F1-Transformer model\"\"\"\n",
        "    criterion = nn.CrossEntropyLoss()\n",
        "    optimizer = optim.AdamW(model.parameters(), lr=0.001, weight_decay=0.01)\n",
        "    scheduler = optim.lr_scheduler.StepLR(optimizer, step_size=20, gamma=0.5)\n",
        "\n",
        "    train_losses = []\n",
        "    val_losses = []\n",
        "    train_accuracies = []\n",
        "    val_accuracies = []\n",
        "\n",
        "    best_val_f1 = 0\n",
        "    best_model_state = None\n",
        "\n",
        "    print(f\"Training model for {num_epochs} epochs...\")\n",
        "\n",
        "    for epoch in range(num_epochs):\n",
        "        # Training phase\n",
        "        model.train()\n",
        "        train_loss = 0.0\n",
        "        train_correct = 0\n",
        "        train_total = 0\n",
        "\n",
        "        for batch_features, batch_labels in train_loader:\n",
        "            batch_features, batch_labels = batch_features.to(device), batch_labels.to(device)\n",
        "\n",
        "            optimizer.zero_grad()\n",
        "            outputs = model(batch_features)\n",
        "            loss = criterion(outputs, batch_labels)\n",
        "            loss.backward()\n",
        "            optimizer.step()\n",
        "\n",
        "            train_loss += loss.item()\n",
        "            _, predicted = torch.max(outputs.data, 1)\n",
        "            train_total += batch_labels.size(0)\n",
        "            train_correct += (predicted == batch_labels).sum().item()\n",
        "\n",
        "        # Validation phase\n",
        "        model.eval()\n",
        "        val_loss = 0.0\n",
        "        val_correct = 0\n",
        "        val_total = 0\n",
        "        val_predictions = []\n",
        "        val_true = []\n",
        "\n",
        "        with torch.no_grad():\n",
        "            for batch_features, batch_labels in val_loader:\n",
        "                batch_features, batch_labels = batch_features.to(device), batch_labels.to(device)\n",
        "\n",
        "                outputs = model(batch_features)\n",
        "                loss = criterion(outputs, batch_labels)\n",
        "\n",
        "                val_loss += loss.item()\n",
        "                _, predicted = torch.max(outputs.data, 1)\n",
        "                val_total += batch_labels.size(0)\n",
        "                val_correct += (predicted == batch_labels).sum().item()\n",
        "\n",
        "                val_predictions.extend(predicted.cpu().numpy())\n",
        "                val_true.extend(batch_labels.cpu().numpy())\n",
        "\n",
        "        # Calculate metrics\n",
        "        train_acc = 100 * train_correct / train_total\n",
        "        val_acc = 100 * val_correct / val_total\n",
        "        val_f1_macro = f1_score(val_true, val_predictions, average='macro')\n",
        "\n",
        "        train_losses.append(train_loss / len(train_loader))\n",
        "        val_losses.append(val_loss / len(val_loader))\n",
        "        train_accuracies.append(train_acc)\n",
        "        val_accuracies.append(val_acc)\n",
        "\n",
        "        # Save best model based on macro F1 score\n",
        "        if val_f1_macro > best_val_f1:\n",
        "            best_val_f1 = val_f1_macro\n",
        "            best_model_state = model.state_dict().copy()\n",
        "\n",
        "        scheduler.step()\n",
        "\n",
        "        if (epoch + 1) % 10 == 0:\n",
        "            print(f'Epoch [{epoch+1}/{num_epochs}]')\n",
        "            print(f'  Train Loss: {train_loss/len(train_loader):.4f}, Train Acc: {train_acc:.2f}%')\n",
        "            print(f'  Val Loss: {val_loss/len(val_loader):.4f}, Val Acc: {val_acc:.2f}%')\n",
        "            print(f'  Val Macro F1: {val_f1_macro:.4f}')\n",
        "\n",
        "    # Load best model\n",
        "    model.load_state_dict(best_model_state)\n",
        "    print(f'Best validation macro F1 score: {best_val_f1:.4f}')\n",
        "\n",
        "    return model, train_losses, val_losses, train_accuracies, val_accuracies\n",
        "\n",
        "print(\"Training function defined!\")\n"
      ],
      "metadata": {
        "colab": {
          "base_uri": "https://localhost:8080/"
        },
        "id": "XTkyMYgXXqb6",
        "outputId": "f83d0ac1-2465-4a9a-b03d-b42ffbfc4b5b"
      },
      "execution_count": 5,
      "outputs": [
        {
          "output_type": "stream",
          "name": "stdout",
          "text": [
            "Training function defined!\n"
          ]
        }
      ]
    },
    {
      "cell_type": "code",
      "source": [
        "\n",
        "# Step 6: Define Evaluation Functions\n",
        "def evaluate_model(model, data_loader, device='cpu'):\n",
        "    \"\"\"Evaluate model and return predictions and true labels\"\"\"\n",
        "    model.eval()\n",
        "    predictions = []\n",
        "    true_labels = []\n",
        "\n",
        "    with torch.no_grad():\n",
        "        for batch_features, batch_labels in data_loader:\n",
        "            batch_features, batch_labels = batch_features.to(device), batch_labels.to(device)\n",
        "\n",
        "            outputs = model(batch_features)\n",
        "            _, predicted = torch.max(outputs.data, 1)\n",
        "\n",
        "            predictions.extend(predicted.cpu().numpy())\n",
        "            true_labels.extend(batch_labels.cpu().numpy())\n",
        "\n",
        "    return np.array(predictions), np.array(true_labels)\n",
        "\n",
        "def calculate_metrics(y_true, y_pred):\n",
        "    \"\"\"Calculate all classification metrics\"\"\"\n",
        "    accuracy = accuracy_score(y_true, y_pred)\n",
        "    precision_macro = precision_score(y_true, y_pred, average='macro', zero_division=0)\n",
        "    recall_macro = recall_score(y_true, y_pred, average='macro', zero_division=0)\n",
        "    f1_macro = f1_score(y_true, y_pred, average='macro', zero_division=0)\n",
        "    f1_weighted = f1_score(y_true, y_pred, average='weighted', zero_division=0)\n",
        "\n",
        "    return {\n",
        "        'Accuracy': accuracy,\n",
        "        'Precision (Macro)': precision_macro,\n",
        "        'Recall (Macro)': recall_macro,\n",
        "        'F1 Score (Macro)': f1_macro,\n",
        "        'F1 Score (Weighted)': f1_weighted\n",
        "    }\n",
        "\n",
        "print(\"Evaluation functions defined!\")\n"
      ],
      "metadata": {
        "colab": {
          "base_uri": "https://localhost:8080/"
        },
        "id": "F93rCMwRXsvL",
        "outputId": "6e315b22-f9ab-4d14-9dd9-5aa815bf182f"
      },
      "execution_count": 6,
      "outputs": [
        {
          "output_type": "stream",
          "name": "stdout",
          "text": [
            "Evaluation functions defined!\n"
          ]
        }
      ]
    },
    {
      "cell_type": "code",
      "source": [
        "\n",
        "# Step 7: Define Visualization Functions\n",
        "def plot_confusion_matrix(y_true, y_pred, title, class_names):\n",
        "    \"\"\"Plot confusion matrix\"\"\"\n",
        "    cm = confusion_matrix(y_true, y_pred)\n",
        "\n",
        "    plt.figure(figsize=(5, 3))\n",
        "    sns.heatmap(cm, annot=True, fmt='d', cmap='Blues',\n",
        "                xticklabels=class_names, yticklabels=class_names)\n",
        "    plt.title(f'Confusion Matrix - {title}')\n",
        "    plt.xlabel('Predicted')\n",
        "    plt.ylabel('Actual')\n",
        "    plt.tight_layout()\n",
        "    plt.show()\n",
        "\n",
        "def plot_training_history(train_losses, val_losses, train_accuracies, val_accuracies):\n",
        "    \"\"\"Plot training history\"\"\"\n",
        "    fig, (ax1, ax2) = plt.subplots(1, 2, figsize=(15, 5))\n",
        "\n",
        "    # Plot losses\n",
        "    ax1.plot(train_losses, label='Training Loss', color='blue')\n",
        "    ax1.plot(val_losses, label='Validation Loss', color='red')\n",
        "    ax1.set_title('Model Loss')\n",
        "    ax1.set_xlabel('Epoch')\n",
        "    ax1.set_ylabel('Loss')\n",
        "    ax1.legend()\n",
        "    ax1.grid(True)\n",
        "\n",
        "    # Plot accuracies\n",
        "    ax2.plot(train_accuracies, label='Training Accuracy', color='blue')\n",
        "    ax2.plot(val_accuracies, label='Validation Accuracy', color='red')\n",
        "    ax2.set_title('Model Accuracy')\n",
        "    ax2.set_xlabel('Epoch')\n",
        "    ax2.set_ylabel('Accuracy (%)')\n",
        "    ax2.legend()\n",
        "    ax2.grid(True)\n",
        "\n",
        "    plt.tight_layout()\n",
        "    plt.show()\n",
        "\n",
        "print(\"Visualization functions defined!\")\n"
      ],
      "metadata": {
        "colab": {
          "base_uri": "https://localhost:8080/"
        },
        "id": "HHm9saTsXu-B",
        "outputId": "ae3ad490-4a3e-40a9-dd1f-67e042871b2c"
      },
      "execution_count": 7,
      "outputs": [
        {
          "output_type": "stream",
          "name": "stdout",
          "text": [
            "Visualization functions defined!\n"
          ]
        }
      ]
    },
    {
      "cell_type": "code",
      "source": [
        "\n",
        "# Step 8: Execute Data Loading and Preprocessing\n",
        "print(\"\\n=== STEP 8: Loading and Preprocessing Data ===\")\n",
        "# Set device\n",
        "device = torch.device('cuda' if torch.cuda.is_available() else 'cpu')\n",
        "print(f\"Using device: {device}\")\n",
        "\n",
        "# Load and preprocess data\n",
        "(X_train, y_train, X_val, y_val, X_test, y_test,\n",
        " scaler, quantiles) = load_and_preprocess_data()\n",
        "\n",
        "print(\"Data loading and preprocessing completed!\")\n"
      ],
      "metadata": {
        "colab": {
          "base_uri": "https://localhost:8080/"
        },
        "id": "8XKOzelhXwn7",
        "outputId": "80fe5aba-6ef9-42b0-da6b-a636c10863c5"
      },
      "execution_count": 8,
      "outputs": [
        {
          "output_type": "stream",
          "name": "stdout",
          "text": [
            "\n",
            "=== STEP 8: Loading and Preprocessing Data ===\n",
            "Using device: cpu\n",
            "Loading datasets...\n",
            "Train set shape: (3942, 84)\n",
            "Validation set shape: (845, 84)\n",
            "Test set shape: (845, 84)\n",
            "Feature dimensions: 83\n",
            "Label distribution in training set:\n",
            "  Very Low: 793 (20.1%)\n",
            "  Low: 786 (19.9%)\n",
            "  Medium: 786 (19.9%)\n",
            "  High: 788 (20.0%)\n",
            "  Very High: 789 (20.0%)\n",
            "Data loading and preprocessing completed!\n"
          ]
        }
      ]
    },
    {
      "cell_type": "code",
      "source": [
        "\n",
        "# Step 9: Create Datasets and Data Loaders\n",
        "print(\"\\n=== STEP 9: Creating Datasets and Data Loaders ===\")\n",
        "# Create datasets and data loaders\n",
        "train_dataset = CropDataset(X_train, y_train)\n",
        "val_dataset = CropDataset(X_val, y_val)\n",
        "test_dataset = CropDataset(X_test, y_test)\n",
        "\n",
        "batch_size = 32\n",
        "train_loader = DataLoader(train_dataset, batch_size=batch_size, shuffle=True)\n",
        "val_loader = DataLoader(val_dataset, batch_size=batch_size, shuffle=False)\n",
        "test_loader = DataLoader(test_dataset, batch_size=batch_size, shuffle=False)\n",
        "\n",
        "print(f\"Train batches: {len(train_loader)}\")\n",
        "print(f\"Validation batches: {len(val_loader)}\")\n",
        "print(f\"Test batches: {len(test_loader)}\")\n",
        "print(\"Datasets and data loaders created!\")\n"
      ],
      "metadata": {
        "colab": {
          "base_uri": "https://localhost:8080/"
        },
        "id": "4Y0OXLIiXyF4",
        "outputId": "122031b2-1cfa-4267-da0f-b0f36efcd209"
      },
      "execution_count": 9,
      "outputs": [
        {
          "output_type": "stream",
          "name": "stdout",
          "text": [
            "\n",
            "=== STEP 9: Creating Datasets and Data Loaders ===\n",
            "Train batches: 124\n",
            "Validation batches: 27\n",
            "Test batches: 27\n",
            "Datasets and data loaders created!\n"
          ]
        }
      ]
    },
    {
      "cell_type": "code",
      "source": [
        "\n",
        "# Step 10: Initialize Model\n",
        "print(\"\\n=== STEP 10: Initializing Model ===\")\n",
        "input_dim = X_train.shape[1]\n",
        "model = F1TransformerModel(input_dim=input_dim, num_classes=5).to(device)\n",
        "\n",
        "print(f\"Model parameters: {sum(p.numel() for p in model.parameters()):,}\")\n",
        "print(f\"Trainable parameters: {sum(p.numel() for p in model.parameters() if p.requires_grad):,}\")\n",
        "print(\"Model initialized!\")\n"
      ],
      "metadata": {
        "colab": {
          "base_uri": "https://localhost:8080/"
        },
        "id": "Rpd_tjxcXztb",
        "outputId": "985ad9e7-3135-4b11-8965-d5db45b625c1"
      },
      "execution_count": 10,
      "outputs": [
        {
          "output_type": "stream",
          "name": "stdout",
          "text": [
            "\n",
            "=== STEP 10: Initializing Model ===\n",
            "Model parameters: 614,533\n",
            "Trainable parameters: 614,533\n",
            "Model initialized!\n"
          ]
        }
      ]
    },
    {
      "cell_type": "code",
      "source": [
        "\n",
        "# Step 11: Train the Model\n",
        "print(\"\\n=== STEP 11: Training the Model ===\")\n",
        "num_epochs = 60\n",
        "model, train_losses, val_losses, train_accs, val_accs = train_model(\n",
        "    model, train_loader, val_loader, num_epochs, device\n",
        ")\n",
        "print(\"Model training completed!\")\n"
      ],
      "metadata": {
        "colab": {
          "base_uri": "https://localhost:8080/"
        },
        "id": "20hm9e6WX1NL",
        "outputId": "e3189f86-fbf3-4a23-b78a-b3f26e11b444"
      },
      "execution_count": 11,
      "outputs": [
        {
          "output_type": "stream",
          "name": "stdout",
          "text": [
            "\n",
            "=== STEP 11: Training the Model ===\n",
            "Training model for 50 epochs...\n",
            "Epoch [10/50]\n",
            "  Train Loss: 0.5635, Train Acc: 78.23%\n",
            "  Val Loss: 0.5937, Val Acc: 77.75%\n",
            "  Val Macro F1: 0.7736\n",
            "Epoch [20/50]\n",
            "  Train Loss: 0.4105, Train Acc: 84.37%\n",
            "  Val Loss: 0.5298, Val Acc: 81.30%\n",
            "  Val Macro F1: 0.8141\n",
            "Epoch [30/50]\n",
            "  Train Loss: 0.2518, Train Acc: 90.08%\n",
            "  Val Loss: 0.4133, Val Acc: 86.86%\n",
            "  Val Macro F1: 0.8675\n",
            "Epoch [40/50]\n",
            "  Train Loss: 0.2068, Train Acc: 92.14%\n",
            "  Val Loss: 0.4944, Val Acc: 86.15%\n",
            "  Val Macro F1: 0.8570\n",
            "Epoch [50/50]\n",
            "  Train Loss: 0.1302, Train Acc: 94.37%\n",
            "  Val Loss: 0.5040, Val Acc: 86.98%\n",
            "  Val Macro F1: 0.8680\n",
            "Best validation macro F1 score: 0.8822\n",
            "Model training completed!\n"
          ]
        }
      ]
    },
    {
      "cell_type": "code",
      "source": [
        "\n",
        "# Step 12: Plot Training History\n",
        "print(\"\\n=== STEP 12: Plotting Training History ===\")\n",
        "plot_training_history(train_losses, val_losses, train_accs, val_accs)\n"
      ],
      "metadata": {
        "colab": {
          "base_uri": "https://localhost:8080/",
          "height": 334
        },
        "id": "5ymCT0eFX2bO",
        "outputId": "ef2d3874-d795-4bb7-a313-2341cfa3fcb6"
      },
      "execution_count": 12,
      "outputs": [
        {
          "output_type": "stream",
          "name": "stdout",
          "text": [
            "\n",
            "=== STEP 12: Plotting Training History ===\n"
          ]
        },
        {
          "output_type": "display_data",
          "data": {
            "text/plain": [
              "<Figure size 1500x500 with 2 Axes>"
            ],
            "image/png": "[encoded data removed]"
          },
          "metadata": {}
        }
      ]
    },
    {
      "cell_type": "code",
      "source": [
        "\n",
        "# Step 13: Evaluate on Validation Set\n",
        "print(\"\\n=== STEP 13: Validation Set Evaluation ===\")\n",
        "val_pred, val_true = evaluate_model(model, val_loader, device)\n",
        "val_metrics = calculate_metrics(val_true, val_pred)\n",
        "\n",
        "print(\"Validation Metrics:\")\n",
        "for metric, value in val_metrics.items():\n",
        "    print(f\"  {metric}: {value:.4f}\")\n"
      ],
      "metadata": {
        "colab": {
          "base_uri": "https://localhost:8080/"
        },
        "id": "Zza2fghoX31y",
        "outputId": "2a269bf1-bb56-491e-f258-d36b4e68ff30"
      },
      "execution_count": 13,
      "outputs": [
        {
          "output_type": "stream",
          "name": "stdout",
          "text": [
            "\n",
            "=== STEP 13: Validation Set Evaluation ===\n",
            "Validation Metrics:\n",
            "  Accuracy: 0.8698\n",
            "  Precision (Macro): 0.8680\n",
            "  Recall (Macro): 0.8684\n",
            "  F1 Score (Macro): 0.8680\n",
            "  F1 Score (Weighted): 0.8699\n"
          ]
        }
      ]
    },
    {
      "cell_type": "code",
      "source": [
        "\n",
        "# Step 14: Evaluate on Test Set\n",
        "print(\"\\n=== STEP 14: Test Set Evaluation ===\")\n",
        "test_pred, test_true = evaluate_model(model, test_loader, device)\n",
        "test_metrics = calculate_metrics(test_true, test_pred)\n",
        "\n",
        "print(\"Test Metrics:\")\n",
        "for metric, value in test_metrics.items():\n",
        "    print(f\"  {metric}: {value:.4f}\")\n"
      ],
      "metadata": {
        "colab": {
          "base_uri": "https://localhost:8080/"
        },
        "id": "dvgAsscSX5eo",
        "outputId": "5f4ec341-929f-4ad5-b6b1-877011ecd957"
      },
      "execution_count": 14,
      "outputs": [
        {
          "output_type": "stream",
          "name": "stdout",
          "text": [
            "\n",
            "=== STEP 14: Test Set Evaluation ===\n",
            "Test Metrics:\n",
            "  Accuracy: 0.8580\n",
            "  Precision (Macro): 0.8606\n",
            "  Recall (Macro): 0.8575\n",
            "  F1 Score (Macro): 0.8581\n",
            "  F1 Score (Weighted): 0.8593\n"
          ]
        }
      ]
    },
    {
      "cell_type": "code",
      "source": [
        "\n",
        "# Step 15: Plot Confusion Matrices\n",
        "print(\"\\n=== STEP 15: Plotting Confusion Matrices ===\")\n",
        "class_names = ['Very Low', 'Low', 'Medium', 'High', 'Very High']\n",
        "\n",
        "plot_confusion_matrix(val_true, val_pred, \"Validation Set\", class_names)\n",
        "plot_confusion_matrix(test_true, test_pred, \"Test Set\", class_names)\n"
      ],
      "metadata": {
        "colab": {
          "base_uri": "https://localhost:8080/",
          "height": 632
        },
        "id": "mZk4h48WX6uy",
        "outputId": "56167ca6-385f-44b0-e720-c0c6275c7af0"
      },
      "execution_count": 15,
      "outputs": [
        {
          "output_type": "stream",
          "name": "stdout",
          "text": [
            "\n",
            "=== STEP 15: Plotting Confusion Matrices ===\n"
          ]
        },
        {
          "output_type": "display_data",
          "data": {
            "text/plain": [
              "<Figure size 500x300 with 2 Axes>"
            ],
            "image/png": "[encoded data removed]"
          },
          "metadata": {}
        },
        {
          "output_type": "display_data",
          "data": {
            "text/plain": [
              "<Figure size 500x300 with 2 Axes>"
            ],
            "image/png": "[encoded data removed]"
          },
          "metadata": {}
        }
      ]
    },
    {
      "cell_type": "code",
      "source": [
        "\n",
        "# Step 16: Generate Detailed Classification Reports\n",
        "print(\"\\n=== STEP 16: Detailed Classification Reports ===\")\n",
        "print(\"\\nValidation Set Classification Report:\")\n",
        "print(classification_report(val_true, val_pred, target_names=class_names))\n",
        "\n",
        "print(\"\\nTest Set Classification Report:\")\n",
        "print(classification_report(test_true, test_pred, target_names=class_names))\n"
      ],
      "metadata": {
        "colab": {
          "base_uri": "https://localhost:8080/"
        },
        "id": "3oltKrElX71C",
        "outputId": "1353aade-d9b8-4c69-f2d2-bd01ed2295f8"
      },
      "execution_count": 16,
      "outputs": [
        {
          "output_type": "stream",
          "name": "stdout",
          "text": [
            "\n",
            "=== STEP 16: Detailed Classification Reports ===\n",
            "\n",
            "Validation Set Classification Report:\n",
            "              precision    recall  f1-score   support\n",
            "\n",
            "    Very Low       0.94      0.94      0.94       185\n",
            "         Low       0.85      0.84      0.84       140\n",
            "      Medium       0.85      0.81      0.83       191\n",
            "        High       0.78      0.82      0.80       160\n",
            "   Very High       0.92      0.93      0.93       169\n",
            "\n",
            "    accuracy                           0.87       845\n",
            "   macro avg       0.87      0.87      0.87       845\n",
            "weighted avg       0.87      0.87      0.87       845\n",
            "\n",
            "\n",
            "Test Set Classification Report:\n",
            "              precision    recall  f1-score   support\n",
            "\n",
            "    Very Low       0.96      0.87      0.91       172\n",
            "         Low       0.78      0.85      0.81       158\n",
            "      Medium       0.78      0.80      0.79       167\n",
            "        High       0.83      0.85      0.84       175\n",
            "   Very High       0.95      0.92      0.93       173\n",
            "\n",
            "    accuracy                           0.86       845\n",
            "   macro avg       0.86      0.86      0.86       845\n",
            "weighted avg       0.86      0.86      0.86       845\n",
            "\n"
          ]
        }
      ]
    },
    {
      "cell_type": "code",
      "source": [
        "\n",
        "# Step 17: Final Results Summary\n",
        "print(\"\\n=== STEP 17: Final Results Summary ===\")\n",
        "results_df = pd.DataFrame({\n",
        "    'Dataset': ['Validation', 'Test'],\n",
        "    'Accuracy': [val_metrics['Accuracy'], test_metrics['Accuracy']],\n",
        "    'Precision (Macro)': [val_metrics['Precision (Macro)'], test_metrics['Precision (Macro)']],\n",
        "    'Recall (Macro)': [val_metrics['Recall (Macro)'], test_metrics['Recall (Macro)']],\n",
        "    'F1 Score (Macro)': [val_metrics['F1 Score (Macro)'], test_metrics['F1 Score (Macro)']],\n",
        "    'F1 Score (Weighted)': [val_metrics['F1 Score (Weighted)'], test_metrics['F1 Score (Weighted)']]\n",
        "})\n",
        "\n",
        "print(results_df.round(4).to_string(index=False))\n"
      ],
      "metadata": {
        "colab": {
          "base_uri": "https://localhost:8080/"
        },
        "id": "XjXbFolyX9Hy",
        "outputId": "0eb87c95-f3e6-4df9-e094-28d9aec5515e"
      },
      "execution_count": 17,
      "outputs": [
        {
          "output_type": "stream",
          "name": "stdout",
          "text": [
            "\n",
            "=== STEP 17: Final Results Summary ===\n",
            "   Dataset  Accuracy  Precision (Macro)  Recall (Macro)  F1 Score (Macro)  F1 Score (Weighted)\n",
            "Validation    0.8698             0.8680          0.8684            0.8680               0.8699\n",
            "      Test    0.8580             0.8606          0.8575            0.8581               0.8593\n"
          ]
        }
      ]
    },
    {
      "cell_type": "code",
      "source": [
        "\n",
        "# Step 18: Save Important Variables\n",
        "print(\"\\n=== STEP 18: Training Complete ===\")\n",
        "print(\"Model trained successfully!\")\n",
        "print(\"All metrics calculated and plots generated.\")\n",
        "print(\"\\nImportant variables saved:\")\n",
        "print(\"- trained_model: The trained F1-Transformer model\")\n",
        "print(\"- fitted_scaler: The fitted StandardScaler for preprocessing\")\n",
        "print(\"- production_quantiles: The quantiles used for label creation\")\n"
      ],
      "metadata": {
        "colab": {
          "base_uri": "https://localhost:8080/"
        },
        "id": "kFQ9KqR_yjKi",
        "outputId": "35230944-c623-4988-e61d-65d997d0fb84"
      },
      "execution_count": 18,
      "outputs": [
        {
          "output_type": "stream",
          "name": "stdout",
          "text": [
            "\n",
            "=== STEP 18: Training Complete ===\n",
            "Model trained successfully!\n",
            "All metrics calculated and plots generated.\n",
            "\n",
            "Important variables saved:\n",
            "- trained_model: The trained F1-Transformer model\n",
            "- fitted_scaler: The fitted StandardScaler for preprocessing\n",
            "- production_quantiles: The quantiles used for label creation\n"
          ]
        }
      ]
    }
  ]
}