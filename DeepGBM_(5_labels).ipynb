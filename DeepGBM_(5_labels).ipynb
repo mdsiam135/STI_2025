{
  "cells": [
    {
      "cell_type": "markdown",
      "metadata": {
        "id": "view-in-github",
        "colab_type": "text"
      },
      "source": [
        "<a href=\"https://colab.research.google.com/github/mdsiam135/thesis_2025/blob/main/DeepGBM_(5_labels).ipynb\" target=\"_parent\"><img src=\"https://colab.research.google.com/assets/colab-badge.svg\" alt=\"Open In Colab\"/></a>"
      ]
    },
    {
      "cell_type": "code",
      "execution_count": 410,
      "metadata": {
        "colab": {
          "base_uri": "https://localhost:8080/"
        },
        "id": "X1zLfd_aQgF-",
        "outputId": "31fd32bb-1ec1-4442-d1e1-1919cb150d4b"
      },
      "outputs": [
        {
          "output_type": "stream",
          "name": "stdout",
          "text": [
            "✅ Step 1 Complete: Libraries imported and seeds set\n"
          ]
        }
      ],
      "source": [
        "# Step 1: Import required libraries\n",
        "import pandas as pd\n",
        "import numpy as np\n",
        "import matplotlib.pyplot as plt\n",
        "import seaborn as sns\n",
        "from sklearn.preprocessing import StandardScaler, LabelEncoder\n",
        "from sklearn.model_selection import StratifiedKFold\n",
        "from sklearn.metrics import accuracy_score, precision_score, recall_score, f1_score\n",
        "from sklearn.metrics import classification_report, confusion_matrix\n",
        "import tensorflow as tf\n",
        "from tensorflow import keras\n",
        "from tensorflow.keras import layers\n",
        "import lightgbm as lgb\n",
        "import warnings\n",
        "warnings.filterwarnings('ignore')\n",
        "\n",
        "# Set random seeds for reproducibility\n",
        "np.random.seed(42)\n",
        "tf.random.set_seed(42)\n",
        "\n",
        "print(\"✅ Step 1 Complete: Libraries imported and seeds set\")\n"
      ]
    },
    {
      "cell_type": "code",
      "execution_count": 411,
      "metadata": {
        "colab": {
          "base_uri": "https://localhost:8080/"
        },
        "id": "mPFghx1-QjTu",
        "outputId": "50d97938-c1a9-4f7d-e0bf-73856a9e2545"
      },
      "outputs": [
        {
          "output_type": "stream",
          "name": "stdout",
          "text": [
            "✅ Step 2 Complete: DeepGBM class defined\n"
          ]
        }
      ],
      "source": [
        "\n",
        "# Step 2: Define DeepGBM Class\n",
        "class DeepGBM:\n",
        "    \"\"\"\n",
        "    Deep Gradient Boosting Machine combining LightGBM with Neural Networks\n",
        "    \"\"\"\n",
        "    def __init__(self, n_classes=5, embedding_dim=16, hidden_units=[128, 64, 32]):\n",
        "        self.n_classes = n_classes\n",
        "        self.embedding_dim = embedding_dim\n",
        "        self.hidden_units = hidden_units\n",
        "        self.gbm_model = None\n",
        "        self.nn_model = None\n",
        "        self.scaler = StandardScaler()\n",
        "        self.label_encoder = LabelEncoder()\n",
        "\n",
        "    def create_quantile_labels(self, y):\n",
        "        \"\"\"Create quantile-based labels for production values\"\"\"\n",
        "        quantiles = np.quantile(y, [0.2, 0.4, 0.6, 0.8])\n",
        "        labels = []\n",
        "        label_names = ['Very Low', 'Low', 'Medium', 'High', 'Very High']\n",
        "\n",
        "        for val in y:\n",
        "            if val <= quantiles[0]:\n",
        "                labels.append(0)  # Very Low\n",
        "            elif val <= quantiles[1]:\n",
        "                labels.append(1)  # Low\n",
        "            elif val <= quantiles[2]:\n",
        "                labels.append(2)  # Medium\n",
        "            elif val <= quantiles[3]:\n",
        "                labels.append(3)  # High\n",
        "            else:\n",
        "                labels.append(4)  # Very High\n",
        "\n",
        "        self.label_names = label_names\n",
        "        self.quantiles = quantiles\n",
        "        return np.array(labels)\n",
        "\n",
        "    def add_noise_augmentation(self, X, y, noise_factor=0.01):\n",
        "        \"\"\"Add slight noise to training data for augmentation\"\"\"\n",
        "        noise = np.random.normal(0, noise_factor, X.shape)\n",
        "        X_augmented = X + noise\n",
        "        return X_augmented, y\n",
        "\n",
        "    def prepare_data(self, df, target_col='Production (M.Ton)', is_training=True, augment=False):\n",
        "        \"\"\"Prepare data for training/validation/testing\"\"\"\n",
        "        # Separate features and target\n",
        "        if target_col in df.columns:\n",
        "            X = df.drop(columns=[target_col])\n",
        "            y = df[target_col].values\n",
        "\n",
        "            if is_training:\n",
        "                # Create quantile-based labels\n",
        "                y_labels = self.create_quantile_labels(y)\n",
        "            else:\n",
        "                # Apply existing quantiles for validation/test data\n",
        "                y_labels = []\n",
        "                for val in y:\n",
        "                    if val <= self.quantiles[0]:\n",
        "                        y_labels.append(0)\n",
        "                    elif val <= self.quantiles[1]:\n",
        "                        y_labels.append(1)\n",
        "                    elif val <= self.quantiles[2]:\n",
        "                        y_labels.append(2)\n",
        "                    elif val <= self.quantiles[3]:\n",
        "                        y_labels.append(3)\n",
        "                    else:\n",
        "                        y_labels.append(4)\n",
        "                y_labels = np.array(y_labels)\n",
        "        else:\n",
        "            X = df\n",
        "            y_labels = None\n",
        "\n",
        "        # Handle missing values\n",
        "        X = X.fillna(X.mean())\n",
        "\n",
        "        # Scale features\n",
        "        if is_training:\n",
        "            X_scaled = self.scaler.fit_transform(X)\n",
        "            # Apply data augmentation if requested\n",
        "            if augment:\n",
        "                X_scaled, y_labels = self.add_noise_augmentation(X_scaled, y_labels)\n",
        "        else:\n",
        "            X_scaled = self.scaler.transform(X)\n",
        "\n",
        "        return X_scaled, y_labels, X.columns.tolist()\n",
        "\n",
        "    def build_lightgbm(self, X_train, y_train, X_val, y_val):\n",
        "        \"\"\"Build and train LightGBM model\"\"\"\n",
        "        # LightGBM parameters - Reduced complexity to prevent overfitting\n",
        "        lgb_params = {\n",
        "            'objective': 'multiclass',\n",
        "            'num_class': self.n_classes,\n",
        "            'metric': 'multi_logloss',\n",
        "            'boosting_type': 'gbdt',\n",
        "            'num_leaves': 15,  # Reduced from 31\n",
        "            'learning_rate': 0.01,  # Reduced from 0.05\n",
        "            'feature_fraction': 0.7,  # Reduced from 0.9\n",
        "            'bagging_fraction': 0.7,  # Reduced from 0.8\n",
        "            'bagging_freq': 3,  # Reduced from 5\n",
        "            'lambda_l1': 0.1,  # Added L1 regularization\n",
        "            'lambda_l2': 0.1,  # Added L2 regularization\n",
        "            'min_data_in_leaf': 20,  # Added minimum samples per leaf\n",
        "            'max_depth': 6,  # Limited tree depth\n",
        "            'verbose': -1,\n",
        "            'random_state': 42\n",
        "        }\n",
        "\n",
        "        # Create datasets\n",
        "        train_data = lgb.Dataset(X_train, label=y_train)\n",
        "        val_data = lgb.Dataset(X_val, label=y_val, reference=train_data)\n",
        "\n",
        "        # Train model with more conservative stopping\n",
        "        self.gbm_model = lgb.train(\n",
        "            lgb_params,\n",
        "            train_data,\n",
        "            valid_sets=[train_data, val_data],\n",
        "            valid_names=['train', 'val'],\n",
        "            num_boost_round=500,  # Reduced from 1000\n",
        "            callbacks=[lgb.early_stopping(30), lgb.log_evaluation(0)]  # Earlier stopping\n",
        "        )\n",
        "\n",
        "        # Get GBM predictions as features for neural network\n",
        "        gbm_train_pred = self.gbm_model.predict(X_train, num_iteration=self.gbm_model.best_iteration)\n",
        "        gbm_val_pred = self.gbm_model.predict(X_val, num_iteration=self.gbm_model.best_iteration)\n",
        "\n",
        "        return gbm_train_pred, gbm_val_pred\n",
        "\n",
        "    def build_neural_network(self, input_dim, gbm_output_dim):\n",
        "        \"\"\"Build neural network that combines original features with GBM outputs\"\"\"\n",
        "        # Input layers\n",
        "        feature_input = layers.Input(shape=(input_dim,), name='features')\n",
        "        gbm_input = layers.Input(shape=(gbm_output_dim,), name='gbm_output')\n",
        "\n",
        "        # Feature processing branch - Reduced complexity\n",
        "        x1 = layers.Dense(64, activation='relu')(feature_input)  # Reduced from 128\n",
        "        x1 = layers.BatchNormalization()(x1)\n",
        "        x1 = layers.Dropout(0.5)(x1)  # Increased dropout from 0.3\n",
        "\n",
        "        x1 = layers.Dense(32, activation='relu')(x1)  # Reduced from 64\n",
        "        x1 = layers.BatchNormalization()(x1)\n",
        "        x1 = layers.Dropout(0.4)(x1)  # Increased dropout from 0.2\n",
        "\n",
        "        # GBM output processing branch - Reduced complexity\n",
        "        x2 = layers.Dense(16, activation='relu')(gbm_input)  # Reduced from 32\n",
        "        x2 = layers.BatchNormalization()(x2)\n",
        "        x2 = layers.Dropout(0.3)(x2)  # Increased dropout from 0.2\n",
        "\n",
        "        # Combine branches\n",
        "        combined = layers.Concatenate()([x1, x2])\n",
        "        combined = layers.Dense(16, activation='relu')(combined)  # Reduced from 32\n",
        "        combined = layers.BatchNormalization()(combined)\n",
        "        combined = layers.Dropout(0.4)(combined)  # Increased dropout from 0.2\n",
        "\n",
        "        # Output layer\n",
        "        output = layers.Dense(self.n_classes, activation='softmax', name='output')(combined)\n",
        "\n",
        "        # Create model\n",
        "        model = keras.Model(inputs=[feature_input, gbm_input], outputs=output)\n",
        "\n",
        "        # Compile model with L2 regularization\n",
        "        model.compile(\n",
        "            optimizer=keras.optimizers.Adam(learning_rate=0.0005),  # Reduced learning rate\n",
        "            loss='sparse_categorical_crossentropy',\n",
        "            metrics=['accuracy']\n",
        "        )\n",
        "\n",
        "        return model\n",
        "\n",
        "    def fit(self, X_train, y_train, X_val, y_val, epochs=200, batch_size=64):\n",
        "        \"\"\"Train the DeepGBM model\"\"\"\n",
        "        print(\"Training LightGBM...\")\n",
        "        gbm_train_pred, gbm_val_pred = self.build_lightgbm(X_train, y_train, X_val, y_val)\n",
        "\n",
        "        print(\"Building Neural Network...\")\n",
        "        self.nn_model = self.build_neural_network(X_train.shape[1], gbm_train_pred.shape[1])\n",
        "\n",
        "        print(\"Training Neural Network...\")\n",
        "        # Callbacks - More aggressive overfitting prevention\n",
        "        early_stopping = keras.callbacks.EarlyStopping(\n",
        "            monitor='val_loss', patience=10, restore_best_weights=True  # Reduced patience\n",
        "        )\n",
        "        reduce_lr = keras.callbacks.ReduceLROnPlateau(\n",
        "            monitor='val_loss', factor=0.3, patience=5, min_lr=1e-7  # More aggressive LR reduction\n",
        "        )\n",
        "\n",
        "        # Train neural network\n",
        "        history = self.nn_model.fit(\n",
        "            [X_train, gbm_train_pred], y_train,\n",
        "            validation_data=([X_val, gbm_val_pred], y_val),\n",
        "            epochs=epochs,\n",
        "            batch_size=batch_size,\n",
        "            callbacks=[early_stopping, reduce_lr],\n",
        "            verbose=1\n",
        "        )\n",
        "\n",
        "        return history\n",
        "\n",
        "    def predict(self, X):\n",
        "        \"\"\"Make predictions using the trained DeepGBM model\"\"\"\n",
        "        # Get GBM predictions\n",
        "        gbm_pred = self.gbm_model.predict(X, num_iteration=self.gbm_model.best_iteration)\n",
        "\n",
        "        # Get neural network predictions\n",
        "        nn_pred = self.nn_model.predict([X, gbm_pred])\n",
        "\n",
        "        return np.argmax(nn_pred, axis=1), nn_pred\n",
        "\n",
        "    def predict_proba(self, X):\n",
        "        \"\"\"Get prediction probabilities\"\"\"\n",
        "        gbm_pred = self.gbm_model.predict(X, num_iteration=self.gbm_model.best_iteration)\n",
        "        nn_pred = self.nn_model.predict([X, gbm_pred])\n",
        "        return nn_pred\n",
        "\n",
        "print(\"✅ Step 2 Complete: DeepGBM class defined\")\n"
      ]
    },
    {
      "cell_type": "code",
      "execution_count": 412,
      "metadata": {
        "colab": {
          "base_uri": "https://localhost:8080/"
        },
        "id": "DrAxbxQXQl4s",
        "outputId": "5835c0c7-6416-49bc-dee4-2ef853723e5f"
      },
      "outputs": [
        {
          "output_type": "stream",
          "name": "stdout",
          "text": [
            "✅ Step 3 Complete: Utility functions defined\n"
          ]
        }
      ],
      "source": [
        "\n",
        "# Step 3: Define utility functions\n",
        "def load_and_preprocess_data():\n",
        "    \"\"\"Load and preprocess the CSV files\"\"\"\n",
        "    try:\n",
        "        train_df = pd.read_csv('/content/drive/MyDrive/UpdatedDataset/train.csv')\n",
        "        val_df = pd.read_csv('/content/drive/MyDrive/UpdatedDataset/validation.csv')\n",
        "        test_df = pd.read_csv('/content/drive/MyDrive/UpdatedDataset/test.csv')\n",
        "\n",
        "        print(f\"Train data shape: {train_df.shape}\")\n",
        "        print(f\"Validation data shape: {val_df.shape}\")\n",
        "        print(f\"Test data shape: {test_df.shape}\")\n",
        "\n",
        "        return train_df, val_df, test_df\n",
        "    except FileNotFoundError as e:\n",
        "        print(f\"Error loading files: {e}\")\n",
        "        print(\"Please ensure train.csv, validation.csv, and test.csv are in the current directory\")\n",
        "        return None, None, None\n",
        "\n",
        "def calculate_metrics(y_true, y_pred, y_pred_proba):\n",
        "    \"\"\"Calculate classification metrics\"\"\"\n",
        "    accuracy = accuracy_score(y_true, y_pred)\n",
        "    precision = precision_score(y_true, y_pred, average='weighted')\n",
        "    recall = recall_score(y_true, y_pred, average='weighted')\n",
        "    f1_weighted = f1_score(y_true, y_pred, average='weighted')\n",
        "    f1_macro = f1_score(y_true, y_pred, average='macro')\n",
        "\n",
        "    metrics = {\n",
        "        'Accuracy': accuracy,\n",
        "        'Precision': precision,\n",
        "        'Recall': recall,\n",
        "        'F1-Score (Weighted)': f1_weighted,\n",
        "        'F1-Score (Macro)': f1_macro\n",
        "    }\n",
        "\n",
        "    return metrics\n",
        "\n",
        "def detect_overfitting(history, threshold=0.1):\n",
        "    \"\"\"Detect overfitting based on training history\"\"\"\n",
        "    train_acc = history.history['accuracy'][-10:]  # Last 10 epochs\n",
        "    val_acc = history.history['val_accuracy'][-10:]\n",
        "\n",
        "    avg_train_acc = np.mean(train_acc)\n",
        "    avg_val_acc = np.mean(val_acc)\n",
        "\n",
        "    gap = avg_train_acc - avg_val_acc\n",
        "\n",
        "    print(f\"\\n=== Overfitting Analysis ===\")\n",
        "    print(f\"Average Training Accuracy (last 10 epochs): {avg_train_acc:.4f}\")\n",
        "    print(f\"Average Validation Accuracy (last 10 epochs): {avg_val_acc:.4f}\")\n",
        "    print(f\"Accuracy Gap: {gap:.4f}\")\n",
        "\n",
        "    if gap > threshold:\n",
        "        print(f\"⚠️  OVERFITTING DETECTED! Gap > {threshold}\")\n",
        "        print(\"Recommendations:\")\n",
        "        print(\"- Increase dropout rates\")\n",
        "        print(\"- Add more regularization\")\n",
        "        print(\"- Reduce model complexity\")\n",
        "        print(\"- Collect more training data\")\n",
        "        print(\"- Use data augmentation\")\n",
        "    else:\n",
        "        print(f\"✅ Model appears well-balanced (gap <= {threshold})\")\n",
        "\n",
        "    return gap > threshold\n",
        "\n",
        "def plot_confusion_matrix(y_true, y_pred, labels, title=\"Confusion Matrix\"):\n",
        "    \"\"\"Plot confusion matrix\"\"\"\n",
        "    cm = confusion_matrix(y_true, y_pred)\n",
        "    plt.figure(figsize=(6, 4))\n",
        "    sns.heatmap(cm, annot=True, fmt='d', cmap='Blues',\n",
        "                xticklabels=labels, yticklabels=labels)\n",
        "    plt.title(title)\n",
        "    plt.xlabel('Predicted')\n",
        "    plt.ylabel('Actual')\n",
        "    plt.tight_layout()\n",
        "    plt.show()\n",
        "\n",
        "def plot_training_history(history, title_suffix=\"\"):\n",
        "    \"\"\"Plot training history\"\"\"\n",
        "    fig, (ax1, ax2) = plt.subplots(1, 2, figsize=(12, 4))\n",
        "\n",
        "    # Plot accuracy\n",
        "    ax1.plot(history.history['accuracy'], label='Training Accuracy')\n",
        "    ax1.plot(history.history['val_accuracy'], label='Validation Accuracy')\n",
        "    ax1.set_title(f'Model Accuracy {title_suffix}')\n",
        "    ax1.set_xlabel('Epoch')\n",
        "    ax1.set_ylabel('Accuracy')\n",
        "    ax1.legend()\n",
        "    ax1.grid(True)\n",
        "\n",
        "    # Plot loss\n",
        "    ax2.plot(history.history['loss'], label='Training Loss')\n",
        "    ax2.plot(history.history['val_loss'], label='Validation Loss')\n",
        "    ax2.set_title(f'Model Loss {title_suffix}')\n",
        "    ax2.set_xlabel('Epoch')\n",
        "    ax2.set_ylabel('Loss')\n",
        "    ax2.legend()\n",
        "    ax2.grid(True)\n",
        "\n",
        "    plt.tight_layout()\n",
        "    plt.show()\n",
        "\n",
        "print(\"✅ Step 3 Complete: Utility functions defined\")\n"
      ]
    },
    {
      "cell_type": "code",
      "execution_count": 413,
      "metadata": {
        "colab": {
          "base_uri": "https://localhost:8080/"
        },
        "id": "lKNGEF-gQpPz",
        "outputId": "986507f5-ec05-496e-c73b-e01484f94265"
      },
      "outputs": [
        {
          "output_type": "stream",
          "name": "stdout",
          "text": [
            "\n",
            "============================================================\n",
            "🚀 STARTING STEP-BY-STEP EXECUTION\n",
            "============================================================\n",
            "\n",
            "📁 Step 4: Loading and examining data...\n",
            "Train data shape: (3942, 84)\n",
            "Validation data shape: (845, 84)\n",
            "Test data shape: (845, 84)\n",
            "✅ Data loaded successfully!\n",
            "Training columns: ['Production (M.Ton)', 'Area (Acres)', 'Temperature at 2 Meters Range (C)', 'Year', 'soil_temperature_0_to_7cm(C)', 'Root Zone Soil Wetness (surface to 100 cm below)', 'Surface Soil Wetness (surface to 5 cm below)', 'soil_moisture_0_to_7cm(mÂ³/mÂ³)', 'soil_moiture_7_to_28cm(mÂ³/mÂ³)', 'total_rain_mm', 'relative_humidity_2m(%)', 'Precipitation Corrected (mm)', 'Crop_Beans', 'Crop_Cabbage', 'Crop_Cauliflower', 'Crop_Garlic', 'Crop_Laushak', 'Crop_Onion', 'Crop_Radish', 'Crop_Tomato', 'District_Bagerhat', 'District_Bandarban', 'District_Barguna', 'District_Barishal', 'District_Bhola', 'District_Bogura', 'District_Brahmanbaria', 'District_Chandpur', 'District_Chapai Nawabganj', 'District_Chattogram', 'District_Chuadanga', 'District_Comilla', \"District_Cox's Bazar\", 'District_Dhaka', 'District_Dinajpur', 'District_Faridpur', 'District_Feni', 'District_Gaibandha', 'District_Gazipur', 'District_Gopalganj', 'District_Habiganj', 'District_Jamalpur', 'District_Jashore', 'District_Jhallokati', 'District_Jhenaidah', 'District_Joypurhat', 'District_Khagrachari', 'District_Khulna', 'District_Kishoreganj', 'District_Kurigram', 'District_Kushtia', 'District_Lakshmipur', 'District_Lalmonirhat', 'District_Madaripur', 'District_Magura', 'District_Manikganj', 'District_Maulvibazar', 'District_Meherpur', 'District_Munshiganj', 'District_Mymensingh', 'District_Naogaon', 'District_Narail', 'District_Narayanganj', 'District_Narsingdi', 'District_Natore', 'District_Netrakona', 'District_Nilphamari', 'District_Noakhali', 'District_Pabna', 'District_Panchagarh', 'District_Patuakhali', 'District_Pirojpur', 'District_Rajbari', 'District_Rajshahi', 'District_Rangamati', 'District_Rangpur', 'District_Satkhira', 'District_Shariatpur', 'District_Sherpur', 'District_Sirajganj', 'District_Sunamganj', 'District_Sylhet', 'District_Tangail', 'District_Thakurgaon']\n"
          ]
        }
      ],
      "source": [
        "\n",
        "# ============================================================================\n",
        "# STEP-BY-STEP EXECUTION STARTS HERE\n",
        "# ============================================================================\n",
        "\n",
        "print(\"\\n\" + \"=\"*60)\n",
        "print(\"🚀 STARTING STEP-BY-STEP EXECUTION\")\n",
        "print(\"=\"*60)\n",
        "\n",
        "# Step 4: Load and examine data\n",
        "print(\"\\n📁 Step 4: Loading and examining data...\")\n",
        "train_df, val_df, test_df = load_and_preprocess_data()\n",
        "\n",
        "if train_df is not None:\n",
        "    print(\"✅ Data loaded successfully!\")\n",
        "    print(f\"Training columns: {list(train_df.columns)}\")\n",
        "else:\n",
        "    print(\"❌ Failed to load data. Please check file paths.\")\n"
      ]
    },
    {
      "cell_type": "code",
      "execution_count": 414,
      "metadata": {
        "colab": {
          "base_uri": "https://localhost:8080/"
        },
        "id": "IQgBYD9aQrhr",
        "outputId": "d30ad050-07b0-4bed-a751-47efa12b0a63"
      },
      "outputs": [
        {
          "output_type": "stream",
          "name": "stdout",
          "text": [
            "\n",
            "🤖 Step 5: Initializing DeepGBM model...\n",
            "✅ Model initialized!\n"
          ]
        }
      ],
      "source": [
        "\n",
        "# Step 5: Initialize model\n",
        "print(\"\\n🤖 Step 5: Initializing DeepGBM model...\")\n",
        "model = DeepGBM(n_classes=5, embedding_dim=16, hidden_units=[128, 64, 32])\n",
        "print(\"✅ Model initialized!\")\n"
      ]
    },
    {
      "cell_type": "code",
      "execution_count": 415,
      "metadata": {
        "colab": {
          "base_uri": "https://localhost:8080/"
        },
        "id": "YYOFxjj1QtET",
        "outputId": "aeb50f49-2dcc-4c3a-9369-4221021fff24"
      },
      "outputs": [
        {
          "output_type": "stream",
          "name": "stdout",
          "text": [
            "\n",
            "🔄 Step 6: Preparing training data...\n",
            "✅ Training data prepared - Shape: (3942, 83)\n"
          ]
        }
      ],
      "source": [
        "\n",
        "# Step 6: Prepare training data\n",
        "print(\"\\n🔄 Step 6: Preparing training data...\")\n",
        "X_train, y_train, feature_names = model.prepare_data(train_df, is_training=True)\n",
        "print(f\"✅ Training data prepared - Shape: {X_train.shape}\")\n",
        "\n"
      ]
    },
    {
      "cell_type": "code",
      "execution_count": 416,
      "metadata": {
        "colab": {
          "base_uri": "https://localhost:8080/"
        },
        "id": "QpHmIdOXQuDD",
        "outputId": "a5b01132-778c-40b1-b21d-62694867c603"
      },
      "outputs": [
        {
          "output_type": "stream",
          "name": "stdout",
          "text": [
            "\n",
            "🔄 Step 7: Preparing validation data...\n",
            "✅ Validation data prepared - Shape: (845, 83)\n"
          ]
        }
      ],
      "source": [
        "\n",
        "# Step 7: Prepare validation data\n",
        "print(\"\\n🔄 Step 7: Preparing validation data...\")\n",
        "X_val, y_val, _ = model.prepare_data(val_df, is_training=False)\n",
        "print(f\"✅ Validation data prepared - Shape: {X_val.shape}\")\n"
      ]
    },
    {
      "cell_type": "code",
      "execution_count": 417,
      "metadata": {
        "colab": {
          "base_uri": "https://localhost:8080/"
        },
        "id": "o5f6skzKQzT0",
        "outputId": "0db129e0-e4f7-43dd-d65d-02280d312e18"
      },
      "outputs": [
        {
          "output_type": "stream",
          "name": "stdout",
          "text": [
            "\n",
            "🔄 Step 8: Preparing test data...\n",
            "✅ Test data prepared - Shape: (845, 83)\n"
          ]
        }
      ],
      "source": [
        "\n",
        "# Step 8: Prepare test data\n",
        "print(\"\\n🔄 Step 8: Preparing test data...\")\n",
        "X_test, y_test, _ = model.prepare_data(test_df, is_training=False)\n",
        "print(f\"✅ Test data prepared - Shape: {X_test.shape}\")\n"
      ]
    },
    {
      "cell_type": "code",
      "execution_count": 418,
      "metadata": {
        "colab": {
          "base_uri": "https://localhost:8080/"
        },
        "id": "HvkeZ-GvQ1aj",
        "outputId": "a5871183-3a0c-4123-cb1f-5335070d40ce"
      },
      "outputs": [
        {
          "output_type": "stream",
          "name": "stdout",
          "text": [
            "\n",
            "📊 Step 9: Quantile thresholds and label distribution\n",
            "Quantile thresholds: [ 578.    1463.    3119.524 6540.92 ]\n",
            "Label distribution in training:\n",
            "  Very Low: 793 samples\n",
            "  Low: 786 samples\n",
            "  Medium: 786 samples\n",
            "  High: 788 samples\n",
            "  Very High: 789 samples\n"
          ]
        }
      ],
      "source": [
        "\n",
        "# Step 9: Display quantile information\n",
        "print(f\"\\n📊 Step 9: Quantile thresholds and label distribution\")\n",
        "print(f\"Quantile thresholds: {model.quantiles}\")\n",
        "print(f\"Label distribution in training:\")\n",
        "unique, counts = np.unique(y_train, return_counts=True)\n",
        "for i, (label, count) in enumerate(zip(unique, counts)):\n",
        "    print(f\"  {model.label_names[label]}: {count} samples\")\n"
      ]
    },
    {
      "cell_type": "code",
      "execution_count": 419,
      "metadata": {
        "colab": {
          "base_uri": "https://localhost:8080/"
        },
        "id": "bx6YxxnLQ4gU",
        "outputId": "424ce73c-b183-489a-bf8d-6fc1488e2f9d"
      },
      "outputs": [
        {
          "output_type": "stream",
          "name": "stdout",
          "text": [
            "\n",
            "🏋️ Step 10: Training DeepGBM model...\n",
            "==================================================\n",
            "Training LightGBM...\n",
            "Training until validation scores don't improve for 30 rounds\n",
            "Did not meet early stopping. Best iteration is:\n",
            "[500]\ttrain's multi_logloss: 0.403546\tval's multi_logloss: 0.525819\n",
            "Building Neural Network...\n",
            "Training Neural Network...\n",
            "Epoch 1/100\n",
            "\u001b[1m124/124\u001b[0m \u001b[32m━━━━━━━━━━━━━━━━━━━━\u001b[0m\u001b[37m\u001b[0m \u001b[1m6s\u001b[0m 7ms/step - accuracy: 0.2876 - loss: 2.1066 - val_accuracy: 0.4556 - val_loss: 1.4479 - learning_rate: 5.0000e-04\n",
            "Epoch 2/100\n",
            "\u001b[1m124/124\u001b[0m \u001b[32m━━━━━━━━━━━━━━━━━━━━\u001b[0m\u001b[37m\u001b[0m \u001b[1m1s\u001b[0m 5ms/step - accuracy: 0.4863 - loss: 1.3655 - val_accuracy: 0.6592 - val_loss: 1.1095 - learning_rate: 5.0000e-04\n",
            "Epoch 3/100\n",
            "\u001b[1m124/124\u001b[0m \u001b[32m━━━━━━━━━━━━━━━━━━━━\u001b[0m\u001b[37m\u001b[0m \u001b[1m1s\u001b[0m 5ms/step - accuracy: 0.6292 - loss: 1.0394 - val_accuracy: 0.7704 - val_loss: 0.7875 - learning_rate: 5.0000e-04\n",
            "Epoch 4/100\n",
            "\u001b[1m124/124\u001b[0m \u001b[32m━━━━━━━━━━━━━━━━━━━━\u001b[0m\u001b[37m\u001b[0m \u001b[1m1s\u001b[0m 5ms/step - accuracy: 0.7051 - loss: 0.8554 - val_accuracy: 0.7846 - val_loss: 0.6405 - learning_rate: 5.0000e-04\n",
            "Epoch 5/100\n",
            "\u001b[1m124/124\u001b[0m \u001b[32m━━━━━━━━━━━━━━━━━━━━\u001b[0m\u001b[37m\u001b[0m \u001b[1m1s\u001b[0m 5ms/step - accuracy: 0.7573 - loss: 0.7211 - val_accuracy: 0.7858 - val_loss: 0.6119 - learning_rate: 5.0000e-04\n",
            "Epoch 6/100\n",
            "\u001b[1m124/124\u001b[0m \u001b[32m━━━━━━━━━━━━━━━━━━━━\u001b[0m\u001b[37m\u001b[0m \u001b[1m1s\u001b[0m 4ms/step - accuracy: 0.7892 - loss: 0.6519 - val_accuracy: 0.7917 - val_loss: 0.6028 - learning_rate: 5.0000e-04\n",
            "Epoch 7/100\n",
            "\u001b[1m124/124\u001b[0m \u001b[32m━━━━━━━━━━━━━━━━━━━━\u001b[0m\u001b[37m\u001b[0m \u001b[1m1s\u001b[0m 5ms/step - accuracy: 0.7941 - loss: 0.6190 - val_accuracy: 0.7905 - val_loss: 0.6033 - learning_rate: 5.0000e-04\n",
            "Epoch 8/100\n",
            "\u001b[1m124/124\u001b[0m \u001b[32m━━━━━━━━━━━━━━━━━━━━\u001b[0m\u001b[37m\u001b[0m \u001b[1m1s\u001b[0m 5ms/step - accuracy: 0.8133 - loss: 0.5756 - val_accuracy: 0.7893 - val_loss: 0.5999 - learning_rate: 5.0000e-04\n",
            "Epoch 9/100\n",
            "\u001b[1m124/124\u001b[0m \u001b[32m━━━━━━━━━━━━━━━━━━━━\u001b[0m\u001b[37m\u001b[0m \u001b[1m1s\u001b[0m 4ms/step - accuracy: 0.8210 - loss: 0.5670 - val_accuracy: 0.7882 - val_loss: 0.5984 - learning_rate: 5.0000e-04\n",
            "Epoch 10/100\n",
            "\u001b[1m124/124\u001b[0m \u001b[32m━━━━━━━━━━━━━━━━━━━━\u001b[0m\u001b[37m\u001b[0m \u001b[1m1s\u001b[0m 5ms/step - accuracy: 0.8216 - loss: 0.5488 - val_accuracy: 0.7858 - val_loss: 0.5923 - learning_rate: 5.0000e-04\n",
            "Epoch 11/100\n",
            "\u001b[1m124/124\u001b[0m \u001b[32m━━━━━━━━━━━━━━━━━━━━\u001b[0m\u001b[37m\u001b[0m \u001b[1m1s\u001b[0m 5ms/step - accuracy: 0.8390 - loss: 0.5088 - val_accuracy: 0.7858 - val_loss: 0.5907 - learning_rate: 5.0000e-04\n",
            "Epoch 12/100\n",
            "\u001b[1m124/124\u001b[0m \u001b[32m━━━━━━━━━━━━━━━━━━━━\u001b[0m\u001b[37m\u001b[0m \u001b[1m2s\u001b[0m 8ms/step - accuracy: 0.8334 - loss: 0.5131 - val_accuracy: 0.7882 - val_loss: 0.5892 - learning_rate: 5.0000e-04\n",
            "Epoch 13/100\n",
            "\u001b[1m124/124\u001b[0m \u001b[32m━━━━━━━━━━━━━━━━━━━━\u001b[0m\u001b[37m\u001b[0m \u001b[1m1s\u001b[0m 8ms/step - accuracy: 0.8406 - loss: 0.5071 - val_accuracy: 0.7870 - val_loss: 0.5878 - learning_rate: 5.0000e-04\n",
            "Epoch 14/100\n",
            "\u001b[1m124/124\u001b[0m \u001b[32m━━━━━━━━━━━━━━━━━━━━\u001b[0m\u001b[37m\u001b[0m \u001b[1m1s\u001b[0m 5ms/step - accuracy: 0.8435 - loss: 0.4725 - val_accuracy: 0.7882 - val_loss: 0.5886 - learning_rate: 5.0000e-04\n",
            "Epoch 15/100\n",
            "\u001b[1m124/124\u001b[0m \u001b[32m━━━━━━━━━━━━━━━━━━━━\u001b[0m\u001b[37m\u001b[0m \u001b[1m1s\u001b[0m 4ms/step - accuracy: 0.8560 - loss: 0.4856 - val_accuracy: 0.7905 - val_loss: 0.5851 - learning_rate: 5.0000e-04\n",
            "Epoch 16/100\n",
            "\u001b[1m124/124\u001b[0m \u001b[32m━━━━━━━━━━━━━━━━━━━━\u001b[0m\u001b[37m\u001b[0m \u001b[1m1s\u001b[0m 4ms/step - accuracy: 0.8452 - loss: 0.4772 - val_accuracy: 0.7905 - val_loss: 0.5836 - learning_rate: 5.0000e-04\n",
            "Epoch 17/100\n",
            "\u001b[1m124/124\u001b[0m \u001b[32m━━━━━━━━━━━━━━━━━━━━\u001b[0m\u001b[37m\u001b[0m \u001b[1m1s\u001b[0m 4ms/step - accuracy: 0.8508 - loss: 0.4597 - val_accuracy: 0.7893 - val_loss: 0.5831 - learning_rate: 5.0000e-04\n",
            "Epoch 18/100\n",
            "\u001b[1m124/124\u001b[0m \u001b[32m━━━━━━━━━━━━━━━━━━━━\u001b[0m\u001b[37m\u001b[0m \u001b[1m1s\u001b[0m 5ms/step - accuracy: 0.8574 - loss: 0.4600 - val_accuracy: 0.7953 - val_loss: 0.5845 - learning_rate: 5.0000e-04\n",
            "Epoch 19/100\n",
            "\u001b[1m124/124\u001b[0m \u001b[32m━━━━━━━━━━━━━━━━━━━━\u001b[0m\u001b[37m\u001b[0m \u001b[1m1s\u001b[0m 4ms/step - accuracy: 0.8520 - loss: 0.4738 - val_accuracy: 0.7941 - val_loss: 0.5784 - learning_rate: 5.0000e-04\n",
            "Epoch 20/100\n",
            "\u001b[1m124/124\u001b[0m \u001b[32m━━━━━━━━━━━━━━━━━━━━\u001b[0m\u001b[37m\u001b[0m \u001b[1m1s\u001b[0m 4ms/step - accuracy: 0.8576 - loss: 0.4543 - val_accuracy: 0.7976 - val_loss: 0.5805 - learning_rate: 5.0000e-04\n",
            "Epoch 21/100\n",
            "\u001b[1m124/124\u001b[0m \u001b[32m━━━━━━━━━━━━━━━━━━━━\u001b[0m\u001b[37m\u001b[0m \u001b[1m1s\u001b[0m 5ms/step - accuracy: 0.8473 - loss: 0.4548 - val_accuracy: 0.7976 - val_loss: 0.5815 - learning_rate: 5.0000e-04\n",
            "Epoch 22/100\n",
            "\u001b[1m124/124\u001b[0m \u001b[32m━━━━━━━━━━━━━━━━━━━━\u001b[0m\u001b[37m\u001b[0m \u001b[1m1s\u001b[0m 4ms/step - accuracy: 0.8555 - loss: 0.4543 - val_accuracy: 0.7964 - val_loss: 0.5836 - learning_rate: 5.0000e-04\n",
            "Epoch 23/100\n",
            "\u001b[1m124/124\u001b[0m \u001b[32m━━━━━━━━━━━━━━━━━━━━\u001b[0m\u001b[37m\u001b[0m \u001b[1m1s\u001b[0m 5ms/step - accuracy: 0.8598 - loss: 0.4565 - val_accuracy: 0.7941 - val_loss: 0.5764 - learning_rate: 5.0000e-04\n",
            "Epoch 24/100\n",
            "\u001b[1m124/124\u001b[0m \u001b[32m━━━━━━━━━━━━━━━━━━━━\u001b[0m\u001b[37m\u001b[0m \u001b[1m1s\u001b[0m 4ms/step - accuracy: 0.8595 - loss: 0.4478 - val_accuracy: 0.7976 - val_loss: 0.5737 - learning_rate: 5.0000e-04\n",
            "Epoch 25/100\n",
            "\u001b[1m124/124\u001b[0m \u001b[32m━━━━━━━━━━━━━━━━━━━━\u001b[0m\u001b[37m\u001b[0m \u001b[1m1s\u001b[0m 4ms/step - accuracy: 0.8612 - loss: 0.4383 - val_accuracy: 0.7964 - val_loss: 0.5744 - learning_rate: 5.0000e-04\n",
            "Epoch 26/100\n",
            "\u001b[1m124/124\u001b[0m \u001b[32m━━━━━━━━━━━━━━━━━━━━\u001b[0m\u001b[37m\u001b[0m \u001b[1m1s\u001b[0m 5ms/step - accuracy: 0.8544 - loss: 0.4326 - val_accuracy: 0.7964 - val_loss: 0.5774 - learning_rate: 5.0000e-04\n",
            "Epoch 27/100\n",
            "\u001b[1m124/124\u001b[0m \u001b[32m━━━━━━━━━━━━━━━━━━━━\u001b[0m\u001b[37m\u001b[0m \u001b[1m1s\u001b[0m 5ms/step - accuracy: 0.8573 - loss: 0.4313 - val_accuracy: 0.7941 - val_loss: 0.5724 - learning_rate: 5.0000e-04\n",
            "Epoch 28/100\n",
            "\u001b[1m124/124\u001b[0m \u001b[32m━━━━━━━━━━━━━━━━━━━━\u001b[0m\u001b[37m\u001b[0m \u001b[1m1s\u001b[0m 5ms/step - accuracy: 0.8590 - loss: 0.4435 - val_accuracy: 0.7976 - val_loss: 0.5712 - learning_rate: 5.0000e-04\n",
            "Epoch 29/100\n",
            "\u001b[1m124/124\u001b[0m \u001b[32m━━━━━━━━━━━━━━━━━━━━\u001b[0m\u001b[37m\u001b[0m \u001b[1m1s\u001b[0m 5ms/step - accuracy: 0.8585 - loss: 0.4377 - val_accuracy: 0.7976 - val_loss: 0.5733 - learning_rate: 5.0000e-04\n",
            "Epoch 30/100\n",
            "\u001b[1m124/124\u001b[0m \u001b[32m━━━━━━━━━━━━━━━━━━━━\u001b[0m\u001b[37m\u001b[0m \u001b[1m1s\u001b[0m 7ms/step - accuracy: 0.8695 - loss: 0.4160 - val_accuracy: 0.7976 - val_loss: 0.5677 - learning_rate: 5.0000e-04\n",
            "Epoch 31/100\n",
            "\u001b[1m124/124\u001b[0m \u001b[32m━━━━━━━━━━━━━━━━━━━━\u001b[0m\u001b[37m\u001b[0m \u001b[1m1s\u001b[0m 7ms/step - accuracy: 0.8580 - loss: 0.4252 - val_accuracy: 0.7988 - val_loss: 0.5708 - learning_rate: 5.0000e-04\n",
            "Epoch 32/100\n",
            "\u001b[1m124/124\u001b[0m \u001b[32m━━━━━━━━━━━━━━━━━━━━\u001b[0m\u001b[37m\u001b[0m \u001b[1m1s\u001b[0m 7ms/step - accuracy: 0.8623 - loss: 0.4098 - val_accuracy: 0.8000 - val_loss: 0.5675 - learning_rate: 5.0000e-04\n",
            "Epoch 33/100\n",
            "\u001b[1m124/124\u001b[0m \u001b[32m━━━━━━━━━━━━━━━━━━━━\u001b[0m\u001b[37m\u001b[0m \u001b[1m1s\u001b[0m 5ms/step - accuracy: 0.8609 - loss: 0.4289 - val_accuracy: 0.7964 - val_loss: 0.5672 - learning_rate: 5.0000e-04\n",
            "Epoch 34/100\n",
            "\u001b[1m124/124\u001b[0m \u001b[32m━━━━━━━━━━━━━━━━━━━━\u001b[0m\u001b[37m\u001b[0m \u001b[1m1s\u001b[0m 5ms/step - accuracy: 0.8695 - loss: 0.4044 - val_accuracy: 0.7976 - val_loss: 0.5673 - learning_rate: 5.0000e-04\n",
            "Epoch 35/100\n",
            "\u001b[1m124/124\u001b[0m \u001b[32m━━━━━━━━━━━━━━━━━━━━\u001b[0m\u001b[37m\u001b[0m \u001b[1m1s\u001b[0m 4ms/step - accuracy: 0.8610 - loss: 0.4247 - val_accuracy: 0.7976 - val_loss: 0.5635 - learning_rate: 5.0000e-04\n",
            "Epoch 36/100\n",
            "\u001b[1m124/124\u001b[0m \u001b[32m━━━━━━━━━━━━━━━━━━━━\u001b[0m\u001b[37m\u001b[0m \u001b[1m1s\u001b[0m 4ms/step - accuracy: 0.8730 - loss: 0.4082 - val_accuracy: 0.8024 - val_loss: 0.5636 - learning_rate: 5.0000e-04\n",
            "Epoch 37/100\n",
            "\u001b[1m124/124\u001b[0m \u001b[32m━━━━━━━━━━━━━━━━━━━━\u001b[0m\u001b[37m\u001b[0m \u001b[1m1s\u001b[0m 4ms/step - accuracy: 0.8673 - loss: 0.4036 - val_accuracy: 0.8012 - val_loss: 0.5606 - learning_rate: 5.0000e-04\n",
            "Epoch 38/100\n",
            "\u001b[1m124/124\u001b[0m \u001b[32m━━━━━━━━━━━━━━━━━━━━\u001b[0m\u001b[37m\u001b[0m \u001b[1m1s\u001b[0m 5ms/step - accuracy: 0.8700 - loss: 0.3998 - val_accuracy: 0.7964 - val_loss: 0.5627 - learning_rate: 5.0000e-04\n",
            "Epoch 39/100\n",
            "\u001b[1m124/124\u001b[0m \u001b[32m━━━━━━━━━━━━━━━━━━━━\u001b[0m\u001b[37m\u001b[0m \u001b[1m1s\u001b[0m 4ms/step - accuracy: 0.8660 - loss: 0.4083 - val_accuracy: 0.7976 - val_loss: 0.5655 - learning_rate: 5.0000e-04\n",
            "Epoch 40/100\n",
            "\u001b[1m124/124\u001b[0m \u001b[32m━━━━━━━━━━━━━━━━━━━━\u001b[0m\u001b[37m\u001b[0m \u001b[1m1s\u001b[0m 4ms/step - accuracy: 0.8640 - loss: 0.3955 - val_accuracy: 0.8047 - val_loss: 0.5625 - learning_rate: 5.0000e-04\n",
            "Epoch 41/100\n",
            "\u001b[1m124/124\u001b[0m \u001b[32m━━━━━━━━━━━━━━━━━━━━\u001b[0m\u001b[37m\u001b[0m \u001b[1m1s\u001b[0m 4ms/step - accuracy: 0.8729 - loss: 0.4120 - val_accuracy: 0.8047 - val_loss: 0.5595 - learning_rate: 5.0000e-04\n",
            "Epoch 42/100\n",
            "\u001b[1m124/124\u001b[0m \u001b[32m━━━━━━━━━━━━━━━━━━━━\u001b[0m\u001b[37m\u001b[0m \u001b[1m1s\u001b[0m 4ms/step - accuracy: 0.8735 - loss: 0.3765 - val_accuracy: 0.8047 - val_loss: 0.5574 - learning_rate: 5.0000e-04\n",
            "Epoch 43/100\n",
            "\u001b[1m124/124\u001b[0m \u001b[32m━━━━━━━━━━━━━━━━━━━━\u001b[0m\u001b[37m\u001b[0m \u001b[1m1s\u001b[0m 4ms/step - accuracy: 0.8679 - loss: 0.3998 - val_accuracy: 0.8083 - val_loss: 0.5583 - learning_rate: 5.0000e-04\n",
            "Epoch 44/100\n",
            "\u001b[1m124/124\u001b[0m \u001b[32m━━━━━━━━━━━━━━━━━━━━\u001b[0m\u001b[37m\u001b[0m \u001b[1m1s\u001b[0m 5ms/step - accuracy: 0.8780 - loss: 0.4049 - val_accuracy: 0.8047 - val_loss: 0.5627 - learning_rate: 5.0000e-04\n",
            "Epoch 45/100\n",
            "\u001b[1m124/124\u001b[0m \u001b[32m━━━━━━━━━━━━━━━━━━━━\u001b[0m\u001b[37m\u001b[0m \u001b[1m1s\u001b[0m 4ms/step - accuracy: 0.8780 - loss: 0.3850 - val_accuracy: 0.8047 - val_loss: 0.5542 - learning_rate: 5.0000e-04\n",
            "Epoch 46/100\n",
            "\u001b[1m124/124\u001b[0m \u001b[32m━━━━━━━━━━━━━━━━━━━━\u001b[0m\u001b[37m\u001b[0m \u001b[1m1s\u001b[0m 5ms/step - accuracy: 0.8766 - loss: 0.3872 - val_accuracy: 0.8083 - val_loss: 0.5525 - learning_rate: 5.0000e-04\n",
            "Epoch 47/100\n",
            "\u001b[1m124/124\u001b[0m \u001b[32m━━━━━━━━━━━━━━━━━━━━\u001b[0m\u001b[37m\u001b[0m \u001b[1m1s\u001b[0m 6ms/step - accuracy: 0.8781 - loss: 0.3808 - val_accuracy: 0.8118 - val_loss: 0.5444 - learning_rate: 5.0000e-04\n",
            "Epoch 48/100\n",
            "\u001b[1m124/124\u001b[0m \u001b[32m━━━━━━━━━━━━━━━━━━━━\u001b[0m\u001b[37m\u001b[0m \u001b[1m2s\u001b[0m 8ms/step - accuracy: 0.8786 - loss: 0.3732 - val_accuracy: 0.8107 - val_loss: 0.5483 - learning_rate: 5.0000e-04\n",
            "Epoch 49/100\n",
            "\u001b[1m124/124\u001b[0m \u001b[32m━━━━━━━━━━━━━━━━━━━━\u001b[0m\u001b[37m\u001b[0m \u001b[1m1s\u001b[0m 7ms/step - accuracy: 0.8839 - loss: 0.3728 - val_accuracy: 0.8095 - val_loss: 0.5472 - learning_rate: 5.0000e-04\n",
            "Epoch 50/100\n",
            "\u001b[1m124/124\u001b[0m \u001b[32m━━━━━━━━━━━━━━━━━━━━\u001b[0m\u001b[37m\u001b[0m \u001b[1m1s\u001b[0m 7ms/step - accuracy: 0.8865 - loss: 0.3560 - val_accuracy: 0.8107 - val_loss: 0.5429 - learning_rate: 5.0000e-04\n",
            "Epoch 51/100\n",
            "\u001b[1m124/124\u001b[0m \u001b[32m━━━━━━━━━━━━━━━━━━━━\u001b[0m\u001b[37m\u001b[0m \u001b[1m1s\u001b[0m 4ms/step - accuracy: 0.8793 - loss: 0.3748 - val_accuracy: 0.8178 - val_loss: 0.5405 - learning_rate: 5.0000e-04\n",
            "Epoch 52/100\n",
            "\u001b[1m124/124\u001b[0m \u001b[32m━━━━━━━━━━━━━━━━━━━━\u001b[0m\u001b[37m\u001b[0m \u001b[1m1s\u001b[0m 4ms/step - accuracy: 0.8804 - loss: 0.3615 - val_accuracy: 0.8130 - val_loss: 0.5443 - learning_rate: 5.0000e-04\n",
            "Epoch 53/100\n",
            "\u001b[1m124/124\u001b[0m \u001b[32m━━━━━━━━━━━━━━━━━━━━\u001b[0m\u001b[37m\u001b[0m \u001b[1m1s\u001b[0m 5ms/step - accuracy: 0.8794 - loss: 0.3721 - val_accuracy: 0.8118 - val_loss: 0.5430 - learning_rate: 5.0000e-04\n",
            "Epoch 54/100\n",
            "\u001b[1m124/124\u001b[0m \u001b[32m━━━━━━━━━━━━━━━━━━━━\u001b[0m\u001b[37m\u001b[0m \u001b[1m1s\u001b[0m 5ms/step - accuracy: 0.8796 - loss: 0.3828 - val_accuracy: 0.8154 - val_loss: 0.5388 - learning_rate: 5.0000e-04\n",
            "Epoch 55/100\n",
            "\u001b[1m124/124\u001b[0m \u001b[32m━━━━━━━━━━━━━━━━━━━━\u001b[0m\u001b[37m\u001b[0m \u001b[1m1s\u001b[0m 5ms/step - accuracy: 0.8766 - loss: 0.3803 - val_accuracy: 0.8142 - val_loss: 0.5386 - learning_rate: 5.0000e-04\n",
            "Epoch 56/100\n",
            "\u001b[1m124/124\u001b[0m \u001b[32m━━━━━━━━━━━━━━━━━━━━\u001b[0m\u001b[37m\u001b[0m \u001b[1m1s\u001b[0m 4ms/step - accuracy: 0.8891 - loss: 0.3551 - val_accuracy: 0.8166 - val_loss: 0.5343 - learning_rate: 5.0000e-04\n",
            "Epoch 57/100\n",
            "\u001b[1m124/124\u001b[0m \u001b[32m━━━━━━━━━━━━━━━━━━━━\u001b[0m\u001b[37m\u001b[0m \u001b[1m1s\u001b[0m 4ms/step - accuracy: 0.8852 - loss: 0.3625 - val_accuracy: 0.8213 - val_loss: 0.5331 - learning_rate: 5.0000e-04\n",
            "Epoch 58/100\n",
            "\u001b[1m124/124\u001b[0m \u001b[32m━━━━━━━━━━━━━━━━━━━━\u001b[0m\u001b[37m\u001b[0m \u001b[1m1s\u001b[0m 4ms/step - accuracy: 0.8885 - loss: 0.3527 - val_accuracy: 0.8178 - val_loss: 0.5395 - learning_rate: 5.0000e-04\n",
            "Epoch 59/100\n",
            "\u001b[1m124/124\u001b[0m \u001b[32m━━━━━━━━━━━━━━━━━━━━\u001b[0m\u001b[37m\u001b[0m \u001b[1m1s\u001b[0m 4ms/step - accuracy: 0.8798 - loss: 0.3598 - val_accuracy: 0.8118 - val_loss: 0.5449 - learning_rate: 5.0000e-04\n",
            "Epoch 60/100\n",
            "\u001b[1m124/124\u001b[0m \u001b[32m━━━━━━━━━━━━━━━━━━━━\u001b[0m\u001b[37m\u001b[0m \u001b[1m1s\u001b[0m 5ms/step - accuracy: 0.8871 - loss: 0.3583 - val_accuracy: 0.8142 - val_loss: 0.5389 - learning_rate: 5.0000e-04\n",
            "Epoch 61/100\n",
            "\u001b[1m124/124\u001b[0m \u001b[32m━━━━━━━━━━━━━━━━━━━━\u001b[0m\u001b[37m\u001b[0m \u001b[1m1s\u001b[0m 5ms/step - accuracy: 0.8797 - loss: 0.3471 - val_accuracy: 0.8189 - val_loss: 0.5371 - learning_rate: 5.0000e-04\n",
            "Epoch 62/100\n",
            "\u001b[1m124/124\u001b[0m \u001b[32m━━━━━━━━━━━━━━━━━━━━\u001b[0m\u001b[37m\u001b[0m \u001b[1m1s\u001b[0m 4ms/step - accuracy: 0.8856 - loss: 0.3672 - val_accuracy: 0.8201 - val_loss: 0.5371 - learning_rate: 5.0000e-04\n",
            "Epoch 63/100\n",
            "\u001b[1m124/124\u001b[0m \u001b[32m━━━━━━━━━━━━━━━━━━━━\u001b[0m\u001b[37m\u001b[0m \u001b[1m1s\u001b[0m 5ms/step - accuracy: 0.8877 - loss: 0.3622 - val_accuracy: 0.8225 - val_loss: 0.5336 - learning_rate: 1.5000e-04\n",
            "Epoch 64/100\n",
            "\u001b[1m124/124\u001b[0m \u001b[32m━━━━━━━━━━━━━━━━━━━━\u001b[0m\u001b[37m\u001b[0m \u001b[1m1s\u001b[0m 7ms/step - accuracy: 0.8846 - loss: 0.3596 - val_accuracy: 0.8213 - val_loss: 0.5347 - learning_rate: 1.5000e-04\n",
            "Epoch 65/100\n",
            "\u001b[1m124/124\u001b[0m \u001b[32m━━━━━━━━━━━━━━━━━━━━\u001b[0m\u001b[37m\u001b[0m \u001b[1m1s\u001b[0m 7ms/step - accuracy: 0.8880 - loss: 0.3558 - val_accuracy: 0.8225 - val_loss: 0.5344 - learning_rate: 1.5000e-04\n",
            "Epoch 66/100\n",
            "\u001b[1m124/124\u001b[0m \u001b[32m━━━━━━━━━━━━━━━━━━━━\u001b[0m\u001b[37m\u001b[0m \u001b[1m1s\u001b[0m 7ms/step - accuracy: 0.8875 - loss: 0.3512 - val_accuracy: 0.8213 - val_loss: 0.5343 - learning_rate: 1.5000e-04\n",
            "Epoch 67/100\n",
            "\u001b[1m124/124\u001b[0m \u001b[32m━━━━━━━━━━━━━━━━━━━━\u001b[0m\u001b[37m\u001b[0m \u001b[1m1s\u001b[0m 8ms/step - accuracy: 0.8889 - loss: 0.3464 - val_accuracy: 0.8225 - val_loss: 0.5315 - learning_rate: 1.5000e-04\n",
            "Epoch 68/100\n",
            "\u001b[1m124/124\u001b[0m \u001b[32m━━━━━━━━━━━━━━━━━━━━\u001b[0m\u001b[37m\u001b[0m \u001b[1m1s\u001b[0m 5ms/step - accuracy: 0.8840 - loss: 0.3629 - val_accuracy: 0.8213 - val_loss: 0.5345 - learning_rate: 1.5000e-04\n",
            "Epoch 69/100\n",
            "\u001b[1m124/124\u001b[0m \u001b[32m━━━━━━━━━━━━━━━━━━━━\u001b[0m\u001b[37m\u001b[0m \u001b[1m1s\u001b[0m 4ms/step - accuracy: 0.8818 - loss: 0.3638 - val_accuracy: 0.8201 - val_loss: 0.5325 - learning_rate: 1.5000e-04\n",
            "Epoch 70/100\n",
            "\u001b[1m124/124\u001b[0m \u001b[32m━━━━━━━━━━━━━━━━━━━━\u001b[0m\u001b[37m\u001b[0m \u001b[1m1s\u001b[0m 4ms/step - accuracy: 0.8897 - loss: 0.3455 - val_accuracy: 0.8189 - val_loss: 0.5320 - learning_rate: 1.5000e-04\n",
            "Epoch 71/100\n",
            "\u001b[1m124/124\u001b[0m \u001b[32m━━━━━━━━━━━━━━━━━━━━\u001b[0m\u001b[37m\u001b[0m \u001b[1m1s\u001b[0m 5ms/step - accuracy: 0.8901 - loss: 0.3568 - val_accuracy: 0.8201 - val_loss: 0.5328 - learning_rate: 1.5000e-04\n",
            "Epoch 72/100\n",
            "\u001b[1m124/124\u001b[0m \u001b[32m━━━━━━━━━━━━━━━━━━━━\u001b[0m\u001b[37m\u001b[0m \u001b[1m1s\u001b[0m 5ms/step - accuracy: 0.8806 - loss: 0.3651 - val_accuracy: 0.8213 - val_loss: 0.5323 - learning_rate: 1.5000e-04\n",
            "Epoch 73/100\n",
            "\u001b[1m124/124\u001b[0m \u001b[32m━━━━━━━━━━━━━━━━━━━━\u001b[0m\u001b[37m\u001b[0m \u001b[1m1s\u001b[0m 5ms/step - accuracy: 0.8855 - loss: 0.3614 - val_accuracy: 0.8189 - val_loss: 0.5323 - learning_rate: 4.5000e-05\n",
            "Epoch 74/100\n",
            "\u001b[1m124/124\u001b[0m \u001b[32m━━━━━━━━━━━━━━━━━━━━\u001b[0m\u001b[37m\u001b[0m \u001b[1m1s\u001b[0m 4ms/step - accuracy: 0.8885 - loss: 0.3487 - val_accuracy: 0.8178 - val_loss: 0.5313 - learning_rate: 4.5000e-05\n",
            "Epoch 75/100\n",
            "\u001b[1m124/124\u001b[0m \u001b[32m━━━━━━━━━━━━━━━━━━━━\u001b[0m\u001b[37m\u001b[0m \u001b[1m1s\u001b[0m 4ms/step - accuracy: 0.8886 - loss: 0.3585 - val_accuracy: 0.8178 - val_loss: 0.5302 - learning_rate: 4.5000e-05\n",
            "Epoch 76/100\n",
            "\u001b[1m124/124\u001b[0m \u001b[32m━━━━━━━━━━━━━━━━━━━━\u001b[0m\u001b[37m\u001b[0m \u001b[1m1s\u001b[0m 5ms/step - accuracy: 0.8864 - loss: 0.3440 - val_accuracy: 0.8189 - val_loss: 0.5293 - learning_rate: 4.5000e-05\n",
            "Epoch 77/100\n",
            "\u001b[1m124/124\u001b[0m \u001b[32m━━━━━━━━━━━━━━━━━━━━\u001b[0m\u001b[37m\u001b[0m \u001b[1m1s\u001b[0m 4ms/step - accuracy: 0.8832 - loss: 0.3667 - val_accuracy: 0.8213 - val_loss: 0.5301 - learning_rate: 4.5000e-05\n",
            "Epoch 78/100\n",
            "\u001b[1m124/124\u001b[0m \u001b[32m━━━━━━━━━━━━━━━━━━━━\u001b[0m\u001b[37m\u001b[0m \u001b[1m1s\u001b[0m 5ms/step - accuracy: 0.8900 - loss: 0.3555 - val_accuracy: 0.8189 - val_loss: 0.5295 - learning_rate: 4.5000e-05\n",
            "Epoch 79/100\n",
            "\u001b[1m124/124\u001b[0m \u001b[32m━━━━━━━━━━━━━━━━━━━━\u001b[0m\u001b[37m\u001b[0m \u001b[1m1s\u001b[0m 4ms/step - accuracy: 0.8867 - loss: 0.3493 - val_accuracy: 0.8189 - val_loss: 0.5305 - learning_rate: 4.5000e-05\n",
            "Epoch 80/100\n",
            "\u001b[1m124/124\u001b[0m \u001b[32m━━━━━━━━━━━━━━━━━━━━\u001b[0m\u001b[37m\u001b[0m \u001b[1m1s\u001b[0m 4ms/step - accuracy: 0.8837 - loss: 0.3299 - val_accuracy: 0.8178 - val_loss: 0.5297 - learning_rate: 4.5000e-05\n",
            "Epoch 81/100\n",
            "\u001b[1m124/124\u001b[0m \u001b[32m━━━━━━━━━━━━━━━━━━━━\u001b[0m\u001b[37m\u001b[0m \u001b[1m1s\u001b[0m 5ms/step - accuracy: 0.8912 - loss: 0.3508 - val_accuracy: 0.8201 - val_loss: 0.5288 - learning_rate: 4.5000e-05\n",
            "Epoch 82/100\n",
            "\u001b[1m124/124\u001b[0m \u001b[32m━━━━━━━━━━━━━━━━━━━━\u001b[0m\u001b[37m\u001b[0m \u001b[1m1s\u001b[0m 4ms/step - accuracy: 0.8859 - loss: 0.3499 - val_accuracy: 0.8201 - val_loss: 0.5292 - learning_rate: 4.5000e-05\n",
            "Epoch 83/100\n",
            "\u001b[1m124/124\u001b[0m \u001b[32m━━━━━━━━━━━━━━━━━━━━\u001b[0m\u001b[37m\u001b[0m \u001b[1m1s\u001b[0m 4ms/step - accuracy: 0.8896 - loss: 0.3489 - val_accuracy: 0.8189 - val_loss: 0.5283 - learning_rate: 4.5000e-05\n",
            "Epoch 84/100\n",
            "\u001b[1m124/124\u001b[0m \u001b[32m━━━━━━━━━━━━━━━━━━━━\u001b[0m\u001b[37m\u001b[0m \u001b[1m1s\u001b[0m 6ms/step - accuracy: 0.8844 - loss: 0.3365 - val_accuracy: 0.8213 - val_loss: 0.5301 - learning_rate: 4.5000e-05\n",
            "Epoch 85/100\n",
            "\u001b[1m124/124\u001b[0m \u001b[32m━━━━━━━━━━━━━━━━━━━━\u001b[0m\u001b[37m\u001b[0m \u001b[1m2s\u001b[0m 8ms/step - accuracy: 0.8826 - loss: 0.3516 - val_accuracy: 0.8225 - val_loss: 0.5288 - learning_rate: 4.5000e-05\n",
            "Epoch 86/100\n",
            "\u001b[1m124/124\u001b[0m \u001b[32m━━━━━━━━━━━━━━━━━━━━\u001b[0m\u001b[37m\u001b[0m \u001b[1m1s\u001b[0m 7ms/step - accuracy: 0.8861 - loss: 0.3508 - val_accuracy: 0.8225 - val_loss: 0.5286 - learning_rate: 4.5000e-05\n",
            "Epoch 87/100\n",
            "\u001b[1m124/124\u001b[0m \u001b[32m━━━━━━━━━━━━━━━━━━━━\u001b[0m\u001b[37m\u001b[0m \u001b[1m1s\u001b[0m 6ms/step - accuracy: 0.8964 - loss: 0.3388 - val_accuracy: 0.8213 - val_loss: 0.5279 - learning_rate: 4.5000e-05\n",
            "Epoch 88/100\n",
            "\u001b[1m124/124\u001b[0m \u001b[32m━━━━━━━━━━━━━━━━━━━━\u001b[0m\u001b[37m\u001b[0m \u001b[1m1s\u001b[0m 5ms/step - accuracy: 0.8802 - loss: 0.3596 - val_accuracy: 0.8201 - val_loss: 0.5280 - learning_rate: 4.5000e-05\n",
            "Epoch 89/100\n",
            "\u001b[1m124/124\u001b[0m \u001b[32m━━━━━━━━━━━━━━━━━━━━\u001b[0m\u001b[37m\u001b[0m \u001b[1m1s\u001b[0m 5ms/step - accuracy: 0.8875 - loss: 0.3416 - val_accuracy: 0.8225 - val_loss: 0.5273 - learning_rate: 4.5000e-05\n",
            "Epoch 90/100\n",
            "\u001b[1m124/124\u001b[0m \u001b[32m━━━━━━━━━━━━━━━━━━━━\u001b[0m\u001b[37m\u001b[0m \u001b[1m1s\u001b[0m 5ms/step - accuracy: 0.8889 - loss: 0.3457 - val_accuracy: 0.8213 - val_loss: 0.5294 - learning_rate: 4.5000e-05\n",
            "Epoch 91/100\n",
            "\u001b[1m124/124\u001b[0m \u001b[32m━━━━━━━━━━━━━━━━━━━━\u001b[0m\u001b[37m\u001b[0m \u001b[1m1s\u001b[0m 5ms/step - accuracy: 0.8832 - loss: 0.3496 - val_accuracy: 0.8201 - val_loss: 0.5292 - learning_rate: 4.5000e-05\n",
            "Epoch 92/100\n",
            "\u001b[1m124/124\u001b[0m \u001b[32m━━━━━━━━━━━━━━━━━━━━\u001b[0m\u001b[37m\u001b[0m \u001b[1m1s\u001b[0m 4ms/step - accuracy: 0.8838 - loss: 0.3445 - val_accuracy: 0.8225 - val_loss: 0.5279 - learning_rate: 4.5000e-05\n",
            "Epoch 93/100\n",
            "\u001b[1m124/124\u001b[0m \u001b[32m━━━━━━━━━━━━━━━━━━━━\u001b[0m\u001b[37m\u001b[0m \u001b[1m1s\u001b[0m 5ms/step - accuracy: 0.8944 - loss: 0.3379 - val_accuracy: 0.8225 - val_loss: 0.5296 - learning_rate: 4.5000e-05\n",
            "Epoch 94/100\n",
            "\u001b[1m124/124\u001b[0m \u001b[32m━━━━━━━━━━━━━━━━━━━━\u001b[0m\u001b[37m\u001b[0m \u001b[1m1s\u001b[0m 5ms/step - accuracy: 0.8884 - loss: 0.3235 - val_accuracy: 0.8225 - val_loss: 0.5286 - learning_rate: 4.5000e-05\n",
            "Epoch 95/100\n",
            "\u001b[1m124/124\u001b[0m \u001b[32m━━━━━━━━━━━━━━━━━━━━\u001b[0m\u001b[37m\u001b[0m \u001b[1m1s\u001b[0m 5ms/step - accuracy: 0.8882 - loss: 0.3343 - val_accuracy: 0.8213 - val_loss: 0.5282 - learning_rate: 1.3500e-05\n",
            "Epoch 96/100\n",
            "\u001b[1m124/124\u001b[0m \u001b[32m━━━━━━━━━━━━━━━━━━━━\u001b[0m\u001b[37m\u001b[0m \u001b[1m1s\u001b[0m 5ms/step - accuracy: 0.8869 - loss: 0.3390 - val_accuracy: 0.8213 - val_loss: 0.5303 - learning_rate: 1.3500e-05\n",
            "Epoch 97/100\n",
            "\u001b[1m124/124\u001b[0m \u001b[32m━━━━━━━━━━━━━━━━━━━━\u001b[0m\u001b[37m\u001b[0m \u001b[1m1s\u001b[0m 5ms/step - accuracy: 0.8853 - loss: 0.3473 - val_accuracy: 0.8225 - val_loss: 0.5294 - learning_rate: 1.3500e-05\n",
            "Epoch 98/100\n",
            "\u001b[1m124/124\u001b[0m \u001b[32m━━━━━━━━━━━━━━━━━━━━\u001b[0m\u001b[37m\u001b[0m \u001b[1m1s\u001b[0m 5ms/step - accuracy: 0.8901 - loss: 0.3540 - val_accuracy: 0.8201 - val_loss: 0.5287 - learning_rate: 1.3500e-05\n",
            "Epoch 99/100\n",
            "\u001b[1m124/124\u001b[0m \u001b[32m━━━━━━━━━━━━━━━━━━━━\u001b[0m\u001b[37m\u001b[0m \u001b[1m1s\u001b[0m 5ms/step - accuracy: 0.8871 - loss: 0.3532 - val_accuracy: 0.8213 - val_loss: 0.5279 - learning_rate: 1.3500e-05\n",
            "✅ Model training completed!\n"
          ]
        }
      ],
      "source": [
        "\n",
        "# Step 10: Train the model\n",
        "print(\"\\n🏋️ Step 10: Training DeepGBM model...\")\n",
        "print(\"=\"*50)\n",
        "history = model.fit(X_train, y_train, X_val, y_val, epochs=100, batch_size=32)\n",
        "print(\"✅ Model training completed!\")\n"
      ]
    },
    {
      "cell_type": "code",
      "execution_count": 420,
      "metadata": {
        "colab": {
          "base_uri": "https://localhost:8080/",
          "height": 437
        },
        "id": "ZgtQssNNQ5_b",
        "outputId": "23a67cf9-7d1f-45d2-d38d-e6cf5d3805e3"
      },
      "outputs": [
        {
          "output_type": "stream",
          "name": "stdout",
          "text": [
            "\n",
            "📈 Step 11: Analyzing training history...\n"
          ]
        },
        {
          "output_type": "display_data",
          "data": {
            "text/plain": [
              "<Figure size 1200x400 with 2 Axes>"
            ],
            "image/png": "[encoded data removed]"
          },
          "metadata": {}
        },
        {
          "output_type": "stream",
          "name": "stdout",
          "text": [
            "\n",
            "=== Overfitting Analysis ===\n",
            "Average Training Accuracy (last 10 epochs): 0.8840\n",
            "Average Validation Accuracy (last 10 epochs): 0.8215\n",
            "Accuracy Gap: 0.0625\n",
            "✅ Model appears well-balanced (gap <= 0.1)\n"
          ]
        }
      ],
      "source": [
        "\n",
        "# Step 11: Plot training history and detect overfitting\n",
        "print(\"\\n📈 Step 11: Analyzing training history...\")\n",
        "plot_training_history(history)\n",
        "is_overfitting = detect_overfitting(history)\n"
      ]
    },
    {
      "cell_type": "code",
      "execution_count": 421,
      "metadata": {
        "colab": {
          "base_uri": "https://localhost:8080/"
        },
        "id": "0_eyQ-4RQ7Mc",
        "outputId": "2389a814-a5a2-4665-9b93-ddb8e285aff6"
      },
      "outputs": [
        {
          "output_type": "stream",
          "name": "stdout",
          "text": [
            "\n",
            "🔍 Step 12: Evaluating on validation data...\n",
            "\u001b[1m27/27\u001b[0m \u001b[32m━━━━━━━━━━━━━━━━━━━━\u001b[0m\u001b[37m\u001b[0m \u001b[1m1s\u001b[0m 12ms/step\n",
            "Validation Metrics:\n",
            "  Accuracy: 0.8225\n",
            "  Precision: 0.8224\n",
            "  Recall: 0.8225\n",
            "  F1-Score (Weighted): 0.8223\n",
            "  F1-Score (Macro): 0.8192\n"
          ]
        }
      ],
      "source": [
        "# Step 12: Validation predictions and evaluation\n",
        "print(\"\\n🔍 Step 12: Evaluating on validation data...\")\n",
        "val_pred_labels, val_pred_proba = model.predict(X_val)\n",
        "val_metrics = calculate_metrics(y_val, val_pred_labels, val_pred_proba)\n",
        "\n",
        "print(\"Validation Metrics:\")\n",
        "for metric, value in val_metrics.items():\n",
        "    print(f\"  {metric}: {value:.4f}\")\n"
      ]
    },
    {
      "cell_type": "code",
      "execution_count": 422,
      "metadata": {
        "colab": {
          "base_uri": "https://localhost:8080/",
          "height": 442
        },
        "id": "BJkh_iYaQ8PM",
        "outputId": "272ea537-7833-477b-ab2c-b89469fce287"
      },
      "outputs": [
        {
          "output_type": "stream",
          "name": "stdout",
          "text": [
            "\n",
            "📊 Step 13: Plotting validation confusion matrix...\n"
          ]
        },
        {
          "output_type": "display_data",
          "data": {
            "text/plain": [
              "<Figure size 600x400 with 2 Axes>"
            ],
            "image/png": "[encoded data removed]"
          },
          "metadata": {}
        }
      ],
      "source": [
        "# Step 13: Plot validation confusion matrix\n",
        "print(\"\\n📊 Step 13: Plotting validation confusion matrix...\")\n",
        "plot_confusion_matrix(y_val, val_pred_labels, model.label_names,\n",
        "                     \"Validation Confusion Matrix\")\n"
      ]
    },
    {
      "cell_type": "code",
      "execution_count": 423,
      "metadata": {
        "colab": {
          "base_uri": "https://localhost:8080/"
        },
        "id": "0Sb3_rXhQ9gs",
        "outputId": "d603db1f-c368-4cce-8118-3b8d7dc2ea8d"
      },
      "outputs": [
        {
          "output_type": "stream",
          "name": "stdout",
          "text": [
            "\n",
            "🎯 Step 14: Evaluating on test data...\n",
            "\u001b[1m27/27\u001b[0m \u001b[32m━━━━━━━━━━━━━━━━━━━━\u001b[0m\u001b[37m\u001b[0m \u001b[1m0s\u001b[0m 4ms/step\n",
            "Test Metrics:\n",
            "  Accuracy: 0.8130\n",
            "  Precision: 0.8152\n",
            "  Recall: 0.8130\n",
            "  F1-Score (Weighted): 0.8137\n",
            "  F1-Score (Macro): 0.8132\n"
          ]
        }
      ],
      "source": [
        "\n",
        "# Step 14: Test predictions and evaluation\n",
        "print(\"\\n🎯 Step 14: Evaluating on test data...\")\n",
        "test_pred_labels, test_pred_proba = model.predict(X_test)\n",
        "test_metrics = calculate_metrics(y_test, test_pred_labels, test_pred_proba)\n",
        "\n",
        "print(\"Test Metrics:\")\n",
        "for metric, value in test_metrics.items():\n",
        "    print(f\"  {metric}: {value:.4f}\")\n"
      ]
    },
    {
      "cell_type": "code",
      "execution_count": 424,
      "metadata": {
        "colab": {
          "base_uri": "https://localhost:8080/",
          "height": 442
        },
        "id": "H2TIyJv7Q_Z0",
        "outputId": "eeb94cdf-f82e-4b1d-d316-6e1fe0d259cf"
      },
      "outputs": [
        {
          "output_type": "stream",
          "name": "stdout",
          "text": [
            "\n",
            "📊 Step 15: Plotting test confusion matrix...\n"
          ]
        },
        {
          "output_type": "display_data",
          "data": {
            "text/plain": [
              "<Figure size 600x400 with 2 Axes>"
            ],
            "image/png": "[encoded data removed]"
          },
          "metadata": {}
        }
      ],
      "source": [
        "# Step 15: Plot test confusion matrix\n",
        "print(\"\\n📊 Step 15: Plotting test confusion matrix...\")\n",
        "plot_confusion_matrix(y_test, test_pred_labels, model.label_names,\n",
        "                     \"Test Confusion Matrix\")\n"
      ]
    },
    {
      "cell_type": "code",
      "execution_count": 425,
      "metadata": {
        "colab": {
          "base_uri": "https://localhost:8080/"
        },
        "id": "0v-qeFiQRAZU",
        "outputId": "d81d7044-a865-4351-dc25-fd3f502744c4"
      },
      "outputs": [
        {
          "output_type": "stream",
          "name": "stdout",
          "text": [
            "\n",
            "📋 Step 16: Generating detailed classification reports...\n",
            "\n",
            "=== Detailed Classification Report (Validation) ===\n",
            "              precision    recall  f1-score   support\n",
            "\n",
            "    Very Low       0.95      0.95      0.95       185\n",
            "         Low       0.77      0.81      0.79       140\n",
            "      Medium       0.78      0.75      0.76       191\n",
            "        High       0.71      0.71      0.71       160\n",
            "   Very High       0.89      0.88      0.88       169\n",
            "\n",
            "    accuracy                           0.82       845\n",
            "   macro avg       0.82      0.82      0.82       845\n",
            "weighted avg       0.82      0.82      0.82       845\n",
            "\n",
            "\n",
            "=== Detailed Classification Report (Test) ===\n",
            "              precision    recall  f1-score   support\n",
            "\n",
            "    Very Low       0.91      0.92      0.92       172\n",
            "         Low       0.79      0.79      0.79       158\n",
            "      Medium       0.75      0.74      0.75       167\n",
            "        High       0.71      0.77      0.74       175\n",
            "   Very High       0.90      0.85      0.88       173\n",
            "\n",
            "    accuracy                           0.81       845\n",
            "   macro avg       0.81      0.81      0.81       845\n",
            "weighted avg       0.82      0.81      0.81       845\n",
            "\n"
          ]
        }
      ],
      "source": [
        "\n",
        "# Step 16: Detailed classification reports\n",
        "print(\"\\n📋 Step 16: Generating detailed classification reports...\")\n",
        "print(\"\\n=== Detailed Classification Report (Validation) ===\")\n",
        "print(classification_report(y_val, val_pred_labels,\n",
        "                          target_names=model.label_names))\n",
        "\n",
        "print(\"\\n=== Detailed Classification Report (Test) ===\")\n",
        "print(classification_report(y_test, test_pred_labels,\n",
        "                          target_names=model.label_names))\n"
      ]
    },
    {
      "cell_type": "code",
      "execution_count": 426,
      "metadata": {
        "colab": {
          "base_uri": "https://localhost:8080/"
        },
        "id": "4Zp2os7Za8v9",
        "outputId": "bf88aecc-d027-4651-da3c-cfb9727e4967"
      },
      "outputs": [
        {
          "output_type": "stream",
          "name": "stdout",
          "text": [
            "\n",
            "📈 Step 17: Final Performance Summary\n",
            "==================================================\n",
            "Metric               Validation   Test        \n",
            "--------------------------------------------\n",
            "Accuracy             0.8225       0.8130      \n",
            "Precision            0.8224       0.8152      \n",
            "Recall               0.8225       0.8130      \n",
            "F1-Score (Weighted)  0.8223       0.8137      \n",
            "F1-Score (Macro)     0.8192       0.8132      \n",
            "\n",
            "🎉 ALL STEPS COMPLETED SUCCESSFULLY!\n",
            "============================================================\n"
          ]
        }
      ],
      "source": [
        "# Step 17: Final performance summary\n",
        "print(\"\\n📈 Step 17: Final Performance Summary\")\n",
        "print(\"=\"*50)\n",
        "print(f\"{'Metric':<20} {'Validation':<12} {'Test':<12}\")\n",
        "print(\"-\" * 44)\n",
        "for metric in val_metrics.keys():\n",
        "    print(f\"{metric:<20} {val_metrics[metric]:<12.4f} {test_metrics[metric]:<12.4f}\")\n",
        "\n",
        "print(\"\\n🎉 ALL STEPS COMPLETED SUCCESSFULLY!\")\n",
        "print(\"=\"*60)\n"
      ]
    }
  ],
  "metadata": {
    "colab": {
      "provenance": [],
      "mount_file_id": "11gTc-x98u0y0dnHEiSGhoYzicvbiFTXW",
      "authorship_tag": "ABX9TyP4BQlF42Tv5UUiKoXU1TMb",
      "include_colab_link": true
    },
    "kernelspec": {
      "display_name": "Python 3",
      "name": "python3"
    },
    "language_info": {
      "name": "python"
    }
  },
  "nbformat": 4,
  "nbformat_minor": 0
}