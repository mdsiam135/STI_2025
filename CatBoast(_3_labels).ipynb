{
  "nbformat": 4,
  "nbformat_minor": 0,
  "metadata": {
    "colab": {
      "provenance": [],
      "mount_file_id": "1FNGBW0cLEkx6TVk9YgOT_VnZU-_9X0IK",
      "authorship_tag": "ABX9TyO4VVc3EcZ6UvQ9f+BJOJmF",
      "include_colab_link": true
    },
    "kernelspec": {
      "name": "python3",
      "display_name": "Python 3"
    },
    "language_info": {
      "name": "python"
    }
  },
  "cells": [
    {
      "cell_type": "markdown",
      "metadata": {
        "id": "view-in-github",
        "colab_type": "text"
      },
      "source": [
        "<a href=\"https://colab.research.google.com/github/mdsiam135/thesis_2025/blob/main/CatBoast(_3_labels).ipynb\" target=\"_parent\"><img src=\"https://colab.research.google.com/assets/colab-badge.svg\" alt=\"Open In Colab\"/></a>"
      ]
    },
    {
      "cell_type": "code",
      "source": [
        "!pip install catboost"
      ],
      "metadata": {
        "colab": {
          "base_uri": "https://localhost:8080/"
        },
        "id": "IIxKR5VpMJoj",
        "outputId": "d6089198-f4a1-4456-b2d2-a8fa211e437e"
      },
      "execution_count": 4,
      "outputs": [
        {
          "output_type": "stream",
          "name": "stdout",
          "text": [
            "Requirement already satisfied: catboost in /usr/local/lib/python3.11/dist-packages (1.2.8)\n",
            "Requirement already satisfied: graphviz in /usr/local/lib/python3.11/dist-packages (from catboost) (0.21)\n",
            "Requirement already satisfied: matplotlib in /usr/local/lib/python3.11/dist-packages (from catboost) (3.10.0)\n",
            "Requirement already satisfied: numpy<3.0,>=1.16.0 in /usr/local/lib/python3.11/dist-packages (from catboost) (2.0.2)\n",
            "Requirement already satisfied: pandas>=0.24 in /usr/local/lib/python3.11/dist-packages (from catboost) (2.2.2)\n",
            "Requirement already satisfied: scipy in /usr/local/lib/python3.11/dist-packages (from catboost) (1.15.3)\n",
            "Requirement already satisfied: plotly in /usr/local/lib/python3.11/dist-packages (from catboost) (5.24.1)\n",
            "Requirement already satisfied: six in /usr/local/lib/python3.11/dist-packages (from catboost) (1.17.0)\n",
            "Requirement already satisfied: python-dateutil>=2.8.2 in /usr/local/lib/python3.11/dist-packages (from pandas>=0.24->catboost) (2.9.0.post0)\n",
            "Requirement already satisfied: pytz>=2020.1 in /usr/local/lib/python3.11/dist-packages (from pandas>=0.24->catboost) (2025.2)\n",
            "Requirement already satisfied: tzdata>=2022.7 in /usr/local/lib/python3.11/dist-packages (from pandas>=0.24->catboost) (2025.2)\n",
            "Requirement already satisfied: contourpy>=1.0.1 in /usr/local/lib/python3.11/dist-packages (from matplotlib->catboost) (1.3.2)\n",
            "Requirement already satisfied: cycler>=0.10 in /usr/local/lib/python3.11/dist-packages (from matplotlib->catboost) (0.12.1)\n",
            "Requirement already satisfied: fonttools>=4.22.0 in /usr/local/lib/python3.11/dist-packages (from matplotlib->catboost) (4.58.4)\n",
            "Requirement already satisfied: kiwisolver>=1.3.1 in /usr/local/lib/python3.11/dist-packages (from matplotlib->catboost) (1.4.8)\n",
            "Requirement already satisfied: packaging>=20.0 in /usr/local/lib/python3.11/dist-packages (from matplotlib->catboost) (24.2)\n",
            "Requirement already satisfied: pillow>=8 in /usr/local/lib/python3.11/dist-packages (from matplotlib->catboost) (11.2.1)\n",
            "Requirement already satisfied: pyparsing>=2.3.1 in /usr/local/lib/python3.11/dist-packages (from matplotlib->catboost) (3.2.3)\n",
            "Requirement already satisfied: tenacity>=6.2.0 in /usr/local/lib/python3.11/dist-packages (from plotly->catboost) (8.5.0)\n"
          ]
        }
      ]
    },
    {
      "cell_type": "code",
      "source": [
        "# CatBoost Agricultural Production Classification - Enhanced with Accuracy Tracking\n",
        "# Run each step one by one for better understanding\n",
        "\n",
        "# =============================================================================\n",
        "# STEP 1: INSTALL AND IMPORT REQUIRED LIBRARIES\n",
        "# =============================================================================\n",
        "# First, install required packages (run in terminal/command prompt):\n",
        "# pip install catboost pandas numpy matplotlib seaborn scikit-learn\n",
        "\n",
        "import pandas as pd\n",
        "import numpy as np\n",
        "import matplotlib.pyplot as plt\n",
        "import seaborn as sns\n",
        "from sklearn.metrics import (\n",
        "    confusion_matrix, classification_report, accuracy_score,\n",
        "    precision_score, recall_score, f1_score\n",
        ")\n",
        "from sklearn.preprocessing import LabelEncoder\n",
        "from catboost import CatBoostClassifier\n",
        "import warnings\n",
        "warnings.filterwarnings('ignore')\n",
        "\n",
        "# Set plotting style\n",
        "plt.style.use('default')\n",
        "sns.set_palette(\"husl\")\n",
        "\n",
        "print(\"✓ All libraries imported successfully!\")"
      ],
      "metadata": {
        "colab": {
          "base_uri": "https://localhost:8080/"
        },
        "id": "JxkVJXQTATfB",
        "outputId": "0735dea0-8826-4133-9bbd-977943203a80"
      },
      "execution_count": 5,
      "outputs": [
        {
          "output_type": "stream",
          "name": "stdout",
          "text": [
            "✓ All libraries imported successfully!\n"
          ]
        }
      ]
    },
    {
      "cell_type": "code",
      "source": [
        "# =============================================================================\n",
        "# STEP 2: LOAD THE DATA\n",
        "# =============================================================================\n",
        "print(\"\\n\" + \"=\"*50)\n",
        "print(\"STEP 2: LOADING DATA\")\n",
        "print(\"=\"*50)\n",
        "\n",
        "# Load the three CSV files\n",
        "try:\n",
        "    train_df = pd.read_csv(\"//content/drive/MyDrive/UpdatedDataset/train.csv\")\n",
        "    val_df = pd.read_csv(\"/content/drive/MyDrive/UpdatedDataset/validation.csv\")\n",
        "    test_df = pd.read_csv(\"/content/drive/MyDrive/UpdatedDataset/test.csv\")\n",
        "\n",
        "    print(f\"✓ Training data loaded: {train_df.shape}\")\n",
        "    print(f\"✓ Validation data loaded: {val_df.shape}\")\n",
        "    print(f\"✓ Test data loaded: {test_df.shape}\")\n",
        "\n",
        "    # Display basic info about the data\n",
        "    print(f\"\\nFirst few columns: {list(train_df.columns[:5])}\")\n",
        "    print(f\"Target column: Production (M.Ton)\")\n",
        "    print(f\"Production range in training: {train_df['Production (M.Ton)'].min():.2f} - {train_df['Production (M.Ton)'].max():.2f}\")\n",
        "\n",
        "except FileNotFoundError as e:\n",
        "    print(\"❌ Error: CSV files not found!\")\n",
        "    print(\"Please make sure you have train.csv, validation.csv, and test.csv in your working directory\")\n",
        "    print(\"Stopping execution...\")\n",
        "    exit()\n",
        "\n",
        ""
      ],
      "metadata": {
        "colab": {
          "base_uri": "https://localhost:8080/"
        },
        "id": "301M08MEAVCc",
        "outputId": "915012ae-38af-40bd-ce4d-a599776ebf60"
      },
      "execution_count": 6,
      "outputs": [
        {
          "output_type": "stream",
          "name": "stdout",
          "text": [
            "\n",
            "==================================================\n",
            "STEP 2: LOADING DATA\n",
            "==================================================\n",
            "✓ Training data loaded: (3942, 84)\n",
            "✓ Validation data loaded: (845, 84)\n",
            "✓ Test data loaded: (845, 84)\n",
            "\n",
            "First few columns: ['Production (M.Ton)', 'Area (Acres)', 'Temperature at 2 Meters Range (C)', 'Year', 'soil_temperature_0_to_7cm(C)']\n",
            "Target column: Production (M.Ton)\n",
            "Production range in training: 0.00 - 544979.50\n"
          ]
        }
      ]
    },
    {
      "cell_type": "code",
      "source": [
        "# =============================================================================\n",
        "# STEP 3: EXPLORE THE DATA\n",
        "# =============================================================================\n",
        "print(\"\\n\" + \"=\"*50)\n",
        "print(\"STEP 3: DATA EXPLORATION\")\n",
        "print(\"=\"*50)\n",
        "\n",
        "# Check for missing values\n",
        "print(\"Missing values in training data:\")\n",
        "missing_values = train_df.isnull().sum()\n",
        "print(f\"Total missing values: {missing_values.sum()}\")\n",
        "\n"
      ],
      "metadata": {
        "colab": {
          "base_uri": "https://localhost:8080/"
        },
        "id": "nVzG7MPyAYrE",
        "outputId": "86b42aaa-57d6-41c7-93df-bd83a4ff5434"
      },
      "execution_count": 7,
      "outputs": [
        {
          "output_type": "stream",
          "name": "stdout",
          "text": [
            "\n",
            "==================================================\n",
            "STEP 3: DATA EXPLORATION\n",
            "==================================================\n",
            "Missing values in training data:\n",
            "Total missing values: 0\n"
          ]
        }
      ]
    },
    {
      "cell_type": "code",
      "source": [
        "\n",
        "\n",
        "\n",
        "# =============================================================================\n",
        "# STEP 4: CREATE QUANTILE-BASED LABELS\n",
        "# =============================================================================\n",
        "print(\"\\n\" + \"=\"*50)\n",
        "print(\"STEP 4: CREATING PRODUCTION LABELS\")\n",
        "print(\"=\"*50)\n",
        "\n",
        "# Calculate quantiles from training data only\n",
        "production_values = train_df['Production (M.Ton)']\n",
        "low_threshold = production_values.quantile(0.33)\n",
        "high_threshold = production_values.quantile(0.67)\n",
        "\n",
        "print(f\"Quantile thresholds:\")\n",
        "print(f\"Low threshold (33rd percentile): {low_threshold:.2f}\")\n",
        "print(f\"High threshold (67th percentile): {high_threshold:.2f}\")\n",
        "\n",
        "# Function to create labels\n",
        "def create_production_labels(df, low_thresh, high_thresh):\n",
        "    \"\"\"Create production category labels\"\"\"\n",
        "    return pd.cut(\n",
        "        df['Production (M.Ton)'],\n",
        "        bins=[-np.inf, low_thresh, high_thresh, np.inf],\n",
        "        labels=['low', 'medium', 'high']\n",
        "    )\n",
        "\n",
        "# Apply labeling to all datasets\n",
        "train_df['production_category'] = create_production_labels(train_df, low_threshold, high_threshold)\n",
        "val_df['production_category'] = create_production_labels(val_df, low_threshold, high_threshold)\n",
        "test_df['production_category'] = create_production_labels(test_df, low_threshold, high_threshold)\n",
        "\n",
        "# Print distribution for each dataset\n",
        "for df, name in [(train_df, 'Training'), (val_df, 'Validation'), (test_df, 'Test')]:\n",
        "    print(f\"\\n{name} set production distribution:\")\n",
        "    print(df['production_category'].value_counts())\n",
        "    print(f\"Percentages: {(df['production_category'].value_counts(normalize=True) * 100).round(2)}\")\n"
      ],
      "metadata": {
        "colab": {
          "base_uri": "https://localhost:8080/"
        },
        "id": "NU16Q_45AaQx",
        "outputId": "99cbbdaf-a9ee-47ea-a440-ae7b81503106"
      },
      "execution_count": 8,
      "outputs": [
        {
          "output_type": "stream",
          "name": "stdout",
          "text": [
            "\n",
            "==================================================\n",
            "STEP 4: CREATING PRODUCTION LABELS\n",
            "==================================================\n",
            "Quantile thresholds:\n",
            "Low threshold (33rd percentile): 1071.56\n",
            "High threshold (67th percentile): 4035.91\n",
            "\n",
            "Training set production distribution:\n",
            "production_category\n",
            "medium    1340\n",
            "low       1301\n",
            "high      1301\n",
            "Name: count, dtype: int64\n",
            "Percentages: production_category\n",
            "medium    33.99\n",
            "low       33.00\n",
            "high      33.00\n",
            "Name: proportion, dtype: float64\n",
            "\n",
            "Validation set production distribution:\n",
            "production_category\n",
            "medium    297\n",
            "low       278\n",
            "high      270\n",
            "Name: count, dtype: int64\n",
            "Percentages: production_category\n",
            "medium    35.15\n",
            "low       32.90\n",
            "high      31.95\n",
            "Name: proportion, dtype: float64\n",
            "\n",
            "Test set production distribution:\n",
            "production_category\n",
            "high      291\n",
            "medium    280\n",
            "low       274\n",
            "Name: count, dtype: int64\n",
            "Percentages: production_category\n",
            "high      34.44\n",
            "medium    33.14\n",
            "low       32.43\n",
            "Name: proportion, dtype: float64\n"
          ]
        }
      ]
    },
    {
      "cell_type": "code",
      "source": [
        "# =============================================================================\n",
        "# STEP 5: PREPARE FEATURES AND LABELS\n",
        "# =============================================================================\n",
        "print(\"\\n\" + \"=\"*50)\n",
        "print(\"STEP 5: PREPARING FEATURES AND LABELS\")\n",
        "print(\"=\"*50)\n",
        "\n",
        "# Identify feature columns (exclude target and created category)\n",
        "feature_columns = [col for col in train_df.columns\n",
        "                  if col not in ['Production (M.Ton)', 'production_category']]\n",
        "\n",
        "print(f\"Total number of features: {len(feature_columns)}\")\n",
        "print(f\"Sample features: {feature_columns[:5]}\")\n",
        "\n",
        "# Prepare features\n",
        "X_train = train_df[feature_columns]\n",
        "X_val = val_df[feature_columns]\n",
        "X_test = test_df[feature_columns]\n",
        "\n",
        "# Encode labels\n",
        "label_encoder = LabelEncoder()\n",
        "y_train = label_encoder.fit_transform(train_df['production_category'])\n",
        "y_val = label_encoder.transform(val_df['production_category'])\n",
        "y_test = label_encoder.transform(test_df['production_category'])\n",
        "\n",
        "print(f\"Label encoding: {dict(zip(label_encoder.classes_, range(len(label_encoder.classes_))))}\")\n",
        "print(f\"Training labels shape: {y_train.shape}\")\n",
        "print(f\"Validation labels shape: {y_val.shape}\")\n",
        "print(f\"Test labels shape: {y_test.shape}\")\n"
      ],
      "metadata": {
        "colab": {
          "base_uri": "https://localhost:8080/"
        },
        "id": "nbAR9WdqAcqU",
        "outputId": "7abfe1bd-486d-475f-f372-284b070c527f"
      },
      "execution_count": 9,
      "outputs": [
        {
          "output_type": "stream",
          "name": "stdout",
          "text": [
            "\n",
            "==================================================\n",
            "STEP 5: PREPARING FEATURES AND LABELS\n",
            "==================================================\n",
            "Total number of features: 83\n",
            "Sample features: ['Area (Acres)', 'Temperature at 2 Meters Range (C)', 'Year', 'soil_temperature_0_to_7cm(C)', 'Root Zone Soil Wetness (surface to 100 cm below)']\n",
            "Label encoding: {'high': 0, 'low': 1, 'medium': 2}\n",
            "Training labels shape: (3942,)\n",
            "Validation labels shape: (845,)\n",
            "Test labels shape: (845,)\n"
          ]
        }
      ]
    },
    {
      "cell_type": "code",
      "source": [
        "# =============================================================================\n",
        "# STEP 6: INITIALIZE AND TRAIN CATBOOST MODEL WITH ENHANCED EARLY STOPPING\n",
        "# =============================================================================\n",
        "print(\"\\n\" + \"=\"*50)\n",
        "print(\"STEP 6: TRAINING CATBOOST MODEL WITH EARLY STOPPING\")\n",
        "print(\"=\"*50)\n",
        "\n",
        "# Initialize CatBoost classifier with enhanced early stopping\n",
        "model = CatBoostClassifier(\n",
        "    iterations=1000,           # Maximum number of epochs\n",
        "    learning_rate=0.1,         # Learning rate\n",
        "    depth=6,                   # Tree depth\n",
        "    eval_metric='MultiClass',  # Primary evaluation metric for early stopping\n",
        "    custom_metric=['Accuracy'], # Additional metric to track accuracy\n",
        "    random_seed=42,            # For reproducibility\n",
        "    verbose=50,                # Print progress every 50 iterations\n",
        "\n",
        "    # ENHANCED EARLY STOPPING PARAMETERS\n",
        "    early_stopping_rounds=30,  # Stop if no improvement for 30 rounds (reduced from 50)\n",
        "    use_best_model=True,       # Use the best model from training\n",
        "\n",
        "    # Additional regularization to reduce overfitting\n",
        "    l2_leaf_reg=3,             # L2 regularization coefficient\n",
        "    bagging_temperature=1,     # Controls intensity of Bayesian bagging\n",
        "    random_strength=1,         # Amount of randomness for scoring splits\n",
        ")\n",
        "\n",
        "print(\"Starting model training with enhanced early stopping...\")\n",
        "print(\"Early stopping will trigger if no improvement for 30 iterations\")\n",
        "print(\"This may take a few minutes depending on your data size...\")\n",
        "\n",
        "# Train model with validation data for early stopping\n",
        "model.fit(\n",
        "    X_train, y_train,\n",
        "    eval_set=(X_val, y_val),\n",
        "    plot=False,\n",
        "    verbose_eval=50  # Print every 50 iterations\n",
        ")\n",
        "\n",
        "print(f\"\\n✓ Model training completed with early stopping!\")\n",
        "print(f\"Best iteration: {model.get_best_iteration()}\")\n",
        "print(f\"Total iterations run: {model.tree_count_}\")\n",
        "print(f\"Early stopping triggered: {'Yes' if model.tree_count_ < 1000 else 'No'}\")\n",
        "print(f\"Best validation score: {model.get_best_score()}\")\n",
        "\n",
        "# Calculate the improvement from early stopping\n",
        "if model.tree_count_ < 1000:\n",
        "    iterations_saved = 1000 - model.tree_count_\n",
        "    print(f\"Early stopping saved {iterations_saved} iterations!\")\n",
        "    print(f\"Training stopped at iteration {model.tree_count_} (best: {model.get_best_iteration()})\")\n"
      ],
      "metadata": {
        "colab": {
          "base_uri": "https://localhost:8080/"
        },
        "id": "IbXYynbZAejl",
        "outputId": "19ac6037-89c4-473b-d503-029eed71fc58"
      },
      "execution_count": 10,
      "outputs": [
        {
          "output_type": "stream",
          "name": "stdout",
          "text": [
            "\n",
            "==================================================\n",
            "STEP 6: TRAINING CATBOOST MODEL WITH EARLY STOPPING\n",
            "==================================================\n",
            "Starting model training with enhanced early stopping...\n",
            "Early stopping will trigger if no improvement for 30 iterations\n",
            "This may take a few minutes depending on your data size...\n",
            "0:\tlearn: 0.9988791\ttest: 0.9988571\tbest: 0.9988571 (0)\ttotal: 11.4ms\tremaining: 11.4s\n",
            "50:\tlearn: 0.3343300\ttest: 0.3511075\tbest: 0.3511075 (50)\ttotal: 567ms\tremaining: 10.6s\n",
            "100:\tlearn: 0.2667291\ttest: 0.2988258\tbest: 0.2988258 (100)\ttotal: 1.15s\tremaining: 10.2s\n",
            "150:\tlearn: 0.2274813\ttest: 0.2678417\tbest: 0.2678417 (150)\ttotal: 1.74s\tremaining: 9.76s\n",
            "200:\tlearn: 0.2012634\ttest: 0.2501461\tbest: 0.2501461 (200)\ttotal: 2.12s\tremaining: 8.43s\n",
            "250:\tlearn: 0.1820315\ttest: 0.2390846\tbest: 0.2390846 (250)\ttotal: 2.74s\tremaining: 8.18s\n",
            "300:\tlearn: 0.1664970\ttest: 0.2310806\tbest: 0.2310806 (300)\ttotal: 3.75s\tremaining: 8.7s\n",
            "350:\tlearn: 0.1524790\ttest: 0.2248592\tbest: 0.2248592 (350)\ttotal: 4.57s\tremaining: 8.45s\n",
            "400:\tlearn: 0.1404973\ttest: 0.2200256\tbest: 0.2200256 (400)\ttotal: 5.56s\tremaining: 8.3s\n",
            "450:\tlearn: 0.1300503\ttest: 0.2159962\tbest: 0.2159962 (450)\ttotal: 6.56s\tremaining: 7.99s\n",
            "500:\tlearn: 0.1216905\ttest: 0.2125299\tbest: 0.2125299 (500)\ttotal: 7.99s\tremaining: 7.96s\n",
            "550:\tlearn: 0.1143101\ttest: 0.2097477\tbest: 0.2097477 (550)\ttotal: 9.89s\tremaining: 8.06s\n",
            "600:\tlearn: 0.1073737\ttest: 0.2071919\tbest: 0.2071800 (598)\ttotal: 11.8s\tremaining: 7.81s\n",
            "650:\tlearn: 0.1010531\ttest: 0.2054619\tbest: 0.2053581 (644)\ttotal: 13s\tremaining: 6.95s\n",
            "700:\tlearn: 0.0951789\ttest: 0.2037525\tbest: 0.2037174 (696)\ttotal: 13.9s\tremaining: 5.92s\n",
            "750:\tlearn: 0.0899474\ttest: 0.2034276\tbest: 0.2027889 (731)\ttotal: 15.1s\tremaining: 5s\n",
            "Stopped by overfitting detector  (30 iterations wait)\n",
            "\n",
            "bestTest = 0.2027888813\n",
            "bestIteration = 731\n",
            "\n",
            "Shrink model to first 732 iterations.\n",
            "\n",
            "✓ Model training completed with early stopping!\n",
            "Best iteration: 731\n",
            "Total iterations run: 732\n",
            "Early stopping triggered: Yes\n",
            "Best validation score: {'learn': {'Accuracy': 0.9883307965499746, 'MultiClass': 0.08886616734852197}, 'validation': {'Accuracy': 0.9254437869822485, 'MultiClass': 0.20278888132821363}}\n",
            "Early stopping saved 268 iterations!\n",
            "Training stopped at iteration 732 (best: 731)\n"
          ]
        }
      ]
    },
    {
      "cell_type": "code",
      "source": [
        "\n",
        "# =============================================================================\n",
        "# STEP 7: TRAINING HISTORY PLOTS (FIXED - WITH SMOOTH ACCURACY CURVES)\n",
        "# =============================================================================\n",
        "print(\"\\n\" + \"=\"*50)\n",
        "print(\"STEP 7: PLOTTING TRAINING HISTORY\")\n",
        "print(\"=\"*50)\n",
        "\n",
        "# Get training history\n",
        "evals_result = model.get_evals_result()\n",
        "\n",
        "if 'validation' in evals_result:\n",
        "    # Extract loss scores\n",
        "    train_loss = evals_result['learn']['MultiClass']\n",
        "    val_loss = evals_result['validation']['MultiClass']\n",
        "\n",
        "    # Extract accuracy scores\n",
        "    train_accuracy = evals_result['learn']['Accuracy']\n",
        "    val_accuracy = evals_result['validation']['Accuracy']\n",
        "\n",
        "    # Apply smoothing to both loss and accuracy curves for better visualization\n",
        "    from scipy.ndimage import uniform_filter1d\n",
        "\n",
        "    # Smooth the curves (window size of 5 for smoothing)\n",
        "    try:\n",
        "        # Smooth loss curves\n",
        "        train_loss_smooth = uniform_filter1d(train_loss, size=5, mode='nearest')\n",
        "        val_loss_smooth = uniform_filter1d(val_loss, size=5, mode='nearest')\n",
        "\n",
        "        # Smooth accuracy curves (THIS WAS MISSING!)\n",
        "        train_accuracy_smooth = uniform_filter1d(train_accuracy, size=5, mode='nearest')\n",
        "        val_accuracy_smooth = uniform_filter1d(val_accuracy, size=5, mode='nearest')\n",
        "\n",
        "    except:\n",
        "        # If scipy is not available, use simple moving average\n",
        "        def moving_average(data, window=5):\n",
        "            return np.convolve(data, np.ones(window)/window, mode='same')\n",
        "\n",
        "        # Smooth loss curves\n",
        "        train_loss_smooth = moving_average(train_loss, 5)\n",
        "        val_loss_smooth = moving_average(val_loss, 5)\n",
        "\n",
        "        # Smooth accuracy curves (THIS WAS MISSING!)\n",
        "        train_accuracy_smooth = moving_average(train_accuracy, 5)\n",
        "        val_accuracy_smooth = moving_average(val_accuracy, 5)\n",
        "\n",
        "    # Create plots with smooth curves\n",
        "    plt.figure(figsize=(15, 6))\n",
        "\n",
        "    # Plot 1: Training vs Validation Loss (with smoothing)\n",
        "    plt.subplot(1, 2, 1)\n",
        "    plt.plot(train_loss_smooth, label='Training Loss', color='blue', linewidth=2, alpha=0.8)\n",
        "    plt.plot(val_loss_smooth, label='Validation Loss', color='red', linewidth=2, alpha=0.8)\n",
        "    plt.title('Training vs Validation Loss (Smoothed)', fontsize=14, fontweight='bold')\n",
        "    plt.xlabel('Iterations')\n",
        "    plt.ylabel('MultiClass Loss')\n",
        "    plt.legend()\n",
        "    plt.grid(True, alpha=0.3)\n",
        "\n",
        "    # Plot 2: Training vs Validation Accuracy (NOW WITH SMOOTHING!)\n",
        "    plt.subplot(1, 2, 2)\n",
        "    plt.plot(train_accuracy_smooth, label='Training Accuracy', color='blue', linewidth=2, alpha=0.8)\n",
        "    plt.plot(val_accuracy_smooth, label='Validation Accuracy', color='red', linewidth=2, alpha=0.8)\n",
        "    plt.title('Training vs Validation Accuracy (Smoothed)', fontsize=14, fontweight='bold')\n",
        "    plt.xlabel('Iterations')\n",
        "    plt.ylabel('Accuracy')\n",
        "    plt.legend()\n",
        "    plt.grid(True, alpha=0.3)\n",
        "\n",
        "    plt.tight_layout()\n",
        "    plt.show()\n",
        "\n",
        "    # Print final training statistics (using original unsmoothed values)\n",
        "    print(f\"\\nFinal Training Statistics:\")\n",
        "    print(f\"Final Training Loss: {train_loss[-1]:.4f}\")\n",
        "    print(f\"Final Validation Loss: {val_loss[-1]:.4f}\")\n",
        "    print(f\"Final Training Accuracy: {train_accuracy[-1]:.4f}\")\n",
        "    print(f\"Final Validation Accuracy: {val_accuracy[-1]:.4f}\")\n",
        "    print(f\"Best Training Loss: {min(train_loss):.4f}\")\n",
        "    print(f\"Best Validation Loss: {min(val_loss):.4f}\")\n",
        "    print(f\"Best Training Accuracy: {max(train_accuracy):.4f}\")\n",
        "    print(f\"Best Validation Accuracy: {max(val_accuracy):.4f}\")\n",
        "\n",
        "else:\n",
        "    print(\"No validation scores available for plotting.\")\n"
      ],
      "metadata": {
        "colab": {
          "base_uri": "https://localhost:8080/",
          "height": 553
        },
        "id": "718FDbicBEPp",
        "outputId": "019bcbbb-9579-4471-cd24-becaa45f0bb4"
      },
      "execution_count": 19,
      "outputs": [
        {
          "output_type": "stream",
          "name": "stdout",
          "text": [
            "\n",
            "==================================================\n",
            "STEP 7: PLOTTING TRAINING HISTORY\n",
            "==================================================\n"
          ]
        },
        {
          "output_type": "display_data",
          "data": {
            "text/plain": [
              "<Figure size 1500x600 with 2 Axes>"
            ],
            "image/png": "[encoded data removed]"
          },
          "metadata": {}
        },
        {
          "output_type": "stream",
          "name": "stdout",
          "text": [
            "\n",
            "Final Training Statistics:\n",
            "Final Training Loss: 0.0889\n",
            "Final Validation Loss: 0.2030\n",
            "Final Training Accuracy: 0.9878\n",
            "Final Validation Accuracy: 0.9219\n",
            "Best Training Loss: 0.0889\n",
            "Best Validation Loss: 0.2028\n",
            "Best Training Accuracy: 0.9883\n",
            "Best Validation Accuracy: 0.9254\n"
          ]
        }
      ]
    },
    {
      "cell_type": "code",
      "source": [
        "\n",
        "# =============================================================================\n",
        "# STEP 8: EVALUATE MODEL ON VALIDATION SET\n",
        "# =============================================================================\n",
        "print(\"\\n\" + \"=\"*50)\n",
        "print(\"STEP 8: VALIDATION SET EVALUATION\")\n",
        "print(\"=\"*50)\n",
        "\n",
        "# Make predictions on validation set\n",
        "y_val_pred = model.predict(X_val)\n",
        "y_val_pred_proba = model.predict_proba(X_val)\n",
        "\n",
        "# Calculate all metrics\n",
        "val_accuracy = accuracy_score(y_val, y_val_pred)\n",
        "val_precision_macro = precision_score(y_val, y_val_pred, average='macro')\n",
        "val_recall_macro = recall_score(y_val, y_val_pred, average='macro')\n",
        "val_f1_macro = f1_score(y_val, y_val_pred, average='macro')\n",
        "val_f1_weighted = f1_score(y_val, y_val_pred, average='weighted')\n",
        "\n",
        "# Print validation results\n",
        "print(\"VALIDATION SET METRICS:\")\n",
        "print(f\"Accuracy: {val_accuracy:.4f}\")\n",
        "print(f\"Precision (Macro): {val_precision_macro:.4f}\")\n",
        "print(f\"Recall (Macro): {val_recall_macro:.4f}\")\n",
        "print(f\"F1-Score (Macro): {val_f1_macro:.4f}\")\n",
        "print(f\"F1-Score (Weighted): {val_f1_weighted:.4f}\")\n",
        "\n",
        "# Per-class metrics\n",
        "val_precision_per_class = precision_score(y_val, y_val_pred, average=None)\n",
        "val_recall_per_class = recall_score(y_val, y_val_pred, average=None)\n",
        "val_f1_per_class = f1_score(y_val, y_val_pred, average=None)\n",
        "\n",
        "print(f\"\\nPER-CLASS METRICS (Validation):\")\n",
        "for i, class_name in enumerate(label_encoder.classes_):\n",
        "    print(f\"{class_name}: Precision={val_precision_per_class[i]:.4f}, \"\n",
        "          f\"Recall={val_recall_per_class[i]:.4f}, F1={val_f1_per_class[i]:.4f}\")\n",
        "\n",
        "# Detailed classification report\n",
        "print(f\"\\nDETAILED CLASSIFICATION REPORT (Validation):\")\n",
        "print(classification_report(y_val, y_val_pred, target_names=label_encoder.classes_))\n",
        "\n"
      ],
      "metadata": {
        "colab": {
          "base_uri": "https://localhost:8080/"
        },
        "id": "3ZILemsYBbax",
        "outputId": "65ae1f37-b69c-4838-d9c0-5d7da67bfe1f"
      },
      "execution_count": 12,
      "outputs": [
        {
          "output_type": "stream",
          "name": "stdout",
          "text": [
            "\n",
            "==================================================\n",
            "STEP 8: VALIDATION SET EVALUATION\n",
            "==================================================\n",
            "VALIDATION SET METRICS:\n",
            "Accuracy: 0.9231\n",
            "Precision (Macro): 0.9254\n",
            "Recall (Macro): 0.9231\n",
            "F1-Score (Macro): 0.9240\n",
            "F1-Score (Weighted): 0.9234\n",
            "\n",
            "PER-CLASS METRICS (Validation):\n",
            "high: Precision=0.9385, Recall=0.9037, F1=0.9208\n",
            "low: Precision=0.9636, Recall=0.9532, F1=0.9584\n",
            "medium: Precision=0.8742, Recall=0.9125, F1=0.8929\n",
            "\n",
            "DETAILED CLASSIFICATION REPORT (Validation):\n",
            "              precision    recall  f1-score   support\n",
            "\n",
            "        high       0.94      0.90      0.92       270\n",
            "         low       0.96      0.95      0.96       278\n",
            "      medium       0.87      0.91      0.89       297\n",
            "\n",
            "    accuracy                           0.92       845\n",
            "   macro avg       0.93      0.92      0.92       845\n",
            "weighted avg       0.92      0.92      0.92       845\n",
            "\n"
          ]
        }
      ]
    },
    {
      "cell_type": "code",
      "source": [
        "\n",
        "# =============================================================================\n",
        "# STEP 9: EVALUATE MODEL ON TEST SET\n",
        "# =============================================================================\n",
        "print(\"\\n\" + \"=\"*50)\n",
        "print(\"STEP 9: TEST SET EVALUATION\")\n",
        "print(\"=\"*50)\n",
        "\n",
        "# Make predictions on test set\n",
        "y_test_pred = model.predict(X_test)\n",
        "y_test_pred_proba = model.predict_proba(X_test)\n",
        "\n",
        "# Calculate all metrics\n",
        "test_accuracy = accuracy_score(y_test, y_test_pred)\n",
        "test_precision_macro = precision_score(y_test, y_test_pred, average='macro')\n",
        "test_recall_macro = recall_score(y_test, y_test_pred, average='macro')\n",
        "test_f1_macro = f1_score(y_test, y_test_pred, average='macro')\n",
        "test_f1_weighted = f1_score(y_test, y_test_pred, average='weighted')\n",
        "\n",
        "# Print test results\n",
        "print(\"TEST SET METRICS:\")\n",
        "print(f\"Accuracy: {test_accuracy:.4f}\")\n",
        "print(f\"Precision (Macro): {test_precision_macro:.4f}\")\n",
        "print(f\"Recall (Macro): {test_recall_macro:.4f}\")\n",
        "print(f\"F1-Score (Macro): {test_f1_macro:.4f}\")\n",
        "print(f\"F1-Score (Weighted): {test_f1_weighted:.4f}\")\n",
        "\n",
        "# Per-class metrics\n",
        "test_precision_per_class = precision_score(y_test, y_test_pred, average=None)\n",
        "test_recall_per_class = recall_score(y_test, y_test_pred, average=None)\n",
        "test_f1_per_class = f1_score(y_test, y_test_pred, average=None)\n",
        "\n",
        "print(f\"\\nPER-CLASS METRICS (Test):\")\n",
        "for i, class_name in enumerate(label_encoder.classes_):\n",
        "    print(f\"{class_name}: Precision={test_precision_per_class[i]:.4f}, \"\n",
        "          f\"Recall={test_recall_per_class[i]:.4f}, F1={test_f1_per_class[i]:.4f}\")\n",
        "\n",
        "# Detailed classification report\n",
        "print(f\"\\nDETAILED CLASSIFICATION REPORT (Test):\")\n",
        "print(classification_report(y_test, y_test_pred, target_names=label_encoder.classes_))\n"
      ],
      "metadata": {
        "colab": {
          "base_uri": "https://localhost:8080/"
        },
        "id": "WRCJosYsBdAR",
        "outputId": "2feaeacf-ceb8-4326-b7b2-e62c377ae42a"
      },
      "execution_count": 13,
      "outputs": [
        {
          "output_type": "stream",
          "name": "stdout",
          "text": [
            "\n",
            "==================================================\n",
            "STEP 9: TEST SET EVALUATION\n",
            "==================================================\n",
            "TEST SET METRICS:\n",
            "Accuracy: 0.9325\n",
            "Precision (Macro): 0.9340\n",
            "Recall (Macro): 0.9328\n",
            "F1-Score (Macro): 0.9331\n",
            "F1-Score (Weighted): 0.9329\n",
            "\n",
            "PER-CLASS METRICS (Test):\n",
            "high: Precision=0.9537, Recall=0.9210, F1=0.9371\n",
            "low: Precision=0.9703, Recall=0.9526, F1=0.9613\n",
            "medium: Precision=0.8780, Recall=0.9250, F1=0.9009\n",
            "\n",
            "DETAILED CLASSIFICATION REPORT (Test):\n",
            "              precision    recall  f1-score   support\n",
            "\n",
            "        high       0.95      0.92      0.94       291\n",
            "         low       0.97      0.95      0.96       274\n",
            "      medium       0.88      0.93      0.90       280\n",
            "\n",
            "    accuracy                           0.93       845\n",
            "   macro avg       0.93      0.93      0.93       845\n",
            "weighted avg       0.93      0.93      0.93       845\n",
            "\n"
          ]
        }
      ]
    },
    {
      "cell_type": "code",
      "source": [
        "\n",
        "\n",
        "# =============================================================================\n",
        "# STEP 10: PLOT CONFUSION MATRICES\n",
        "# =============================================================================\n",
        "print(\"\\n\" + \"=\"*50)\n",
        "print(\"STEP 10: PLOTTING CONFUSION MATRICES\")\n",
        "print(\"=\"*50)\n",
        "\n",
        "# Create confusion matrices\n",
        "val_cm = confusion_matrix(y_val, y_val_pred)\n",
        "test_cm = confusion_matrix(y_test, y_test_pred)\n",
        "\n",
        "plt.figure(figsize=(15, 6))\n",
        "\n",
        "# Validation confusion matrix\n",
        "plt.subplot(1, 2, 1)\n",
        "sns.heatmap(val_cm, annot=True, fmt='d', cmap='Blues',\n",
        "           xticklabels=label_encoder.classes_,\n",
        "           yticklabels=label_encoder.classes_)\n",
        "plt.title('Confusion Matrix - Validation Set')\n",
        "plt.xlabel('Predicted')\n",
        "plt.ylabel('Actual')\n",
        "\n",
        "# Test confusion matrix\n",
        "plt.subplot(1, 2, 2)\n",
        "sns.heatmap(test_cm, annot=True, fmt='d', cmap='Greens',\n",
        "           xticklabels=label_encoder.classes_,\n",
        "           yticklabels=label_encoder.classes_)\n",
        "plt.title('Confusion Matrix - Test Set')\n",
        "plt.xlabel('Predicted')\n",
        "plt.ylabel('Actual')\n",
        "\n",
        "plt.tight_layout()\n",
        "plt.show()\n"
      ],
      "metadata": {
        "colab": {
          "base_uri": "https://localhost:8080/",
          "height": 388
        },
        "id": "PbdxSe-zBej7",
        "outputId": "61bb75cf-6369-43c3-9d16-1988f1a3d057"
      },
      "execution_count": 14,
      "outputs": [
        {
          "output_type": "stream",
          "name": "stdout",
          "text": [
            "\n",
            "==================================================\n",
            "STEP 10: PLOTTING CONFUSION MATRICES\n",
            "==================================================\n"
          ]
        },
        {
          "output_type": "display_data",
          "data": {
            "text/plain": [
              "<Figure size 1500x600 with 4 Axes>"
            ],
            "image/png": "[encoded data removed]"
          },
          "metadata": {}
        }
      ]
    },
    {
      "cell_type": "code",
      "source": [
        "# =============================================================================\n",
        "# STEP 11: FEATURE IMPORTANCE ANALYSIS\n",
        "# =============================================================================\n",
        "print(\"\\n\" + \"=\"*50)\n",
        "print(\"STEP 12: FEATURE IMPORTANCE ANALYSIS\")\n",
        "print(\"=\"*50)\n",
        "\n",
        "# Get feature importance\n",
        "feature_importance = model.get_feature_importance()\n",
        "feature_names = feature_columns\n",
        "\n",
        "# Create DataFrame for easier handling\n",
        "importance_df = pd.DataFrame({\n",
        "    'feature': feature_names,\n",
        "    'importance': feature_importance\n",
        "}).sort_values('importance', ascending=False)\n",
        "\n",
        "print(\"Top 20 Most Important Features:\")\n",
        "print(importance_df.head(20).to_string(index=False))\n"
      ],
      "metadata": {
        "colab": {
          "base_uri": "https://localhost:8080/"
        },
        "id": "TPLXGK3rBgmz",
        "outputId": "d53c4866-8923-4094-c29c-aad6dd04dce4"
      },
      "execution_count": 15,
      "outputs": [
        {
          "output_type": "stream",
          "name": "stdout",
          "text": [
            "\n",
            "==================================================\n",
            "STEP 12: FEATURE IMPORTANCE ANALYSIS\n",
            "==================================================\n",
            "Top 20 Most Important Features:\n",
            "                                         feature  importance\n",
            "                                    Area (Acres)   44.971693\n",
            "                                    Crop_Cabbage    5.183570\n",
            "                                            Year    4.512122\n",
            "                                      Crop_Beans    4.099120\n",
            "                                     Crop_Garlic    3.677905\n",
            "                                    Crop_Laushak    3.432935\n",
            "                                     Crop_Tomato    3.249264\n",
            "               Temperature at 2 Meters Range (C)    3.230309\n",
            "                    soil_temperature_0_to_7cm(C)    2.933156\n",
            "                                     Crop_Radish    2.898933\n",
            "                                Crop_Cauliflower    2.520118\n",
            "                 soil_moisture_0_to_7cm(mÂ³/mÂ³)    2.434671\n",
            "                         relative_humidity_2m(%)    2.050042\n",
            "                                      Crop_Onion    1.897459\n",
            "                                   total_rain_mm    1.848555\n",
            "                 soil_moiture_7_to_28cm(mÂ³/mÂ³)    1.448739\n",
            "                    Precipitation Corrected (mm)    1.367387\n",
            "Root Zone Soil Wetness (surface to 100 cm below)    1.062786\n",
            "    Surface Soil Wetness (surface to 5 cm below)    0.922977\n",
            "                                District_Tangail    0.333683\n"
          ]
        }
      ]
    },
    {
      "cell_type": "code",
      "source": [
        "# =============================================================================\n",
        "# STEP 12: FINAL SUMMARY AND RESULTS\n",
        "# =============================================================================\n",
        "print(\"\\n\" + \"=\"*60)\n",
        "print(\"STEP 13: FINAL SUMMARY AND RESULTS\")\n",
        "print(\"=\"*60)\n",
        "\n",
        "print(\"QUANTILE THRESHOLDS:\")\n",
        "print(f\"Low production threshold: {low_threshold:.2f} M.Ton\")\n",
        "print(f\"High production threshold: {high_threshold:.2f} M.Ton\")\n",
        "\n",
        "print(f\"\\nMODEL TRAINING SUMMARY:\")\n",
        "print(f\"Total features used: {len(feature_columns)}\")\n",
        "print(f\"Training samples: {len(X_train)}\")\n",
        "print(f\"Validation samples: {len(X_val)}\")\n",
        "print(f\"Test samples: {len(X_test)}\")\n",
        "print(f\"Best iteration: {model.get_best_iteration()}\")\n",
        "\n",
        "print(f\"\\nVALIDATION SET PERFORMANCE:\")\n",
        "print(f\"Accuracy: {val_accuracy:.4f}\")\n",
        "print(f\"Macro F1-Score: {val_f1_macro:.4f}\")\n",
        "print(f\"Weighted F1-Score: {val_f1_weighted:.4f}\")\n",
        "\n",
        "print(f\"\\nTEST SET PERFORMANCE:\")\n",
        "print(f\"Accuracy: {test_accuracy:.4f}\")\n",
        "print(f\"Macro F1-Score: {test_f1_macro:.4f}\")\n",
        "print(f\"Weighted F1-Score: {test_f1_weighted:.4f}\")\n",
        "\n",
        "print(f\"\\nTOP 5 MOST IMPORTANT FEATURES:\")\n",
        "for i, row in importance_df.head(5).iterrows():\n",
        "    print(f\"{row['feature']}: {row['importance']:.2f}\")\n",
        "\n",
        "print(f\"\\n{'='*60}\")\n",
        "print(\"ENHANCED CLASSIFICATION MODEL COMPLETED SUCCESSFULLY!\")\n",
        "print(\"=\"*60)\n"
      ],
      "metadata": {
        "colab": {
          "base_uri": "https://localhost:8080/"
        },
        "id": "PoiBg-X0BlUX",
        "outputId": "a145d47f-209e-4f6b-da90-eb9e14e5014e"
      },
      "execution_count": 16,
      "outputs": [
        {
          "output_type": "stream",
          "name": "stdout",
          "text": [
            "\n",
            "============================================================\n",
            "STEP 13: FINAL SUMMARY AND RESULTS\n",
            "============================================================\n",
            "QUANTILE THRESHOLDS:\n",
            "Low production threshold: 1071.56 M.Ton\n",
            "High production threshold: 4035.91 M.Ton\n",
            "\n",
            "MODEL TRAINING SUMMARY:\n",
            "Total features used: 83\n",
            "Training samples: 3942\n",
            "Validation samples: 845\n",
            "Test samples: 845\n",
            "Best iteration: 731\n",
            "\n",
            "VALIDATION SET PERFORMANCE:\n",
            "Accuracy: 0.9231\n",
            "Macro F1-Score: 0.9240\n",
            "Weighted F1-Score: 0.9234\n",
            "\n",
            "TEST SET PERFORMANCE:\n",
            "Accuracy: 0.9325\n",
            "Macro F1-Score: 0.9331\n",
            "Weighted F1-Score: 0.9329\n",
            "\n",
            "TOP 5 MOST IMPORTANT FEATURES:\n",
            "Area (Acres): 44.97\n",
            "Crop_Cabbage: 5.18\n",
            "Year: 4.51\n",
            "Crop_Beans: 4.10\n",
            "Crop_Garlic: 3.68\n",
            "\n",
            "============================================================\n",
            "ENHANCED CLASSIFICATION MODEL COMPLETED SUCCESSFULLY!\n",
            "============================================================\n"
          ]
        }
      ]
    },
    {
      "cell_type": "code",
      "source": [
        "# =============================================================================\n",
        "# STEP 13: SAMPLE PREDICTIONS (BONUS)\n",
        "# =============================================================================\n",
        "print(\"\\n\" + \"=\"*50)\n",
        "print(\"STEP 14: SAMPLE PREDICTIONS\")\n",
        "print(\"=\"*50)\n",
        "\n",
        "# Show some sample predictions\n",
        "sample_size = min(10, len(X_test))\n",
        "sample_indices = np.random.choice(len(X_test), sample_size, replace=False)\n",
        "\n",
        "print(\"Sample Predictions vs Actual Values:\")\n",
        "print(\"-\" * 80)\n",
        "print(\"Index  Actual   Predicted  Confidence   Correct\")\n",
        "print(\"-\" * 80)\n",
        "\n",
        "for i, idx in enumerate(sample_indices):\n",
        "    # Get the actual values safely\n",
        "    idx_val = int(idx)\n",
        "    actual_class_idx = int(y_test[idx])\n",
        "    pred_class_idx = int(y_test_pred[idx])\n",
        "\n",
        "    # Get class names\n",
        "    actual_label = label_encoder.classes_[actual_class_idx]\n",
        "    pred_label = label_encoder.classes_[pred_class_idx]\n",
        "\n",
        "    # Get confidence (convert numpy array to float)\n",
        "    confidence_val = y_test_pred_proba[idx]\n",
        "    max_confidence = float(np.max(confidence_val))\n",
        "\n",
        "    # Check if correct\n",
        "    is_correct = \"✓\" if actual_label == pred_label else \"✗\"\n",
        "\n",
        "    # Print using .format() instead of f-strings to avoid numpy issues\n",
        "    print(\"{:<6} {:<8} {:<10} {:.3f}       {}\".format(\n",
        "        idx_val, actual_label, pred_label, max_confidence, is_correct\n",
        "    ))\n",
        "\n",
        "print(\"\\n\" + \"=\"*60)\n",
        "print(\"ALL STEPS COMPLETED! Your Enhanced CatBoost model is ready for use.\")\n",
        "print(\"=\"*60)"
      ],
      "metadata": {
        "colab": {
          "base_uri": "https://localhost:8080/"
        },
        "id": "3EXbKuSs50CU",
        "outputId": "f60eee67-0363-48b5-b3ee-abc4e3b0e5a0"
      },
      "execution_count": 17,
      "outputs": [
        {
          "output_type": "stream",
          "name": "stdout",
          "text": [
            "\n",
            "==================================================\n",
            "STEP 14: SAMPLE PREDICTIONS\n",
            "==================================================\n",
            "Sample Predictions vs Actual Values:\n",
            "--------------------------------------------------------------------------------\n",
            "Index  Actual   Predicted  Confidence   Correct\n",
            "--------------------------------------------------------------------------------\n",
            "562    medium   medium     0.923       ✓\n",
            "497    low      low        0.936       ✓\n",
            "764    low      low        0.999       ✓\n",
            "282    low      low        0.999       ✓\n",
            "575    medium   medium     0.563       ✓\n",
            "189    medium   medium     0.929       ✓\n",
            "89     high     high       0.922       ✓\n",
            "133    low      low        0.995       ✓\n",
            "280    high     high       0.800       ✓\n",
            "431    medium   medium     0.880       ✓\n",
            "\n",
            "============================================================\n",
            "ALL STEPS COMPLETED! Your Enhanced CatBoost model is ready for use.\n",
            "============================================================\n"
          ]
        }
      ]
    }
  ]
}